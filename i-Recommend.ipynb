{
 "cells": [
  {
   "cell_type": "code",
   "execution_count": null,
   "metadata": {},
   "outputs": [],
   "source": [
    "#StudentCourseData_Report10.csv -- Dataset"
   ]
  },
  {
   "cell_type": "code",
   "execution_count": 1029,
   "metadata": {},
   "outputs": [],
   "source": [
    "import pandas as pd\n",
    "import numpy as np\n",
    "from mlxtend.preprocessing import TransactionEncoder\n",
    "import dash\n",
    "import dash_html_components as html\n",
    "import dash_core_components as dcc\n",
    "import dash.dependencies\n",
    "from dash.dependencies import Input, Output, State\n",
    "import dash_daq as daq\n",
    "import dash_table as dt\n",
    "import dash_bootstrap_components as dbc\n",
    "import plotly\n",
    "import base64\n",
    "import plotly.graph_objs as go\n",
    "import networkx as nx\n",
    "import plotly.express as px\n",
    "import dash_cytoscape as cyto\n",
    "from plotly.subplots import make_subplots\n",
    "import plotly.figure_factory as ff\n",
    "from surprise import SVD, accuracy,Dataset\n",
    "from surprise.reader import Reader\n",
    "from surprise.model_selection import cross_validate,train_test_split\n",
    "from surprise import SVD,SVDpp,SlopeOne,NMF,NormalPredictor,KNNBaseline,KNNBasic,KNNWithMeans,KNNWithZScore,BaselineOnly,CoClustering"
   ]
  },
  {
   "cell_type": "code",
   "execution_count": 78,
   "metadata": {},
   "outputs": [],
   "source": [
    "df=pd.read_csv('StudentCourseData_Report (5).csv')"
   ]
  },
  {
   "cell_type": "code",
   "execution_count": 79,
   "metadata": {},
   "outputs": [],
   "source": [
    "df.to_csv('studdata1.csv',header=False, index=False)"
   ]
  },
  {
   "cell_type": "code",
   "execution_count": 80,
   "metadata": {},
   "outputs": [],
   "source": [
    "df_t=pd.read_csv('studdata1.csv')"
   ]
  },
  {
   "cell_type": "code",
   "execution_count": 81,
   "metadata": {},
   "outputs": [
    {
     "data": {
      "text/html": [
       "<div>\n",
       "<style scoped>\n",
       "    .dataframe tbody tr th:only-of-type {\n",
       "        vertical-align: middle;\n",
       "    }\n",
       "\n",
       "    .dataframe tbody tr th {\n",
       "        vertical-align: top;\n",
       "    }\n",
       "\n",
       "    .dataframe thead th {\n",
       "        text-align: right;\n",
       "    }\n",
       "</style>\n",
       "<table border=\"1\" class=\"dataframe\">\n",
       "  <thead>\n",
       "    <tr style=\"text-align: right;\">\n",
       "      <th></th>\n",
       "      <th>Advanced Image Synthesis</th>\n",
       "      <th>Advanced Web Technologies</th>\n",
       "      <th>Cloud Web &amp; Mobile</th>\n",
       "      <th>Cognitive Robot Systems</th>\n",
       "      <th>Computer Robot Vision</th>\n",
       "      <th>Computer Graphics</th>\n",
       "      <th>Gestaltung interaktiver Lehr-/Lern-Systeme</th>\n",
       "      <th>Development of Safe and Secure Software</th>\n",
       "      <th>Digital Games Research</th>\n",
       "      <th>Distributed Systems</th>\n",
       "      <th>...</th>\n",
       "      <th>Natural-Language-based Human-Computer Interaction</th>\n",
       "      <th>Neurocomputing and Organic Computing</th>\n",
       "      <th>Pattern and Component based Software Development</th>\n",
       "      <th>Peer-to-Peer Systems</th>\n",
       "      <th>Recommender Systems</th>\n",
       "      <th>Scientific Visualization</th>\n",
       "      <th>Test and Reliability of Digital Systems</th>\n",
       "      <th>Unnamed: 31</th>\n",
       "      <th>Unnamed: 32</th>\n",
       "      <th>Unnamed: 33</th>\n",
       "    </tr>\n",
       "  </thead>\n",
       "  <tbody>\n",
       "    <tr>\n",
       "      <th>0</th>\n",
       "      <td>Semester:2,Grade:B,Rating:2</td>\n",
       "      <td>Semester:1,Grade:B,Rating:2</td>\n",
       "      <td>NaN</td>\n",
       "      <td>NaN</td>\n",
       "      <td>NaN</td>\n",
       "      <td>NaN</td>\n",
       "      <td>NaN</td>\n",
       "      <td>Semester:1,Grade:C,Rating:3</td>\n",
       "      <td>NaN</td>\n",
       "      <td>Semester:1,Grade:C,Rating:3</td>\n",
       "      <td>...</td>\n",
       "      <td>NaN</td>\n",
       "      <td>NaN</td>\n",
       "      <td>NaN</td>\n",
       "      <td>Semester:3,Grade:C,Rating:3</td>\n",
       "      <td>NaN</td>\n",
       "      <td>NaN</td>\n",
       "      <td>NaN</td>\n",
       "      <td>15-Jan-2020 02:53:09</td>\n",
       "      <td>NaN</td>\n",
       "      <td>anil4frds@gmail.com</td>\n",
       "    </tr>\n",
       "    <tr>\n",
       "      <th>1</th>\n",
       "      <td>NaN</td>\n",
       "      <td>Semester:3,Grade:B,Rating:1</td>\n",
       "      <td>Semester:3,Grade:C,Rating:3</td>\n",
       "      <td>Semester:1,Grade:C,Rating:2</td>\n",
       "      <td>NaN</td>\n",
       "      <td>NaN</td>\n",
       "      <td>Semester:4,Grade:B,Rating:4</td>\n",
       "      <td>Semester:2,Grade:B,Rating:3</td>\n",
       "      <td>NaN</td>\n",
       "      <td>Semester:1,Grade:C,Rating:3</td>\n",
       "      <td>...</td>\n",
       "      <td>NaN</td>\n",
       "      <td>NaN</td>\n",
       "      <td>NaN</td>\n",
       "      <td>Semester:2,Grade:B,Rating:3</td>\n",
       "      <td>NaN</td>\n",
       "      <td>NaN</td>\n",
       "      <td>NaN</td>\n",
       "      <td>14-Jan-2020 10:30:59</td>\n",
       "      <td>NaN</td>\n",
       "      <td>anil4frds@gmail.com</td>\n",
       "    </tr>\n",
       "    <tr>\n",
       "      <th>2</th>\n",
       "      <td>NaN</td>\n",
       "      <td>NaN</td>\n",
       "      <td>NaN</td>\n",
       "      <td>NaN</td>\n",
       "      <td>NaN</td>\n",
       "      <td>NaN</td>\n",
       "      <td>Semester:2,Grade:D,Rating:1</td>\n",
       "      <td>NaN</td>\n",
       "      <td>NaN</td>\n",
       "      <td>Semester:1,Grade:D,Rating:2</td>\n",
       "      <td>...</td>\n",
       "      <td>NaN</td>\n",
       "      <td>NaN</td>\n",
       "      <td>NaN</td>\n",
       "      <td>NaN</td>\n",
       "      <td>Semester:2,Grade:D,Rating:2</td>\n",
       "      <td>NaN</td>\n",
       "      <td>NaN</td>\n",
       "      <td>14-Jan-2020 09:13:34</td>\n",
       "      <td>NaN</td>\n",
       "      <td>anil4frds@gmail.com</td>\n",
       "    </tr>\n",
       "  </tbody>\n",
       "</table>\n",
       "<p>3 rows × 34 columns</p>\n",
       "</div>"
      ],
      "text/plain": [
       "      Advanced Image Synthesis    Advanced Web Technologies  \\\n",
       "0  Semester:2,Grade:B,Rating:2  Semester:1,Grade:B,Rating:2   \n",
       "1                          NaN  Semester:3,Grade:B,Rating:1   \n",
       "2                          NaN                          NaN   \n",
       "\n",
       "            Cloud Web & Mobile      Cognitive Robot Systems  \\\n",
       "0                          NaN                          NaN   \n",
       "1  Semester:3,Grade:C,Rating:3  Semester:1,Grade:C,Rating:2   \n",
       "2                          NaN                          NaN   \n",
       "\n",
       "  Computer Robot Vision Computer Graphics  \\\n",
       "0                   NaN               NaN   \n",
       "1                   NaN               NaN   \n",
       "2                   NaN               NaN   \n",
       "\n",
       "  Gestaltung interaktiver Lehr-/Lern-Systeme  \\\n",
       "0                                        NaN   \n",
       "1                Semester:4,Grade:B,Rating:4   \n",
       "2                Semester:2,Grade:D,Rating:1   \n",
       "\n",
       "  Development of Safe and Secure Software Digital Games Research  \\\n",
       "0             Semester:1,Grade:C,Rating:3                    NaN   \n",
       "1             Semester:2,Grade:B,Rating:3                    NaN   \n",
       "2                                     NaN                    NaN   \n",
       "\n",
       "           Distributed Systems  ...  \\\n",
       "0  Semester:1,Grade:C,Rating:3  ...   \n",
       "1  Semester:1,Grade:C,Rating:3  ...   \n",
       "2  Semester:1,Grade:D,Rating:2  ...   \n",
       "\n",
       "  Natural-Language-based Human-Computer Interaction  \\\n",
       "0                                               NaN   \n",
       "1                                               NaN   \n",
       "2                                               NaN   \n",
       "\n",
       "   Neurocomputing and Organic Computing  \\\n",
       "0                                   NaN   \n",
       "1                                   NaN   \n",
       "2                                   NaN   \n",
       "\n",
       "  Pattern and Component based Software Development  \\\n",
       "0                                              NaN   \n",
       "1                                              NaN   \n",
       "2                                              NaN   \n",
       "\n",
       "          Peer-to-Peer Systems          Recommender Systems  \\\n",
       "0  Semester:3,Grade:C,Rating:3                          NaN   \n",
       "1  Semester:2,Grade:B,Rating:3                          NaN   \n",
       "2                          NaN  Semester:2,Grade:D,Rating:2   \n",
       "\n",
       "  Scientific Visualization Test and Reliability of Digital Systems  \\\n",
       "0                      NaN                                     NaN   \n",
       "1                      NaN                                     NaN   \n",
       "2                      NaN                                     NaN   \n",
       "\n",
       "            Unnamed: 31 Unnamed: 32          Unnamed: 33  \n",
       "0  15-Jan-2020 02:53:09         NaN  anil4frds@gmail.com  \n",
       "1  14-Jan-2020 10:30:59         NaN  anil4frds@gmail.com  \n",
       "2  14-Jan-2020 09:13:34         NaN  anil4frds@gmail.com  \n",
       "\n",
       "[3 rows x 34 columns]"
      ]
     },
     "execution_count": 81,
     "metadata": {},
     "output_type": "execute_result"
    }
   ],
   "source": [
    "df_t.head(3)"
   ]
  },
  {
   "cell_type": "code",
   "execution_count": 82,
   "metadata": {},
   "outputs": [],
   "source": [
    "df_t.drop(['Unnamed: 31','Unnamed: 32','Unnamed: 33'],axis=1,inplace=True)"
   ]
  },
  {
   "cell_type": "code",
   "execution_count": 83,
   "metadata": {},
   "outputs": [],
   "source": [
    "df_tt=df_t.reset_index()"
   ]
  },
  {
   "cell_type": "code",
   "execution_count": 84,
   "metadata": {},
   "outputs": [],
   "source": [
    "dfrslt=(df_tt.set_index('index')\n",
    "         .fillna('Semester,Grade,Rating')\n",
    "         .stack()\n",
    "         .str.split(',|;', expand=True)\n",
    "         .stack()\n",
    "         .str.split(':', expand=True)\n",
    "         .reset_index(level=2, drop=True)\n",
    "         .set_index(0, append=True)[1]\n",
    "         .unstack()\n",
    "         .rename_axis(('id','sub'))\n",
    "         .rename_axis(None, axis=1)\n",
    "         .reset_index()\n",
    "         )"
   ]
  },
  {
   "cell_type": "code",
   "execution_count": 85,
   "metadata": {},
   "outputs": [],
   "source": [
    "dfrslt=dfrslt.mask(dfrslt.isna(), np.nan)"
   ]
  },
  {
   "cell_type": "code",
   "execution_count": 86,
   "metadata": {},
   "outputs": [],
   "source": [
    "dfrslt.rename(columns={'Semester':'semester','Grade':'grade','Rating':'rating'},inplace=True)"
   ]
  },
  {
   "cell_type": "code",
   "execution_count": 87,
   "metadata": {},
   "outputs": [
    {
     "data": {
      "text/html": [
       "<div>\n",
       "<style scoped>\n",
       "    .dataframe tbody tr th:only-of-type {\n",
       "        vertical-align: middle;\n",
       "    }\n",
       "\n",
       "    .dataframe tbody tr th {\n",
       "        vertical-align: top;\n",
       "    }\n",
       "\n",
       "    .dataframe thead th {\n",
       "        text-align: right;\n",
       "    }\n",
       "</style>\n",
       "<table border=\"1\" class=\"dataframe\">\n",
       "  <thead>\n",
       "    <tr style=\"text-align: right;\">\n",
       "      <th></th>\n",
       "      <th>id</th>\n",
       "      <th>sub</th>\n",
       "      <th>grade</th>\n",
       "      <th>rating</th>\n",
       "      <th>semester</th>\n",
       "    </tr>\n",
       "  </thead>\n",
       "  <tbody>\n",
       "    <tr>\n",
       "      <th>0</th>\n",
       "      <td>0</td>\n",
       "      <td>Advanced Image Synthesis</td>\n",
       "      <td>B</td>\n",
       "      <td>2</td>\n",
       "      <td>2</td>\n",
       "    </tr>\n",
       "    <tr>\n",
       "      <th>1</th>\n",
       "      <td>0</td>\n",
       "      <td>Advanced Web Technologies</td>\n",
       "      <td>B</td>\n",
       "      <td>2</td>\n",
       "      <td>1</td>\n",
       "    </tr>\n",
       "    <tr>\n",
       "      <th>2</th>\n",
       "      <td>0</td>\n",
       "      <td>Cloud Web &amp; Mobile</td>\n",
       "      <td>NaN</td>\n",
       "      <td>NaN</td>\n",
       "      <td>NaN</td>\n",
       "    </tr>\n",
       "    <tr>\n",
       "      <th>3</th>\n",
       "      <td>0</td>\n",
       "      <td>Cognitive Robot Systems</td>\n",
       "      <td>NaN</td>\n",
       "      <td>NaN</td>\n",
       "      <td>NaN</td>\n",
       "    </tr>\n",
       "    <tr>\n",
       "      <th>4</th>\n",
       "      <td>0</td>\n",
       "      <td>Computer Graphics</td>\n",
       "      <td>NaN</td>\n",
       "      <td>NaN</td>\n",
       "      <td>NaN</td>\n",
       "    </tr>\n",
       "    <tr>\n",
       "      <th>5</th>\n",
       "      <td>0</td>\n",
       "      <td>Computer Robot Vision</td>\n",
       "      <td>NaN</td>\n",
       "      <td>NaN</td>\n",
       "      <td>NaN</td>\n",
       "    </tr>\n",
       "    <tr>\n",
       "      <th>6</th>\n",
       "      <td>0</td>\n",
       "      <td>Development of Safe and Secure Software</td>\n",
       "      <td>C</td>\n",
       "      <td>3</td>\n",
       "      <td>1</td>\n",
       "    </tr>\n",
       "    <tr>\n",
       "      <th>7</th>\n",
       "      <td>0</td>\n",
       "      <td>Digital Games Research</td>\n",
       "      <td>NaN</td>\n",
       "      <td>NaN</td>\n",
       "      <td>NaN</td>\n",
       "    </tr>\n",
       "    <tr>\n",
       "      <th>8</th>\n",
       "      <td>0</td>\n",
       "      <td>Distributed Systems</td>\n",
       "      <td>C</td>\n",
       "      <td>3</td>\n",
       "      <td>1</td>\n",
       "    </tr>\n",
       "    <tr>\n",
       "      <th>9</th>\n",
       "      <td>0</td>\n",
       "      <td>Electronic Communities and Social Networks</td>\n",
       "      <td>NaN</td>\n",
       "      <td>NaN</td>\n",
       "      <td>NaN</td>\n",
       "    </tr>\n",
       "  </tbody>\n",
       "</table>\n",
       "</div>"
      ],
      "text/plain": [
       "   id                                         sub grade rating semester\n",
       "0   0                    Advanced Image Synthesis     B      2        2\n",
       "1   0                   Advanced Web Technologies     B      2        1\n",
       "2   0                          Cloud Web & Mobile   NaN    NaN      NaN\n",
       "3   0                     Cognitive Robot Systems   NaN    NaN      NaN\n",
       "4   0                           Computer Graphics   NaN    NaN      NaN\n",
       "5   0                       Computer Robot Vision   NaN    NaN      NaN\n",
       "6   0     Development of Safe and Secure Software     C      3        1\n",
       "7   0                      Digital Games Research   NaN    NaN      NaN\n",
       "8   0                         Distributed Systems     C      3        1\n",
       "9   0  Electronic Communities and Social Networks   NaN    NaN      NaN"
      ]
     },
     "execution_count": 87,
     "metadata": {},
     "output_type": "execute_result"
    }
   ],
   "source": [
    "dfrslt.head(10)"
   ]
  },
  {
   "cell_type": "code",
   "execution_count": 88,
   "metadata": {},
   "outputs": [],
   "source": [
    "dfrslt_nan=dfrslt.dropna(thresh=3, axis=0)"
   ]
  },
  {
   "cell_type": "code",
   "execution_count": 89,
   "metadata": {},
   "outputs": [],
   "source": [
    "df_subs1=dfrslt_nan.drop(['semester','grade','rating'],axis=1)"
   ]
  },
  {
   "cell_type": "code",
   "execution_count": 90,
   "metadata": {},
   "outputs": [],
   "source": [
    "df_final=dfrslt_nan.assign(count=dfrslt_nan.groupby(['id','semester']).cumcount()).pivot_table(index = ['id','count'],columns = 'semester',\n",
    "                        values = 'sub',aggfunc = ''.join).rename_axis(columns = None,index = [None,None])"
   ]
  },
  {
   "cell_type": "code",
   "execution_count": 91,
   "metadata": {},
   "outputs": [
    {
     "data": {
      "text/html": [
       "<div>\n",
       "<style scoped>\n",
       "    .dataframe tbody tr th:only-of-type {\n",
       "        vertical-align: middle;\n",
       "    }\n",
       "\n",
       "    .dataframe tbody tr th {\n",
       "        vertical-align: top;\n",
       "    }\n",
       "\n",
       "    .dataframe thead th {\n",
       "        text-align: right;\n",
       "    }\n",
       "</style>\n",
       "<table border=\"1\" class=\"dataframe\">\n",
       "  <thead>\n",
       "    <tr style=\"text-align: right;\">\n",
       "      <th></th>\n",
       "      <th></th>\n",
       "      <th>1</th>\n",
       "      <th>2</th>\n",
       "      <th>3</th>\n",
       "      <th>4</th>\n",
       "      <th>Other</th>\n",
       "    </tr>\n",
       "  </thead>\n",
       "  <tbody>\n",
       "    <tr>\n",
       "      <th rowspan=\"3\" valign=\"top\">0</th>\n",
       "      <th>0</th>\n",
       "      <td>Advanced Web Technologies</td>\n",
       "      <td>Advanced Image Synthesis</td>\n",
       "      <td>Information Retrieval</td>\n",
       "      <td>NaN</td>\n",
       "      <td>NaN</td>\n",
       "    </tr>\n",
       "    <tr>\n",
       "      <th>1</th>\n",
       "      <td>Development of Safe and Secure Software</td>\n",
       "      <td>Learning Analytics</td>\n",
       "      <td>Peer-to-Peer Systems</td>\n",
       "      <td>NaN</td>\n",
       "      <td>NaN</td>\n",
       "    </tr>\n",
       "    <tr>\n",
       "      <th>2</th>\n",
       "      <td>Distributed Systems</td>\n",
       "      <td>NaN</td>\n",
       "      <td>NaN</td>\n",
       "      <td>NaN</td>\n",
       "      <td>NaN</td>\n",
       "    </tr>\n",
       "    <tr>\n",
       "      <th rowspan=\"5\" valign=\"top\">1</th>\n",
       "      <th>0</th>\n",
       "      <td>Cognitive Robot Systems</td>\n",
       "      <td>Development of Safe and Secure Software</td>\n",
       "      <td>Advanced Web Technologies</td>\n",
       "      <td>Gestaltung interaktiver Lehr-/Lern-Systeme</td>\n",
       "      <td>NaN</td>\n",
       "    </tr>\n",
       "    <tr>\n",
       "      <th>1</th>\n",
       "      <td>Distributed Systems</td>\n",
       "      <td>Information Retrieval</td>\n",
       "      <td>Cloud Web &amp; Mobile</td>\n",
       "      <td>NaN</td>\n",
       "      <td>NaN</td>\n",
       "    </tr>\n",
       "    <tr>\n",
       "      <th>2</th>\n",
       "      <td>NaN</td>\n",
       "      <td>Peer-to-Peer Systems</td>\n",
       "      <td>Electronic Communities and Social Networks</td>\n",
       "      <td>NaN</td>\n",
       "      <td>NaN</td>\n",
       "    </tr>\n",
       "    <tr>\n",
       "      <th>3</th>\n",
       "      <td>NaN</td>\n",
       "      <td>NaN</td>\n",
       "      <td>Information Engineering</td>\n",
       "      <td>NaN</td>\n",
       "      <td>NaN</td>\n",
       "    </tr>\n",
       "    <tr>\n",
       "      <th>4</th>\n",
       "      <td>NaN</td>\n",
       "      <td>NaN</td>\n",
       "      <td>Learning Analytics</td>\n",
       "      <td>NaN</td>\n",
       "      <td>NaN</td>\n",
       "    </tr>\n",
       "    <tr>\n",
       "      <th rowspan=\"5\" valign=\"top\">2</th>\n",
       "      <th>0</th>\n",
       "      <td>Distributed Systems</td>\n",
       "      <td>Gestaltung interaktiver Lehr-/Lern-Systeme</td>\n",
       "      <td>Learning Analytics</td>\n",
       "      <td>NaN</td>\n",
       "      <td>NaN</td>\n",
       "    </tr>\n",
       "    <tr>\n",
       "      <th>1</th>\n",
       "      <td>Electronic Communities and Social Networks</td>\n",
       "      <td>Information Retrieval</td>\n",
       "      <td>NaN</td>\n",
       "      <td>NaN</td>\n",
       "      <td>NaN</td>\n",
       "    </tr>\n",
       "    <tr>\n",
       "      <th>2</th>\n",
       "      <td>Formal Specification of Software Systems</td>\n",
       "      <td>Interaktive Systeme</td>\n",
       "      <td>NaN</td>\n",
       "      <td>NaN</td>\n",
       "      <td>NaN</td>\n",
       "    </tr>\n",
       "    <tr>\n",
       "      <th>3</th>\n",
       "      <td>Information Engineering</td>\n",
       "      <td>Internet of Things- Protocols and System Software</td>\n",
       "      <td>NaN</td>\n",
       "      <td>NaN</td>\n",
       "      <td>NaN</td>\n",
       "    </tr>\n",
       "    <tr>\n",
       "      <th>4</th>\n",
       "      <td>Information Mining</td>\n",
       "      <td>Recommender Systems</td>\n",
       "      <td>NaN</td>\n",
       "      <td>NaN</td>\n",
       "      <td>NaN</td>\n",
       "    </tr>\n",
       "    <tr>\n",
       "      <th rowspan=\"3\" valign=\"top\">3</th>\n",
       "      <th>0</th>\n",
       "      <td>Distributed Systems</td>\n",
       "      <td>Gestaltung interaktiver Lehr-/Lern-Systeme</td>\n",
       "      <td>NaN</td>\n",
       "      <td>NaN</td>\n",
       "      <td>NaN</td>\n",
       "    </tr>\n",
       "    <tr>\n",
       "      <th>1</th>\n",
       "      <td>Electronic Communities and Social Networks</td>\n",
       "      <td>Interaktive Systeme</td>\n",
       "      <td>NaN</td>\n",
       "      <td>NaN</td>\n",
       "      <td>NaN</td>\n",
       "    </tr>\n",
       "    <tr>\n",
       "      <th>2</th>\n",
       "      <td>NaN</td>\n",
       "      <td>Peer-to-Peer Systems</td>\n",
       "      <td>NaN</td>\n",
       "      <td>NaN</td>\n",
       "      <td>NaN</td>\n",
       "    </tr>\n",
       "    <tr>\n",
       "      <th rowspan=\"2\" valign=\"top\">4</th>\n",
       "      <th>0</th>\n",
       "      <td>Internet of Things- Protocols and System Software</td>\n",
       "      <td>Distributed Systems</td>\n",
       "      <td>Peer-to-Peer Systems</td>\n",
       "      <td>NaN</td>\n",
       "      <td>NaN</td>\n",
       "    </tr>\n",
       "    <tr>\n",
       "      <th>1</th>\n",
       "      <td>NaN</td>\n",
       "      <td>Test and Reliability of Digital Systems</td>\n",
       "      <td>NaN</td>\n",
       "      <td>NaN</td>\n",
       "      <td>NaN</td>\n",
       "    </tr>\n",
       "    <tr>\n",
       "      <th rowspan=\"5\" valign=\"top\">5</th>\n",
       "      <th>0</th>\n",
       "      <td>Cloud Web &amp; Mobile</td>\n",
       "      <td>Development of Safe and Secure Software</td>\n",
       "      <td>Advanced Web Technologies</td>\n",
       "      <td>NaN</td>\n",
       "      <td>NaN</td>\n",
       "    </tr>\n",
       "    <tr>\n",
       "      <th>1</th>\n",
       "      <td>Computer Robot Vision</td>\n",
       "      <td>Interaktive Systeme</td>\n",
       "      <td>Information Engineering</td>\n",
       "      <td>NaN</td>\n",
       "      <td>NaN</td>\n",
       "    </tr>\n",
       "    <tr>\n",
       "      <th>2</th>\n",
       "      <td>Distributed Systems</td>\n",
       "      <td>Internet of Things- Protocols and System Software</td>\n",
       "      <td>Information Mining</td>\n",
       "      <td>NaN</td>\n",
       "      <td>NaN</td>\n",
       "    </tr>\n",
       "    <tr>\n",
       "      <th>3</th>\n",
       "      <td>Formal Specification of Software Systems</td>\n",
       "      <td>Pattern and Component based Software Development</td>\n",
       "      <td>NaN</td>\n",
       "      <td>NaN</td>\n",
       "      <td>NaN</td>\n",
       "    </tr>\n",
       "    <tr>\n",
       "      <th>4</th>\n",
       "      <td>NaN</td>\n",
       "      <td>Peer-to-Peer Systems</td>\n",
       "      <td>NaN</td>\n",
       "      <td>NaN</td>\n",
       "      <td>NaN</td>\n",
       "    </tr>\n",
       "    <tr>\n",
       "      <th rowspan=\"3\" valign=\"top\">6</th>\n",
       "      <th>0</th>\n",
       "      <td>Electronic Communities and Social Networks</td>\n",
       "      <td>Advanced Web Technologies</td>\n",
       "      <td>NaN</td>\n",
       "      <td>NaN</td>\n",
       "      <td>NaN</td>\n",
       "    </tr>\n",
       "    <tr>\n",
       "      <th>1</th>\n",
       "      <td>Formal Specification of Software Systems</td>\n",
       "      <td>Interaktive Systeme</td>\n",
       "      <td>NaN</td>\n",
       "      <td>NaN</td>\n",
       "      <td>NaN</td>\n",
       "    </tr>\n",
       "    <tr>\n",
       "      <th>2</th>\n",
       "      <td>Learning Analytics</td>\n",
       "      <td>NaN</td>\n",
       "      <td>NaN</td>\n",
       "      <td>NaN</td>\n",
       "      <td>NaN</td>\n",
       "    </tr>\n",
       "    <tr>\n",
       "      <th>7</th>\n",
       "      <th>0</th>\n",
       "      <td>Recommender Systems</td>\n",
       "      <td>NaN</td>\n",
       "      <td>NaN</td>\n",
       "      <td>NaN</td>\n",
       "      <td>NaN</td>\n",
       "    </tr>\n",
       "    <tr>\n",
       "      <th rowspan=\"5\" valign=\"top\">8</th>\n",
       "      <th>0</th>\n",
       "      <td>Advanced Image Synthesis</td>\n",
       "      <td>NaN</td>\n",
       "      <td>Advanced Web Technologies</td>\n",
       "      <td>Development of Safe and Secure Software</td>\n",
       "      <td>NaN</td>\n",
       "    </tr>\n",
       "    <tr>\n",
       "      <th>1</th>\n",
       "      <td>Cognitive Robot Systems</td>\n",
       "      <td>NaN</td>\n",
       "      <td>Computer Graphics</td>\n",
       "      <td>Distributed Systems</td>\n",
       "      <td>NaN</td>\n",
       "    </tr>\n",
       "    <tr>\n",
       "      <th>2</th>\n",
       "      <td>Computer Robot Vision</td>\n",
       "      <td>NaN</td>\n",
       "      <td>Information Mining</td>\n",
       "      <td>Gestaltung interaktiver Lehr-/Lern-Systeme</td>\n",
       "      <td>NaN</td>\n",
       "    </tr>\n",
       "    <tr>\n",
       "      <th>3</th>\n",
       "      <td>Scientific Visualization</td>\n",
       "      <td>NaN</td>\n",
       "      <td>NaN</td>\n",
       "      <td>Internet of Things- Protocols and System Software</td>\n",
       "      <td>NaN</td>\n",
       "    </tr>\n",
       "    <tr>\n",
       "      <th>4</th>\n",
       "      <td>NaN</td>\n",
       "      <td>NaN</td>\n",
       "      <td>NaN</td>\n",
       "      <td>Peer-to-Peer Systems</td>\n",
       "      <td>NaN</td>\n",
       "    </tr>\n",
       "    <tr>\n",
       "      <th rowspan=\"4\" valign=\"top\">9</th>\n",
       "      <th>0</th>\n",
       "      <td>Digital Games Research</td>\n",
       "      <td>Advanced Web Technologies</td>\n",
       "      <td>NaN</td>\n",
       "      <td>NaN</td>\n",
       "      <td>NaN</td>\n",
       "    </tr>\n",
       "    <tr>\n",
       "      <th>1</th>\n",
       "      <td>Distributed Systems</td>\n",
       "      <td>NaN</td>\n",
       "      <td>NaN</td>\n",
       "      <td>NaN</td>\n",
       "      <td>NaN</td>\n",
       "    </tr>\n",
       "    <tr>\n",
       "      <th>2</th>\n",
       "      <td>Electronic Communities and Social Networks</td>\n",
       "      <td>NaN</td>\n",
       "      <td>NaN</td>\n",
       "      <td>NaN</td>\n",
       "      <td>NaN</td>\n",
       "    </tr>\n",
       "    <tr>\n",
       "      <th>3</th>\n",
       "      <td>Learning Analytics</td>\n",
       "      <td>NaN</td>\n",
       "      <td>NaN</td>\n",
       "      <td>NaN</td>\n",
       "      <td>NaN</td>\n",
       "    </tr>\n",
       "    <tr>\n",
       "      <th rowspan=\"3\" valign=\"top\">10</th>\n",
       "      <th>0</th>\n",
       "      <td>Computer Robot Vision</td>\n",
       "      <td>Distributed Systems</td>\n",
       "      <td>NaN</td>\n",
       "      <td>NaN</td>\n",
       "      <td>NaN</td>\n",
       "    </tr>\n",
       "    <tr>\n",
       "      <th>1</th>\n",
       "      <td>Electronic Communities and Social Networks</td>\n",
       "      <td>Information Retrieval</td>\n",
       "      <td>NaN</td>\n",
       "      <td>NaN</td>\n",
       "      <td>NaN</td>\n",
       "    </tr>\n",
       "    <tr>\n",
       "      <th>2</th>\n",
       "      <td>Formal Specification of Software Systems</td>\n",
       "      <td>Interaktive Systeme</td>\n",
       "      <td>NaN</td>\n",
       "      <td>NaN</td>\n",
       "      <td>NaN</td>\n",
       "    </tr>\n",
       "    <tr>\n",
       "      <th>11</th>\n",
       "      <th>0</th>\n",
       "      <td>Distributed Systems</td>\n",
       "      <td>Cloud Web &amp; Mobile</td>\n",
       "      <td>NaN</td>\n",
       "      <td>NaN</td>\n",
       "      <td>NaN</td>\n",
       "    </tr>\n",
       "  </tbody>\n",
       "</table>\n",
       "</div>"
      ],
      "text/plain": [
       "                                                      1  \\\n",
       "0  0                          Advanced Web Technologies   \n",
       "   1            Development of Safe and Secure Software   \n",
       "   2                                Distributed Systems   \n",
       "1  0                            Cognitive Robot Systems   \n",
       "   1                                Distributed Systems   \n",
       "   2                                                NaN   \n",
       "   3                                                NaN   \n",
       "   4                                                NaN   \n",
       "2  0                                Distributed Systems   \n",
       "   1         Electronic Communities and Social Networks   \n",
       "   2           Formal Specification of Software Systems   \n",
       "   3                            Information Engineering   \n",
       "   4                                 Information Mining   \n",
       "3  0                                Distributed Systems   \n",
       "   1         Electronic Communities and Social Networks   \n",
       "   2                                                NaN   \n",
       "4  0  Internet of Things- Protocols and System Software   \n",
       "   1                                                NaN   \n",
       "5  0                                 Cloud Web & Mobile   \n",
       "   1                              Computer Robot Vision   \n",
       "   2                                Distributed Systems   \n",
       "   3           Formal Specification of Software Systems   \n",
       "   4                                                NaN   \n",
       "6  0         Electronic Communities and Social Networks   \n",
       "   1           Formal Specification of Software Systems   \n",
       "   2                                 Learning Analytics   \n",
       "7  0                                Recommender Systems   \n",
       "8  0                           Advanced Image Synthesis   \n",
       "   1                            Cognitive Robot Systems   \n",
       "   2                              Computer Robot Vision   \n",
       "   3                           Scientific Visualization   \n",
       "   4                                                NaN   \n",
       "9  0                             Digital Games Research   \n",
       "   1                                Distributed Systems   \n",
       "   2         Electronic Communities and Social Networks   \n",
       "   3                                 Learning Analytics   \n",
       "10 0                              Computer Robot Vision   \n",
       "   1         Electronic Communities and Social Networks   \n",
       "   2           Formal Specification of Software Systems   \n",
       "11 0                                Distributed Systems   \n",
       "\n",
       "                                                      2  \\\n",
       "0  0                           Advanced Image Synthesis   \n",
       "   1                                 Learning Analytics   \n",
       "   2                                                NaN   \n",
       "1  0            Development of Safe and Secure Software   \n",
       "   1                              Information Retrieval   \n",
       "   2                               Peer-to-Peer Systems   \n",
       "   3                                                NaN   \n",
       "   4                                                NaN   \n",
       "2  0         Gestaltung interaktiver Lehr-/Lern-Systeme   \n",
       "   1                              Information Retrieval   \n",
       "   2                                Interaktive Systeme   \n",
       "   3  Internet of Things- Protocols and System Software   \n",
       "   4                                Recommender Systems   \n",
       "3  0         Gestaltung interaktiver Lehr-/Lern-Systeme   \n",
       "   1                                Interaktive Systeme   \n",
       "   2                               Peer-to-Peer Systems   \n",
       "4  0                                Distributed Systems   \n",
       "   1            Test and Reliability of Digital Systems   \n",
       "5  0            Development of Safe and Secure Software   \n",
       "   1                                Interaktive Systeme   \n",
       "   2  Internet of Things- Protocols and System Software   \n",
       "   3   Pattern and Component based Software Development   \n",
       "   4                               Peer-to-Peer Systems   \n",
       "6  0                          Advanced Web Technologies   \n",
       "   1                                Interaktive Systeme   \n",
       "   2                                                NaN   \n",
       "7  0                                                NaN   \n",
       "8  0                                                NaN   \n",
       "   1                                                NaN   \n",
       "   2                                                NaN   \n",
       "   3                                                NaN   \n",
       "   4                                                NaN   \n",
       "9  0                          Advanced Web Technologies   \n",
       "   1                                                NaN   \n",
       "   2                                                NaN   \n",
       "   3                                                NaN   \n",
       "10 0                                Distributed Systems   \n",
       "   1                              Information Retrieval   \n",
       "   2                                Interaktive Systeme   \n",
       "11 0                                 Cloud Web & Mobile   \n",
       "\n",
       "                                               3  \\\n",
       "0  0                       Information Retrieval   \n",
       "   1                        Peer-to-Peer Systems   \n",
       "   2                                         NaN   \n",
       "1  0                   Advanced Web Technologies   \n",
       "   1                          Cloud Web & Mobile   \n",
       "   2  Electronic Communities and Social Networks   \n",
       "   3                     Information Engineering   \n",
       "   4                          Learning Analytics   \n",
       "2  0                          Learning Analytics   \n",
       "   1                                         NaN   \n",
       "   2                                         NaN   \n",
       "   3                                         NaN   \n",
       "   4                                         NaN   \n",
       "3  0                                         NaN   \n",
       "   1                                         NaN   \n",
       "   2                                         NaN   \n",
       "4  0                        Peer-to-Peer Systems   \n",
       "   1                                         NaN   \n",
       "5  0                   Advanced Web Technologies   \n",
       "   1                     Information Engineering   \n",
       "   2                          Information Mining   \n",
       "   3                                         NaN   \n",
       "   4                                         NaN   \n",
       "6  0                                         NaN   \n",
       "   1                                         NaN   \n",
       "   2                                         NaN   \n",
       "7  0                                         NaN   \n",
       "8  0                   Advanced Web Technologies   \n",
       "   1                           Computer Graphics   \n",
       "   2                          Information Mining   \n",
       "   3                                         NaN   \n",
       "   4                                         NaN   \n",
       "9  0                                         NaN   \n",
       "   1                                         NaN   \n",
       "   2                                         NaN   \n",
       "   3                                         NaN   \n",
       "10 0                                         NaN   \n",
       "   1                                         NaN   \n",
       "   2                                         NaN   \n",
       "11 0                                         NaN   \n",
       "\n",
       "                                                      4 Other  \n",
       "0  0                                                NaN   NaN  \n",
       "   1                                                NaN   NaN  \n",
       "   2                                                NaN   NaN  \n",
       "1  0         Gestaltung interaktiver Lehr-/Lern-Systeme   NaN  \n",
       "   1                                                NaN   NaN  \n",
       "   2                                                NaN   NaN  \n",
       "   3                                                NaN   NaN  \n",
       "   4                                                NaN   NaN  \n",
       "2  0                                                NaN   NaN  \n",
       "   1                                                NaN   NaN  \n",
       "   2                                                NaN   NaN  \n",
       "   3                                                NaN   NaN  \n",
       "   4                                                NaN   NaN  \n",
       "3  0                                                NaN   NaN  \n",
       "   1                                                NaN   NaN  \n",
       "   2                                                NaN   NaN  \n",
       "4  0                                                NaN   NaN  \n",
       "   1                                                NaN   NaN  \n",
       "5  0                                                NaN   NaN  \n",
       "   1                                                NaN   NaN  \n",
       "   2                                                NaN   NaN  \n",
       "   3                                                NaN   NaN  \n",
       "   4                                                NaN   NaN  \n",
       "6  0                                                NaN   NaN  \n",
       "   1                                                NaN   NaN  \n",
       "   2                                                NaN   NaN  \n",
       "7  0                                                NaN   NaN  \n",
       "8  0            Development of Safe and Secure Software   NaN  \n",
       "   1                                Distributed Systems   NaN  \n",
       "   2         Gestaltung interaktiver Lehr-/Lern-Systeme   NaN  \n",
       "   3  Internet of Things- Protocols and System Software   NaN  \n",
       "   4                               Peer-to-Peer Systems   NaN  \n",
       "9  0                                                NaN   NaN  \n",
       "   1                                                NaN   NaN  \n",
       "   2                                                NaN   NaN  \n",
       "   3                                                NaN   NaN  \n",
       "10 0                                                NaN   NaN  \n",
       "   1                                                NaN   NaN  \n",
       "   2                                                NaN   NaN  \n",
       "11 0                                                NaN   NaN  "
      ]
     },
     "execution_count": 91,
     "metadata": {},
     "output_type": "execute_result"
    }
   ],
   "source": [
    "df_final.head(40)"
   ]
  },
  {
   "cell_type": "code",
   "execution_count": 92,
   "metadata": {},
   "outputs": [],
   "source": [
    "df_final.to_csv('category1.csv')"
   ]
  },
  {
   "cell_type": "code",
   "execution_count": 93,
   "metadata": {},
   "outputs": [],
   "source": [
    "df_processed=df_subs1.groupby('id').sub.apply(list).reset_index()"
   ]
  },
  {
   "cell_type": "code",
   "execution_count": 94,
   "metadata": {},
   "outputs": [
    {
     "data": {
      "text/html": [
       "<div>\n",
       "<style scoped>\n",
       "    .dataframe tbody tr th:only-of-type {\n",
       "        vertical-align: middle;\n",
       "    }\n",
       "\n",
       "    .dataframe tbody tr th {\n",
       "        vertical-align: top;\n",
       "    }\n",
       "\n",
       "    .dataframe thead th {\n",
       "        text-align: right;\n",
       "    }\n",
       "</style>\n",
       "<table border=\"1\" class=\"dataframe\">\n",
       "  <thead>\n",
       "    <tr style=\"text-align: right;\">\n",
       "      <th></th>\n",
       "      <th>id</th>\n",
       "      <th>sub</th>\n",
       "    </tr>\n",
       "  </thead>\n",
       "  <tbody>\n",
       "    <tr>\n",
       "      <th>0</th>\n",
       "      <td>0</td>\n",
       "      <td>[Advanced Image Synthesis, Advanced Web Techno...</td>\n",
       "    </tr>\n",
       "    <tr>\n",
       "      <th>1</th>\n",
       "      <td>1</td>\n",
       "      <td>[Advanced Web Technologies, Cloud Web &amp; Mobile...</td>\n",
       "    </tr>\n",
       "    <tr>\n",
       "      <th>2</th>\n",
       "      <td>2</td>\n",
       "      <td>[Distributed Systems, Electronic Communities a...</td>\n",
       "    </tr>\n",
       "    <tr>\n",
       "      <th>3</th>\n",
       "      <td>3</td>\n",
       "      <td>[Distributed Systems, Electronic Communities a...</td>\n",
       "    </tr>\n",
       "    <tr>\n",
       "      <th>4</th>\n",
       "      <td>4</td>\n",
       "      <td>[Distributed Systems, Internet of Things- Prot...</td>\n",
       "    </tr>\n",
       "  </tbody>\n",
       "</table>\n",
       "</div>"
      ],
      "text/plain": [
       "   id                                                sub\n",
       "0   0  [Advanced Image Synthesis, Advanced Web Techno...\n",
       "1   1  [Advanced Web Technologies, Cloud Web & Mobile...\n",
       "2   2  [Distributed Systems, Electronic Communities a...\n",
       "3   3  [Distributed Systems, Electronic Communities a...\n",
       "4   4  [Distributed Systems, Internet of Things- Prot..."
      ]
     },
     "execution_count": 94,
     "metadata": {},
     "output_type": "execute_result"
    }
   ],
   "source": [
    "df_processed.head(5)"
   ]
  },
  {
   "cell_type": "code",
   "execution_count": 95,
   "metadata": {},
   "outputs": [],
   "source": [
    "df_processed.set_index('id',inplace=True)"
   ]
  },
  {
   "cell_type": "code",
   "execution_count": 96,
   "metadata": {},
   "outputs": [],
   "source": [
    "dataset=list(df_processed['sub'].values)"
   ]
  },
  {
   "cell_type": "code",
   "execution_count": 97,
   "metadata": {},
   "outputs": [
    {
     "data": {
      "text/html": [
       "<div>\n",
       "<style scoped>\n",
       "    .dataframe tbody tr th:only-of-type {\n",
       "        vertical-align: middle;\n",
       "    }\n",
       "\n",
       "    .dataframe tbody tr th {\n",
       "        vertical-align: top;\n",
       "    }\n",
       "\n",
       "    .dataframe thead th {\n",
       "        text-align: right;\n",
       "    }\n",
       "</style>\n",
       "<table border=\"1\" class=\"dataframe\">\n",
       "  <thead>\n",
       "    <tr style=\"text-align: right;\">\n",
       "      <th></th>\n",
       "      <th>Advanced Image Synthesis</th>\n",
       "      <th>Advanced Web Technologies</th>\n",
       "      <th>Cloud Web &amp; Mobile</th>\n",
       "      <th>Cognitive Robot Systems</th>\n",
       "      <th>Computer Graphics</th>\n",
       "      <th>Computer Robot Vision</th>\n",
       "      <th>Development of Safe and Secure Software</th>\n",
       "      <th>Digital Games Research</th>\n",
       "      <th>Distributed Systems</th>\n",
       "      <th>Electronic Communities and Social Networks</th>\n",
       "      <th>...</th>\n",
       "      <th>Interaktive Systeme</th>\n",
       "      <th>Internet of Things- Protocols and System Software</th>\n",
       "      <th>Learning Analytics</th>\n",
       "      <th>Natural-Language-based Human-Computer Interaction</th>\n",
       "      <th>Neurocomputing and Organic Computing</th>\n",
       "      <th>Pattern and Component based Software Development</th>\n",
       "      <th>Peer-to-Peer Systems</th>\n",
       "      <th>Recommender Systems</th>\n",
       "      <th>Scientific Visualization</th>\n",
       "      <th>Test and Reliability of Digital Systems</th>\n",
       "    </tr>\n",
       "  </thead>\n",
       "  <tbody>\n",
       "    <tr>\n",
       "      <th>0</th>\n",
       "      <td>True</td>\n",
       "      <td>True</td>\n",
       "      <td>False</td>\n",
       "      <td>False</td>\n",
       "      <td>False</td>\n",
       "      <td>False</td>\n",
       "      <td>True</td>\n",
       "      <td>False</td>\n",
       "      <td>True</td>\n",
       "      <td>False</td>\n",
       "      <td>...</td>\n",
       "      <td>False</td>\n",
       "      <td>False</td>\n",
       "      <td>True</td>\n",
       "      <td>False</td>\n",
       "      <td>False</td>\n",
       "      <td>False</td>\n",
       "      <td>True</td>\n",
       "      <td>False</td>\n",
       "      <td>False</td>\n",
       "      <td>False</td>\n",
       "    </tr>\n",
       "    <tr>\n",
       "      <th>1</th>\n",
       "      <td>False</td>\n",
       "      <td>True</td>\n",
       "      <td>True</td>\n",
       "      <td>True</td>\n",
       "      <td>False</td>\n",
       "      <td>False</td>\n",
       "      <td>True</td>\n",
       "      <td>False</td>\n",
       "      <td>True</td>\n",
       "      <td>True</td>\n",
       "      <td>...</td>\n",
       "      <td>False</td>\n",
       "      <td>False</td>\n",
       "      <td>True</td>\n",
       "      <td>False</td>\n",
       "      <td>False</td>\n",
       "      <td>False</td>\n",
       "      <td>True</td>\n",
       "      <td>False</td>\n",
       "      <td>False</td>\n",
       "      <td>False</td>\n",
       "    </tr>\n",
       "    <tr>\n",
       "      <th>2</th>\n",
       "      <td>False</td>\n",
       "      <td>False</td>\n",
       "      <td>False</td>\n",
       "      <td>False</td>\n",
       "      <td>False</td>\n",
       "      <td>False</td>\n",
       "      <td>False</td>\n",
       "      <td>False</td>\n",
       "      <td>True</td>\n",
       "      <td>True</td>\n",
       "      <td>...</td>\n",
       "      <td>True</td>\n",
       "      <td>True</td>\n",
       "      <td>True</td>\n",
       "      <td>False</td>\n",
       "      <td>False</td>\n",
       "      <td>False</td>\n",
       "      <td>False</td>\n",
       "      <td>True</td>\n",
       "      <td>False</td>\n",
       "      <td>False</td>\n",
       "    </tr>\n",
       "    <tr>\n",
       "      <th>3</th>\n",
       "      <td>False</td>\n",
       "      <td>False</td>\n",
       "      <td>False</td>\n",
       "      <td>False</td>\n",
       "      <td>False</td>\n",
       "      <td>False</td>\n",
       "      <td>False</td>\n",
       "      <td>False</td>\n",
       "      <td>True</td>\n",
       "      <td>True</td>\n",
       "      <td>...</td>\n",
       "      <td>True</td>\n",
       "      <td>False</td>\n",
       "      <td>False</td>\n",
       "      <td>False</td>\n",
       "      <td>False</td>\n",
       "      <td>False</td>\n",
       "      <td>True</td>\n",
       "      <td>False</td>\n",
       "      <td>False</td>\n",
       "      <td>False</td>\n",
       "    </tr>\n",
       "    <tr>\n",
       "      <th>4</th>\n",
       "      <td>False</td>\n",
       "      <td>False</td>\n",
       "      <td>False</td>\n",
       "      <td>False</td>\n",
       "      <td>False</td>\n",
       "      <td>False</td>\n",
       "      <td>False</td>\n",
       "      <td>False</td>\n",
       "      <td>True</td>\n",
       "      <td>False</td>\n",
       "      <td>...</td>\n",
       "      <td>False</td>\n",
       "      <td>True</td>\n",
       "      <td>False</td>\n",
       "      <td>False</td>\n",
       "      <td>False</td>\n",
       "      <td>False</td>\n",
       "      <td>True</td>\n",
       "      <td>False</td>\n",
       "      <td>False</td>\n",
       "      <td>True</td>\n",
       "    </tr>\n",
       "    <tr>\n",
       "      <th>5</th>\n",
       "      <td>False</td>\n",
       "      <td>True</td>\n",
       "      <td>True</td>\n",
       "      <td>False</td>\n",
       "      <td>False</td>\n",
       "      <td>True</td>\n",
       "      <td>True</td>\n",
       "      <td>False</td>\n",
       "      <td>True</td>\n",
       "      <td>False</td>\n",
       "      <td>...</td>\n",
       "      <td>True</td>\n",
       "      <td>True</td>\n",
       "      <td>False</td>\n",
       "      <td>False</td>\n",
       "      <td>False</td>\n",
       "      <td>True</td>\n",
       "      <td>True</td>\n",
       "      <td>False</td>\n",
       "      <td>False</td>\n",
       "      <td>False</td>\n",
       "    </tr>\n",
       "    <tr>\n",
       "      <th>6</th>\n",
       "      <td>False</td>\n",
       "      <td>True</td>\n",
       "      <td>False</td>\n",
       "      <td>False</td>\n",
       "      <td>False</td>\n",
       "      <td>False</td>\n",
       "      <td>False</td>\n",
       "      <td>False</td>\n",
       "      <td>False</td>\n",
       "      <td>True</td>\n",
       "      <td>...</td>\n",
       "      <td>True</td>\n",
       "      <td>False</td>\n",
       "      <td>True</td>\n",
       "      <td>False</td>\n",
       "      <td>False</td>\n",
       "      <td>False</td>\n",
       "      <td>False</td>\n",
       "      <td>False</td>\n",
       "      <td>False</td>\n",
       "      <td>False</td>\n",
       "    </tr>\n",
       "    <tr>\n",
       "      <th>7</th>\n",
       "      <td>False</td>\n",
       "      <td>False</td>\n",
       "      <td>False</td>\n",
       "      <td>False</td>\n",
       "      <td>False</td>\n",
       "      <td>False</td>\n",
       "      <td>False</td>\n",
       "      <td>False</td>\n",
       "      <td>False</td>\n",
       "      <td>False</td>\n",
       "      <td>...</td>\n",
       "      <td>False</td>\n",
       "      <td>False</td>\n",
       "      <td>False</td>\n",
       "      <td>False</td>\n",
       "      <td>False</td>\n",
       "      <td>False</td>\n",
       "      <td>False</td>\n",
       "      <td>True</td>\n",
       "      <td>False</td>\n",
       "      <td>False</td>\n",
       "    </tr>\n",
       "    <tr>\n",
       "      <th>8</th>\n",
       "      <td>True</td>\n",
       "      <td>True</td>\n",
       "      <td>False</td>\n",
       "      <td>True</td>\n",
       "      <td>True</td>\n",
       "      <td>True</td>\n",
       "      <td>True</td>\n",
       "      <td>False</td>\n",
       "      <td>True</td>\n",
       "      <td>False</td>\n",
       "      <td>...</td>\n",
       "      <td>False</td>\n",
       "      <td>True</td>\n",
       "      <td>False</td>\n",
       "      <td>False</td>\n",
       "      <td>False</td>\n",
       "      <td>False</td>\n",
       "      <td>True</td>\n",
       "      <td>False</td>\n",
       "      <td>True</td>\n",
       "      <td>False</td>\n",
       "    </tr>\n",
       "    <tr>\n",
       "      <th>9</th>\n",
       "      <td>False</td>\n",
       "      <td>True</td>\n",
       "      <td>False</td>\n",
       "      <td>False</td>\n",
       "      <td>False</td>\n",
       "      <td>False</td>\n",
       "      <td>False</td>\n",
       "      <td>True</td>\n",
       "      <td>True</td>\n",
       "      <td>True</td>\n",
       "      <td>...</td>\n",
       "      <td>False</td>\n",
       "      <td>False</td>\n",
       "      <td>True</td>\n",
       "      <td>False</td>\n",
       "      <td>False</td>\n",
       "      <td>False</td>\n",
       "      <td>False</td>\n",
       "      <td>False</td>\n",
       "      <td>False</td>\n",
       "      <td>False</td>\n",
       "    </tr>\n",
       "    <tr>\n",
       "      <th>10</th>\n",
       "      <td>False</td>\n",
       "      <td>False</td>\n",
       "      <td>False</td>\n",
       "      <td>False</td>\n",
       "      <td>False</td>\n",
       "      <td>True</td>\n",
       "      <td>False</td>\n",
       "      <td>False</td>\n",
       "      <td>True</td>\n",
       "      <td>True</td>\n",
       "      <td>...</td>\n",
       "      <td>True</td>\n",
       "      <td>False</td>\n",
       "      <td>False</td>\n",
       "      <td>False</td>\n",
       "      <td>False</td>\n",
       "      <td>False</td>\n",
       "      <td>False</td>\n",
       "      <td>False</td>\n",
       "      <td>False</td>\n",
       "      <td>False</td>\n",
       "    </tr>\n",
       "    <tr>\n",
       "      <th>11</th>\n",
       "      <td>False</td>\n",
       "      <td>False</td>\n",
       "      <td>True</td>\n",
       "      <td>True</td>\n",
       "      <td>False</td>\n",
       "      <td>False</td>\n",
       "      <td>False</td>\n",
       "      <td>False</td>\n",
       "      <td>True</td>\n",
       "      <td>True</td>\n",
       "      <td>...</td>\n",
       "      <td>True</td>\n",
       "      <td>True</td>\n",
       "      <td>False</td>\n",
       "      <td>False</td>\n",
       "      <td>False</td>\n",
       "      <td>False</td>\n",
       "      <td>True</td>\n",
       "      <td>True</td>\n",
       "      <td>False</td>\n",
       "      <td>False</td>\n",
       "    </tr>\n",
       "    <tr>\n",
       "      <th>12</th>\n",
       "      <td>False</td>\n",
       "      <td>True</td>\n",
       "      <td>True</td>\n",
       "      <td>False</td>\n",
       "      <td>False</td>\n",
       "      <td>True</td>\n",
       "      <td>False</td>\n",
       "      <td>False</td>\n",
       "      <td>False</td>\n",
       "      <td>False</td>\n",
       "      <td>...</td>\n",
       "      <td>False</td>\n",
       "      <td>False</td>\n",
       "      <td>False</td>\n",
       "      <td>False</td>\n",
       "      <td>False</td>\n",
       "      <td>False</td>\n",
       "      <td>False</td>\n",
       "      <td>False</td>\n",
       "      <td>False</td>\n",
       "      <td>False</td>\n",
       "    </tr>\n",
       "    <tr>\n",
       "      <th>13</th>\n",
       "      <td>False</td>\n",
       "      <td>False</td>\n",
       "      <td>False</td>\n",
       "      <td>False</td>\n",
       "      <td>False</td>\n",
       "      <td>False</td>\n",
       "      <td>True</td>\n",
       "      <td>False</td>\n",
       "      <td>False</td>\n",
       "      <td>False</td>\n",
       "      <td>...</td>\n",
       "      <td>True</td>\n",
       "      <td>False</td>\n",
       "      <td>False</td>\n",
       "      <td>False</td>\n",
       "      <td>False</td>\n",
       "      <td>False</td>\n",
       "      <td>False</td>\n",
       "      <td>False</td>\n",
       "      <td>False</td>\n",
       "      <td>False</td>\n",
       "    </tr>\n",
       "    <tr>\n",
       "      <th>14</th>\n",
       "      <td>False</td>\n",
       "      <td>False</td>\n",
       "      <td>False</td>\n",
       "      <td>False</td>\n",
       "      <td>False</td>\n",
       "      <td>False</td>\n",
       "      <td>False</td>\n",
       "      <td>False</td>\n",
       "      <td>True</td>\n",
       "      <td>False</td>\n",
       "      <td>...</td>\n",
       "      <td>True</td>\n",
       "      <td>True</td>\n",
       "      <td>False</td>\n",
       "      <td>False</td>\n",
       "      <td>False</td>\n",
       "      <td>False</td>\n",
       "      <td>False</td>\n",
       "      <td>False</td>\n",
       "      <td>False</td>\n",
       "      <td>False</td>\n",
       "    </tr>\n",
       "    <tr>\n",
       "      <th>15</th>\n",
       "      <td>False</td>\n",
       "      <td>False</td>\n",
       "      <td>False</td>\n",
       "      <td>False</td>\n",
       "      <td>True</td>\n",
       "      <td>False</td>\n",
       "      <td>False</td>\n",
       "      <td>False</td>\n",
       "      <td>True</td>\n",
       "      <td>False</td>\n",
       "      <td>...</td>\n",
       "      <td>False</td>\n",
       "      <td>False</td>\n",
       "      <td>True</td>\n",
       "      <td>False</td>\n",
       "      <td>False</td>\n",
       "      <td>False</td>\n",
       "      <td>False</td>\n",
       "      <td>False</td>\n",
       "      <td>False</td>\n",
       "      <td>False</td>\n",
       "    </tr>\n",
       "    <tr>\n",
       "      <th>16</th>\n",
       "      <td>False</td>\n",
       "      <td>False</td>\n",
       "      <td>False</td>\n",
       "      <td>False</td>\n",
       "      <td>False</td>\n",
       "      <td>False</td>\n",
       "      <td>False</td>\n",
       "      <td>False</td>\n",
       "      <td>False</td>\n",
       "      <td>False</td>\n",
       "      <td>...</td>\n",
       "      <td>False</td>\n",
       "      <td>False</td>\n",
       "      <td>False</td>\n",
       "      <td>False</td>\n",
       "      <td>True</td>\n",
       "      <td>False</td>\n",
       "      <td>False</td>\n",
       "      <td>False</td>\n",
       "      <td>False</td>\n",
       "      <td>False</td>\n",
       "    </tr>\n",
       "    <tr>\n",
       "      <th>17</th>\n",
       "      <td>False</td>\n",
       "      <td>False</td>\n",
       "      <td>False</td>\n",
       "      <td>False</td>\n",
       "      <td>False</td>\n",
       "      <td>False</td>\n",
       "      <td>False</td>\n",
       "      <td>False</td>\n",
       "      <td>False</td>\n",
       "      <td>True</td>\n",
       "      <td>...</td>\n",
       "      <td>False</td>\n",
       "      <td>False</td>\n",
       "      <td>False</td>\n",
       "      <td>False</td>\n",
       "      <td>True</td>\n",
       "      <td>False</td>\n",
       "      <td>False</td>\n",
       "      <td>True</td>\n",
       "      <td>False</td>\n",
       "      <td>False</td>\n",
       "    </tr>\n",
       "    <tr>\n",
       "      <th>18</th>\n",
       "      <td>False</td>\n",
       "      <td>False</td>\n",
       "      <td>False</td>\n",
       "      <td>False</td>\n",
       "      <td>False</td>\n",
       "      <td>False</td>\n",
       "      <td>False</td>\n",
       "      <td>False</td>\n",
       "      <td>True</td>\n",
       "      <td>False</td>\n",
       "      <td>...</td>\n",
       "      <td>False</td>\n",
       "      <td>False</td>\n",
       "      <td>False</td>\n",
       "      <td>False</td>\n",
       "      <td>True</td>\n",
       "      <td>False</td>\n",
       "      <td>False</td>\n",
       "      <td>True</td>\n",
       "      <td>False</td>\n",
       "      <td>False</td>\n",
       "    </tr>\n",
       "    <tr>\n",
       "      <th>19</th>\n",
       "      <td>False</td>\n",
       "      <td>False</td>\n",
       "      <td>False</td>\n",
       "      <td>False</td>\n",
       "      <td>False</td>\n",
       "      <td>False</td>\n",
       "      <td>False</td>\n",
       "      <td>False</td>\n",
       "      <td>True</td>\n",
       "      <td>False</td>\n",
       "      <td>...</td>\n",
       "      <td>False</td>\n",
       "      <td>False</td>\n",
       "      <td>True</td>\n",
       "      <td>False</td>\n",
       "      <td>False</td>\n",
       "      <td>False</td>\n",
       "      <td>True</td>\n",
       "      <td>False</td>\n",
       "      <td>False</td>\n",
       "      <td>False</td>\n",
       "    </tr>\n",
       "    <tr>\n",
       "      <th>20</th>\n",
       "      <td>False</td>\n",
       "      <td>True</td>\n",
       "      <td>False</td>\n",
       "      <td>False</td>\n",
       "      <td>False</td>\n",
       "      <td>False</td>\n",
       "      <td>False</td>\n",
       "      <td>True</td>\n",
       "      <td>False</td>\n",
       "      <td>True</td>\n",
       "      <td>...</td>\n",
       "      <td>True</td>\n",
       "      <td>False</td>\n",
       "      <td>False</td>\n",
       "      <td>False</td>\n",
       "      <td>False</td>\n",
       "      <td>False</td>\n",
       "      <td>False</td>\n",
       "      <td>False</td>\n",
       "      <td>False</td>\n",
       "      <td>False</td>\n",
       "    </tr>\n",
       "    <tr>\n",
       "      <th>21</th>\n",
       "      <td>False</td>\n",
       "      <td>True</td>\n",
       "      <td>False</td>\n",
       "      <td>False</td>\n",
       "      <td>False</td>\n",
       "      <td>False</td>\n",
       "      <td>True</td>\n",
       "      <td>False</td>\n",
       "      <td>True</td>\n",
       "      <td>True</td>\n",
       "      <td>...</td>\n",
       "      <td>True</td>\n",
       "      <td>True</td>\n",
       "      <td>False</td>\n",
       "      <td>False</td>\n",
       "      <td>False</td>\n",
       "      <td>True</td>\n",
       "      <td>False</td>\n",
       "      <td>True</td>\n",
       "      <td>False</td>\n",
       "      <td>False</td>\n",
       "    </tr>\n",
       "    <tr>\n",
       "      <th>22</th>\n",
       "      <td>True</td>\n",
       "      <td>True</td>\n",
       "      <td>True</td>\n",
       "      <td>True</td>\n",
       "      <td>True</td>\n",
       "      <td>True</td>\n",
       "      <td>False</td>\n",
       "      <td>False</td>\n",
       "      <td>False</td>\n",
       "      <td>False</td>\n",
       "      <td>...</td>\n",
       "      <td>False</td>\n",
       "      <td>True</td>\n",
       "      <td>False</td>\n",
       "      <td>False</td>\n",
       "      <td>False</td>\n",
       "      <td>False</td>\n",
       "      <td>False</td>\n",
       "      <td>False</td>\n",
       "      <td>False</td>\n",
       "      <td>False</td>\n",
       "    </tr>\n",
       "    <tr>\n",
       "      <th>23</th>\n",
       "      <td>False</td>\n",
       "      <td>True</td>\n",
       "      <td>False</td>\n",
       "      <td>False</td>\n",
       "      <td>False</td>\n",
       "      <td>False</td>\n",
       "      <td>False</td>\n",
       "      <td>False</td>\n",
       "      <td>False</td>\n",
       "      <td>False</td>\n",
       "      <td>...</td>\n",
       "      <td>False</td>\n",
       "      <td>False</td>\n",
       "      <td>False</td>\n",
       "      <td>False</td>\n",
       "      <td>False</td>\n",
       "      <td>False</td>\n",
       "      <td>True</td>\n",
       "      <td>False</td>\n",
       "      <td>False</td>\n",
       "      <td>False</td>\n",
       "    </tr>\n",
       "    <tr>\n",
       "      <th>24</th>\n",
       "      <td>True</td>\n",
       "      <td>False</td>\n",
       "      <td>False</td>\n",
       "      <td>False</td>\n",
       "      <td>False</td>\n",
       "      <td>False</td>\n",
       "      <td>False</td>\n",
       "      <td>False</td>\n",
       "      <td>False</td>\n",
       "      <td>False</td>\n",
       "      <td>...</td>\n",
       "      <td>False</td>\n",
       "      <td>True</td>\n",
       "      <td>False</td>\n",
       "      <td>False</td>\n",
       "      <td>False</td>\n",
       "      <td>False</td>\n",
       "      <td>False</td>\n",
       "      <td>False</td>\n",
       "      <td>False</td>\n",
       "      <td>False</td>\n",
       "    </tr>\n",
       "    <tr>\n",
       "      <th>25</th>\n",
       "      <td>False</td>\n",
       "      <td>False</td>\n",
       "      <td>True</td>\n",
       "      <td>False</td>\n",
       "      <td>False</td>\n",
       "      <td>False</td>\n",
       "      <td>False</td>\n",
       "      <td>False</td>\n",
       "      <td>False</td>\n",
       "      <td>False</td>\n",
       "      <td>...</td>\n",
       "      <td>False</td>\n",
       "      <td>False</td>\n",
       "      <td>False</td>\n",
       "      <td>True</td>\n",
       "      <td>False</td>\n",
       "      <td>False</td>\n",
       "      <td>False</td>\n",
       "      <td>True</td>\n",
       "      <td>False</td>\n",
       "      <td>False</td>\n",
       "    </tr>\n",
       "    <tr>\n",
       "      <th>26</th>\n",
       "      <td>False</td>\n",
       "      <td>True</td>\n",
       "      <td>False</td>\n",
       "      <td>False</td>\n",
       "      <td>False</td>\n",
       "      <td>False</td>\n",
       "      <td>True</td>\n",
       "      <td>False</td>\n",
       "      <td>False</td>\n",
       "      <td>True</td>\n",
       "      <td>...</td>\n",
       "      <td>False</td>\n",
       "      <td>True</td>\n",
       "      <td>False</td>\n",
       "      <td>False</td>\n",
       "      <td>False</td>\n",
       "      <td>False</td>\n",
       "      <td>False</td>\n",
       "      <td>False</td>\n",
       "      <td>False</td>\n",
       "      <td>False</td>\n",
       "    </tr>\n",
       "    <tr>\n",
       "      <th>27</th>\n",
       "      <td>False</td>\n",
       "      <td>True</td>\n",
       "      <td>False</td>\n",
       "      <td>False</td>\n",
       "      <td>False</td>\n",
       "      <td>False</td>\n",
       "      <td>False</td>\n",
       "      <td>False</td>\n",
       "      <td>False</td>\n",
       "      <td>False</td>\n",
       "      <td>...</td>\n",
       "      <td>False</td>\n",
       "      <td>False</td>\n",
       "      <td>False</td>\n",
       "      <td>False</td>\n",
       "      <td>False</td>\n",
       "      <td>False</td>\n",
       "      <td>False</td>\n",
       "      <td>False</td>\n",
       "      <td>False</td>\n",
       "      <td>False</td>\n",
       "    </tr>\n",
       "    <tr>\n",
       "      <th>28</th>\n",
       "      <td>False</td>\n",
       "      <td>True</td>\n",
       "      <td>False</td>\n",
       "      <td>False</td>\n",
       "      <td>False</td>\n",
       "      <td>False</td>\n",
       "      <td>False</td>\n",
       "      <td>False</td>\n",
       "      <td>False</td>\n",
       "      <td>False</td>\n",
       "      <td>...</td>\n",
       "      <td>False</td>\n",
       "      <td>False</td>\n",
       "      <td>False</td>\n",
       "      <td>False</td>\n",
       "      <td>False</td>\n",
       "      <td>False</td>\n",
       "      <td>True</td>\n",
       "      <td>False</td>\n",
       "      <td>False</td>\n",
       "      <td>False</td>\n",
       "    </tr>\n",
       "    <tr>\n",
       "      <th>29</th>\n",
       "      <td>False</td>\n",
       "      <td>False</td>\n",
       "      <td>False</td>\n",
       "      <td>False</td>\n",
       "      <td>True</td>\n",
       "      <td>False</td>\n",
       "      <td>False</td>\n",
       "      <td>False</td>\n",
       "      <td>True</td>\n",
       "      <td>True</td>\n",
       "      <td>...</td>\n",
       "      <td>True</td>\n",
       "      <td>True</td>\n",
       "      <td>False</td>\n",
       "      <td>False</td>\n",
       "      <td>False</td>\n",
       "      <td>False</td>\n",
       "      <td>False</td>\n",
       "      <td>True</td>\n",
       "      <td>False</td>\n",
       "      <td>False</td>\n",
       "    </tr>\n",
       "    <tr>\n",
       "      <th>30</th>\n",
       "      <td>False</td>\n",
       "      <td>False</td>\n",
       "      <td>True</td>\n",
       "      <td>False</td>\n",
       "      <td>False</td>\n",
       "      <td>False</td>\n",
       "      <td>False</td>\n",
       "      <td>False</td>\n",
       "      <td>True</td>\n",
       "      <td>True</td>\n",
       "      <td>...</td>\n",
       "      <td>False</td>\n",
       "      <td>True</td>\n",
       "      <td>False</td>\n",
       "      <td>False</td>\n",
       "      <td>False</td>\n",
       "      <td>False</td>\n",
       "      <td>True</td>\n",
       "      <td>False</td>\n",
       "      <td>False</td>\n",
       "      <td>False</td>\n",
       "    </tr>\n",
       "  </tbody>\n",
       "</table>\n",
       "<p>31 rows × 25 columns</p>\n",
       "</div>"
      ],
      "text/plain": [
       "    Advanced Image Synthesis  Advanced Web Technologies  Cloud Web & Mobile  \\\n",
       "0                       True                       True               False   \n",
       "1                      False                       True                True   \n",
       "2                      False                      False               False   \n",
       "3                      False                      False               False   \n",
       "4                      False                      False               False   \n",
       "5                      False                       True                True   \n",
       "6                      False                       True               False   \n",
       "7                      False                      False               False   \n",
       "8                       True                       True               False   \n",
       "9                      False                       True               False   \n",
       "10                     False                      False               False   \n",
       "11                     False                      False                True   \n",
       "12                     False                       True                True   \n",
       "13                     False                      False               False   \n",
       "14                     False                      False               False   \n",
       "15                     False                      False               False   \n",
       "16                     False                      False               False   \n",
       "17                     False                      False               False   \n",
       "18                     False                      False               False   \n",
       "19                     False                      False               False   \n",
       "20                     False                       True               False   \n",
       "21                     False                       True               False   \n",
       "22                      True                       True                True   \n",
       "23                     False                       True               False   \n",
       "24                      True                      False               False   \n",
       "25                     False                      False                True   \n",
       "26                     False                       True               False   \n",
       "27                     False                       True               False   \n",
       "28                     False                       True               False   \n",
       "29                     False                      False               False   \n",
       "30                     False                      False                True   \n",
       "\n",
       "    Cognitive Robot Systems  Computer Graphics  Computer Robot Vision  \\\n",
       "0                     False              False                  False   \n",
       "1                      True              False                  False   \n",
       "2                     False              False                  False   \n",
       "3                     False              False                  False   \n",
       "4                     False              False                  False   \n",
       "5                     False              False                   True   \n",
       "6                     False              False                  False   \n",
       "7                     False              False                  False   \n",
       "8                      True               True                   True   \n",
       "9                     False              False                  False   \n",
       "10                    False              False                   True   \n",
       "11                     True              False                  False   \n",
       "12                    False              False                   True   \n",
       "13                    False              False                  False   \n",
       "14                    False              False                  False   \n",
       "15                    False               True                  False   \n",
       "16                    False              False                  False   \n",
       "17                    False              False                  False   \n",
       "18                    False              False                  False   \n",
       "19                    False              False                  False   \n",
       "20                    False              False                  False   \n",
       "21                    False              False                  False   \n",
       "22                     True               True                   True   \n",
       "23                    False              False                  False   \n",
       "24                    False              False                  False   \n",
       "25                    False              False                  False   \n",
       "26                    False              False                  False   \n",
       "27                    False              False                  False   \n",
       "28                    False              False                  False   \n",
       "29                    False               True                  False   \n",
       "30                    False              False                  False   \n",
       "\n",
       "    Development of Safe and Secure Software  Digital Games Research  \\\n",
       "0                                      True                   False   \n",
       "1                                      True                   False   \n",
       "2                                     False                   False   \n",
       "3                                     False                   False   \n",
       "4                                     False                   False   \n",
       "5                                      True                   False   \n",
       "6                                     False                   False   \n",
       "7                                     False                   False   \n",
       "8                                      True                   False   \n",
       "9                                     False                    True   \n",
       "10                                    False                   False   \n",
       "11                                    False                   False   \n",
       "12                                    False                   False   \n",
       "13                                     True                   False   \n",
       "14                                    False                   False   \n",
       "15                                    False                   False   \n",
       "16                                    False                   False   \n",
       "17                                    False                   False   \n",
       "18                                    False                   False   \n",
       "19                                    False                   False   \n",
       "20                                    False                    True   \n",
       "21                                     True                   False   \n",
       "22                                    False                   False   \n",
       "23                                    False                   False   \n",
       "24                                    False                   False   \n",
       "25                                    False                   False   \n",
       "26                                     True                   False   \n",
       "27                                    False                   False   \n",
       "28                                    False                   False   \n",
       "29                                    False                   False   \n",
       "30                                    False                   False   \n",
       "\n",
       "    Distributed Systems  Electronic Communities and Social Networks  ...  \\\n",
       "0                  True                                       False  ...   \n",
       "1                  True                                        True  ...   \n",
       "2                  True                                        True  ...   \n",
       "3                  True                                        True  ...   \n",
       "4                  True                                       False  ...   \n",
       "5                  True                                       False  ...   \n",
       "6                 False                                        True  ...   \n",
       "7                 False                                       False  ...   \n",
       "8                  True                                       False  ...   \n",
       "9                  True                                        True  ...   \n",
       "10                 True                                        True  ...   \n",
       "11                 True                                        True  ...   \n",
       "12                False                                       False  ...   \n",
       "13                False                                       False  ...   \n",
       "14                 True                                       False  ...   \n",
       "15                 True                                       False  ...   \n",
       "16                False                                       False  ...   \n",
       "17                False                                        True  ...   \n",
       "18                 True                                       False  ...   \n",
       "19                 True                                       False  ...   \n",
       "20                False                                        True  ...   \n",
       "21                 True                                        True  ...   \n",
       "22                False                                       False  ...   \n",
       "23                False                                       False  ...   \n",
       "24                False                                       False  ...   \n",
       "25                False                                       False  ...   \n",
       "26                False                                        True  ...   \n",
       "27                False                                       False  ...   \n",
       "28                False                                       False  ...   \n",
       "29                 True                                        True  ...   \n",
       "30                 True                                        True  ...   \n",
       "\n",
       "    Interaktive Systeme  Internet of Things- Protocols and System Software  \\\n",
       "0                 False                                              False   \n",
       "1                 False                                              False   \n",
       "2                  True                                               True   \n",
       "3                  True                                              False   \n",
       "4                 False                                               True   \n",
       "5                  True                                               True   \n",
       "6                  True                                              False   \n",
       "7                 False                                              False   \n",
       "8                 False                                               True   \n",
       "9                 False                                              False   \n",
       "10                 True                                              False   \n",
       "11                 True                                               True   \n",
       "12                False                                              False   \n",
       "13                 True                                              False   \n",
       "14                 True                                               True   \n",
       "15                False                                              False   \n",
       "16                False                                              False   \n",
       "17                False                                              False   \n",
       "18                False                                              False   \n",
       "19                False                                              False   \n",
       "20                 True                                              False   \n",
       "21                 True                                               True   \n",
       "22                False                                               True   \n",
       "23                False                                              False   \n",
       "24                False                                               True   \n",
       "25                False                                              False   \n",
       "26                False                                               True   \n",
       "27                False                                              False   \n",
       "28                False                                              False   \n",
       "29                 True                                               True   \n",
       "30                False                                               True   \n",
       "\n",
       "    Learning Analytics  Natural-Language-based Human-Computer Interaction  \\\n",
       "0                 True                                              False   \n",
       "1                 True                                              False   \n",
       "2                 True                                              False   \n",
       "3                False                                              False   \n",
       "4                False                                              False   \n",
       "5                False                                              False   \n",
       "6                 True                                              False   \n",
       "7                False                                              False   \n",
       "8                False                                              False   \n",
       "9                 True                                              False   \n",
       "10               False                                              False   \n",
       "11               False                                              False   \n",
       "12               False                                              False   \n",
       "13               False                                              False   \n",
       "14               False                                              False   \n",
       "15                True                                              False   \n",
       "16               False                                              False   \n",
       "17               False                                              False   \n",
       "18               False                                              False   \n",
       "19                True                                              False   \n",
       "20               False                                              False   \n",
       "21               False                                              False   \n",
       "22               False                                              False   \n",
       "23               False                                              False   \n",
       "24               False                                              False   \n",
       "25               False                                               True   \n",
       "26               False                                              False   \n",
       "27               False                                              False   \n",
       "28               False                                              False   \n",
       "29               False                                              False   \n",
       "30               False                                              False   \n",
       "\n",
       "    Neurocomputing and Organic Computing  \\\n",
       "0                                  False   \n",
       "1                                  False   \n",
       "2                                  False   \n",
       "3                                  False   \n",
       "4                                  False   \n",
       "5                                  False   \n",
       "6                                  False   \n",
       "7                                  False   \n",
       "8                                  False   \n",
       "9                                  False   \n",
       "10                                 False   \n",
       "11                                 False   \n",
       "12                                 False   \n",
       "13                                 False   \n",
       "14                                 False   \n",
       "15                                 False   \n",
       "16                                  True   \n",
       "17                                  True   \n",
       "18                                  True   \n",
       "19                                 False   \n",
       "20                                 False   \n",
       "21                                 False   \n",
       "22                                 False   \n",
       "23                                 False   \n",
       "24                                 False   \n",
       "25                                 False   \n",
       "26                                 False   \n",
       "27                                 False   \n",
       "28                                 False   \n",
       "29                                 False   \n",
       "30                                 False   \n",
       "\n",
       "    Pattern and Component based Software Development  Peer-to-Peer Systems  \\\n",
       "0                                              False                  True   \n",
       "1                                              False                  True   \n",
       "2                                              False                 False   \n",
       "3                                              False                  True   \n",
       "4                                              False                  True   \n",
       "5                                               True                  True   \n",
       "6                                              False                 False   \n",
       "7                                              False                 False   \n",
       "8                                              False                  True   \n",
       "9                                              False                 False   \n",
       "10                                             False                 False   \n",
       "11                                             False                  True   \n",
       "12                                             False                 False   \n",
       "13                                             False                 False   \n",
       "14                                             False                 False   \n",
       "15                                             False                 False   \n",
       "16                                             False                 False   \n",
       "17                                             False                 False   \n",
       "18                                             False                 False   \n",
       "19                                             False                  True   \n",
       "20                                             False                 False   \n",
       "21                                              True                 False   \n",
       "22                                             False                 False   \n",
       "23                                             False                  True   \n",
       "24                                             False                 False   \n",
       "25                                             False                 False   \n",
       "26                                             False                 False   \n",
       "27                                             False                 False   \n",
       "28                                             False                  True   \n",
       "29                                             False                 False   \n",
       "30                                             False                  True   \n",
       "\n",
       "    Recommender Systems  Scientific Visualization  \\\n",
       "0                 False                     False   \n",
       "1                 False                     False   \n",
       "2                  True                     False   \n",
       "3                 False                     False   \n",
       "4                 False                     False   \n",
       "5                 False                     False   \n",
       "6                 False                     False   \n",
       "7                  True                     False   \n",
       "8                 False                      True   \n",
       "9                 False                     False   \n",
       "10                False                     False   \n",
       "11                 True                     False   \n",
       "12                False                     False   \n",
       "13                False                     False   \n",
       "14                False                     False   \n",
       "15                False                     False   \n",
       "16                False                     False   \n",
       "17                 True                     False   \n",
       "18                 True                     False   \n",
       "19                False                     False   \n",
       "20                False                     False   \n",
       "21                 True                     False   \n",
       "22                False                     False   \n",
       "23                False                     False   \n",
       "24                False                     False   \n",
       "25                 True                     False   \n",
       "26                False                     False   \n",
       "27                False                     False   \n",
       "28                False                     False   \n",
       "29                 True                     False   \n",
       "30                False                     False   \n",
       "\n",
       "    Test and Reliability of Digital Systems  \n",
       "0                                     False  \n",
       "1                                     False  \n",
       "2                                     False  \n",
       "3                                     False  \n",
       "4                                      True  \n",
       "5                                     False  \n",
       "6                                     False  \n",
       "7                                     False  \n",
       "8                                     False  \n",
       "9                                     False  \n",
       "10                                    False  \n",
       "11                                    False  \n",
       "12                                    False  \n",
       "13                                    False  \n",
       "14                                    False  \n",
       "15                                    False  \n",
       "16                                    False  \n",
       "17                                    False  \n",
       "18                                    False  \n",
       "19                                    False  \n",
       "20                                    False  \n",
       "21                                    False  \n",
       "22                                    False  \n",
       "23                                    False  \n",
       "24                                    False  \n",
       "25                                    False  \n",
       "26                                    False  \n",
       "27                                    False  \n",
       "28                                    False  \n",
       "29                                    False  \n",
       "30                                    False  \n",
       "\n",
       "[31 rows x 25 columns]"
      ]
     },
     "execution_count": 97,
     "metadata": {},
     "output_type": "execute_result"
    }
   ],
   "source": [
    "te = TransactionEncoder()\n",
    "te_ary = te.fit(dataset).transform(dataset)\n",
    "df_encoded = pd.DataFrame(te_ary, columns=te.columns_)\n",
    "df_encoded"
   ]
  },
  {
   "cell_type": "code",
   "execution_count": 98,
   "metadata": {},
   "outputs": [
    {
     "data": {
      "text/html": [
       "<div>\n",
       "<style scoped>\n",
       "    .dataframe tbody tr th:only-of-type {\n",
       "        vertical-align: middle;\n",
       "    }\n",
       "\n",
       "    .dataframe tbody tr th {\n",
       "        vertical-align: top;\n",
       "    }\n",
       "\n",
       "    .dataframe thead th {\n",
       "        text-align: right;\n",
       "    }\n",
       "</style>\n",
       "<table border=\"1\" class=\"dataframe\">\n",
       "  <thead>\n",
       "    <tr style=\"text-align: right;\">\n",
       "      <th></th>\n",
       "      <th>support</th>\n",
       "      <th>itemsets</th>\n",
       "    </tr>\n",
       "  </thead>\n",
       "  <tbody>\n",
       "    <tr>\n",
       "      <th>0</th>\n",
       "      <td>0.451613</td>\n",
       "      <td>(Advanced Web Technologies)</td>\n",
       "    </tr>\n",
       "    <tr>\n",
       "      <th>1</th>\n",
       "      <td>0.548387</td>\n",
       "      <td>(Distributed Systems)</td>\n",
       "    </tr>\n",
       "    <tr>\n",
       "      <th>2</th>\n",
       "      <td>0.451613</td>\n",
       "      <td>(Information Retrieval)</td>\n",
       "    </tr>\n",
       "  </tbody>\n",
       "</table>\n",
       "</div>"
      ],
      "text/plain": [
       "    support                     itemsets\n",
       "0  0.451613  (Advanced Web Technologies)\n",
       "1  0.548387        (Distributed Systems)\n",
       "2  0.451613      (Information Retrieval)"
      ]
     },
     "execution_count": 98,
     "metadata": {},
     "output_type": "execute_result"
    }
   ],
   "source": [
    "from mlxtend.frequent_patterns import apriori\n",
    "\n",
    "apriori(df_encoded, min_support=0.45,use_colnames=True)"
   ]
  },
  {
   "cell_type": "code",
   "execution_count": 99,
   "metadata": {},
   "outputs": [
    {
     "name": "stdout",
     "output_type": "stream",
     "text": [
      "\r",
      "Processing 462 combinations | Sampling itemset size 2\r",
      "Processing 3228 combinations | Sampling itemset size 3\r",
      "Processing 7792 combinations | Sampling itemset size 4\r",
      "Processing 8960 combinations | Sampling itemset size 5\r",
      "Processing 6918 combinations | Sampling itemset size 6\r",
      "Processing 3213 combinations | Sampling itemset size 7\r",
      "Processing 1000 combinations | Sampling itemset size 8\r",
      "Processing 90 combinations | Sampling itemset size 9\r",
      "Processing 10 combinations | Sampling itemset size 10\n"
     ]
    },
    {
     "data": {
      "text/html": [
       "<div>\n",
       "<style scoped>\n",
       "    .dataframe tbody tr th:only-of-type {\n",
       "        vertical-align: middle;\n",
       "    }\n",
       "\n",
       "    .dataframe tbody tr th {\n",
       "        vertical-align: top;\n",
       "    }\n",
       "\n",
       "    .dataframe thead th {\n",
       "        text-align: right;\n",
       "    }\n",
       "</style>\n",
       "<table border=\"1\" class=\"dataframe\">\n",
       "  <thead>\n",
       "    <tr style=\"text-align: right;\">\n",
       "      <th></th>\n",
       "      <th>support</th>\n",
       "      <th>itemsets</th>\n",
       "      <th>length</th>\n",
       "    </tr>\n",
       "  </thead>\n",
       "  <tbody>\n",
       "    <tr>\n",
       "      <th>0</th>\n",
       "      <td>0.129032</td>\n",
       "      <td>(Advanced Image Synthesis)</td>\n",
       "      <td>1</td>\n",
       "    </tr>\n",
       "    <tr>\n",
       "      <th>1</th>\n",
       "      <td>0.451613</td>\n",
       "      <td>(Advanced Web Technologies)</td>\n",
       "      <td>1</td>\n",
       "    </tr>\n",
       "    <tr>\n",
       "      <th>2</th>\n",
       "      <td>0.225806</td>\n",
       "      <td>(Cloud Web &amp; Mobile)</td>\n",
       "      <td>1</td>\n",
       "    </tr>\n",
       "    <tr>\n",
       "      <th>3</th>\n",
       "      <td>0.129032</td>\n",
       "      <td>(Cognitive Robot Systems)</td>\n",
       "      <td>1</td>\n",
       "    </tr>\n",
       "    <tr>\n",
       "      <th>4</th>\n",
       "      <td>0.129032</td>\n",
       "      <td>(Computer Graphics)</td>\n",
       "      <td>1</td>\n",
       "    </tr>\n",
       "    <tr>\n",
       "      <th>5</th>\n",
       "      <td>0.161290</td>\n",
       "      <td>(Computer Robot Vision)</td>\n",
       "      <td>1</td>\n",
       "    </tr>\n",
       "    <tr>\n",
       "      <th>6</th>\n",
       "      <td>0.225806</td>\n",
       "      <td>(Development of Safe and Secure Software)</td>\n",
       "      <td>1</td>\n",
       "    </tr>\n",
       "    <tr>\n",
       "      <th>7</th>\n",
       "      <td>0.064516</td>\n",
       "      <td>(Digital Games Research)</td>\n",
       "      <td>1</td>\n",
       "    </tr>\n",
       "    <tr>\n",
       "      <th>8</th>\n",
       "      <td>0.548387</td>\n",
       "      <td>(Distributed Systems)</td>\n",
       "      <td>1</td>\n",
       "    </tr>\n",
       "    <tr>\n",
       "      <th>9</th>\n",
       "      <td>0.419355</td>\n",
       "      <td>(Electronic Communities and Social Networks)</td>\n",
       "      <td>1</td>\n",
       "    </tr>\n",
       "    <tr>\n",
       "      <th>10</th>\n",
       "      <td>0.290323</td>\n",
       "      <td>(Formal Specification of Software Systems)</td>\n",
       "      <td>1</td>\n",
       "    </tr>\n",
       "    <tr>\n",
       "      <th>11</th>\n",
       "      <td>0.290323</td>\n",
       "      <td>(Gestaltung interaktiver Lehr-/Lern-Systeme)</td>\n",
       "      <td>1</td>\n",
       "    </tr>\n",
       "    <tr>\n",
       "      <th>12</th>\n",
       "      <td>0.322581</td>\n",
       "      <td>(Information Engineering)</td>\n",
       "      <td>1</td>\n",
       "    </tr>\n",
       "    <tr>\n",
       "      <th>13</th>\n",
       "      <td>0.387097</td>\n",
       "      <td>(Information Mining)</td>\n",
       "      <td>1</td>\n",
       "    </tr>\n",
       "    <tr>\n",
       "      <th>14</th>\n",
       "      <td>0.451613</td>\n",
       "      <td>(Information Retrieval)</td>\n",
       "      <td>1</td>\n",
       "    </tr>\n",
       "    <tr>\n",
       "      <th>15</th>\n",
       "      <td>0.354839</td>\n",
       "      <td>(Interaktive Systeme)</td>\n",
       "      <td>1</td>\n",
       "    </tr>\n",
       "    <tr>\n",
       "      <th>16</th>\n",
       "      <td>0.387097</td>\n",
       "      <td>(Internet of Things- Protocols and System Soft...</td>\n",
       "      <td>1</td>\n",
       "    </tr>\n",
       "    <tr>\n",
       "      <th>17</th>\n",
       "      <td>0.225806</td>\n",
       "      <td>(Learning Analytics)</td>\n",
       "      <td>1</td>\n",
       "    </tr>\n",
       "    <tr>\n",
       "      <th>18</th>\n",
       "      <td>0.096774</td>\n",
       "      <td>(Neurocomputing and Organic Computing)</td>\n",
       "      <td>1</td>\n",
       "    </tr>\n",
       "    <tr>\n",
       "      <th>19</th>\n",
       "      <td>0.064516</td>\n",
       "      <td>(Pattern and Component based Software Developm...</td>\n",
       "      <td>1</td>\n",
       "    </tr>\n",
       "    <tr>\n",
       "      <th>20</th>\n",
       "      <td>0.354839</td>\n",
       "      <td>(Peer-to-Peer Systems)</td>\n",
       "      <td>1</td>\n",
       "    </tr>\n",
       "    <tr>\n",
       "      <th>21</th>\n",
       "      <td>0.258065</td>\n",
       "      <td>(Recommender Systems)</td>\n",
       "      <td>1</td>\n",
       "    </tr>\n",
       "    <tr>\n",
       "      <th>22</th>\n",
       "      <td>0.096774</td>\n",
       "      <td>(Advanced Web Technologies, Advanced Image Syn...</td>\n",
       "      <td>2</td>\n",
       "    </tr>\n",
       "    <tr>\n",
       "      <th>23</th>\n",
       "      <td>0.064516</td>\n",
       "      <td>(Advanced Image Synthesis, Cognitive Robot Sys...</td>\n",
       "      <td>2</td>\n",
       "    </tr>\n",
       "    <tr>\n",
       "      <th>24</th>\n",
       "      <td>0.064516</td>\n",
       "      <td>(Advanced Image Synthesis, Computer Graphics)</td>\n",
       "      <td>2</td>\n",
       "    </tr>\n",
       "    <tr>\n",
       "      <th>25</th>\n",
       "      <td>0.064516</td>\n",
       "      <td>(Advanced Image Synthesis, Computer Robot Vision)</td>\n",
       "      <td>2</td>\n",
       "    </tr>\n",
       "    <tr>\n",
       "      <th>26</th>\n",
       "      <td>0.064516</td>\n",
       "      <td>(Advanced Image Synthesis, Development of Safe...</td>\n",
       "      <td>2</td>\n",
       "    </tr>\n",
       "    <tr>\n",
       "      <th>27</th>\n",
       "      <td>0.064516</td>\n",
       "      <td>(Advanced Image Synthesis, Distributed Systems)</td>\n",
       "      <td>2</td>\n",
       "    </tr>\n",
       "    <tr>\n",
       "      <th>28</th>\n",
       "      <td>0.096774</td>\n",
       "      <td>(Advanced Image Synthesis, Information Retrieval)</td>\n",
       "      <td>2</td>\n",
       "    </tr>\n",
       "    <tr>\n",
       "      <th>29</th>\n",
       "      <td>0.096774</td>\n",
       "      <td>(Internet of Things- Protocols and System Soft...</td>\n",
       "      <td>2</td>\n",
       "    </tr>\n",
       "    <tr>\n",
       "      <th>...</th>\n",
       "      <td>...</td>\n",
       "      <td>...</td>\n",
       "      <td>...</td>\n",
       "    </tr>\n",
       "    <tr>\n",
       "      <th>1766</th>\n",
       "      <td>0.064516</td>\n",
       "      <td>(Interaktive Systeme, Information Retrieval, R...</td>\n",
       "      <td>8</td>\n",
       "    </tr>\n",
       "    <tr>\n",
       "      <th>1767</th>\n",
       "      <td>0.064516</td>\n",
       "      <td>(Information Engineering, Information Retrieva...</td>\n",
       "      <td>8</td>\n",
       "    </tr>\n",
       "    <tr>\n",
       "      <th>1768</th>\n",
       "      <td>0.064516</td>\n",
       "      <td>(Information Engineering, Information Retrieva...</td>\n",
       "      <td>8</td>\n",
       "    </tr>\n",
       "    <tr>\n",
       "      <th>1769</th>\n",
       "      <td>0.064516</td>\n",
       "      <td>(Information Engineering, Information Retrieva...</td>\n",
       "      <td>8</td>\n",
       "    </tr>\n",
       "    <tr>\n",
       "      <th>1770</th>\n",
       "      <td>0.064516</td>\n",
       "      <td>(Information Engineering, Information Retrieva...</td>\n",
       "      <td>8</td>\n",
       "    </tr>\n",
       "    <tr>\n",
       "      <th>1771</th>\n",
       "      <td>0.064516</td>\n",
       "      <td>(Information Engineering, Interaktive Systeme,...</td>\n",
       "      <td>8</td>\n",
       "    </tr>\n",
       "    <tr>\n",
       "      <th>1772</th>\n",
       "      <td>0.064516</td>\n",
       "      <td>(Information Engineering, Information Retrieva...</td>\n",
       "      <td>8</td>\n",
       "    </tr>\n",
       "    <tr>\n",
       "      <th>1773</th>\n",
       "      <td>0.064516</td>\n",
       "      <td>(Interaktive Systeme, Information Retrieval, R...</td>\n",
       "      <td>8</td>\n",
       "    </tr>\n",
       "    <tr>\n",
       "      <th>1774</th>\n",
       "      <td>0.064516</td>\n",
       "      <td>(Information Engineering, Information Retrieva...</td>\n",
       "      <td>8</td>\n",
       "    </tr>\n",
       "    <tr>\n",
       "      <th>1775</th>\n",
       "      <td>0.064516</td>\n",
       "      <td>(Information Engineering, Information Retrieva...</td>\n",
       "      <td>8</td>\n",
       "    </tr>\n",
       "    <tr>\n",
       "      <th>1776</th>\n",
       "      <td>0.064516</td>\n",
       "      <td>(Information Engineering, Information Retrieva...</td>\n",
       "      <td>8</td>\n",
       "    </tr>\n",
       "    <tr>\n",
       "      <th>1777</th>\n",
       "      <td>0.064516</td>\n",
       "      <td>(Information Engineering, Information Retrieva...</td>\n",
       "      <td>8</td>\n",
       "    </tr>\n",
       "    <tr>\n",
       "      <th>1778</th>\n",
       "      <td>0.064516</td>\n",
       "      <td>(Information Engineering, Information Retrieva...</td>\n",
       "      <td>8</td>\n",
       "    </tr>\n",
       "    <tr>\n",
       "      <th>1779</th>\n",
       "      <td>0.064516</td>\n",
       "      <td>(Information Engineering, Interaktive Systeme,...</td>\n",
       "      <td>8</td>\n",
       "    </tr>\n",
       "    <tr>\n",
       "      <th>1780</th>\n",
       "      <td>0.064516</td>\n",
       "      <td>(Information Engineering, Information Retrieva...</td>\n",
       "      <td>8</td>\n",
       "    </tr>\n",
       "    <tr>\n",
       "      <th>1781</th>\n",
       "      <td>0.064516</td>\n",
       "      <td>(Interaktive Systeme, Information Retrieval, R...</td>\n",
       "      <td>8</td>\n",
       "    </tr>\n",
       "    <tr>\n",
       "      <th>1782</th>\n",
       "      <td>0.064516</td>\n",
       "      <td>(Information Engineering, Information Retrieva...</td>\n",
       "      <td>8</td>\n",
       "    </tr>\n",
       "    <tr>\n",
       "      <th>1783</th>\n",
       "      <td>0.064516</td>\n",
       "      <td>(Information Engineering, Information Retrieva...</td>\n",
       "      <td>8</td>\n",
       "    </tr>\n",
       "    <tr>\n",
       "      <th>1784</th>\n",
       "      <td>0.064516</td>\n",
       "      <td>(Information Engineering, Information Retrieva...</td>\n",
       "      <td>8</td>\n",
       "    </tr>\n",
       "    <tr>\n",
       "      <th>1785</th>\n",
       "      <td>0.064516</td>\n",
       "      <td>(Information Engineering, Information Retrieva...</td>\n",
       "      <td>9</td>\n",
       "    </tr>\n",
       "    <tr>\n",
       "      <th>1786</th>\n",
       "      <td>0.064516</td>\n",
       "      <td>(Information Engineering, Information Retrieva...</td>\n",
       "      <td>9</td>\n",
       "    </tr>\n",
       "    <tr>\n",
       "      <th>1787</th>\n",
       "      <td>0.064516</td>\n",
       "      <td>(Information Engineering, Information Retrieva...</td>\n",
       "      <td>9</td>\n",
       "    </tr>\n",
       "    <tr>\n",
       "      <th>1788</th>\n",
       "      <td>0.064516</td>\n",
       "      <td>(Information Engineering, Interaktive Systeme,...</td>\n",
       "      <td>9</td>\n",
       "    </tr>\n",
       "    <tr>\n",
       "      <th>1789</th>\n",
       "      <td>0.064516</td>\n",
       "      <td>(Information Engineering, Information Retrieva...</td>\n",
       "      <td>9</td>\n",
       "    </tr>\n",
       "    <tr>\n",
       "      <th>1790</th>\n",
       "      <td>0.064516</td>\n",
       "      <td>(Interaktive Systeme, Information Retrieval, R...</td>\n",
       "      <td>9</td>\n",
       "    </tr>\n",
       "    <tr>\n",
       "      <th>1791</th>\n",
       "      <td>0.064516</td>\n",
       "      <td>(Information Engineering, Information Retrieva...</td>\n",
       "      <td>9</td>\n",
       "    </tr>\n",
       "    <tr>\n",
       "      <th>1792</th>\n",
       "      <td>0.064516</td>\n",
       "      <td>(Information Engineering, Information Retrieva...</td>\n",
       "      <td>9</td>\n",
       "    </tr>\n",
       "    <tr>\n",
       "      <th>1793</th>\n",
       "      <td>0.064516</td>\n",
       "      <td>(Information Engineering, Information Retrieva...</td>\n",
       "      <td>9</td>\n",
       "    </tr>\n",
       "    <tr>\n",
       "      <th>1794</th>\n",
       "      <td>0.064516</td>\n",
       "      <td>(Information Engineering, Information Retrieva...</td>\n",
       "      <td>9</td>\n",
       "    </tr>\n",
       "    <tr>\n",
       "      <th>1795</th>\n",
       "      <td>0.064516</td>\n",
       "      <td>(Information Engineering, Information Retrieva...</td>\n",
       "      <td>10</td>\n",
       "    </tr>\n",
       "  </tbody>\n",
       "</table>\n",
       "<p>1796 rows × 3 columns</p>\n",
       "</div>"
      ],
      "text/plain": [
       "       support                                           itemsets  length\n",
       "0     0.129032                         (Advanced Image Synthesis)       1\n",
       "1     0.451613                        (Advanced Web Technologies)       1\n",
       "2     0.225806                               (Cloud Web & Mobile)       1\n",
       "3     0.129032                          (Cognitive Robot Systems)       1\n",
       "4     0.129032                                (Computer Graphics)       1\n",
       "5     0.161290                            (Computer Robot Vision)       1\n",
       "6     0.225806          (Development of Safe and Secure Software)       1\n",
       "7     0.064516                           (Digital Games Research)       1\n",
       "8     0.548387                              (Distributed Systems)       1\n",
       "9     0.419355       (Electronic Communities and Social Networks)       1\n",
       "10    0.290323         (Formal Specification of Software Systems)       1\n",
       "11    0.290323       (Gestaltung interaktiver Lehr-/Lern-Systeme)       1\n",
       "12    0.322581                          (Information Engineering)       1\n",
       "13    0.387097                               (Information Mining)       1\n",
       "14    0.451613                            (Information Retrieval)       1\n",
       "15    0.354839                              (Interaktive Systeme)       1\n",
       "16    0.387097  (Internet of Things- Protocols and System Soft...       1\n",
       "17    0.225806                               (Learning Analytics)       1\n",
       "18    0.096774             (Neurocomputing and Organic Computing)       1\n",
       "19    0.064516  (Pattern and Component based Software Developm...       1\n",
       "20    0.354839                             (Peer-to-Peer Systems)       1\n",
       "21    0.258065                              (Recommender Systems)       1\n",
       "22    0.096774  (Advanced Web Technologies, Advanced Image Syn...       2\n",
       "23    0.064516  (Advanced Image Synthesis, Cognitive Robot Sys...       2\n",
       "24    0.064516      (Advanced Image Synthesis, Computer Graphics)       2\n",
       "25    0.064516  (Advanced Image Synthesis, Computer Robot Vision)       2\n",
       "26    0.064516  (Advanced Image Synthesis, Development of Safe...       2\n",
       "27    0.064516    (Advanced Image Synthesis, Distributed Systems)       2\n",
       "28    0.096774  (Advanced Image Synthesis, Information Retrieval)       2\n",
       "29    0.096774  (Internet of Things- Protocols and System Soft...       2\n",
       "...        ...                                                ...     ...\n",
       "1766  0.064516  (Interaktive Systeme, Information Retrieval, R...       8\n",
       "1767  0.064516  (Information Engineering, Information Retrieva...       8\n",
       "1768  0.064516  (Information Engineering, Information Retrieva...       8\n",
       "1769  0.064516  (Information Engineering, Information Retrieva...       8\n",
       "1770  0.064516  (Information Engineering, Information Retrieva...       8\n",
       "1771  0.064516  (Information Engineering, Interaktive Systeme,...       8\n",
       "1772  0.064516  (Information Engineering, Information Retrieva...       8\n",
       "1773  0.064516  (Interaktive Systeme, Information Retrieval, R...       8\n",
       "1774  0.064516  (Information Engineering, Information Retrieva...       8\n",
       "1775  0.064516  (Information Engineering, Information Retrieva...       8\n",
       "1776  0.064516  (Information Engineering, Information Retrieva...       8\n",
       "1777  0.064516  (Information Engineering, Information Retrieva...       8\n",
       "1778  0.064516  (Information Engineering, Information Retrieva...       8\n",
       "1779  0.064516  (Information Engineering, Interaktive Systeme,...       8\n",
       "1780  0.064516  (Information Engineering, Information Retrieva...       8\n",
       "1781  0.064516  (Interaktive Systeme, Information Retrieval, R...       8\n",
       "1782  0.064516  (Information Engineering, Information Retrieva...       8\n",
       "1783  0.064516  (Information Engineering, Information Retrieva...       8\n",
       "1784  0.064516  (Information Engineering, Information Retrieva...       8\n",
       "1785  0.064516  (Information Engineering, Information Retrieva...       9\n",
       "1786  0.064516  (Information Engineering, Information Retrieva...       9\n",
       "1787  0.064516  (Information Engineering, Information Retrieva...       9\n",
       "1788  0.064516  (Information Engineering, Interaktive Systeme,...       9\n",
       "1789  0.064516  (Information Engineering, Information Retrieva...       9\n",
       "1790  0.064516  (Interaktive Systeme, Information Retrieval, R...       9\n",
       "1791  0.064516  (Information Engineering, Information Retrieva...       9\n",
       "1792  0.064516  (Information Engineering, Information Retrieva...       9\n",
       "1793  0.064516  (Information Engineering, Information Retrieva...       9\n",
       "1794  0.064516  (Information Engineering, Information Retrieva...       9\n",
       "1795  0.064516  (Information Engineering, Information Retrieva...      10\n",
       "\n",
       "[1796 rows x 3 columns]"
      ]
     },
     "execution_count": 99,
     "metadata": {},
     "output_type": "execute_result"
    }
   ],
   "source": [
    "frequent_itemsets = apriori(df_encoded, min_support=0.05, use_colnames=True,verbose=1)\n",
    "frequent_itemsets['length'] = frequent_itemsets['itemsets'].apply(lambda x: len(x))\n",
    "frequent_itemsets"
   ]
  },
  {
   "cell_type": "code",
   "execution_count": 100,
   "metadata": {},
   "outputs": [],
   "source": [
    "from mlxtend.frequent_patterns import association_rules\n",
    "\n",
    "rules=association_rules(frequent_itemsets,metric=\"confidence\",min_threshold=0.1)"
   ]
  },
  {
   "cell_type": "code",
   "execution_count": 101,
   "metadata": {},
   "outputs": [
    {
     "data": {
      "text/html": [
       "<div>\n",
       "<style scoped>\n",
       "    .dataframe tbody tr th:only-of-type {\n",
       "        vertical-align: middle;\n",
       "    }\n",
       "\n",
       "    .dataframe tbody tr th {\n",
       "        vertical-align: top;\n",
       "    }\n",
       "\n",
       "    .dataframe thead th {\n",
       "        text-align: right;\n",
       "    }\n",
       "</style>\n",
       "<table border=\"1\" class=\"dataframe\">\n",
       "  <thead>\n",
       "    <tr style=\"text-align: right;\">\n",
       "      <th></th>\n",
       "      <th>antecedents</th>\n",
       "      <th>consequents</th>\n",
       "      <th>antecedent support</th>\n",
       "      <th>consequent support</th>\n",
       "      <th>support</th>\n",
       "      <th>confidence</th>\n",
       "      <th>lift</th>\n",
       "      <th>leverage</th>\n",
       "      <th>conviction</th>\n",
       "    </tr>\n",
       "  </thead>\n",
       "  <tbody>\n",
       "    <tr>\n",
       "      <th>0</th>\n",
       "      <td>(Advanced Web Technologies)</td>\n",
       "      <td>(Advanced Image Synthesis)</td>\n",
       "      <td>0.451613</td>\n",
       "      <td>0.129032</td>\n",
       "      <td>0.096774</td>\n",
       "      <td>0.214286</td>\n",
       "      <td>1.660714</td>\n",
       "      <td>0.038502</td>\n",
       "      <td>1.108504</td>\n",
       "    </tr>\n",
       "    <tr>\n",
       "      <th>1</th>\n",
       "      <td>(Advanced Image Synthesis)</td>\n",
       "      <td>(Advanced Web Technologies)</td>\n",
       "      <td>0.129032</td>\n",
       "      <td>0.451613</td>\n",
       "      <td>0.096774</td>\n",
       "      <td>0.750000</td>\n",
       "      <td>1.660714</td>\n",
       "      <td>0.038502</td>\n",
       "      <td>2.193548</td>\n",
       "    </tr>\n",
       "    <tr>\n",
       "      <th>2</th>\n",
       "      <td>(Advanced Image Synthesis)</td>\n",
       "      <td>(Cognitive Robot Systems)</td>\n",
       "      <td>0.129032</td>\n",
       "      <td>0.129032</td>\n",
       "      <td>0.064516</td>\n",
       "      <td>0.500000</td>\n",
       "      <td>3.875000</td>\n",
       "      <td>0.047867</td>\n",
       "      <td>1.741935</td>\n",
       "    </tr>\n",
       "    <tr>\n",
       "      <th>3</th>\n",
       "      <td>(Cognitive Robot Systems)</td>\n",
       "      <td>(Advanced Image Synthesis)</td>\n",
       "      <td>0.129032</td>\n",
       "      <td>0.129032</td>\n",
       "      <td>0.064516</td>\n",
       "      <td>0.500000</td>\n",
       "      <td>3.875000</td>\n",
       "      <td>0.047867</td>\n",
       "      <td>1.741935</td>\n",
       "    </tr>\n",
       "    <tr>\n",
       "      <th>4</th>\n",
       "      <td>(Advanced Image Synthesis)</td>\n",
       "      <td>(Computer Graphics)</td>\n",
       "      <td>0.129032</td>\n",
       "      <td>0.129032</td>\n",
       "      <td>0.064516</td>\n",
       "      <td>0.500000</td>\n",
       "      <td>3.875000</td>\n",
       "      <td>0.047867</td>\n",
       "      <td>1.741935</td>\n",
       "    </tr>\n",
       "  </tbody>\n",
       "</table>\n",
       "</div>"
      ],
      "text/plain": [
       "                   antecedents                  consequents  \\\n",
       "0  (Advanced Web Technologies)   (Advanced Image Synthesis)   \n",
       "1   (Advanced Image Synthesis)  (Advanced Web Technologies)   \n",
       "2   (Advanced Image Synthesis)    (Cognitive Robot Systems)   \n",
       "3    (Cognitive Robot Systems)   (Advanced Image Synthesis)   \n",
       "4   (Advanced Image Synthesis)          (Computer Graphics)   \n",
       "\n",
       "   antecedent support  consequent support   support  confidence      lift  \\\n",
       "0            0.451613            0.129032  0.096774    0.214286  1.660714   \n",
       "1            0.129032            0.451613  0.096774    0.750000  1.660714   \n",
       "2            0.129032            0.129032  0.064516    0.500000  3.875000   \n",
       "3            0.129032            0.129032  0.064516    0.500000  3.875000   \n",
       "4            0.129032            0.129032  0.064516    0.500000  3.875000   \n",
       "\n",
       "   leverage  conviction  \n",
       "0  0.038502    1.108504  \n",
       "1  0.038502    2.193548  \n",
       "2  0.047867    1.741935  \n",
       "3  0.047867    1.741935  \n",
       "4  0.047867    1.741935  "
      ]
     },
     "execution_count": 101,
     "metadata": {},
     "output_type": "execute_result"
    }
   ],
   "source": [
    "rules.head()"
   ]
  },
  {
   "cell_type": "code",
   "execution_count": 102,
   "metadata": {},
   "outputs": [
    {
     "data": {
      "text/plain": [
       "(68160, 9)"
      ]
     },
     "execution_count": 102,
     "metadata": {},
     "output_type": "execute_result"
    }
   ],
   "source": [
    "rules.shape"
   ]
  },
  {
   "cell_type": "code",
   "execution_count": 103,
   "metadata": {},
   "outputs": [],
   "source": [
    "l=[]\n",
    "for i,j in zip(range(0,len(rules.iloc[:,0])),range(0,len(rules.iloc[:,1]))):\n",
    "    itemset = set(rules.iloc[i,0]) | set(rules.iloc[i,1])\n",
    "    l.append(tuple(itemset))"
   ]
  },
  {
   "cell_type": "code",
   "execution_count": 104,
   "metadata": {},
   "outputs": [
    {
     "data": {
      "text/plain": [
       "68160"
      ]
     },
     "execution_count": 104,
     "metadata": {},
     "output_type": "execute_result"
    }
   ],
   "source": [
    "len(l)"
   ]
  },
  {
   "cell_type": "code",
   "execution_count": 105,
   "metadata": {},
   "outputs": [],
   "source": [
    "import functools\n",
    "def reduce_concat(x, sep=\"\"):\n",
    "    return functools.reduce(lambda x, y: str(x) + sep + str(y), x)\n",
    "\n",
    "def paste(*lists, sep=\" \", collapse=None):\n",
    "    result = map(lambda x: reduce_concat(x, sep=sep), zip(*lists))\n",
    "    if collapse is not None:\n",
    "        return reduce_concat(result, sep=collapse)\n",
    "    return list(result)"
   ]
  },
  {
   "cell_type": "code",
   "execution_count": 106,
   "metadata": {},
   "outputs": [],
   "source": [
    "antecedents=[]\n",
    "for i in range(0,len(rules.iloc[:,0])):\n",
    "    antecedents.append(list(rules.iloc[i,0]))"
   ]
  },
  {
   "cell_type": "code",
   "execution_count": 107,
   "metadata": {},
   "outputs": [],
   "source": [
    "consequents=[]\n",
    "for i in range(0,len(rules.iloc[:,1])):\n",
    "    consequents.append(list(rules.iloc[i,1]))"
   ]
  },
  {
   "cell_type": "code",
   "execution_count": 108,
   "metadata": {},
   "outputs": [],
   "source": [
    "list_join=paste(antecedents, consequents, sep=',')"
   ]
  },
  {
   "cell_type": "code",
   "execution_count": 109,
   "metadata": {},
   "outputs": [],
   "source": [
    "df_join=pd.DataFrame(list_join)"
   ]
  },
  {
   "cell_type": "code",
   "execution_count": 110,
   "metadata": {},
   "outputs": [],
   "source": [
    "halfjoins=df_join[0].str.replace('[','')"
   ]
  },
  {
   "cell_type": "code",
   "execution_count": 111,
   "metadata": {},
   "outputs": [],
   "source": [
    "ohnequote=halfjoins.str.replace(']','')"
   ]
  },
  {
   "cell_type": "code",
   "execution_count": 112,
   "metadata": {},
   "outputs": [],
   "source": [
    "finalentry=ohnequote.str.replace(\"'\",\"\")"
   ]
  },
  {
   "cell_type": "code",
   "execution_count": 113,
   "metadata": {},
   "outputs": [],
   "source": [
    "newrules=rules.assign(itemsets=finalentry)"
   ]
  },
  {
   "cell_type": "code",
   "execution_count": null,
   "metadata": {},
   "outputs": [],
   "source": []
  },
  {
   "cell_type": "code",
   "execution_count": 485,
   "metadata": {},
   "outputs": [],
   "source": [
    "max_support=newrules_up[newrules_up['support']==max(newrules_up['support'])]"
   ]
  },
  {
   "cell_type": "code",
   "execution_count": 486,
   "metadata": {},
   "outputs": [],
   "source": [
    "df_max_support=max_support[['support','confidence','itemsets1']]"
   ]
  },
  {
   "cell_type": "code",
   "execution_count": 487,
   "metadata": {},
   "outputs": [
    {
     "data": {
      "text/html": [
       "<div>\n",
       "<style scoped>\n",
       "    .dataframe tbody tr th:only-of-type {\n",
       "        vertical-align: middle;\n",
       "    }\n",
       "\n",
       "    .dataframe tbody tr th {\n",
       "        vertical-align: top;\n",
       "    }\n",
       "\n",
       "    .dataframe thead th {\n",
       "        text-align: right;\n",
       "    }\n",
       "</style>\n",
       "<table border=\"1\" class=\"dataframe\">\n",
       "  <thead>\n",
       "    <tr style=\"text-align: right;\">\n",
       "      <th></th>\n",
       "      <th>support</th>\n",
       "      <th>confidence</th>\n",
       "      <th>itemsets1</th>\n",
       "    </tr>\n",
       "  </thead>\n",
       "  <tbody>\n",
       "    <tr>\n",
       "      <th>154</th>\n",
       "      <td>0.290323</td>\n",
       "      <td>0.692308</td>\n",
       "      <td>(Electronic Communities and Social Networks,Di...</td>\n",
       "    </tr>\n",
       "    <tr>\n",
       "      <th>155</th>\n",
       "      <td>0.290323</td>\n",
       "      <td>0.529412</td>\n",
       "      <td>(Distributed Systems,Electronic Communities an...</td>\n",
       "    </tr>\n",
       "    <tr>\n",
       "      <th>164</th>\n",
       "      <td>0.290323</td>\n",
       "      <td>0.642857</td>\n",
       "      <td>(Information Retrieval,Distributed Systems,)</td>\n",
       "    </tr>\n",
       "    <tr>\n",
       "      <th>165</th>\n",
       "      <td>0.290323</td>\n",
       "      <td>0.529412</td>\n",
       "      <td>(Distributed Systems,Information Retrieval,)</td>\n",
       "    </tr>\n",
       "    <tr>\n",
       "      <th>168</th>\n",
       "      <td>0.290323</td>\n",
       "      <td>0.750000</td>\n",
       "      <td>(Internet of Things- Protocols and System Soft...</td>\n",
       "    </tr>\n",
       "    <tr>\n",
       "      <th>169</th>\n",
       "      <td>0.290323</td>\n",
       "      <td>0.529412</td>\n",
       "      <td>(Distributed Systems,Internet of Things- Proto...</td>\n",
       "    </tr>\n",
       "    <tr>\n",
       "      <th>174</th>\n",
       "      <td>0.290323</td>\n",
       "      <td>0.818182</td>\n",
       "      <td>(Peer-to-Peer Systems,Distributed Systems,)</td>\n",
       "    </tr>\n",
       "    <tr>\n",
       "      <th>175</th>\n",
       "      <td>0.290323</td>\n",
       "      <td>0.529412</td>\n",
       "      <td>(Distributed Systems,Peer-to-Peer Systems,)</td>\n",
       "    </tr>\n",
       "    <tr>\n",
       "      <th>236</th>\n",
       "      <td>0.290323</td>\n",
       "      <td>0.900000</td>\n",
       "      <td>(Information Engineering,Information Retrieval,)</td>\n",
       "    </tr>\n",
       "    <tr>\n",
       "      <th>237</th>\n",
       "      <td>0.290323</td>\n",
       "      <td>0.642857</td>\n",
       "      <td>(Information Retrieval,Information Engineering,)</td>\n",
       "    </tr>\n",
       "  </tbody>\n",
       "</table>\n",
       "</div>"
      ],
      "text/plain": [
       "      support  confidence                                          itemsets1\n",
       "154  0.290323    0.692308  (Electronic Communities and Social Networks,Di...\n",
       "155  0.290323    0.529412  (Distributed Systems,Electronic Communities an...\n",
       "164  0.290323    0.642857       (Information Retrieval,Distributed Systems,)\n",
       "165  0.290323    0.529412       (Distributed Systems,Information Retrieval,)\n",
       "168  0.290323    0.750000  (Internet of Things- Protocols and System Soft...\n",
       "169  0.290323    0.529412  (Distributed Systems,Internet of Things- Proto...\n",
       "174  0.290323    0.818182        (Peer-to-Peer Systems,Distributed Systems,)\n",
       "175  0.290323    0.529412        (Distributed Systems,Peer-to-Peer Systems,)\n",
       "236  0.290323    0.900000   (Information Engineering,Information Retrieval,)\n",
       "237  0.290323    0.642857   (Information Retrieval,Information Engineering,)"
      ]
     },
     "execution_count": 487,
     "metadata": {},
     "output_type": "execute_result"
    }
   ],
   "source": [
    "df_max_support.head(10)"
   ]
  },
  {
   "cell_type": "code",
   "execution_count": 488,
   "metadata": {},
   "outputs": [],
   "source": [
    "##itemsets with high confidence\n",
    "table_freqsets = ff.create_table(df_max_support)"
   ]
  },
  {
   "cell_type": "code",
   "execution_count": 115,
   "metadata": {},
   "outputs": [],
   "source": [
    "l1=[]\n",
    "for val in newrules['itemsets']:\n",
    "    l1.append((val,))"
   ]
  },
  {
   "cell_type": "code",
   "execution_count": 116,
   "metadata": {},
   "outputs": [],
   "source": [
    "newrules_up=newrules.assign(itemsets1=l1,inplace=True)"
   ]
  },
  {
   "cell_type": "code",
   "execution_count": 117,
   "metadata": {},
   "outputs": [],
   "source": [
    "newrules_up.drop(['itemsets'],axis=1,inplace=True)"
   ]
  },
  {
   "cell_type": "code",
   "execution_count": 118,
   "metadata": {},
   "outputs": [
    {
     "data": {
      "text/html": [
       "<div>\n",
       "<style scoped>\n",
       "    .dataframe tbody tr th:only-of-type {\n",
       "        vertical-align: middle;\n",
       "    }\n",
       "\n",
       "    .dataframe tbody tr th {\n",
       "        vertical-align: top;\n",
       "    }\n",
       "\n",
       "    .dataframe thead th {\n",
       "        text-align: right;\n",
       "    }\n",
       "</style>\n",
       "<table border=\"1\" class=\"dataframe\">\n",
       "  <thead>\n",
       "    <tr style=\"text-align: right;\">\n",
       "      <th></th>\n",
       "      <th>antecedents</th>\n",
       "      <th>consequents</th>\n",
       "      <th>antecedent support</th>\n",
       "      <th>consequent support</th>\n",
       "      <th>support</th>\n",
       "      <th>confidence</th>\n",
       "      <th>lift</th>\n",
       "      <th>leverage</th>\n",
       "      <th>conviction</th>\n",
       "      <th>itemsets1</th>\n",
       "      <th>inplace</th>\n",
       "    </tr>\n",
       "  </thead>\n",
       "  <tbody>\n",
       "    <tr>\n",
       "      <th>0</th>\n",
       "      <td>(Advanced Web Technologies)</td>\n",
       "      <td>(Advanced Image Synthesis)</td>\n",
       "      <td>0.451613</td>\n",
       "      <td>0.129032</td>\n",
       "      <td>0.096774</td>\n",
       "      <td>0.214286</td>\n",
       "      <td>1.660714</td>\n",
       "      <td>0.038502</td>\n",
       "      <td>1.108504</td>\n",
       "      <td>(Advanced Web Technologies,Advanced Image Synt...</td>\n",
       "      <td>True</td>\n",
       "    </tr>\n",
       "    <tr>\n",
       "      <th>1</th>\n",
       "      <td>(Advanced Image Synthesis)</td>\n",
       "      <td>(Advanced Web Technologies)</td>\n",
       "      <td>0.129032</td>\n",
       "      <td>0.451613</td>\n",
       "      <td>0.096774</td>\n",
       "      <td>0.750000</td>\n",
       "      <td>1.660714</td>\n",
       "      <td>0.038502</td>\n",
       "      <td>2.193548</td>\n",
       "      <td>(Advanced Image Synthesis,Advanced Web Technol...</td>\n",
       "      <td>True</td>\n",
       "    </tr>\n",
       "  </tbody>\n",
       "</table>\n",
       "</div>"
      ],
      "text/plain": [
       "                   antecedents                  consequents  \\\n",
       "0  (Advanced Web Technologies)   (Advanced Image Synthesis)   \n",
       "1   (Advanced Image Synthesis)  (Advanced Web Technologies)   \n",
       "\n",
       "   antecedent support  consequent support   support  confidence      lift  \\\n",
       "0            0.451613            0.129032  0.096774    0.214286  1.660714   \n",
       "1            0.129032            0.451613  0.096774    0.750000  1.660714   \n",
       "\n",
       "   leverage  conviction                                          itemsets1  \\\n",
       "0  0.038502    1.108504  (Advanced Web Technologies,Advanced Image Synt...   \n",
       "1  0.038502    2.193548  (Advanced Image Synthesis,Advanced Web Technol...   \n",
       "\n",
       "   inplace  \n",
       "0     True  \n",
       "1     True  "
      ]
     },
     "execution_count": 118,
     "metadata": {},
     "output_type": "execute_result"
    }
   ],
   "source": [
    "newrules_up.head(2)"
   ]
  },
  {
   "cell_type": "code",
   "execution_count": 125,
   "metadata": {},
   "outputs": [],
   "source": [
    "li_suco=[]"
   ]
  },
  {
   "cell_type": "code",
   "execution_count": 126,
   "metadata": {},
   "outputs": [],
   "source": [
    "df_rec=dfrslt_nan"
   ]
  },
  {
   "cell_type": "code",
   "execution_count": 127,
   "metadata": {},
   "outputs": [],
   "source": [
    "s=df_rec['sub'].astype('category')"
   ]
  },
  {
   "cell_type": "code",
   "execution_count": 128,
   "metadata": {},
   "outputs": [],
   "source": [
    "grade=df_rec['grade'].astype('category')"
   ]
  },
  {
   "cell_type": "code",
   "execution_count": 129,
   "metadata": {},
   "outputs": [],
   "source": [
    "df_rec=df_rec.fillna(0)"
   ]
  },
  {
   "cell_type": "code",
   "execution_count": 130,
   "metadata": {},
   "outputs": [],
   "source": [
    "df_rec['rating']=df_rec['rating'].astype(int)"
   ]
  },
  {
   "cell_type": "code",
   "execution_count": 131,
   "metadata": {},
   "outputs": [],
   "source": [
    "df_rec['course id']=s.cat.codes"
   ]
  },
  {
   "cell_type": "code",
   "execution_count": 132,
   "metadata": {},
   "outputs": [],
   "source": [
    "df_rec['grade_codes']=grade.cat.codes"
   ]
  },
  {
   "cell_type": "code",
   "execution_count": 133,
   "metadata": {},
   "outputs": [
    {
     "data": {
      "text/html": [
       "<div>\n",
       "<style scoped>\n",
       "    .dataframe tbody tr th:only-of-type {\n",
       "        vertical-align: middle;\n",
       "    }\n",
       "\n",
       "    .dataframe tbody tr th {\n",
       "        vertical-align: top;\n",
       "    }\n",
       "\n",
       "    .dataframe thead th {\n",
       "        text-align: right;\n",
       "    }\n",
       "</style>\n",
       "<table border=\"1\" class=\"dataframe\">\n",
       "  <thead>\n",
       "    <tr style=\"text-align: right;\">\n",
       "      <th></th>\n",
       "      <th>grade</th>\n",
       "      <th>grade_codes</th>\n",
       "    </tr>\n",
       "  </thead>\n",
       "  <tbody>\n",
       "    <tr>\n",
       "      <th>0</th>\n",
       "      <td>B</td>\n",
       "      <td>1</td>\n",
       "    </tr>\n",
       "    <tr>\n",
       "      <th>1</th>\n",
       "      <td>B</td>\n",
       "      <td>1</td>\n",
       "    </tr>\n",
       "    <tr>\n",
       "      <th>6</th>\n",
       "      <td>C</td>\n",
       "      <td>2</td>\n",
       "    </tr>\n",
       "    <tr>\n",
       "      <th>8</th>\n",
       "      <td>C</td>\n",
       "      <td>2</td>\n",
       "    </tr>\n",
       "    <tr>\n",
       "      <th>16</th>\n",
       "      <td>B</td>\n",
       "      <td>1</td>\n",
       "    </tr>\n",
       "    <tr>\n",
       "      <th>20</th>\n",
       "      <td>B</td>\n",
       "      <td>1</td>\n",
       "    </tr>\n",
       "    <tr>\n",
       "      <th>27</th>\n",
       "      <td>C</td>\n",
       "      <td>2</td>\n",
       "    </tr>\n",
       "    <tr>\n",
       "      <th>32</th>\n",
       "      <td>B</td>\n",
       "      <td>1</td>\n",
       "    </tr>\n",
       "    <tr>\n",
       "      <th>33</th>\n",
       "      <td>C</td>\n",
       "      <td>2</td>\n",
       "    </tr>\n",
       "    <tr>\n",
       "      <th>34</th>\n",
       "      <td>C</td>\n",
       "      <td>2</td>\n",
       "    </tr>\n",
       "    <tr>\n",
       "      <th>37</th>\n",
       "      <td>B</td>\n",
       "      <td>1</td>\n",
       "    </tr>\n",
       "    <tr>\n",
       "      <th>39</th>\n",
       "      <td>C</td>\n",
       "      <td>2</td>\n",
       "    </tr>\n",
       "    <tr>\n",
       "      <th>40</th>\n",
       "      <td>D</td>\n",
       "      <td>3</td>\n",
       "    </tr>\n",
       "    <tr>\n",
       "      <th>44</th>\n",
       "      <td>B</td>\n",
       "      <td>1</td>\n",
       "    </tr>\n",
       "    <tr>\n",
       "      <th>45</th>\n",
       "      <td>C</td>\n",
       "      <td>2</td>\n",
       "    </tr>\n",
       "    <tr>\n",
       "      <th>47</th>\n",
       "      <td>C</td>\n",
       "      <td>2</td>\n",
       "    </tr>\n",
       "    <tr>\n",
       "      <th>51</th>\n",
       "      <td>B</td>\n",
       "      <td>1</td>\n",
       "    </tr>\n",
       "    <tr>\n",
       "      <th>58</th>\n",
       "      <td>B</td>\n",
       "      <td>1</td>\n",
       "    </tr>\n",
       "    <tr>\n",
       "      <th>70</th>\n",
       "      <td>D</td>\n",
       "      <td>3</td>\n",
       "    </tr>\n",
       "    <tr>\n",
       "      <th>71</th>\n",
       "      <td>C</td>\n",
       "      <td>2</td>\n",
       "    </tr>\n",
       "    <tr>\n",
       "      <th>73</th>\n",
       "      <td>E</td>\n",
       "      <td>4</td>\n",
       "    </tr>\n",
       "    <tr>\n",
       "      <th>75</th>\n",
       "      <td>D</td>\n",
       "      <td>3</td>\n",
       "    </tr>\n",
       "    <tr>\n",
       "      <th>76</th>\n",
       "      <td>D</td>\n",
       "      <td>3</td>\n",
       "    </tr>\n",
       "    <tr>\n",
       "      <th>77</th>\n",
       "      <td>D</td>\n",
       "      <td>3</td>\n",
       "    </tr>\n",
       "    <tr>\n",
       "      <th>78</th>\n",
       "      <td>C</td>\n",
       "      <td>2</td>\n",
       "    </tr>\n",
       "    <tr>\n",
       "      <th>79</th>\n",
       "      <td>A</td>\n",
       "      <td>0</td>\n",
       "    </tr>\n",
       "    <tr>\n",
       "      <th>80</th>\n",
       "      <td>D</td>\n",
       "      <td>3</td>\n",
       "    </tr>\n",
       "    <tr>\n",
       "      <th>82</th>\n",
       "      <td>0</td>\n",
       "      <td>-1</td>\n",
       "    </tr>\n",
       "    <tr>\n",
       "      <th>90</th>\n",
       "      <td>D</td>\n",
       "      <td>3</td>\n",
       "    </tr>\n",
       "    <tr>\n",
       "      <th>101</th>\n",
       "      <td>D</td>\n",
       "      <td>3</td>\n",
       "    </tr>\n",
       "    <tr>\n",
       "      <th>...</th>\n",
       "      <td>...</td>\n",
       "      <td>...</td>\n",
       "    </tr>\n",
       "    <tr>\n",
       "      <th>799</th>\n",
       "      <td>B</td>\n",
       "      <td>1</td>\n",
       "    </tr>\n",
       "    <tr>\n",
       "      <th>803</th>\n",
       "      <td>B</td>\n",
       "      <td>1</td>\n",
       "    </tr>\n",
       "    <tr>\n",
       "      <th>807</th>\n",
       "      <td>B</td>\n",
       "      <td>1</td>\n",
       "    </tr>\n",
       "    <tr>\n",
       "      <th>812</th>\n",
       "      <td>F</td>\n",
       "      <td>5</td>\n",
       "    </tr>\n",
       "    <tr>\n",
       "      <th>815</th>\n",
       "      <td>F</td>\n",
       "      <td>5</td>\n",
       "    </tr>\n",
       "    <tr>\n",
       "      <th>819</th>\n",
       "      <td>B</td>\n",
       "      <td>1</td>\n",
       "    </tr>\n",
       "    <tr>\n",
       "      <th>822</th>\n",
       "      <td>B</td>\n",
       "      <td>1</td>\n",
       "    </tr>\n",
       "    <tr>\n",
       "      <th>824</th>\n",
       "      <td>B</td>\n",
       "      <td>1</td>\n",
       "    </tr>\n",
       "    <tr>\n",
       "      <th>838</th>\n",
       "      <td>B</td>\n",
       "      <td>1</td>\n",
       "    </tr>\n",
       "    <tr>\n",
       "      <th>869</th>\n",
       "      <td>D</td>\n",
       "      <td>3</td>\n",
       "    </tr>\n",
       "    <tr>\n",
       "      <th>895</th>\n",
       "      <td>D</td>\n",
       "      <td>3</td>\n",
       "    </tr>\n",
       "    <tr>\n",
       "      <th>903</th>\n",
       "      <td>D</td>\n",
       "      <td>3</td>\n",
       "    </tr>\n",
       "    <tr>\n",
       "      <th>907</th>\n",
       "      <td>D</td>\n",
       "      <td>3</td>\n",
       "    </tr>\n",
       "    <tr>\n",
       "      <th>908</th>\n",
       "      <td>B</td>\n",
       "      <td>1</td>\n",
       "    </tr>\n",
       "    <tr>\n",
       "      <th>910</th>\n",
       "      <td>E</td>\n",
       "      <td>4</td>\n",
       "    </tr>\n",
       "    <tr>\n",
       "      <th>912</th>\n",
       "      <td>D</td>\n",
       "      <td>3</td>\n",
       "    </tr>\n",
       "    <tr>\n",
       "      <th>913</th>\n",
       "      <td>D</td>\n",
       "      <td>3</td>\n",
       "    </tr>\n",
       "    <tr>\n",
       "      <th>914</th>\n",
       "      <td>D</td>\n",
       "      <td>3</td>\n",
       "    </tr>\n",
       "    <tr>\n",
       "      <th>915</th>\n",
       "      <td>B</td>\n",
       "      <td>1</td>\n",
       "    </tr>\n",
       "    <tr>\n",
       "      <th>916</th>\n",
       "      <td>A</td>\n",
       "      <td>0</td>\n",
       "    </tr>\n",
       "    <tr>\n",
       "      <th>917</th>\n",
       "      <td>D</td>\n",
       "      <td>3</td>\n",
       "    </tr>\n",
       "    <tr>\n",
       "      <th>927</th>\n",
       "      <td>D</td>\n",
       "      <td>3</td>\n",
       "    </tr>\n",
       "    <tr>\n",
       "      <th>932</th>\n",
       "      <td>C</td>\n",
       "      <td>2</td>\n",
       "    </tr>\n",
       "    <tr>\n",
       "      <th>938</th>\n",
       "      <td>B</td>\n",
       "      <td>1</td>\n",
       "    </tr>\n",
       "    <tr>\n",
       "      <th>939</th>\n",
       "      <td>C</td>\n",
       "      <td>2</td>\n",
       "    </tr>\n",
       "    <tr>\n",
       "      <th>944</th>\n",
       "      <td>C</td>\n",
       "      <td>2</td>\n",
       "    </tr>\n",
       "    <tr>\n",
       "      <th>945</th>\n",
       "      <td>C</td>\n",
       "      <td>2</td>\n",
       "    </tr>\n",
       "    <tr>\n",
       "      <th>946</th>\n",
       "      <td>A</td>\n",
       "      <td>0</td>\n",
       "    </tr>\n",
       "    <tr>\n",
       "      <th>948</th>\n",
       "      <td>C</td>\n",
       "      <td>2</td>\n",
       "    </tr>\n",
       "    <tr>\n",
       "      <th>957</th>\n",
       "      <td>B</td>\n",
       "      <td>1</td>\n",
       "    </tr>\n",
       "  </tbody>\n",
       "</table>\n",
       "<p>188 rows × 2 columns</p>\n",
       "</div>"
      ],
      "text/plain": [
       "    grade  grade_codes\n",
       "0       B            1\n",
       "1       B            1\n",
       "6       C            2\n",
       "8       C            2\n",
       "16      B            1\n",
       "20      B            1\n",
       "27      C            2\n",
       "32      B            1\n",
       "33      C            2\n",
       "34      C            2\n",
       "37      B            1\n",
       "39      C            2\n",
       "40      D            3\n",
       "44      B            1\n",
       "45      C            2\n",
       "47      C            2\n",
       "51      B            1\n",
       "58      B            1\n",
       "70      D            3\n",
       "71      C            2\n",
       "73      E            4\n",
       "75      D            3\n",
       "76      D            3\n",
       "77      D            3\n",
       "78      C            2\n",
       "79      A            0\n",
       "80      D            3\n",
       "82      0           -1\n",
       "90      D            3\n",
       "101     D            3\n",
       "..    ...          ...\n",
       "799     B            1\n",
       "803     B            1\n",
       "807     B            1\n",
       "812     F            5\n",
       "815     F            5\n",
       "819     B            1\n",
       "822     B            1\n",
       "824     B            1\n",
       "838     B            1\n",
       "869     D            3\n",
       "895     D            3\n",
       "903     D            3\n",
       "907     D            3\n",
       "908     B            1\n",
       "910     E            4\n",
       "912     D            3\n",
       "913     D            3\n",
       "914     D            3\n",
       "915     B            1\n",
       "916     A            0\n",
       "917     D            3\n",
       "927     D            3\n",
       "932     C            2\n",
       "938     B            1\n",
       "939     C            2\n",
       "944     C            2\n",
       "945     C            2\n",
       "946     A            0\n",
       "948     C            2\n",
       "957     B            1\n",
       "\n",
       "[188 rows x 2 columns]"
      ]
     },
     "execution_count": 133,
     "metadata": {},
     "output_type": "execute_result"
    }
   ],
   "source": [
    "df_rec[['grade','grade_codes']]"
   ]
  },
  {
   "cell_type": "code",
   "execution_count": 134,
   "metadata": {},
   "outputs": [],
   "source": [
    "df_useritem=df_rec[['id','course id','sub','rating']]"
   ]
  },
  {
   "cell_type": "code",
   "execution_count": 135,
   "metadata": {},
   "outputs": [
    {
     "data": {
      "text/plain": [
       "id            int64\n",
       "course id      int8\n",
       "sub          object\n",
       "rating        int32\n",
       "dtype: object"
      ]
     },
     "execution_count": 135,
     "metadata": {},
     "output_type": "execute_result"
    }
   ],
   "source": [
    "df_useritem.dtypes"
   ]
  },
  {
   "cell_type": "code",
   "execution_count": 136,
   "metadata": {},
   "outputs": [],
   "source": [
    "#df_useritem[['rating']]=df_useritem[['rating']].apply(pd.to_numeric) "
   ]
  },
  {
   "cell_type": "code",
   "execution_count": 137,
   "metadata": {},
   "outputs": [],
   "source": [
    "#df_rec[['rating']]=df_rec[['rating']].apply(pd.to_numeric) "
   ]
  },
  {
   "cell_type": "markdown",
   "metadata": {},
   "source": [
    "## Recommendation System"
   ]
  },
  {
   "cell_type": "code",
   "execution_count": 138,
   "metadata": {},
   "outputs": [],
   "source": [
    "reader=Reader(rating_scale=(1, 5))"
   ]
  },
  {
   "cell_type": "code",
   "execution_count": 139,
   "metadata": {},
   "outputs": [],
   "source": [
    "data = Dataset.load_from_df(df_useritem[['id', 'course id', 'rating']],reader)"
   ]
  },
  {
   "cell_type": "code",
   "execution_count": 140,
   "metadata": {},
   "outputs": [],
   "source": [
    "df_subid=df_useritem[['sub','course id']]"
   ]
  },
  {
   "cell_type": "code",
   "execution_count": 141,
   "metadata": {},
   "outputs": [
    {
     "data": {
      "text/html": [
       "<div>\n",
       "<style scoped>\n",
       "    .dataframe tbody tr th:only-of-type {\n",
       "        vertical-align: middle;\n",
       "    }\n",
       "\n",
       "    .dataframe tbody tr th {\n",
       "        vertical-align: top;\n",
       "    }\n",
       "\n",
       "    .dataframe thead th {\n",
       "        text-align: right;\n",
       "    }\n",
       "</style>\n",
       "<table border=\"1\" class=\"dataframe\">\n",
       "  <thead>\n",
       "    <tr style=\"text-align: right;\">\n",
       "      <th></th>\n",
       "      <th>sub</th>\n",
       "      <th>course id</th>\n",
       "    </tr>\n",
       "  </thead>\n",
       "  <tbody>\n",
       "    <tr>\n",
       "      <th>0</th>\n",
       "      <td>Advanced Image Synthesis</td>\n",
       "      <td>0</td>\n",
       "    </tr>\n",
       "    <tr>\n",
       "      <th>1</th>\n",
       "      <td>Advanced Web Technologies</td>\n",
       "      <td>1</td>\n",
       "    </tr>\n",
       "    <tr>\n",
       "      <th>6</th>\n",
       "      <td>Development of Safe and Secure Software</td>\n",
       "      <td>6</td>\n",
       "    </tr>\n",
       "    <tr>\n",
       "      <th>8</th>\n",
       "      <td>Distributed Systems</td>\n",
       "      <td>8</td>\n",
       "    </tr>\n",
       "    <tr>\n",
       "      <th>16</th>\n",
       "      <td>Information Retrieval</td>\n",
       "      <td>14</td>\n",
       "    </tr>\n",
       "    <tr>\n",
       "      <th>20</th>\n",
       "      <td>Learning Analytics</td>\n",
       "      <td>17</td>\n",
       "    </tr>\n",
       "    <tr>\n",
       "      <th>27</th>\n",
       "      <td>Peer-to-Peer Systems</td>\n",
       "      <td>21</td>\n",
       "    </tr>\n",
       "    <tr>\n",
       "      <th>33</th>\n",
       "      <td>Cloud Web &amp; Mobile</td>\n",
       "      <td>2</td>\n",
       "    </tr>\n",
       "    <tr>\n",
       "      <th>34</th>\n",
       "      <td>Cognitive Robot Systems</td>\n",
       "      <td>3</td>\n",
       "    </tr>\n",
       "    <tr>\n",
       "      <th>40</th>\n",
       "      <td>Electronic Communities and Social Networks</td>\n",
       "      <td>9</td>\n",
       "    </tr>\n",
       "    <tr>\n",
       "      <th>44</th>\n",
       "      <td>Gestaltung interaktiver Lehr-/Lern-Systeme</td>\n",
       "      <td>11</td>\n",
       "    </tr>\n",
       "    <tr>\n",
       "      <th>45</th>\n",
       "      <td>Information Engineering</td>\n",
       "      <td>12</td>\n",
       "    </tr>\n",
       "    <tr>\n",
       "      <th>73</th>\n",
       "      <td>Formal Specification of Software Systems</td>\n",
       "      <td>10</td>\n",
       "    </tr>\n",
       "    <tr>\n",
       "      <th>77</th>\n",
       "      <td>Information Mining</td>\n",
       "      <td>13</td>\n",
       "    </tr>\n",
       "    <tr>\n",
       "      <th>79</th>\n",
       "      <td>Interaktive Systeme</td>\n",
       "      <td>15</td>\n",
       "    </tr>\n",
       "    <tr>\n",
       "      <th>80</th>\n",
       "      <td>Internet of Things- Protocols and System Software</td>\n",
       "      <td>16</td>\n",
       "    </tr>\n",
       "    <tr>\n",
       "      <th>90</th>\n",
       "      <td>Recommender Systems</td>\n",
       "      <td>22</td>\n",
       "    </tr>\n",
       "    <tr>\n",
       "      <th>154</th>\n",
       "      <td>Test and Reliability of Digital Systems</td>\n",
       "      <td>24</td>\n",
       "    </tr>\n",
       "    <tr>\n",
       "      <th>160</th>\n",
       "      <td>Computer Robot Vision</td>\n",
       "      <td>5</td>\n",
       "    </tr>\n",
       "    <tr>\n",
       "      <th>181</th>\n",
       "      <td>Pattern and Component based Software Development</td>\n",
       "      <td>20</td>\n",
       "    </tr>\n",
       "    <tr>\n",
       "      <th>252</th>\n",
       "      <td>Computer Graphics</td>\n",
       "      <td>4</td>\n",
       "    </tr>\n",
       "    <tr>\n",
       "      <th>277</th>\n",
       "      <td>Scientific Visualization</td>\n",
       "      <td>23</td>\n",
       "    </tr>\n",
       "    <tr>\n",
       "      <th>286</th>\n",
       "      <td>Digital Games Research</td>\n",
       "      <td>7</td>\n",
       "    </tr>\n",
       "    <tr>\n",
       "      <th>521</th>\n",
       "      <td>Neurocomputing and Organic Computing</td>\n",
       "      <td>19</td>\n",
       "    </tr>\n",
       "    <tr>\n",
       "      <th>799</th>\n",
       "      <td>Natural-Language-based Human-Computer Interaction</td>\n",
       "      <td>18</td>\n",
       "    </tr>\n",
       "  </tbody>\n",
       "</table>\n",
       "</div>"
      ],
      "text/plain": [
       "                                                   sub  course id\n",
       "0                             Advanced Image Synthesis          0\n",
       "1                            Advanced Web Technologies          1\n",
       "6              Development of Safe and Secure Software          6\n",
       "8                                  Distributed Systems          8\n",
       "16                               Information Retrieval         14\n",
       "20                                  Learning Analytics         17\n",
       "27                                Peer-to-Peer Systems         21\n",
       "33                                  Cloud Web & Mobile          2\n",
       "34                             Cognitive Robot Systems          3\n",
       "40          Electronic Communities and Social Networks          9\n",
       "44          Gestaltung interaktiver Lehr-/Lern-Systeme         11\n",
       "45                             Information Engineering         12\n",
       "73            Formal Specification of Software Systems         10\n",
       "77                                  Information Mining         13\n",
       "79                                 Interaktive Systeme         15\n",
       "80   Internet of Things- Protocols and System Software         16\n",
       "90                                 Recommender Systems         22\n",
       "154            Test and Reliability of Digital Systems         24\n",
       "160                              Computer Robot Vision          5\n",
       "181   Pattern and Component based Software Development         20\n",
       "252                                  Computer Graphics          4\n",
       "277                           Scientific Visualization         23\n",
       "286                             Digital Games Research          7\n",
       "521               Neurocomputing and Organic Computing         19\n",
       "799  Natural-Language-based Human-Computer Interaction         18"
      ]
     },
     "execution_count": 141,
     "metadata": {},
     "output_type": "execute_result"
    }
   ],
   "source": [
    "df_subid.drop_duplicates()"
   ]
  },
  {
   "cell_type": "code",
   "execution_count": 142,
   "metadata": {},
   "outputs": [],
   "source": [
    "df_subid.sort_values(by=['course id'], inplace=True)"
   ]
  },
  {
   "cell_type": "code",
   "execution_count": 143,
   "metadata": {},
   "outputs": [],
   "source": [
    "df_subid.drop_duplicates(inplace=True)"
   ]
  },
  {
   "cell_type": "code",
   "execution_count": 144,
   "metadata": {},
   "outputs": [
    {
     "data": {
      "text/html": [
       "<div>\n",
       "<style scoped>\n",
       "    .dataframe tbody tr th:only-of-type {\n",
       "        vertical-align: middle;\n",
       "    }\n",
       "\n",
       "    .dataframe tbody tr th {\n",
       "        vertical-align: top;\n",
       "    }\n",
       "\n",
       "    .dataframe thead th {\n",
       "        text-align: right;\n",
       "    }\n",
       "</style>\n",
       "<table border=\"1\" class=\"dataframe\">\n",
       "  <thead>\n",
       "    <tr style=\"text-align: right;\">\n",
       "      <th></th>\n",
       "      <th>sub</th>\n",
       "      <th>course id</th>\n",
       "    </tr>\n",
       "  </thead>\n",
       "  <tbody>\n",
       "    <tr>\n",
       "      <th>0</th>\n",
       "      <td>Advanced Image Synthesis</td>\n",
       "      <td>0</td>\n",
       "    </tr>\n",
       "    <tr>\n",
       "      <th>652</th>\n",
       "      <td>Advanced Web Technologies</td>\n",
       "      <td>1</td>\n",
       "    </tr>\n",
       "    <tr>\n",
       "      <th>157</th>\n",
       "      <td>Cloud Web &amp; Mobile</td>\n",
       "      <td>2</td>\n",
       "    </tr>\n",
       "    <tr>\n",
       "      <th>251</th>\n",
       "      <td>Cognitive Robot Systems</td>\n",
       "      <td>3</td>\n",
       "    </tr>\n",
       "    <tr>\n",
       "      <th>903</th>\n",
       "      <td>Computer Graphics</td>\n",
       "      <td>4</td>\n",
       "    </tr>\n",
       "  </tbody>\n",
       "</table>\n",
       "</div>"
      ],
      "text/plain": [
       "                           sub  course id\n",
       "0     Advanced Image Synthesis          0\n",
       "652  Advanced Web Technologies          1\n",
       "157         Cloud Web & Mobile          2\n",
       "251    Cognitive Robot Systems          3\n",
       "903          Computer Graphics          4"
      ]
     },
     "execution_count": 144,
     "metadata": {},
     "output_type": "execute_result"
    }
   ],
   "source": [
    "df_subid.head(5)"
   ]
  },
  {
   "cell_type": "code",
   "execution_count": 147,
   "metadata": {},
   "outputs": [],
   "source": [
    "#cross_validate(algo, data, measures=['RMSE'], cv=3, verbose=False)"
   ]
  },
  {
   "cell_type": "code",
   "execution_count": 148,
   "metadata": {},
   "outputs": [],
   "source": [
    "trainset, testset = train_test_split(data, test_size=0.2)"
   ]
  },
  {
   "cell_type": "code",
   "execution_count": 149,
   "metadata": {},
   "outputs": [
    {
     "name": "stdout",
     "output_type": "stream",
     "text": [
      "Evaluating RMSE of algorithm SVD on 2 split(s).\n",
      "\n",
      "                  Fold 1  Fold 2  Mean    Std     \n",
      "RMSE (testset)    1.2076  1.3312  1.2694  0.0618  \n",
      "Fit time          0.01    0.01    0.01    0.00    \n",
      "Test time         0.00    0.00    0.00    0.00    \n",
      "Evaluating RMSE of algorithm SVDpp on 2 split(s).\n",
      "\n",
      "                  Fold 1  Fold 2  Mean    Std     \n",
      "RMSE (testset)    1.2482  1.3159  1.2820  0.0338  \n",
      "Fit time          0.02    0.02    0.02    0.00    \n",
      "Test time         0.00    0.00    0.00    0.00    \n",
      "Evaluating RMSE of algorithm SlopeOne on 2 split(s).\n",
      "\n",
      "                  Fold 1  Fold 2  Mean    Std     \n",
      "RMSE (testset)    1.5201  1.5486  1.5344  0.0143  \n",
      "Fit time          0.00    0.00    0.00    0.00    \n",
      "Test time         0.00    0.00    0.00    0.00    \n",
      "Nan values are eliminated\n",
      "Evaluating RMSE of algorithm NormalPredictor on 2 split(s).\n",
      "\n",
      "                  Fold 1  Fold 2  Mean    Std     \n",
      "RMSE (testset)    1.9077  2.0677  1.9877  0.0800  \n",
      "Fit time          0.00    0.00    0.00    0.00    \n",
      "Test time         0.00    0.00    0.00    0.00    \n",
      "Estimating biases using als...\n",
      "Computing the msd similarity matrix...\n",
      "Done computing similarity matrix.\n",
      "Estimating biases using als...\n",
      "Computing the msd similarity matrix...\n",
      "Done computing similarity matrix.\n",
      "Evaluating RMSE of algorithm KNNBaseline on 2 split(s).\n",
      "\n",
      "                  Fold 1  Fold 2  Mean    Std     \n",
      "RMSE (testset)    1.6101  1.4206  1.5153  0.0948  \n",
      "Fit time          0.00    0.00    0.00    0.00    \n",
      "Test time         0.00    0.00    0.00    0.00    \n",
      "Computing the msd similarity matrix...\n",
      "Done computing similarity matrix.\n",
      "Computing the msd similarity matrix...\n",
      "Done computing similarity matrix.\n",
      "Evaluating RMSE of algorithm KNNBasic on 2 split(s).\n",
      "\n",
      "                  Fold 1  Fold 2  Mean    Std     \n",
      "RMSE (testset)    1.5179  1.5245  1.5212  0.0033  \n",
      "Fit time          0.00    0.00    0.00    0.00    \n",
      "Test time         0.00    0.00    0.00    0.00    \n",
      "Computing the msd similarity matrix...\n",
      "Done computing similarity matrix.\n",
      "Computing the msd similarity matrix...\n",
      "Done computing similarity matrix.\n",
      "Evaluating RMSE of algorithm KNNWithMeans on 2 split(s).\n",
      "\n",
      "                  Fold 1  Fold 2  Mean    Std     \n",
      "RMSE (testset)    1.2599  1.2556  1.2578  0.0022  \n",
      "Fit time          0.00    0.00    0.00    0.00    \n",
      "Test time         0.00    0.00    0.00    0.00    \n",
      "Computing the msd similarity matrix...\n",
      "Done computing similarity matrix.\n",
      "Computing the msd similarity matrix...\n",
      "Done computing similarity matrix.\n",
      "Evaluating RMSE of algorithm KNNWithZScore on 2 split(s).\n",
      "\n",
      "                  Fold 1  Fold 2  Mean    Std     \n",
      "RMSE (testset)    1.4000  1.5757  1.4878  0.0878  \n",
      "Fit time          0.00    0.00    0.00    0.00    \n",
      "Test time         0.00    0.00    0.00    0.00    \n",
      "Estimating biases using als...\n",
      "Estimating biases using als...\n",
      "Evaluating RMSE of algorithm BaselineOnly on 2 split(s).\n",
      "\n",
      "                  Fold 1  Fold 2  Mean    Std     \n",
      "RMSE (testset)    1.4412  1.2325  1.3369  0.1043  \n",
      "Fit time          0.00    0.00    0.00    0.00    \n",
      "Test time         0.00    0.00    0.00    0.00    \n",
      "Evaluating RMSE of algorithm CoClustering on 2 split(s).\n",
      "\n",
      "                  Fold 1  Fold 2  Mean    Std     \n",
      "RMSE (testset)    1.5951  1.5178  1.5564  0.0387  \n",
      "Fit time          0.01    0.01    0.01    0.00    \n",
      "Test time         0.00    0.00    0.00    0.00    \n"
     ]
    },
    {
     "data": {
      "text/html": [
       "<div>\n",
       "<style scoped>\n",
       "    .dataframe tbody tr th:only-of-type {\n",
       "        vertical-align: middle;\n",
       "    }\n",
       "\n",
       "    .dataframe tbody tr th {\n",
       "        vertical-align: top;\n",
       "    }\n",
       "\n",
       "    .dataframe thead th {\n",
       "        text-align: right;\n",
       "    }\n",
       "</style>\n",
       "<table border=\"1\" class=\"dataframe\">\n",
       "  <thead>\n",
       "    <tr style=\"text-align: right;\">\n",
       "      <th></th>\n",
       "      <th>test_rmse</th>\n",
       "      <th>fit_time</th>\n",
       "      <th>test_time</th>\n",
       "    </tr>\n",
       "    <tr>\n",
       "      <th>Algorithm</th>\n",
       "      <th></th>\n",
       "      <th></th>\n",
       "      <th></th>\n",
       "    </tr>\n",
       "  </thead>\n",
       "  <tbody>\n",
       "    <tr>\n",
       "      <th>KNNWithMeans</th>\n",
       "      <td>1.257783</td>\n",
       "      <td>0.000996</td>\n",
       "      <td>0.002013</td>\n",
       "    </tr>\n",
       "    <tr>\n",
       "      <th>SVD</th>\n",
       "      <td>1.269444</td>\n",
       "      <td>0.007978</td>\n",
       "      <td>0.001495</td>\n",
       "    </tr>\n",
       "    <tr>\n",
       "      <th>SVDpp</th>\n",
       "      <td>1.282023</td>\n",
       "      <td>0.022458</td>\n",
       "      <td>0.001996</td>\n",
       "    </tr>\n",
       "    <tr>\n",
       "      <th>BaselineOnly</th>\n",
       "      <td>1.336863</td>\n",
       "      <td>0.000997</td>\n",
       "      <td>0.000000</td>\n",
       "    </tr>\n",
       "    <tr>\n",
       "      <th>KNNWithZScore</th>\n",
       "      <td>1.487829</td>\n",
       "      <td>0.001495</td>\n",
       "      <td>0.001496</td>\n",
       "    </tr>\n",
       "    <tr>\n",
       "      <th>KNNBaseline</th>\n",
       "      <td>1.515321</td>\n",
       "      <td>0.001494</td>\n",
       "      <td>0.000999</td>\n",
       "    </tr>\n",
       "    <tr>\n",
       "      <th>KNNBasic</th>\n",
       "      <td>1.521155</td>\n",
       "      <td>0.000000</td>\n",
       "      <td>0.001513</td>\n",
       "    </tr>\n",
       "    <tr>\n",
       "      <th>SlopeOne</th>\n",
       "      <td>1.534358</td>\n",
       "      <td>0.000499</td>\n",
       "      <td>0.000979</td>\n",
       "    </tr>\n",
       "    <tr>\n",
       "      <th>NMF</th>\n",
       "      <td>1.534358</td>\n",
       "      <td>0.000499</td>\n",
       "      <td>0.000979</td>\n",
       "    </tr>\n",
       "    <tr>\n",
       "      <th>CoClustering</th>\n",
       "      <td>1.556437</td>\n",
       "      <td>0.012468</td>\n",
       "      <td>0.000498</td>\n",
       "    </tr>\n",
       "    <tr>\n",
       "      <th>NormalPredictor</th>\n",
       "      <td>1.987708</td>\n",
       "      <td>0.000000</td>\n",
       "      <td>0.000499</td>\n",
       "    </tr>\n",
       "  </tbody>\n",
       "</table>\n",
       "</div>"
      ],
      "text/plain": [
       "                 test_rmse  fit_time  test_time\n",
       "Algorithm                                      \n",
       "KNNWithMeans      1.257783  0.000996   0.002013\n",
       "SVD               1.269444  0.007978   0.001495\n",
       "SVDpp             1.282023  0.022458   0.001996\n",
       "BaselineOnly      1.336863  0.000997   0.000000\n",
       "KNNWithZScore     1.487829  0.001495   0.001496\n",
       "KNNBaseline       1.515321  0.001494   0.000999\n",
       "KNNBasic          1.521155  0.000000   0.001513\n",
       "SlopeOne          1.534358  0.000499   0.000979\n",
       "NMF               1.534358  0.000499   0.000979\n",
       "CoClustering      1.556437  0.012468   0.000498\n",
       "NormalPredictor   1.987708  0.000000   0.000499"
      ]
     },
     "execution_count": 149,
     "metadata": {},
     "output_type": "execute_result"
    }
   ],
   "source": [
    "benchmark = []\n",
    "# Iterate over all algorithms\n",
    "for algorithm in [SVD(), SVDpp(), SlopeOne(), NMF(), NormalPredictor(), KNNBaseline(), KNNBasic(), KNNWithMeans(), KNNWithZScore(), BaselineOnly(), CoClustering()]:\n",
    "    # Perform cross validation\n",
    "    try:\n",
    "        results = cross_validate(algorithm, data, measures=['RMSE'], cv=2, verbose=True)\n",
    "    except ZeroDivisionError:\n",
    "        print('Nan values are eliminated')\n",
    "    \n",
    "    # Get results & append algorithm name\n",
    "    tmp = pd.DataFrame.from_dict(results).mean(axis=0)\n",
    "    tmp = tmp.append(pd.Series([str(algorithm).split(' ')[0].split('.')[-1]], index=['Algorithm']))\n",
    "    benchmark.append(tmp)\n",
    "    \n",
    "pd.DataFrame(benchmark).set_index('Algorithm').sort_values('test_rmse')"
   ]
  },
  {
   "cell_type": "code",
   "execution_count": 150,
   "metadata": {},
   "outputs": [],
   "source": [
    "sim_options = {\n",
    "    \"name\": \"msd\",\n",
    "    \"user_based\": True,\n",
    "}\n",
    "\n",
    "\n"
   ]
  },
  {
   "cell_type": "code",
   "execution_count": 151,
   "metadata": {},
   "outputs": [],
   "source": [
    "\n",
    "from surprise.model_selection import GridSearchCV\n",
    "algo = KNNWithMeans(sim_options=sim_options)\n",
    "#gs.fit(data)"
   ]
  },
  {
   "cell_type": "code",
   "execution_count": 152,
   "metadata": {},
   "outputs": [
    {
     "name": "stdout",
     "output_type": "stream",
     "text": [
      "Computing the msd similarity matrix...\n",
      "Done computing similarity matrix.\n"
     ]
    },
    {
     "data": {
      "text/plain": [
       "<surprise.prediction_algorithms.knns.KNNWithMeans at 0x161b129c470>"
      ]
     },
     "execution_count": 152,
     "metadata": {},
     "output_type": "execute_result"
    }
   ],
   "source": [
    "algo.fit(trainset)"
   ]
  },
  {
   "cell_type": "code",
   "execution_count": 153,
   "metadata": {},
   "outputs": [],
   "source": [
    "predictions=algo.test(testset)"
   ]
  },
  {
   "cell_type": "code",
   "execution_count": 154,
   "metadata": {},
   "outputs": [
    {
     "name": "stdout",
     "output_type": "stream",
     "text": [
      "RMSE: 1.2590\n"
     ]
    },
    {
     "data": {
      "text/plain": [
       "1.2589547236766523"
      ]
     },
     "execution_count": 154,
     "metadata": {},
     "output_type": "execute_result"
    }
   ],
   "source": [
    "accuracy.rmse(predictions)"
   ]
  },
  {
   "cell_type": "code",
   "execution_count": 155,
   "metadata": {},
   "outputs": [
    {
     "data": {
      "text/html": [
       "<div>\n",
       "<style scoped>\n",
       "    .dataframe tbody tr th:only-of-type {\n",
       "        vertical-align: middle;\n",
       "    }\n",
       "\n",
       "    .dataframe tbody tr th {\n",
       "        vertical-align: top;\n",
       "    }\n",
       "\n",
       "    .dataframe thead th {\n",
       "        text-align: right;\n",
       "    }\n",
       "</style>\n",
       "<table border=\"1\" class=\"dataframe\">\n",
       "  <thead>\n",
       "    <tr style=\"text-align: right;\">\n",
       "      <th></th>\n",
       "      <th>id</th>\n",
       "      <th>sub</th>\n",
       "      <th>grade</th>\n",
       "      <th>rating</th>\n",
       "      <th>semester</th>\n",
       "      <th>course id</th>\n",
       "      <th>grade_codes</th>\n",
       "    </tr>\n",
       "  </thead>\n",
       "  <tbody>\n",
       "  </tbody>\n",
       "</table>\n",
       "</div>"
      ],
      "text/plain": [
       "Empty DataFrame\n",
       "Columns: [id, sub, grade, rating, semester, course id, grade_codes]\n",
       "Index: []"
      ]
     },
     "execution_count": 155,
     "metadata": {},
     "output_type": "execute_result"
    }
   ],
   "source": [
    "df_rec[df_rec['sub']=='Knowledge-Based Systems']"
   ]
  },
  {
   "cell_type": "code",
   "execution_count": 156,
   "metadata": {},
   "outputs": [],
   "source": [
    "#list_subs=['Interaktive Systeme','Information Mining','Advanced Web Technologies']"
   ]
  },
  {
   "cell_type": "code",
   "execution_count": 158,
   "metadata": {},
   "outputs": [],
   "source": [
    "list_neighbors=algo.get_neighbors(18,k=3)"
   ]
  },
  {
   "cell_type": "code",
   "execution_count": 159,
   "metadata": {},
   "outputs": [
    {
     "data": {
      "text/plain": [
       "[3, 5, 2]"
      ]
     },
     "execution_count": 159,
     "metadata": {},
     "output_type": "execute_result"
    }
   ],
   "source": [
    "list_neighbors"
   ]
  },
  {
   "cell_type": "code",
   "execution_count": 160,
   "metadata": {},
   "outputs": [],
   "source": [
    "def get_neighbors(list1,k):\n",
    "    list_neighbors=[]\n",
    "    list_subs_up=[]\n",
    "    for val in list1:\n",
    "        list_subs_up.append(int(df_subid[df_subid['sub']==val]['course id'].values))  \n",
    "    for val in list_subs_up:\n",
    "        list_neighbors.append(algo.get_neighbors(val,k))\n",
    "        print(\"The students who chose these subjects chose the following subjects:\",algo.get_neighbors(val,k))\n",
    "    return list_neighbors"
   ]
  },
  {
   "cell_type": "code",
   "execution_count": 161,
   "metadata": {},
   "outputs": [],
   "source": [
    "def get_subs(list1):\n",
    "    l_neigh=[]\n",
    "    for val in list1:\n",
    "        l_neigh.append(((df_useritem[df_useritem['course id']==val]['sub']).drop_duplicates()).tolist())\n",
    "        list_neigh = [item for sublist in l_neigh for item in sublist]\n",
    "    return list_neigh"
   ]
  },
  {
   "cell_type": "code",
   "execution_count": 162,
   "metadata": {},
   "outputs": [
    {
     "ename": "NameError",
     "evalue": "name 'list_subs' is not defined",
     "output_type": "error",
     "traceback": [
      "\u001b[1;31m---------------------------------------------------------------------------\u001b[0m",
      "\u001b[1;31mNameError\u001b[0m                                 Traceback (most recent call last)",
      "\u001b[1;32m<ipython-input-162-a1b1c05ac031>\u001b[0m in \u001b[0;36m<module>\u001b[1;34m\u001b[0m\n\u001b[1;32m----> 1\u001b[1;33m \u001b[0ml_up\u001b[0m\u001b[1;33m=\u001b[0m\u001b[0mget_neighbors\u001b[0m\u001b[1;33m(\u001b[0m\u001b[0mlist_subs\u001b[0m\u001b[1;33m,\u001b[0m\u001b[1;36m3\u001b[0m\u001b[1;33m)\u001b[0m\u001b[1;33m\u001b[0m\u001b[1;33m\u001b[0m\u001b[0m\n\u001b[0m",
      "\u001b[1;31mNameError\u001b[0m: name 'list_subs' is not defined"
     ]
    }
   ],
   "source": [
    "#l_up=get_neighbors(list_subs,3)"
   ]
  },
  {
   "cell_type": "code",
   "execution_count": 163,
   "metadata": {},
   "outputs": [],
   "source": [
    "def recommend_courses(list_subs):\n",
    "    recommendation_list=[]\n",
    "    for val in get_neighbors(list_subs,3):\n",
    "        recommendation_list.append(get_subs(val))\n",
    "    return recommendation_list"
   ]
  },
  {
   "cell_type": "code",
   "execution_count": 606,
   "metadata": {},
   "outputs": [
    {
     "name": "stdout",
     "output_type": "stream",
     "text": [
      "The students who chose these subjects chose the following subjects: [12, 21, 7]\n",
      "The students who chose these subjects chose the following subjects: [5, 14, 19]\n",
      "The students who chose these subjects chose the following subjects: [0, 1, 17]\n",
      "The students who chose these subjects chose the following subjects: [6, 19, 1]\n",
      "The students who chose these subjects chose the following subjects: [15, 6, 8]\n"
     ]
    },
    {
     "ename": "TypeError",
     "evalue": "only size-1 arrays can be converted to Python scalars",
     "output_type": "error",
     "traceback": [
      "\u001b[1;31m---------------------------------------------------------------------------\u001b[0m",
      "\u001b[1;31mTypeError\u001b[0m                                 Traceback (most recent call last)",
      "\u001b[1;32m<ipython-input-606-d448ed60ea67>\u001b[0m in \u001b[0;36m<module>\u001b[1;34m\u001b[0m\n\u001b[1;32m----> 1\u001b[1;33m \u001b[0mrecommend_courses\u001b[0m\u001b[1;33m(\u001b[0m\u001b[1;33m[\u001b[0m\u001b[1;34m'Advanced Web Technologies'\u001b[0m\u001b[1;33m]\u001b[0m\u001b[1;33m)\u001b[0m\u001b[1;33m,\u001b[0m\u001b[0mrecommend_courses\u001b[0m\u001b[1;33m(\u001b[0m\u001b[1;33m[\u001b[0m\u001b[1;34m'Information Mining'\u001b[0m\u001b[1;33m]\u001b[0m\u001b[1;33m)\u001b[0m\u001b[1;33m,\u001b[0m\u001b[0mrecommend_courses\u001b[0m\u001b[1;33m(\u001b[0m\u001b[1;33m[\u001b[0m\u001b[1;34m'Information Engineering'\u001b[0m\u001b[1;33m]\u001b[0m\u001b[1;33m)\u001b[0m\u001b[1;33m,\u001b[0m\u001b[0mrecommend_courses\u001b[0m\u001b[1;33m(\u001b[0m\u001b[1;33m[\u001b[0m\u001b[1;34m'Gestaltung interaktiver Lehr-/Lern-Systeme'\u001b[0m\u001b[1;33m]\u001b[0m\u001b[1;33m)\u001b[0m\u001b[1;33m,\u001b[0m\u001b[0mrecommend_courses\u001b[0m\u001b[1;33m(\u001b[0m\u001b[1;33m[\u001b[0m\u001b[1;34m'Test and Reliability of Digital Systems'\u001b[0m\u001b[1;33m]\u001b[0m\u001b[1;33m)\u001b[0m\u001b[1;33m,\u001b[0m\u001b[0mrecommend_courses\u001b[0m\u001b[1;33m(\u001b[0m\u001b[1;33m[\u001b[0m\u001b[1;34m'Fault Diagnosis and Fault Tolerance in Technical Systems'\u001b[0m\u001b[1;33m]\u001b[0m\u001b[1;33m)\u001b[0m\u001b[1;33m\u001b[0m\u001b[1;33m\u001b[0m\u001b[0m\n\u001b[0m",
      "\u001b[1;32m<ipython-input-163-215548e4b3a8>\u001b[0m in \u001b[0;36mrecommend_courses\u001b[1;34m(list_subs)\u001b[0m\n\u001b[0;32m      1\u001b[0m \u001b[1;32mdef\u001b[0m \u001b[0mrecommend_courses\u001b[0m\u001b[1;33m(\u001b[0m\u001b[0mlist_subs\u001b[0m\u001b[1;33m)\u001b[0m\u001b[1;33m:\u001b[0m\u001b[1;33m\u001b[0m\u001b[1;33m\u001b[0m\u001b[0m\n\u001b[0;32m      2\u001b[0m     \u001b[0mrecommendation_list\u001b[0m\u001b[1;33m=\u001b[0m\u001b[1;33m[\u001b[0m\u001b[1;33m]\u001b[0m\u001b[1;33m\u001b[0m\u001b[1;33m\u001b[0m\u001b[0m\n\u001b[1;32m----> 3\u001b[1;33m     \u001b[1;32mfor\u001b[0m \u001b[0mval\u001b[0m \u001b[1;32min\u001b[0m \u001b[0mget_neighbors\u001b[0m\u001b[1;33m(\u001b[0m\u001b[0mlist_subs\u001b[0m\u001b[1;33m,\u001b[0m\u001b[1;36m3\u001b[0m\u001b[1;33m)\u001b[0m\u001b[1;33m:\u001b[0m\u001b[1;33m\u001b[0m\u001b[1;33m\u001b[0m\u001b[0m\n\u001b[0m\u001b[0;32m      4\u001b[0m         \u001b[0mrecommendation_list\u001b[0m\u001b[1;33m.\u001b[0m\u001b[0mappend\u001b[0m\u001b[1;33m(\u001b[0m\u001b[0mget_subs\u001b[0m\u001b[1;33m(\u001b[0m\u001b[0mval\u001b[0m\u001b[1;33m)\u001b[0m\u001b[1;33m)\u001b[0m\u001b[1;33m\u001b[0m\u001b[1;33m\u001b[0m\u001b[0m\n\u001b[0;32m      5\u001b[0m     \u001b[1;32mreturn\u001b[0m \u001b[0mrecommendation_list\u001b[0m\u001b[1;33m\u001b[0m\u001b[1;33m\u001b[0m\u001b[0m\n",
      "\u001b[1;32m<ipython-input-160-ffcfd130f6ae>\u001b[0m in \u001b[0;36mget_neighbors\u001b[1;34m(list1, k)\u001b[0m\n\u001b[0;32m      3\u001b[0m     \u001b[0mlist_subs_up\u001b[0m\u001b[1;33m=\u001b[0m\u001b[1;33m[\u001b[0m\u001b[1;33m]\u001b[0m\u001b[1;33m\u001b[0m\u001b[1;33m\u001b[0m\u001b[0m\n\u001b[0;32m      4\u001b[0m     \u001b[1;32mfor\u001b[0m \u001b[0mval\u001b[0m \u001b[1;32min\u001b[0m \u001b[0mlist1\u001b[0m\u001b[1;33m:\u001b[0m\u001b[1;33m\u001b[0m\u001b[1;33m\u001b[0m\u001b[0m\n\u001b[1;32m----> 5\u001b[1;33m         \u001b[0mlist_subs_up\u001b[0m\u001b[1;33m.\u001b[0m\u001b[0mappend\u001b[0m\u001b[1;33m(\u001b[0m\u001b[0mint\u001b[0m\u001b[1;33m(\u001b[0m\u001b[0mdf_subid\u001b[0m\u001b[1;33m[\u001b[0m\u001b[0mdf_subid\u001b[0m\u001b[1;33m[\u001b[0m\u001b[1;34m'sub'\u001b[0m\u001b[1;33m]\u001b[0m\u001b[1;33m==\u001b[0m\u001b[0mval\u001b[0m\u001b[1;33m]\u001b[0m\u001b[1;33m[\u001b[0m\u001b[1;34m'course id'\u001b[0m\u001b[1;33m]\u001b[0m\u001b[1;33m.\u001b[0m\u001b[0mvalues\u001b[0m\u001b[1;33m)\u001b[0m\u001b[1;33m)\u001b[0m\u001b[1;33m\u001b[0m\u001b[1;33m\u001b[0m\u001b[0m\n\u001b[0m\u001b[0;32m      6\u001b[0m     \u001b[1;32mfor\u001b[0m \u001b[0mval\u001b[0m \u001b[1;32min\u001b[0m \u001b[0mlist_subs_up\u001b[0m\u001b[1;33m:\u001b[0m\u001b[1;33m\u001b[0m\u001b[1;33m\u001b[0m\u001b[0m\n\u001b[0;32m      7\u001b[0m         \u001b[0mlist_neighbors\u001b[0m\u001b[1;33m.\u001b[0m\u001b[0mappend\u001b[0m\u001b[1;33m(\u001b[0m\u001b[0malgo\u001b[0m\u001b[1;33m.\u001b[0m\u001b[0mget_neighbors\u001b[0m\u001b[1;33m(\u001b[0m\u001b[0mval\u001b[0m\u001b[1;33m,\u001b[0m\u001b[0mk\u001b[0m\u001b[1;33m)\u001b[0m\u001b[1;33m)\u001b[0m\u001b[1;33m\u001b[0m\u001b[1;33m\u001b[0m\u001b[0m\n",
      "\u001b[1;31mTypeError\u001b[0m: only size-1 arrays can be converted to Python scalars"
     ]
    }
   ],
   "source": [
    "recommend_courses(['Advanced Web Technologies']),recommend_courses(['Information Mining']),recommend_courses(['Information Engineering']),recommend_courses(['Gestaltung interaktiver Lehr-/Lern-Systeme']),recommend_courses(['Test and Reliability of Digital Systems']),recommend_courses(['Fault Diagnosis and Fault Tolerance in Technical Systems'])"
   ]
  },
  {
   "cell_type": "code",
   "execution_count": 166,
   "metadata": {},
   "outputs": [],
   "source": [
    "df_sankey_daig=pd.read_csv('category1.csv')"
   ]
  },
  {
   "cell_type": "code",
   "execution_count": 167,
   "metadata": {},
   "outputs": [],
   "source": [
    "df_sankey_daig.drop(['Unnamed: 0'],axis=1,inplace=True)"
   ]
  },
  {
   "cell_type": "code",
   "execution_count": 168,
   "metadata": {},
   "outputs": [
    {
     "data": {
      "text/html": [
       "<div>\n",
       "<style scoped>\n",
       "    .dataframe tbody tr th:only-of-type {\n",
       "        vertical-align: middle;\n",
       "    }\n",
       "\n",
       "    .dataframe tbody tr th {\n",
       "        vertical-align: top;\n",
       "    }\n",
       "\n",
       "    .dataframe thead th {\n",
       "        text-align: right;\n",
       "    }\n",
       "</style>\n",
       "<table border=\"1\" class=\"dataframe\">\n",
       "  <thead>\n",
       "    <tr style=\"text-align: right;\">\n",
       "      <th></th>\n",
       "      <th>id</th>\n",
       "      <th>sub</th>\n",
       "      <th>grade</th>\n",
       "      <th>rating</th>\n",
       "      <th>semester</th>\n",
       "      <th>course id</th>\n",
       "      <th>grade_codes</th>\n",
       "    </tr>\n",
       "  </thead>\n",
       "  <tbody>\n",
       "    <tr>\n",
       "      <th>0</th>\n",
       "      <td>0</td>\n",
       "      <td>Advanced Image Synthesis</td>\n",
       "      <td>B</td>\n",
       "      <td>2</td>\n",
       "      <td>2</td>\n",
       "      <td>0</td>\n",
       "      <td>1</td>\n",
       "    </tr>\n",
       "    <tr>\n",
       "      <th>248</th>\n",
       "      <td>8</td>\n",
       "      <td>Advanced Image Synthesis</td>\n",
       "      <td>F</td>\n",
       "      <td>0</td>\n",
       "      <td>1</td>\n",
       "      <td>0</td>\n",
       "      <td>5</td>\n",
       "    </tr>\n",
       "    <tr>\n",
       "      <th>682</th>\n",
       "      <td>22</td>\n",
       "      <td>Advanced Image Synthesis</td>\n",
       "      <td>C</td>\n",
       "      <td>1</td>\n",
       "      <td>2</td>\n",
       "      <td>0</td>\n",
       "      <td>2</td>\n",
       "    </tr>\n",
       "    <tr>\n",
       "      <th>744</th>\n",
       "      <td>24</td>\n",
       "      <td>Advanced Image Synthesis</td>\n",
       "      <td>0</td>\n",
       "      <td>0</td>\n",
       "      <td>Other</td>\n",
       "      <td>0</td>\n",
       "      <td>-1</td>\n",
       "    </tr>\n",
       "  </tbody>\n",
       "</table>\n",
       "</div>"
      ],
      "text/plain": [
       "     id                       sub grade  rating semester  course id  \\\n",
       "0     0  Advanced Image Synthesis     B       2        2          0   \n",
       "248   8  Advanced Image Synthesis     F       0        1          0   \n",
       "682  22  Advanced Image Synthesis     C       1        2          0   \n",
       "744  24  Advanced Image Synthesis     0       0    Other          0   \n",
       "\n",
       "     grade_codes  \n",
       "0              1  \n",
       "248            5  \n",
       "682            2  \n",
       "744           -1  "
      ]
     },
     "execution_count": 168,
     "metadata": {},
     "output_type": "execute_result"
    }
   ],
   "source": [
    "df_rec[df_rec['sub']=='Advanced Image Synthesis']"
   ]
  },
  {
   "cell_type": "code",
   "execution_count": 169,
   "metadata": {},
   "outputs": [],
   "source": [
    "df_ratings=df_rec.groupby('sub').rating.mean().reset_index()"
   ]
  },
  {
   "cell_type": "code",
   "execution_count": 170,
   "metadata": {},
   "outputs": [
    {
     "data": {
      "text/html": [
       "<div>\n",
       "<style scoped>\n",
       "    .dataframe tbody tr th:only-of-type {\n",
       "        vertical-align: middle;\n",
       "    }\n",
       "\n",
       "    .dataframe tbody tr th {\n",
       "        vertical-align: top;\n",
       "    }\n",
       "\n",
       "    .dataframe thead th {\n",
       "        text-align: right;\n",
       "    }\n",
       "</style>\n",
       "<table border=\"1\" class=\"dataframe\">\n",
       "  <thead>\n",
       "    <tr style=\"text-align: right;\">\n",
       "      <th></th>\n",
       "      <th>sub</th>\n",
       "      <th>rating</th>\n",
       "    </tr>\n",
       "  </thead>\n",
       "  <tbody>\n",
       "    <tr>\n",
       "      <th>0</th>\n",
       "      <td>Advanced Image Synthesis</td>\n",
       "      <td>0.750000</td>\n",
       "    </tr>\n",
       "    <tr>\n",
       "      <th>1</th>\n",
       "      <td>Advanced Web Technologies</td>\n",
       "      <td>1.357143</td>\n",
       "    </tr>\n",
       "    <tr>\n",
       "      <th>2</th>\n",
       "      <td>Cloud Web &amp; Mobile</td>\n",
       "      <td>1.428571</td>\n",
       "    </tr>\n",
       "    <tr>\n",
       "      <th>3</th>\n",
       "      <td>Cognitive Robot Systems</td>\n",
       "      <td>2.000000</td>\n",
       "    </tr>\n",
       "  </tbody>\n",
       "</table>\n",
       "</div>"
      ],
      "text/plain": [
       "                         sub    rating\n",
       "0   Advanced Image Synthesis  0.750000\n",
       "1  Advanced Web Technologies  1.357143\n",
       "2         Cloud Web & Mobile  1.428571\n",
       "3    Cognitive Robot Systems  2.000000"
      ]
     },
     "execution_count": 170,
     "metadata": {},
     "output_type": "execute_result"
    }
   ],
   "source": [
    "df_ratings.head(4)"
   ]
  },
  {
   "cell_type": "markdown",
   "metadata": {},
   "source": [
    "## Dash"
   ]
  },
  {
   "cell_type": "code",
   "execution_count": 171,
   "metadata": {},
   "outputs": [],
   "source": [
    "external_stylesheets = ['https://codepen.io/chriddyp/pen/bWLwgP.css']"
   ]
  },
  {
   "cell_type": "code",
   "execution_count": 172,
   "metadata": {},
   "outputs": [],
   "source": [
    "fig3 = px.scatter(newrules_up, x=\"support\", y=\"confidence\", size=\"lift\",hover_name=\"itemsets1\")"
   ]
  },
  {
   "cell_type": "code",
   "execution_count": 473,
   "metadata": {},
   "outputs": [],
   "source": [
    "#fig5=px.histogram(df_subs1,x='sub',color='sub')"
   ]
  },
  {
   "cell_type": "code",
   "execution_count": 476,
   "metadata": {},
   "outputs": [
    {
     "data": {
      "application/vnd.plotly.v1+json": {
       "config": {
        "plotlyServerURL": "https://plot.ly"
       },
       "data": [
        {
         "type": "histogram",
         "y": [
          "Advanced Image Synthesis",
          "Advanced Web Technologies",
          "Development of Safe and Secure Software",
          "Distributed Systems",
          "Information Retrieval",
          "Learning Analytics",
          "Peer-to-Peer Systems",
          "Advanced Web Technologies",
          "Cloud Web & Mobile",
          "Cognitive Robot Systems",
          "Development of Safe and Secure Software",
          "Distributed Systems",
          "Electronic Communities and Social Networks",
          "Gestaltung interaktiver Lehr-/Lern-Systeme",
          "Information Engineering",
          "Information Retrieval",
          "Learning Analytics",
          "Peer-to-Peer Systems",
          "Distributed Systems",
          "Electronic Communities and Social Networks",
          "Formal Specification of Software Systems",
          "Gestaltung interaktiver Lehr-/Lern-Systeme",
          "Information Engineering",
          "Information Mining",
          "Information Retrieval",
          "Interaktive Systeme",
          "Internet of Things- Protocols and System Software",
          "Learning Analytics",
          "Recommender Systems",
          "Distributed Systems",
          "Electronic Communities and Social Networks",
          "Gestaltung interaktiver Lehr-/Lern-Systeme",
          "Interaktive Systeme",
          "Peer-to-Peer Systems",
          "Distributed Systems",
          "Internet of Things- Protocols and System Software",
          "Peer-to-Peer Systems",
          "Test and Reliability of Digital Systems",
          "Advanced Web Technologies",
          "Cloud Web & Mobile",
          "Computer Robot Vision",
          "Development of Safe and Secure Software",
          "Distributed Systems",
          "Formal Specification of Software Systems",
          "Information Engineering",
          "Information Mining",
          "Interaktive Systeme",
          "Internet of Things- Protocols and System Software",
          "Pattern and Component based Software Development",
          "Peer-to-Peer Systems",
          "Advanced Web Technologies",
          "Electronic Communities and Social Networks",
          "Formal Specification of Software Systems",
          "Interaktive Systeme",
          "Learning Analytics",
          "Recommender Systems",
          "Advanced Image Synthesis",
          "Advanced Web Technologies",
          "Cognitive Robot Systems",
          "Computer Graphics",
          "Computer Robot Vision",
          "Development of Safe and Secure Software",
          "Distributed Systems",
          "Gestaltung interaktiver Lehr-/Lern-Systeme",
          "Information Mining",
          "Internet of Things- Protocols and System Software",
          "Peer-to-Peer Systems",
          "Scientific Visualization",
          "Advanced Web Technologies",
          "Digital Games Research",
          "Distributed Systems",
          "Electronic Communities and Social Networks",
          "Learning Analytics",
          "Computer Robot Vision",
          "Distributed Systems",
          "Electronic Communities and Social Networks",
          "Formal Specification of Software Systems",
          "Information Retrieval",
          "Interaktive Systeme",
          "Cloud Web & Mobile",
          "Cognitive Robot Systems",
          "Distributed Systems",
          "Electronic Communities and Social Networks",
          "Formal Specification of Software Systems",
          "Interaktive Systeme",
          "Internet of Things- Protocols and System Software",
          "Peer-to-Peer Systems",
          "Recommender Systems",
          "Advanced Web Technologies",
          "Cloud Web & Mobile",
          "Computer Robot Vision",
          "Gestaltung interaktiver Lehr-/Lern-Systeme",
          "Development of Safe and Secure Software",
          "Interaktive Systeme",
          "Distributed Systems",
          "Interaktive Systeme",
          "Internet of Things- Protocols and System Software",
          "Computer Graphics",
          "Distributed Systems",
          "Information Mining",
          "Learning Analytics",
          "Formal Specification of Software Systems",
          "Information Engineering",
          "Information Mining",
          "Information Retrieval",
          "Neurocomputing and Organic Computing",
          "Electronic Communities and Social Networks",
          "Formal Specification of Software Systems",
          "Information Engineering",
          "Information Mining",
          "Information Retrieval",
          "Neurocomputing and Organic Computing",
          "Recommender Systems",
          "Distributed Systems",
          "Information Engineering",
          "Information Mining",
          "Information Retrieval",
          "Neurocomputing and Organic Computing",
          "Recommender Systems",
          "Distributed Systems",
          "Information Engineering",
          "Information Mining",
          "Information Retrieval",
          "Learning Analytics",
          "Peer-to-Peer Systems",
          "Advanced Web Technologies",
          "Digital Games Research",
          "Electronic Communities and Social Networks",
          "Formal Specification of Software Systems",
          "Interaktive Systeme",
          "Advanced Web Technologies",
          "Development of Safe and Secure Software",
          "Distributed Systems",
          "Electronic Communities and Social Networks",
          "Gestaltung interaktiver Lehr-/Lern-Systeme",
          "Information Engineering",
          "Information Retrieval",
          "Interaktive Systeme",
          "Internet of Things- Protocols and System Software",
          "Pattern and Component based Software Development",
          "Recommender Systems",
          "Advanced Image Synthesis",
          "Advanced Web Technologies",
          "Cloud Web & Mobile",
          "Cognitive Robot Systems",
          "Computer Graphics",
          "Computer Robot Vision",
          "Information Retrieval",
          "Internet of Things- Protocols and System Software",
          "Advanced Web Technologies",
          "Gestaltung interaktiver Lehr-/Lern-Systeme",
          "Information Mining",
          "Peer-to-Peer Systems",
          "Advanced Image Synthesis",
          "Information Retrieval",
          "Internet of Things- Protocols and System Software",
          "Cloud Web & Mobile",
          "Information Mining",
          "Natural-Language-based Human-Computer Interaction",
          "Recommender Systems",
          "Advanced Web Technologies",
          "Development of Safe and Secure Software",
          "Electronic Communities and Social Networks",
          "Gestaltung interaktiver Lehr-/Lern-Systeme",
          "Information Retrieval",
          "Internet of Things- Protocols and System Software",
          "Advanced Web Technologies",
          "Advanced Web Technologies",
          "Peer-to-Peer Systems",
          "Computer Graphics",
          "Distributed Systems",
          "Electronic Communities and Social Networks",
          "Formal Specification of Software Systems",
          "Gestaltung interaktiver Lehr-/Lern-Systeme",
          "Information Engineering",
          "Information Mining",
          "Information Retrieval",
          "Interaktive Systeme",
          "Internet of Things- Protocols and System Software",
          "Recommender Systems",
          "Cloud Web & Mobile",
          "Distributed Systems",
          "Electronic Communities and Social Networks",
          "Information Engineering",
          "Information Mining",
          "Information Retrieval",
          "Internet of Things- Protocols and System Software",
          "Peer-to-Peer Systems"
         ]
        }
       ],
       "layout": {
        "template": {
         "data": {
          "bar": [
           {
            "error_x": {
             "color": "#2a3f5f"
            },
            "error_y": {
             "color": "#2a3f5f"
            },
            "marker": {
             "line": {
              "color": "#E5ECF6",
              "width": 0.5
             }
            },
            "type": "bar"
           }
          ],
          "barpolar": [
           {
            "marker": {
             "line": {
              "color": "#E5ECF6",
              "width": 0.5
             }
            },
            "type": "barpolar"
           }
          ],
          "carpet": [
           {
            "aaxis": {
             "endlinecolor": "#2a3f5f",
             "gridcolor": "white",
             "linecolor": "white",
             "minorgridcolor": "white",
             "startlinecolor": "#2a3f5f"
            },
            "baxis": {
             "endlinecolor": "#2a3f5f",
             "gridcolor": "white",
             "linecolor": "white",
             "minorgridcolor": "white",
             "startlinecolor": "#2a3f5f"
            },
            "type": "carpet"
           }
          ],
          "choropleth": [
           {
            "colorbar": {
             "outlinewidth": 0,
             "ticks": ""
            },
            "type": "choropleth"
           }
          ],
          "contour": [
           {
            "colorbar": {
             "outlinewidth": 0,
             "ticks": ""
            },
            "colorscale": [
             [
              0,
              "#0d0887"
             ],
             [
              0.1111111111111111,
              "#46039f"
             ],
             [
              0.2222222222222222,
              "#7201a8"
             ],
             [
              0.3333333333333333,
              "#9c179e"
             ],
             [
              0.4444444444444444,
              "#bd3786"
             ],
             [
              0.5555555555555556,
              "#d8576b"
             ],
             [
              0.6666666666666666,
              "#ed7953"
             ],
             [
              0.7777777777777778,
              "#fb9f3a"
             ],
             [
              0.8888888888888888,
              "#fdca26"
             ],
             [
              1,
              "#f0f921"
             ]
            ],
            "type": "contour"
           }
          ],
          "contourcarpet": [
           {
            "colorbar": {
             "outlinewidth": 0,
             "ticks": ""
            },
            "type": "contourcarpet"
           }
          ],
          "heatmap": [
           {
            "colorbar": {
             "outlinewidth": 0,
             "ticks": ""
            },
            "colorscale": [
             [
              0,
              "#0d0887"
             ],
             [
              0.1111111111111111,
              "#46039f"
             ],
             [
              0.2222222222222222,
              "#7201a8"
             ],
             [
              0.3333333333333333,
              "#9c179e"
             ],
             [
              0.4444444444444444,
              "#bd3786"
             ],
             [
              0.5555555555555556,
              "#d8576b"
             ],
             [
              0.6666666666666666,
              "#ed7953"
             ],
             [
              0.7777777777777778,
              "#fb9f3a"
             ],
             [
              0.8888888888888888,
              "#fdca26"
             ],
             [
              1,
              "#f0f921"
             ]
            ],
            "type": "heatmap"
           }
          ],
          "heatmapgl": [
           {
            "colorbar": {
             "outlinewidth": 0,
             "ticks": ""
            },
            "colorscale": [
             [
              0,
              "#0d0887"
             ],
             [
              0.1111111111111111,
              "#46039f"
             ],
             [
              0.2222222222222222,
              "#7201a8"
             ],
             [
              0.3333333333333333,
              "#9c179e"
             ],
             [
              0.4444444444444444,
              "#bd3786"
             ],
             [
              0.5555555555555556,
              "#d8576b"
             ],
             [
              0.6666666666666666,
              "#ed7953"
             ],
             [
              0.7777777777777778,
              "#fb9f3a"
             ],
             [
              0.8888888888888888,
              "#fdca26"
             ],
             [
              1,
              "#f0f921"
             ]
            ],
            "type": "heatmapgl"
           }
          ],
          "histogram": [
           {
            "marker": {
             "colorbar": {
              "outlinewidth": 0,
              "ticks": ""
             }
            },
            "type": "histogram"
           }
          ],
          "histogram2d": [
           {
            "colorbar": {
             "outlinewidth": 0,
             "ticks": ""
            },
            "colorscale": [
             [
              0,
              "#0d0887"
             ],
             [
              0.1111111111111111,
              "#46039f"
             ],
             [
              0.2222222222222222,
              "#7201a8"
             ],
             [
              0.3333333333333333,
              "#9c179e"
             ],
             [
              0.4444444444444444,
              "#bd3786"
             ],
             [
              0.5555555555555556,
              "#d8576b"
             ],
             [
              0.6666666666666666,
              "#ed7953"
             ],
             [
              0.7777777777777778,
              "#fb9f3a"
             ],
             [
              0.8888888888888888,
              "#fdca26"
             ],
             [
              1,
              "#f0f921"
             ]
            ],
            "type": "histogram2d"
           }
          ],
          "histogram2dcontour": [
           {
            "colorbar": {
             "outlinewidth": 0,
             "ticks": ""
            },
            "colorscale": [
             [
              0,
              "#0d0887"
             ],
             [
              0.1111111111111111,
              "#46039f"
             ],
             [
              0.2222222222222222,
              "#7201a8"
             ],
             [
              0.3333333333333333,
              "#9c179e"
             ],
             [
              0.4444444444444444,
              "#bd3786"
             ],
             [
              0.5555555555555556,
              "#d8576b"
             ],
             [
              0.6666666666666666,
              "#ed7953"
             ],
             [
              0.7777777777777778,
              "#fb9f3a"
             ],
             [
              0.8888888888888888,
              "#fdca26"
             ],
             [
              1,
              "#f0f921"
             ]
            ],
            "type": "histogram2dcontour"
           }
          ],
          "mesh3d": [
           {
            "colorbar": {
             "outlinewidth": 0,
             "ticks": ""
            },
            "type": "mesh3d"
           }
          ],
          "parcoords": [
           {
            "line": {
             "colorbar": {
              "outlinewidth": 0,
              "ticks": ""
             }
            },
            "type": "parcoords"
           }
          ],
          "pie": [
           {
            "automargin": true,
            "type": "pie"
           }
          ],
          "scatter": [
           {
            "marker": {
             "colorbar": {
              "outlinewidth": 0,
              "ticks": ""
             }
            },
            "type": "scatter"
           }
          ],
          "scatter3d": [
           {
            "line": {
             "colorbar": {
              "outlinewidth": 0,
              "ticks": ""
             }
            },
            "marker": {
             "colorbar": {
              "outlinewidth": 0,
              "ticks": ""
             }
            },
            "type": "scatter3d"
           }
          ],
          "scattercarpet": [
           {
            "marker": {
             "colorbar": {
              "outlinewidth": 0,
              "ticks": ""
             }
            },
            "type": "scattercarpet"
           }
          ],
          "scattergeo": [
           {
            "marker": {
             "colorbar": {
              "outlinewidth": 0,
              "ticks": ""
             }
            },
            "type": "scattergeo"
           }
          ],
          "scattergl": [
           {
            "marker": {
             "colorbar": {
              "outlinewidth": 0,
              "ticks": ""
             }
            },
            "type": "scattergl"
           }
          ],
          "scattermapbox": [
           {
            "marker": {
             "colorbar": {
              "outlinewidth": 0,
              "ticks": ""
             }
            },
            "type": "scattermapbox"
           }
          ],
          "scatterpolar": [
           {
            "marker": {
             "colorbar": {
              "outlinewidth": 0,
              "ticks": ""
             }
            },
            "type": "scatterpolar"
           }
          ],
          "scatterpolargl": [
           {
            "marker": {
             "colorbar": {
              "outlinewidth": 0,
              "ticks": ""
             }
            },
            "type": "scatterpolargl"
           }
          ],
          "scatterternary": [
           {
            "marker": {
             "colorbar": {
              "outlinewidth": 0,
              "ticks": ""
             }
            },
            "type": "scatterternary"
           }
          ],
          "surface": [
           {
            "colorbar": {
             "outlinewidth": 0,
             "ticks": ""
            },
            "colorscale": [
             [
              0,
              "#0d0887"
             ],
             [
              0.1111111111111111,
              "#46039f"
             ],
             [
              0.2222222222222222,
              "#7201a8"
             ],
             [
              0.3333333333333333,
              "#9c179e"
             ],
             [
              0.4444444444444444,
              "#bd3786"
             ],
             [
              0.5555555555555556,
              "#d8576b"
             ],
             [
              0.6666666666666666,
              "#ed7953"
             ],
             [
              0.7777777777777778,
              "#fb9f3a"
             ],
             [
              0.8888888888888888,
              "#fdca26"
             ],
             [
              1,
              "#f0f921"
             ]
            ],
            "type": "surface"
           }
          ],
          "table": [
           {
            "cells": {
             "fill": {
              "color": "#EBF0F8"
             },
             "line": {
              "color": "white"
             }
            },
            "header": {
             "fill": {
              "color": "#C8D4E3"
             },
             "line": {
              "color": "white"
             }
            },
            "type": "table"
           }
          ]
         },
         "layout": {
          "annotationdefaults": {
           "arrowcolor": "#2a3f5f",
           "arrowhead": 0,
           "arrowwidth": 1
          },
          "coloraxis": {
           "colorbar": {
            "outlinewidth": 0,
            "ticks": ""
           }
          },
          "colorscale": {
           "diverging": [
            [
             0,
             "#8e0152"
            ],
            [
             0.1,
             "#c51b7d"
            ],
            [
             0.2,
             "#de77ae"
            ],
            [
             0.3,
             "#f1b6da"
            ],
            [
             0.4,
             "#fde0ef"
            ],
            [
             0.5,
             "#f7f7f7"
            ],
            [
             0.6,
             "#e6f5d0"
            ],
            [
             0.7,
             "#b8e186"
            ],
            [
             0.8,
             "#7fbc41"
            ],
            [
             0.9,
             "#4d9221"
            ],
            [
             1,
             "#276419"
            ]
           ],
           "sequential": [
            [
             0,
             "#0d0887"
            ],
            [
             0.1111111111111111,
             "#46039f"
            ],
            [
             0.2222222222222222,
             "#7201a8"
            ],
            [
             0.3333333333333333,
             "#9c179e"
            ],
            [
             0.4444444444444444,
             "#bd3786"
            ],
            [
             0.5555555555555556,
             "#d8576b"
            ],
            [
             0.6666666666666666,
             "#ed7953"
            ],
            [
             0.7777777777777778,
             "#fb9f3a"
            ],
            [
             0.8888888888888888,
             "#fdca26"
            ],
            [
             1,
             "#f0f921"
            ]
           ],
           "sequentialminus": [
            [
             0,
             "#0d0887"
            ],
            [
             0.1111111111111111,
             "#46039f"
            ],
            [
             0.2222222222222222,
             "#7201a8"
            ],
            [
             0.3333333333333333,
             "#9c179e"
            ],
            [
             0.4444444444444444,
             "#bd3786"
            ],
            [
             0.5555555555555556,
             "#d8576b"
            ],
            [
             0.6666666666666666,
             "#ed7953"
            ],
            [
             0.7777777777777778,
             "#fb9f3a"
            ],
            [
             0.8888888888888888,
             "#fdca26"
            ],
            [
             1,
             "#f0f921"
            ]
           ]
          },
          "colorway": [
           "#636efa",
           "#EF553B",
           "#00cc96",
           "#ab63fa",
           "#FFA15A",
           "#19d3f3",
           "#FF6692",
           "#B6E880",
           "#FF97FF",
           "#FECB52"
          ],
          "font": {
           "color": "#2a3f5f"
          },
          "geo": {
           "bgcolor": "white",
           "lakecolor": "white",
           "landcolor": "#E5ECF6",
           "showlakes": true,
           "showland": true,
           "subunitcolor": "white"
          },
          "hoverlabel": {
           "align": "left"
          },
          "hovermode": "closest",
          "mapbox": {
           "style": "light"
          },
          "paper_bgcolor": "white",
          "plot_bgcolor": "#E5ECF6",
          "polar": {
           "angularaxis": {
            "gridcolor": "white",
            "linecolor": "white",
            "ticks": ""
           },
           "bgcolor": "#E5ECF6",
           "radialaxis": {
            "gridcolor": "white",
            "linecolor": "white",
            "ticks": ""
           }
          },
          "scene": {
           "xaxis": {
            "backgroundcolor": "#E5ECF6",
            "gridcolor": "white",
            "gridwidth": 2,
            "linecolor": "white",
            "showbackground": true,
            "ticks": "",
            "zerolinecolor": "white"
           },
           "yaxis": {
            "backgroundcolor": "#E5ECF6",
            "gridcolor": "white",
            "gridwidth": 2,
            "linecolor": "white",
            "showbackground": true,
            "ticks": "",
            "zerolinecolor": "white"
           },
           "zaxis": {
            "backgroundcolor": "#E5ECF6",
            "gridcolor": "white",
            "gridwidth": 2,
            "linecolor": "white",
            "showbackground": true,
            "ticks": "",
            "zerolinecolor": "white"
           }
          },
          "shapedefaults": {
           "line": {
            "color": "#2a3f5f"
           }
          },
          "ternary": {
           "aaxis": {
            "gridcolor": "white",
            "linecolor": "white",
            "ticks": ""
           },
           "baxis": {
            "gridcolor": "white",
            "linecolor": "white",
            "ticks": ""
           },
           "bgcolor": "#E5ECF6",
           "caxis": {
            "gridcolor": "white",
            "linecolor": "white",
            "ticks": ""
           }
          },
          "title": {
           "x": 0.05
          },
          "xaxis": {
           "automargin": true,
           "gridcolor": "white",
           "linecolor": "white",
           "ticks": "",
           "title": {
            "standoff": 15
           },
           "zerolinecolor": "white",
           "zerolinewidth": 2
          },
          "yaxis": {
           "automargin": true,
           "gridcolor": "white",
           "linecolor": "white",
           "ticks": "",
           "title": {
            "standoff": 15
           },
           "zerolinecolor": "white",
           "zerolinewidth": 2
          }
         }
        }
       }
      },
      "text/html": [
       "<div>\n",
       "        \n",
       "        \n",
       "            <div id=\"a28f7ee8-dbe7-45f7-9199-5c6b2df5208c\" class=\"plotly-graph-div\" style=\"height:525px; width:100%;\"></div>\n",
       "            <script type=\"text/javascript\">\n",
       "                require([\"plotly\"], function(Plotly) {\n",
       "                    window.PLOTLYENV=window.PLOTLYENV || {};\n",
       "                    \n",
       "                if (document.getElementById(\"a28f7ee8-dbe7-45f7-9199-5c6b2df5208c\")) {\n",
       "                    Plotly.newPlot(\n",
       "                        'a28f7ee8-dbe7-45f7-9199-5c6b2df5208c',\n",
       "                        [{\"type\": \"histogram\", \"y\": [\"Advanced Image Synthesis\", \"Advanced Web Technologies\", \"Development of Safe and Secure Software\", \"Distributed Systems\", \"Information Retrieval\", \"Learning Analytics\", \"Peer-to-Peer Systems\", \"Advanced Web Technologies\", \"Cloud Web & Mobile\", \"Cognitive Robot Systems\", \"Development of Safe and Secure Software\", \"Distributed Systems\", \"Electronic Communities and Social Networks\", \"Gestaltung interaktiver Lehr-/Lern-Systeme\", \"Information Engineering\", \"Information Retrieval\", \"Learning Analytics\", \"Peer-to-Peer Systems\", \"Distributed Systems\", \"Electronic Communities and Social Networks\", \"Formal Specification of Software Systems\", \"Gestaltung interaktiver Lehr-/Lern-Systeme\", \"Information Engineering\", \"Information Mining\", \"Information Retrieval\", \"Interaktive Systeme\", \"Internet of Things- Protocols and System Software\", \"Learning Analytics\", \"Recommender Systems\", \"Distributed Systems\", \"Electronic Communities and Social Networks\", \"Gestaltung interaktiver Lehr-/Lern-Systeme\", \"Interaktive Systeme\", \"Peer-to-Peer Systems\", \"Distributed Systems\", \"Internet of Things- Protocols and System Software\", \"Peer-to-Peer Systems\", \"Test and Reliability of Digital Systems\", \"Advanced Web Technologies\", \"Cloud Web & Mobile\", \"Computer Robot Vision\", \"Development of Safe and Secure Software\", \"Distributed Systems\", \"Formal Specification of Software Systems\", \"Information Engineering\", \"Information Mining\", \"Interaktive Systeme\", \"Internet of Things- Protocols and System Software\", \"Pattern and Component based Software Development\", \"Peer-to-Peer Systems\", \"Advanced Web Technologies\", \"Electronic Communities and Social Networks\", \"Formal Specification of Software Systems\", \"Interaktive Systeme\", \"Learning Analytics\", \"Recommender Systems\", \"Advanced Image Synthesis\", \"Advanced Web Technologies\", \"Cognitive Robot Systems\", \"Computer Graphics\", \"Computer Robot Vision\", \"Development of Safe and Secure Software\", \"Distributed Systems\", \"Gestaltung interaktiver Lehr-/Lern-Systeme\", \"Information Mining\", \"Internet of Things- Protocols and System Software\", \"Peer-to-Peer Systems\", \"Scientific Visualization\", \"Advanced Web Technologies\", \"Digital Games Research\", \"Distributed Systems\", \"Electronic Communities and Social Networks\", \"Learning Analytics\", \"Computer Robot Vision\", \"Distributed Systems\", \"Electronic Communities and Social Networks\", \"Formal Specification of Software Systems\", \"Information Retrieval\", \"Interaktive Systeme\", \"Cloud Web & Mobile\", \"Cognitive Robot Systems\", \"Distributed Systems\", \"Electronic Communities and Social Networks\", \"Formal Specification of Software Systems\", \"Interaktive Systeme\", \"Internet of Things- Protocols and System Software\", \"Peer-to-Peer Systems\", \"Recommender Systems\", \"Advanced Web Technologies\", \"Cloud Web & Mobile\", \"Computer Robot Vision\", \"Gestaltung interaktiver Lehr-/Lern-Systeme\", \"Development of Safe and Secure Software\", \"Interaktive Systeme\", \"Distributed Systems\", \"Interaktive Systeme\", \"Internet of Things- Protocols and System Software\", \"Computer Graphics\", \"Distributed Systems\", \"Information Mining\", \"Learning Analytics\", \"Formal Specification of Software Systems\", \"Information Engineering\", \"Information Mining\", \"Information Retrieval\", \"Neurocomputing and Organic Computing\", \"Electronic Communities and Social Networks\", \"Formal Specification of Software Systems\", \"Information Engineering\", \"Information Mining\", \"Information Retrieval\", \"Neurocomputing and Organic Computing\", \"Recommender Systems\", \"Distributed Systems\", \"Information Engineering\", \"Information Mining\", \"Information Retrieval\", \"Neurocomputing and Organic Computing\", \"Recommender Systems\", \"Distributed Systems\", \"Information Engineering\", \"Information Mining\", \"Information Retrieval\", \"Learning Analytics\", \"Peer-to-Peer Systems\", \"Advanced Web Technologies\", \"Digital Games Research\", \"Electronic Communities and Social Networks\", \"Formal Specification of Software Systems\", \"Interaktive Systeme\", \"Advanced Web Technologies\", \"Development of Safe and Secure Software\", \"Distributed Systems\", \"Electronic Communities and Social Networks\", \"Gestaltung interaktiver Lehr-/Lern-Systeme\", \"Information Engineering\", \"Information Retrieval\", \"Interaktive Systeme\", \"Internet of Things- Protocols and System Software\", \"Pattern and Component based Software Development\", \"Recommender Systems\", \"Advanced Image Synthesis\", \"Advanced Web Technologies\", \"Cloud Web & Mobile\", \"Cognitive Robot Systems\", \"Computer Graphics\", \"Computer Robot Vision\", \"Information Retrieval\", \"Internet of Things- Protocols and System Software\", \"Advanced Web Technologies\", \"Gestaltung interaktiver Lehr-/Lern-Systeme\", \"Information Mining\", \"Peer-to-Peer Systems\", \"Advanced Image Synthesis\", \"Information Retrieval\", \"Internet of Things- Protocols and System Software\", \"Cloud Web & Mobile\", \"Information Mining\", \"Natural-Language-based Human-Computer Interaction\", \"Recommender Systems\", \"Advanced Web Technologies\", \"Development of Safe and Secure Software\", \"Electronic Communities and Social Networks\", \"Gestaltung interaktiver Lehr-/Lern-Systeme\", \"Information Retrieval\", \"Internet of Things- Protocols and System Software\", \"Advanced Web Technologies\", \"Advanced Web Technologies\", \"Peer-to-Peer Systems\", \"Computer Graphics\", \"Distributed Systems\", \"Electronic Communities and Social Networks\", \"Formal Specification of Software Systems\", \"Gestaltung interaktiver Lehr-/Lern-Systeme\", \"Information Engineering\", \"Information Mining\", \"Information Retrieval\", \"Interaktive Systeme\", \"Internet of Things- Protocols and System Software\", \"Recommender Systems\", \"Cloud Web & Mobile\", \"Distributed Systems\", \"Electronic Communities and Social Networks\", \"Information Engineering\", \"Information Mining\", \"Information Retrieval\", \"Internet of Things- Protocols and System Software\", \"Peer-to-Peer Systems\"]}],\n",
       "                        {\"template\": {\"data\": {\"bar\": [{\"error_x\": {\"color\": \"#2a3f5f\"}, \"error_y\": {\"color\": \"#2a3f5f\"}, \"marker\": {\"line\": {\"color\": \"#E5ECF6\", \"width\": 0.5}}, \"type\": \"bar\"}], \"barpolar\": [{\"marker\": {\"line\": {\"color\": \"#E5ECF6\", \"width\": 0.5}}, \"type\": \"barpolar\"}], \"carpet\": [{\"aaxis\": {\"endlinecolor\": \"#2a3f5f\", \"gridcolor\": \"white\", \"linecolor\": \"white\", \"minorgridcolor\": \"white\", \"startlinecolor\": \"#2a3f5f\"}, \"baxis\": {\"endlinecolor\": \"#2a3f5f\", \"gridcolor\": \"white\", \"linecolor\": \"white\", \"minorgridcolor\": \"white\", \"startlinecolor\": \"#2a3f5f\"}, \"type\": \"carpet\"}], \"choropleth\": [{\"colorbar\": {\"outlinewidth\": 0, \"ticks\": \"\"}, \"type\": \"choropleth\"}], \"contour\": [{\"colorbar\": {\"outlinewidth\": 0, \"ticks\": \"\"}, \"colorscale\": [[0.0, \"#0d0887\"], [0.1111111111111111, \"#46039f\"], [0.2222222222222222, \"#7201a8\"], [0.3333333333333333, \"#9c179e\"], [0.4444444444444444, \"#bd3786\"], [0.5555555555555556, \"#d8576b\"], [0.6666666666666666, \"#ed7953\"], [0.7777777777777778, \"#fb9f3a\"], [0.8888888888888888, \"#fdca26\"], [1.0, \"#f0f921\"]], \"type\": \"contour\"}], \"contourcarpet\": [{\"colorbar\": {\"outlinewidth\": 0, \"ticks\": \"\"}, \"type\": \"contourcarpet\"}], \"heatmap\": [{\"colorbar\": {\"outlinewidth\": 0, \"ticks\": \"\"}, \"colorscale\": [[0.0, \"#0d0887\"], [0.1111111111111111, \"#46039f\"], [0.2222222222222222, \"#7201a8\"], [0.3333333333333333, \"#9c179e\"], [0.4444444444444444, \"#bd3786\"], [0.5555555555555556, \"#d8576b\"], [0.6666666666666666, \"#ed7953\"], [0.7777777777777778, \"#fb9f3a\"], [0.8888888888888888, \"#fdca26\"], [1.0, \"#f0f921\"]], \"type\": \"heatmap\"}], \"heatmapgl\": [{\"colorbar\": {\"outlinewidth\": 0, \"ticks\": \"\"}, \"colorscale\": [[0.0, \"#0d0887\"], [0.1111111111111111, \"#46039f\"], [0.2222222222222222, \"#7201a8\"], [0.3333333333333333, \"#9c179e\"], [0.4444444444444444, \"#bd3786\"], [0.5555555555555556, \"#d8576b\"], [0.6666666666666666, \"#ed7953\"], [0.7777777777777778, \"#fb9f3a\"], [0.8888888888888888, \"#fdca26\"], [1.0, \"#f0f921\"]], \"type\": \"heatmapgl\"}], \"histogram\": [{\"marker\": {\"colorbar\": {\"outlinewidth\": 0, \"ticks\": \"\"}}, \"type\": \"histogram\"}], \"histogram2d\": [{\"colorbar\": {\"outlinewidth\": 0, \"ticks\": \"\"}, \"colorscale\": [[0.0, \"#0d0887\"], [0.1111111111111111, \"#46039f\"], [0.2222222222222222, \"#7201a8\"], [0.3333333333333333, \"#9c179e\"], [0.4444444444444444, \"#bd3786\"], [0.5555555555555556, \"#d8576b\"], [0.6666666666666666, \"#ed7953\"], [0.7777777777777778, \"#fb9f3a\"], [0.8888888888888888, \"#fdca26\"], [1.0, \"#f0f921\"]], \"type\": \"histogram2d\"}], \"histogram2dcontour\": [{\"colorbar\": {\"outlinewidth\": 0, \"ticks\": \"\"}, \"colorscale\": [[0.0, \"#0d0887\"], [0.1111111111111111, \"#46039f\"], [0.2222222222222222, \"#7201a8\"], [0.3333333333333333, \"#9c179e\"], [0.4444444444444444, \"#bd3786\"], [0.5555555555555556, \"#d8576b\"], [0.6666666666666666, \"#ed7953\"], [0.7777777777777778, \"#fb9f3a\"], [0.8888888888888888, \"#fdca26\"], [1.0, \"#f0f921\"]], \"type\": \"histogram2dcontour\"}], \"mesh3d\": [{\"colorbar\": {\"outlinewidth\": 0, \"ticks\": \"\"}, \"type\": \"mesh3d\"}], \"parcoords\": [{\"line\": {\"colorbar\": {\"outlinewidth\": 0, \"ticks\": \"\"}}, \"type\": \"parcoords\"}], \"pie\": [{\"automargin\": true, \"type\": \"pie\"}], \"scatter\": [{\"marker\": {\"colorbar\": {\"outlinewidth\": 0, \"ticks\": \"\"}}, \"type\": \"scatter\"}], \"scatter3d\": [{\"line\": {\"colorbar\": {\"outlinewidth\": 0, \"ticks\": \"\"}}, \"marker\": {\"colorbar\": {\"outlinewidth\": 0, \"ticks\": \"\"}}, \"type\": \"scatter3d\"}], \"scattercarpet\": [{\"marker\": {\"colorbar\": {\"outlinewidth\": 0, \"ticks\": \"\"}}, \"type\": \"scattercarpet\"}], \"scattergeo\": [{\"marker\": {\"colorbar\": {\"outlinewidth\": 0, \"ticks\": \"\"}}, \"type\": \"scattergeo\"}], \"scattergl\": [{\"marker\": {\"colorbar\": {\"outlinewidth\": 0, \"ticks\": \"\"}}, \"type\": \"scattergl\"}], \"scattermapbox\": [{\"marker\": {\"colorbar\": {\"outlinewidth\": 0, \"ticks\": \"\"}}, \"type\": \"scattermapbox\"}], \"scatterpolar\": [{\"marker\": {\"colorbar\": {\"outlinewidth\": 0, \"ticks\": \"\"}}, \"type\": \"scatterpolar\"}], \"scatterpolargl\": [{\"marker\": {\"colorbar\": {\"outlinewidth\": 0, \"ticks\": \"\"}}, \"type\": \"scatterpolargl\"}], \"scatterternary\": [{\"marker\": {\"colorbar\": {\"outlinewidth\": 0, \"ticks\": \"\"}}, \"type\": \"scatterternary\"}], \"surface\": [{\"colorbar\": {\"outlinewidth\": 0, \"ticks\": \"\"}, \"colorscale\": [[0.0, \"#0d0887\"], [0.1111111111111111, \"#46039f\"], [0.2222222222222222, \"#7201a8\"], [0.3333333333333333, \"#9c179e\"], [0.4444444444444444, \"#bd3786\"], [0.5555555555555556, \"#d8576b\"], [0.6666666666666666, \"#ed7953\"], [0.7777777777777778, \"#fb9f3a\"], [0.8888888888888888, \"#fdca26\"], [1.0, \"#f0f921\"]], \"type\": \"surface\"}], \"table\": [{\"cells\": {\"fill\": {\"color\": \"#EBF0F8\"}, \"line\": {\"color\": \"white\"}}, \"header\": {\"fill\": {\"color\": \"#C8D4E3\"}, \"line\": {\"color\": \"white\"}}, \"type\": \"table\"}]}, \"layout\": {\"annotationdefaults\": {\"arrowcolor\": \"#2a3f5f\", \"arrowhead\": 0, \"arrowwidth\": 1}, \"coloraxis\": {\"colorbar\": {\"outlinewidth\": 0, \"ticks\": \"\"}}, \"colorscale\": {\"diverging\": [[0, \"#8e0152\"], [0.1, \"#c51b7d\"], [0.2, \"#de77ae\"], [0.3, \"#f1b6da\"], [0.4, \"#fde0ef\"], [0.5, \"#f7f7f7\"], [0.6, \"#e6f5d0\"], [0.7, \"#b8e186\"], [0.8, \"#7fbc41\"], [0.9, \"#4d9221\"], [1, \"#276419\"]], \"sequential\": [[0.0, \"#0d0887\"], [0.1111111111111111, \"#46039f\"], [0.2222222222222222, \"#7201a8\"], [0.3333333333333333, \"#9c179e\"], [0.4444444444444444, \"#bd3786\"], [0.5555555555555556, \"#d8576b\"], [0.6666666666666666, \"#ed7953\"], [0.7777777777777778, \"#fb9f3a\"], [0.8888888888888888, \"#fdca26\"], [1.0, \"#f0f921\"]], \"sequentialminus\": [[0.0, \"#0d0887\"], [0.1111111111111111, \"#46039f\"], [0.2222222222222222, \"#7201a8\"], [0.3333333333333333, \"#9c179e\"], [0.4444444444444444, \"#bd3786\"], [0.5555555555555556, \"#d8576b\"], [0.6666666666666666, \"#ed7953\"], [0.7777777777777778, \"#fb9f3a\"], [0.8888888888888888, \"#fdca26\"], [1.0, \"#f0f921\"]]}, \"colorway\": [\"#636efa\", \"#EF553B\", \"#00cc96\", \"#ab63fa\", \"#FFA15A\", \"#19d3f3\", \"#FF6692\", \"#B6E880\", \"#FF97FF\", \"#FECB52\"], \"font\": {\"color\": \"#2a3f5f\"}, \"geo\": {\"bgcolor\": \"white\", \"lakecolor\": \"white\", \"landcolor\": \"#E5ECF6\", \"showlakes\": true, \"showland\": true, \"subunitcolor\": \"white\"}, \"hoverlabel\": {\"align\": \"left\"}, \"hovermode\": \"closest\", \"mapbox\": {\"style\": \"light\"}, \"paper_bgcolor\": \"white\", \"plot_bgcolor\": \"#E5ECF6\", \"polar\": {\"angularaxis\": {\"gridcolor\": \"white\", \"linecolor\": \"white\", \"ticks\": \"\"}, \"bgcolor\": \"#E5ECF6\", \"radialaxis\": {\"gridcolor\": \"white\", \"linecolor\": \"white\", \"ticks\": \"\"}}, \"scene\": {\"xaxis\": {\"backgroundcolor\": \"#E5ECF6\", \"gridcolor\": \"white\", \"gridwidth\": 2, \"linecolor\": \"white\", \"showbackground\": true, \"ticks\": \"\", \"zerolinecolor\": \"white\"}, \"yaxis\": {\"backgroundcolor\": \"#E5ECF6\", \"gridcolor\": \"white\", \"gridwidth\": 2, \"linecolor\": \"white\", \"showbackground\": true, \"ticks\": \"\", \"zerolinecolor\": \"white\"}, \"zaxis\": {\"backgroundcolor\": \"#E5ECF6\", \"gridcolor\": \"white\", \"gridwidth\": 2, \"linecolor\": \"white\", \"showbackground\": true, \"ticks\": \"\", \"zerolinecolor\": \"white\"}}, \"shapedefaults\": {\"line\": {\"color\": \"#2a3f5f\"}}, \"ternary\": {\"aaxis\": {\"gridcolor\": \"white\", \"linecolor\": \"white\", \"ticks\": \"\"}, \"baxis\": {\"gridcolor\": \"white\", \"linecolor\": \"white\", \"ticks\": \"\"}, \"bgcolor\": \"#E5ECF6\", \"caxis\": {\"gridcolor\": \"white\", \"linecolor\": \"white\", \"ticks\": \"\"}}, \"title\": {\"x\": 0.05}, \"xaxis\": {\"automargin\": true, \"gridcolor\": \"white\", \"linecolor\": \"white\", \"ticks\": \"\", \"title\": {\"standoff\": 15}, \"zerolinecolor\": \"white\", \"zerolinewidth\": 2}, \"yaxis\": {\"automargin\": true, \"gridcolor\": \"white\", \"linecolor\": \"white\", \"ticks\": \"\", \"title\": {\"standoff\": 15}, \"zerolinecolor\": \"white\", \"zerolinewidth\": 2}}}},\n",
       "                        {\"responsive\": true}\n",
       "                    ).then(function(){\n",
       "                            \n",
       "var gd = document.getElementById('a28f7ee8-dbe7-45f7-9199-5c6b2df5208c');\n",
       "var x = new MutationObserver(function (mutations, observer) {{\n",
       "        var display = window.getComputedStyle(gd).display;\n",
       "        if (!display || display === 'none') {{\n",
       "            console.log([gd, 'removed!']);\n",
       "            Plotly.purge(gd);\n",
       "            observer.disconnect();\n",
       "        }}\n",
       "}});\n",
       "\n",
       "// Listen for the removal of the full notebook cells\n",
       "var notebookContainer = gd.closest('#notebook-container');\n",
       "if (notebookContainer) {{\n",
       "    x.observe(notebookContainer, {childList: true});\n",
       "}}\n",
       "\n",
       "// Listen for the clearing of the current output cell\n",
       "var outputEl = gd.closest('.output');\n",
       "if (outputEl) {{\n",
       "    x.observe(outputEl, {childList: true});\n",
       "}}\n",
       "\n",
       "                        })\n",
       "                };\n",
       "                });\n",
       "            </script>\n",
       "        </div>"
      ]
     },
     "metadata": {},
     "output_type": "display_data"
    }
   ],
   "source": [
    "fig5 = go.Figure(data=[go.Histogram(y=df_subs1['sub'].values)])\n",
    "fig5.show()"
   ]
  },
  {
   "cell_type": "code",
   "execution_count": 177,
   "metadata": {},
   "outputs": [
    {
     "data": {
      "text/plain": [
       "id              int64\n",
       "sub            object\n",
       "grade          object\n",
       "rating          int32\n",
       "semester       object\n",
       "course id        int8\n",
       "grade_codes      int8\n",
       "dtype: object"
      ]
     },
     "execution_count": 177,
     "metadata": {},
     "output_type": "execute_result"
    }
   ],
   "source": [
    "df_rec.dtypes"
   ]
  },
  {
   "cell_type": "code",
   "execution_count": 178,
   "metadata": {},
   "outputs": [],
   "source": [
    "df_rec1=df_rec"
   ]
  },
  {
   "cell_type": "code",
   "execution_count": 179,
   "metadata": {},
   "outputs": [
    {
     "data": {
      "text/plain": [
       "0"
      ]
     },
     "execution_count": 179,
     "metadata": {},
     "output_type": "execute_result"
    }
   ],
   "source": [
    "df_rec1['semester'].unique()[5]"
   ]
  },
  {
   "cell_type": "code",
   "execution_count": 180,
   "metadata": {},
   "outputs": [],
   "source": [
    "df_rec1[df_rec1['semester']==0]=df_rec1[df_rec1['semester']==0].applymap(str).iloc[0,3]"
   ]
  },
  {
   "cell_type": "code",
   "execution_count": 181,
   "metadata": {},
   "outputs": [
    {
     "data": {
      "text/plain": [
       "array(['2', '1', '3', '4', 'Other', '0'], dtype=object)"
      ]
     },
     "execution_count": 181,
     "metadata": {},
     "output_type": "execute_result"
    }
   ],
   "source": [
    "df_rec1['semester'].unique()"
   ]
  },
  {
   "cell_type": "code",
   "execution_count": null,
   "metadata": {},
   "outputs": [],
   "source": []
  },
  {
   "cell_type": "code",
   "execution_count": 182,
   "metadata": {},
   "outputs": [],
   "source": [
    "df_rec1=df_rec1[df_rec1['rating']!='0']"
   ]
  },
  {
   "cell_type": "code",
   "execution_count": 183,
   "metadata": {},
   "outputs": [
    {
     "data": {
      "text/plain": [
       "array([2, 3, 1, 4, 5, 0], dtype=object)"
      ]
     },
     "execution_count": 183,
     "metadata": {},
     "output_type": "execute_result"
    }
   ],
   "source": [
    "df_rec1['rating'].unique()"
   ]
  },
  {
   "cell_type": "code",
   "execution_count": 899,
   "metadata": {},
   "outputs": [
    {
     "data": {
      "application/vnd.plotly.v1+json": {
       "config": {
        "plotlyServerURL": "https://plot.ly"
       },
       "data": [
        {
         "hoverlabel": {
          "namelength": 0
         },
         "hovertemplate": "sub=Interaktive Systeme<br>semester=1<br>course id=%{x}<br>rating=%{y}",
         "ids": [
          15,
          15,
          15
         ],
         "legendgroup": "sub=Interaktive Systeme",
         "marker": {
          "color": "#636efa",
          "symbol": "circle"
         },
         "mode": "markers",
         "name": "sub=Interaktive Systeme",
         "showlegend": true,
         "type": "scatter",
         "x": [
          15,
          15,
          15
         ],
         "xaxis": "x",
         "y": [
          1,
          2,
          2
         ],
         "yaxis": "y"
        },
        {
         "hoverlabel": {
          "namelength": 0
         },
         "hovertemplate": "sub=Information Engineering<br>semester=1<br>course id=%{x}<br>rating=%{y}",
         "ids": [
          12,
          12,
          12,
          12
         ],
         "legendgroup": "sub=Information Engineering",
         "marker": {
          "color": "#EF553B",
          "symbol": "circle"
         },
         "mode": "markers",
         "name": "sub=Information Engineering",
         "showlegend": true,
         "type": "scatter",
         "x": [
          12,
          12,
          12,
          12
         ],
         "xaxis": "x",
         "y": [
          5,
          5,
          3,
          3
         ],
         "yaxis": "y"
        },
        {
         "hoverlabel": {
          "namelength": 0
         },
         "hovertemplate": "sub=Scientific Visualization<br>semester=1<br>course id=%{x}<br>rating=%{y}",
         "ids": [
          23
         ],
         "legendgroup": "sub=Scientific Visualization",
         "marker": {
          "color": "#00cc96",
          "symbol": "circle"
         },
         "mode": "markers",
         "name": "sub=Scientific Visualization",
         "showlegend": true,
         "type": "scatter",
         "x": [
          23
         ],
         "xaxis": "x",
         "y": [
          0
         ],
         "yaxis": "y"
        },
        {
         "hoverlabel": {
          "namelength": 0
         },
         "hovertemplate": "sub=Information Mining<br>semester=1<br>course id=%{x}<br>rating=%{y}",
         "ids": [
          13,
          13,
          13,
          13,
          13,
          13,
          13
         ],
         "legendgroup": "sub=Information Mining",
         "marker": {
          "color": "#ab63fa",
          "symbol": "circle"
         },
         "mode": "markers",
         "name": "sub=Information Mining",
         "showlegend": true,
         "type": "scatter",
         "x": [
          13,
          13,
          13,
          13,
          13,
          13,
          13
         ],
         "xaxis": "x",
         "y": [
          1,
          0,
          3,
          3,
          3,
          3,
          3
         ],
         "yaxis": "y"
        },
        {
         "hoverlabel": {
          "namelength": 0
         },
         "hovertemplate": "sub=Distributed Systems<br>semester=1<br>course id=%{x}<br>rating=%{y}",
         "ids": [
          8,
          8,
          8,
          8,
          8,
          8,
          8,
          8,
          8,
          8,
          8
         ],
         "legendgroup": "sub=Distributed Systems",
         "marker": {
          "color": "#FFA15A",
          "symbol": "circle"
         },
         "mode": "markers",
         "name": "sub=Distributed Systems",
         "showlegend": true,
         "type": "scatter",
         "x": [
          8,
          8,
          8,
          8,
          8,
          8,
          8,
          8,
          8,
          8,
          8
         ],
         "xaxis": "x",
         "y": [
          0,
          1,
          2,
          1,
          3,
          2,
          3,
          2,
          2,
          2,
          3
         ],
         "yaxis": "y"
        },
        {
         "hoverlabel": {
          "namelength": 0
         },
         "hovertemplate": "sub=Computer Robot Vision<br>semester=1<br>course id=%{x}<br>rating=%{y}",
         "ids": [
          5,
          5,
          5
         ],
         "legendgroup": "sub=Computer Robot Vision",
         "marker": {
          "color": "#19d3f3",
          "symbol": "circle"
         },
         "mode": "markers",
         "name": "sub=Computer Robot Vision",
         "showlegend": true,
         "type": "scatter",
         "x": [
          5,
          5,
          5
         ],
         "xaxis": "x",
         "y": [
          0,
          3,
          1
         ],
         "yaxis": "y"
        },
        {
         "hoverlabel": {
          "namelength": 0
         },
         "hovertemplate": "sub=Cognitive Robot Systems<br>semester=1<br>course id=%{x}<br>rating=%{y}",
         "ids": [
          3,
          3
         ],
         "legendgroup": "sub=Cognitive Robot Systems",
         "marker": {
          "color": "#FF6692",
          "symbol": "circle"
         },
         "mode": "markers",
         "name": "sub=Cognitive Robot Systems",
         "showlegend": true,
         "type": "scatter",
         "x": [
          3,
          3
         ],
         "xaxis": "x",
         "y": [
          0,
          2
         ],
         "yaxis": "y"
        },
        {
         "hoverlabel": {
          "namelength": 0
         },
         "hovertemplate": "sub=Digital Games Research<br>semester=1<br>course id=%{x}<br>rating=%{y}",
         "ids": [
          7
         ],
         "legendgroup": "sub=Digital Games Research",
         "marker": {
          "color": "#B6E880",
          "symbol": "circle"
         },
         "mode": "markers",
         "name": "sub=Digital Games Research",
         "showlegend": true,
         "type": "scatter",
         "x": [
          7
         ],
         "xaxis": "x",
         "y": [
          1
         ],
         "yaxis": "y"
        },
        {
         "hoverlabel": {
          "namelength": 0
         },
         "hovertemplate": "sub=Advanced Image Synthesis<br>semester=1<br>course id=%{x}<br>rating=%{y}",
         "ids": [
          0
         ],
         "legendgroup": "sub=Advanced Image Synthesis",
         "marker": {
          "color": "#FF97FF",
          "symbol": "circle"
         },
         "mode": "markers",
         "name": "sub=Advanced Image Synthesis",
         "showlegend": true,
         "type": "scatter",
         "x": [
          0
         ],
         "xaxis": "x",
         "y": [
          0
         ],
         "yaxis": "y"
        },
        {
         "hoverlabel": {
          "namelength": 0
         },
         "hovertemplate": "sub=Learning Analytics<br>semester=1<br>course id=%{x}<br>rating=%{y}",
         "ids": [
          17,
          17,
          17,
          17
         ],
         "legendgroup": "sub=Learning Analytics",
         "marker": {
          "color": "#FECB52",
          "symbol": "circle"
         },
         "mode": "markers",
         "name": "sub=Learning Analytics",
         "showlegend": true,
         "type": "scatter",
         "x": [
          17,
          17,
          17,
          17
         ],
         "xaxis": "x",
         "y": [
          1,
          0,
          1,
          1
         ],
         "yaxis": "y"
        },
        {
         "hoverlabel": {
          "namelength": 0
         },
         "hovertemplate": "sub=Formal Specification of Software Systems<br>semester=1<br>course id=%{x}<br>rating=%{y}",
         "ids": [
          10,
          10,
          10,
          10,
          10,
          10,
          10,
          10
         ],
         "legendgroup": "sub=Formal Specification of Software Systems",
         "marker": {
          "color": "#636efa",
          "symbol": "circle"
         },
         "mode": "markers",
         "name": "sub=Formal Specification of Software Systems",
         "showlegend": true,
         "type": "scatter",
         "x": [
          10,
          10,
          10,
          10,
          10,
          10,
          10,
          10
         ],
         "xaxis": "x",
         "y": [
          3,
          4,
          5,
          5,
          3,
          2,
          3,
          3
         ],
         "yaxis": "y"
        },
        {
         "hoverlabel": {
          "namelength": 0
         },
         "hovertemplate": "sub=Electronic Communities and Social Networks<br>semester=1<br>course id=%{x}<br>rating=%{y}",
         "ids": [
          9,
          9,
          9,
          9,
          9,
          9,
          9,
          9
         ],
         "legendgroup": "sub=Electronic Communities and Social Networks",
         "marker": {
          "color": "#EF553B",
          "symbol": "circle"
         },
         "mode": "markers",
         "name": "sub=Electronic Communities and Social Networks",
         "showlegend": true,
         "type": "scatter",
         "x": [
          9,
          9,
          9,
          9,
          9,
          9,
          9,
          9
         ],
         "xaxis": "x",
         "y": [
          1,
          2,
          1,
          2,
          1,
          1,
          1,
          1
         ],
         "yaxis": "y"
        },
        {
         "hoverlabel": {
          "namelength": 0
         },
         "hovertemplate": "sub=Computer Graphics<br>semester=1<br>course id=%{x}<br>rating=%{y}",
         "ids": [
          4
         ],
         "legendgroup": "sub=Computer Graphics",
         "marker": {
          "color": "#00cc96",
          "symbol": "circle"
         },
         "mode": "markers",
         "name": "sub=Computer Graphics",
         "showlegend": true,
         "type": "scatter",
         "x": [
          4
         ],
         "xaxis": "x",
         "y": [
          1
         ],
         "yaxis": "y"
        },
        {
         "hoverlabel": {
          "namelength": 0
         },
         "hovertemplate": "sub=Recommender Systems<br>semester=1<br>course id=%{x}<br>rating=%{y}",
         "ids": [
          22
         ],
         "legendgroup": "sub=Recommender Systems",
         "marker": {
          "color": "#ab63fa",
          "symbol": "circle"
         },
         "mode": "markers",
         "name": "sub=Recommender Systems",
         "showlegend": true,
         "type": "scatter",
         "x": [
          22
         ],
         "xaxis": "x",
         "y": [
          5
         ],
         "yaxis": "y"
        },
        {
         "hoverlabel": {
          "namelength": 0
         },
         "hovertemplate": "sub=Internet of Things- Protocols and System Software<br>semester=1<br>course id=%{x}<br>rating=%{y}",
         "ids": [
          16,
          16,
          16,
          16
         ],
         "legendgroup": "sub=Internet of Things- Protocols and System Software",
         "marker": {
          "color": "#FFA15A",
          "symbol": "circle"
         },
         "mode": "markers",
         "name": "sub=Internet of Things- Protocols and System Software",
         "showlegend": true,
         "type": "scatter",
         "x": [
          16,
          16,
          16,
          16
         ],
         "xaxis": "x",
         "y": [
          1,
          1,
          4,
          1
         ],
         "yaxis": "y"
        },
        {
         "hoverlabel": {
          "namelength": 0
         },
         "hovertemplate": "sub=Development of Safe and Secure Software<br>semester=1<br>course id=%{x}<br>rating=%{y}",
         "ids": [
          6,
          6,
          6
         ],
         "legendgroup": "sub=Development of Safe and Secure Software",
         "marker": {
          "color": "#19d3f3",
          "symbol": "circle"
         },
         "mode": "markers",
         "name": "sub=Development of Safe and Secure Software",
         "showlegend": true,
         "type": "scatter",
         "x": [
          6,
          6,
          6
         ],
         "xaxis": "x",
         "y": [
          3,
          5,
          3
         ],
         "yaxis": "y"
        },
        {
         "hoverlabel": {
          "namelength": 0
         },
         "hovertemplate": "sub=Peer-to-Peer Systems<br>semester=1<br>course id=%{x}<br>rating=%{y}",
         "ids": [
          21
         ],
         "legendgroup": "sub=Peer-to-Peer Systems",
         "marker": {
          "color": "#FF6692",
          "symbol": "circle"
         },
         "mode": "markers",
         "name": "sub=Peer-to-Peer Systems",
         "showlegend": true,
         "type": "scatter",
         "x": [
          21
         ],
         "xaxis": "x",
         "y": [
          1
         ],
         "yaxis": "y"
        },
        {
         "hoverlabel": {
          "namelength": 0
         },
         "hovertemplate": "sub=Advanced Web Technologies<br>semester=1<br>course id=%{x}<br>rating=%{y}",
         "ids": [
          1,
          1
         ],
         "legendgroup": "sub=Advanced Web Technologies",
         "marker": {
          "color": "#B6E880",
          "symbol": "circle"
         },
         "mode": "markers",
         "name": "sub=Advanced Web Technologies",
         "showlegend": true,
         "type": "scatter",
         "x": [
          1,
          1
         ],
         "xaxis": "x",
         "y": [
          2,
          2
         ],
         "yaxis": "y"
        },
        {
         "hoverlabel": {
          "namelength": 0
         },
         "hovertemplate": "sub=Information Retrieval<br>semester=1<br>course id=%{x}<br>rating=%{y}",
         "ids": [
          14,
          14,
          14
         ],
         "legendgroup": "sub=Information Retrieval",
         "marker": {
          "color": "#FF97FF",
          "symbol": "circle"
         },
         "mode": "markers",
         "name": "sub=Information Retrieval",
         "showlegend": true,
         "type": "scatter",
         "x": [
          14,
          14,
          14
         ],
         "xaxis": "x",
         "y": [
          4,
          0,
          4
         ],
         "yaxis": "y"
        },
        {
         "hoverlabel": {
          "namelength": 0
         },
         "hovertemplate": "sub=Cloud Web & Mobile<br>semester=1<br>course id=%{x}<br>rating=%{y}",
         "ids": [
          2
         ],
         "legendgroup": "sub=Cloud Web & Mobile",
         "marker": {
          "color": "#FECB52",
          "symbol": "circle"
         },
         "mode": "markers",
         "name": "sub=Cloud Web & Mobile",
         "showlegend": true,
         "type": "scatter",
         "x": [
          2
         ],
         "xaxis": "x",
         "y": [
          2
         ],
         "yaxis": "y"
        }
       ],
       "frames": [
        {
         "data": [
          {
           "hoverlabel": {
            "namelength": 0
           },
           "hovertemplate": "sub=Interaktive Systeme<br>semester=1<br>course id=%{x}<br>rating=%{y}",
           "ids": [
            15,
            15,
            15
           ],
           "legendgroup": "sub=Interaktive Systeme",
           "marker": {
            "color": "#636efa",
            "symbol": "circle"
           },
           "mode": "markers",
           "name": "sub=Interaktive Systeme",
           "showlegend": true,
           "type": "scatter",
           "x": [
            15,
            15,
            15
           ],
           "xaxis": "x",
           "y": [
            1,
            2,
            2
           ],
           "yaxis": "y"
          },
          {
           "hoverlabel": {
            "namelength": 0
           },
           "hovertemplate": "sub=Information Engineering<br>semester=1<br>course id=%{x}<br>rating=%{y}",
           "ids": [
            12,
            12,
            12,
            12
           ],
           "legendgroup": "sub=Information Engineering",
           "marker": {
            "color": "#EF553B",
            "symbol": "circle"
           },
           "mode": "markers",
           "name": "sub=Information Engineering",
           "showlegend": true,
           "type": "scatter",
           "x": [
            12,
            12,
            12,
            12
           ],
           "xaxis": "x",
           "y": [
            5,
            5,
            3,
            3
           ],
           "yaxis": "y"
          },
          {
           "hoverlabel": {
            "namelength": 0
           },
           "hovertemplate": "sub=Scientific Visualization<br>semester=1<br>course id=%{x}<br>rating=%{y}",
           "ids": [
            23
           ],
           "legendgroup": "sub=Scientific Visualization",
           "marker": {
            "color": "#00cc96",
            "symbol": "circle"
           },
           "mode": "markers",
           "name": "sub=Scientific Visualization",
           "showlegend": true,
           "type": "scatter",
           "x": [
            23
           ],
           "xaxis": "x",
           "y": [
            0
           ],
           "yaxis": "y"
          },
          {
           "hoverlabel": {
            "namelength": 0
           },
           "hovertemplate": "sub=Information Mining<br>semester=1<br>course id=%{x}<br>rating=%{y}",
           "ids": [
            13,
            13,
            13,
            13,
            13,
            13,
            13
           ],
           "legendgroup": "sub=Information Mining",
           "marker": {
            "color": "#ab63fa",
            "symbol": "circle"
           },
           "mode": "markers",
           "name": "sub=Information Mining",
           "showlegend": true,
           "type": "scatter",
           "x": [
            13,
            13,
            13,
            13,
            13,
            13,
            13
           ],
           "xaxis": "x",
           "y": [
            1,
            0,
            3,
            3,
            3,
            3,
            3
           ],
           "yaxis": "y"
          },
          {
           "hoverlabel": {
            "namelength": 0
           },
           "hovertemplate": "sub=Distributed Systems<br>semester=1<br>course id=%{x}<br>rating=%{y}",
           "ids": [
            8,
            8,
            8,
            8,
            8,
            8,
            8,
            8,
            8,
            8,
            8
           ],
           "legendgroup": "sub=Distributed Systems",
           "marker": {
            "color": "#FFA15A",
            "symbol": "circle"
           },
           "mode": "markers",
           "name": "sub=Distributed Systems",
           "showlegend": true,
           "type": "scatter",
           "x": [
            8,
            8,
            8,
            8,
            8,
            8,
            8,
            8,
            8,
            8,
            8
           ],
           "xaxis": "x",
           "y": [
            0,
            1,
            2,
            1,
            3,
            2,
            3,
            2,
            2,
            2,
            3
           ],
           "yaxis": "y"
          },
          {
           "hoverlabel": {
            "namelength": 0
           },
           "hovertemplate": "sub=Computer Robot Vision<br>semester=1<br>course id=%{x}<br>rating=%{y}",
           "ids": [
            5,
            5,
            5
           ],
           "legendgroup": "sub=Computer Robot Vision",
           "marker": {
            "color": "#19d3f3",
            "symbol": "circle"
           },
           "mode": "markers",
           "name": "sub=Computer Robot Vision",
           "showlegend": true,
           "type": "scatter",
           "x": [
            5,
            5,
            5
           ],
           "xaxis": "x",
           "y": [
            0,
            3,
            1
           ],
           "yaxis": "y"
          },
          {
           "hoverlabel": {
            "namelength": 0
           },
           "hovertemplate": "sub=Cognitive Robot Systems<br>semester=1<br>course id=%{x}<br>rating=%{y}",
           "ids": [
            3,
            3
           ],
           "legendgroup": "sub=Cognitive Robot Systems",
           "marker": {
            "color": "#FF6692",
            "symbol": "circle"
           },
           "mode": "markers",
           "name": "sub=Cognitive Robot Systems",
           "showlegend": true,
           "type": "scatter",
           "x": [
            3,
            3
           ],
           "xaxis": "x",
           "y": [
            0,
            2
           ],
           "yaxis": "y"
          },
          {
           "hoverlabel": {
            "namelength": 0
           },
           "hovertemplate": "sub=Digital Games Research<br>semester=1<br>course id=%{x}<br>rating=%{y}",
           "ids": [
            7
           ],
           "legendgroup": "sub=Digital Games Research",
           "marker": {
            "color": "#B6E880",
            "symbol": "circle"
           },
           "mode": "markers",
           "name": "sub=Digital Games Research",
           "showlegend": true,
           "type": "scatter",
           "x": [
            7
           ],
           "xaxis": "x",
           "y": [
            1
           ],
           "yaxis": "y"
          },
          {
           "hoverlabel": {
            "namelength": 0
           },
           "hovertemplate": "sub=Advanced Image Synthesis<br>semester=1<br>course id=%{x}<br>rating=%{y}",
           "ids": [
            0
           ],
           "legendgroup": "sub=Advanced Image Synthesis",
           "marker": {
            "color": "#FF97FF",
            "symbol": "circle"
           },
           "mode": "markers",
           "name": "sub=Advanced Image Synthesis",
           "showlegend": true,
           "type": "scatter",
           "x": [
            0
           ],
           "xaxis": "x",
           "y": [
            0
           ],
           "yaxis": "y"
          },
          {
           "hoverlabel": {
            "namelength": 0
           },
           "hovertemplate": "sub=Learning Analytics<br>semester=1<br>course id=%{x}<br>rating=%{y}",
           "ids": [
            17,
            17,
            17,
            17
           ],
           "legendgroup": "sub=Learning Analytics",
           "marker": {
            "color": "#FECB52",
            "symbol": "circle"
           },
           "mode": "markers",
           "name": "sub=Learning Analytics",
           "showlegend": true,
           "type": "scatter",
           "x": [
            17,
            17,
            17,
            17
           ],
           "xaxis": "x",
           "y": [
            1,
            0,
            1,
            1
           ],
           "yaxis": "y"
          },
          {
           "hoverlabel": {
            "namelength": 0
           },
           "hovertemplate": "sub=Formal Specification of Software Systems<br>semester=1<br>course id=%{x}<br>rating=%{y}",
           "ids": [
            10,
            10,
            10,
            10,
            10,
            10,
            10,
            10
           ],
           "legendgroup": "sub=Formal Specification of Software Systems",
           "marker": {
            "color": "#636efa",
            "symbol": "circle"
           },
           "mode": "markers",
           "name": "sub=Formal Specification of Software Systems",
           "showlegend": true,
           "type": "scatter",
           "x": [
            10,
            10,
            10,
            10,
            10,
            10,
            10,
            10
           ],
           "xaxis": "x",
           "y": [
            3,
            4,
            5,
            5,
            3,
            2,
            3,
            3
           ],
           "yaxis": "y"
          },
          {
           "hoverlabel": {
            "namelength": 0
           },
           "hovertemplate": "sub=Electronic Communities and Social Networks<br>semester=1<br>course id=%{x}<br>rating=%{y}",
           "ids": [
            9,
            9,
            9,
            9,
            9,
            9,
            9,
            9
           ],
           "legendgroup": "sub=Electronic Communities and Social Networks",
           "marker": {
            "color": "#EF553B",
            "symbol": "circle"
           },
           "mode": "markers",
           "name": "sub=Electronic Communities and Social Networks",
           "showlegend": true,
           "type": "scatter",
           "x": [
            9,
            9,
            9,
            9,
            9,
            9,
            9,
            9
           ],
           "xaxis": "x",
           "y": [
            1,
            2,
            1,
            2,
            1,
            1,
            1,
            1
           ],
           "yaxis": "y"
          },
          {
           "hoverlabel": {
            "namelength": 0
           },
           "hovertemplate": "sub=Computer Graphics<br>semester=1<br>course id=%{x}<br>rating=%{y}",
           "ids": [
            4
           ],
           "legendgroup": "sub=Computer Graphics",
           "marker": {
            "color": "#00cc96",
            "symbol": "circle"
           },
           "mode": "markers",
           "name": "sub=Computer Graphics",
           "showlegend": true,
           "type": "scatter",
           "x": [
            4
           ],
           "xaxis": "x",
           "y": [
            1
           ],
           "yaxis": "y"
          },
          {
           "hoverlabel": {
            "namelength": 0
           },
           "hovertemplate": "sub=Recommender Systems<br>semester=1<br>course id=%{x}<br>rating=%{y}",
           "ids": [
            22
           ],
           "legendgroup": "sub=Recommender Systems",
           "marker": {
            "color": "#ab63fa",
            "symbol": "circle"
           },
           "mode": "markers",
           "name": "sub=Recommender Systems",
           "showlegend": true,
           "type": "scatter",
           "x": [
            22
           ],
           "xaxis": "x",
           "y": [
            5
           ],
           "yaxis": "y"
          },
          {
           "hoverlabel": {
            "namelength": 0
           },
           "hovertemplate": "sub=Internet of Things- Protocols and System Software<br>semester=1<br>course id=%{x}<br>rating=%{y}",
           "ids": [
            16,
            16,
            16,
            16
           ],
           "legendgroup": "sub=Internet of Things- Protocols and System Software",
           "marker": {
            "color": "#FFA15A",
            "symbol": "circle"
           },
           "mode": "markers",
           "name": "sub=Internet of Things- Protocols and System Software",
           "showlegend": true,
           "type": "scatter",
           "x": [
            16,
            16,
            16,
            16
           ],
           "xaxis": "x",
           "y": [
            1,
            1,
            4,
            1
           ],
           "yaxis": "y"
          },
          {
           "hoverlabel": {
            "namelength": 0
           },
           "hovertemplate": "sub=Development of Safe and Secure Software<br>semester=1<br>course id=%{x}<br>rating=%{y}",
           "ids": [
            6,
            6,
            6
           ],
           "legendgroup": "sub=Development of Safe and Secure Software",
           "marker": {
            "color": "#19d3f3",
            "symbol": "circle"
           },
           "mode": "markers",
           "name": "sub=Development of Safe and Secure Software",
           "showlegend": true,
           "type": "scatter",
           "x": [
            6,
            6,
            6
           ],
           "xaxis": "x",
           "y": [
            3,
            5,
            3
           ],
           "yaxis": "y"
          },
          {
           "hoverlabel": {
            "namelength": 0
           },
           "hovertemplate": "sub=Peer-to-Peer Systems<br>semester=1<br>course id=%{x}<br>rating=%{y}",
           "ids": [
            21
           ],
           "legendgroup": "sub=Peer-to-Peer Systems",
           "marker": {
            "color": "#FF6692",
            "symbol": "circle"
           },
           "mode": "markers",
           "name": "sub=Peer-to-Peer Systems",
           "showlegend": true,
           "type": "scatter",
           "x": [
            21
           ],
           "xaxis": "x",
           "y": [
            1
           ],
           "yaxis": "y"
          },
          {
           "hoverlabel": {
            "namelength": 0
           },
           "hovertemplate": "sub=Advanced Web Technologies<br>semester=1<br>course id=%{x}<br>rating=%{y}",
           "ids": [
            1,
            1
           ],
           "legendgroup": "sub=Advanced Web Technologies",
           "marker": {
            "color": "#B6E880",
            "symbol": "circle"
           },
           "mode": "markers",
           "name": "sub=Advanced Web Technologies",
           "showlegend": true,
           "type": "scatter",
           "x": [
            1,
            1
           ],
           "xaxis": "x",
           "y": [
            2,
            2
           ],
           "yaxis": "y"
          },
          {
           "hoverlabel": {
            "namelength": 0
           },
           "hovertemplate": "sub=Information Retrieval<br>semester=1<br>course id=%{x}<br>rating=%{y}",
           "ids": [
            14,
            14,
            14
           ],
           "legendgroup": "sub=Information Retrieval",
           "marker": {
            "color": "#FF97FF",
            "symbol": "circle"
           },
           "mode": "markers",
           "name": "sub=Information Retrieval",
           "showlegend": true,
           "type": "scatter",
           "x": [
            14,
            14,
            14
           ],
           "xaxis": "x",
           "y": [
            4,
            0,
            4
           ],
           "yaxis": "y"
          },
          {
           "hoverlabel": {
            "namelength": 0
           },
           "hovertemplate": "sub=Cloud Web & Mobile<br>semester=1<br>course id=%{x}<br>rating=%{y}",
           "ids": [
            2
           ],
           "legendgroup": "sub=Cloud Web & Mobile",
           "marker": {
            "color": "#FECB52",
            "symbol": "circle"
           },
           "mode": "markers",
           "name": "sub=Cloud Web & Mobile",
           "showlegend": true,
           "type": "scatter",
           "x": [
            2
           ],
           "xaxis": "x",
           "y": [
            2
           ],
           "yaxis": "y"
          }
         ],
         "name": "1"
        },
        {
         "data": [
          {
           "hoverlabel": {
            "namelength": 0
           },
           "hovertemplate": "sub=Interaktive Systeme<br>semester=2<br>course id=%{x}<br>rating=%{y}",
           "ids": [
            15,
            15,
            15,
            15,
            15,
            15,
            15
           ],
           "legendgroup": "sub=Interaktive Systeme",
           "marker": {
            "color": "#636efa",
            "symbol": "circle"
           },
           "mode": "markers",
           "name": "sub=Interaktive Systeme",
           "showlegend": true,
           "type": "scatter",
           "x": [
            15,
            15,
            15,
            15,
            15,
            15,
            15
           ],
           "xaxis": "x",
           "y": [
            2,
            3,
            3,
            2,
            2,
            3,
            1
           ],
           "yaxis": "y"
          },
          {
           "hoverlabel": {
            "namelength": 0
           },
           "hovertemplate": "sub=Information Engineering<br>semester=2<br>course id=%{x}<br>rating=%{y}",
           "ids": [
            12,
            12
           ],
           "legendgroup": "sub=Information Engineering",
           "marker": {
            "color": "#EF553B",
            "symbol": "circle"
           },
           "mode": "markers",
           "name": "sub=Information Engineering",
           "showlegend": true,
           "type": "scatter",
           "x": [
            12,
            12
           ],
           "xaxis": "x",
           "y": [
            5,
            0
           ],
           "yaxis": "y"
          },
          {
           "hoverlabel": {
            "namelength": 0
           },
           "hovertemplate": "sub=Distributed Systems<br>semester=2<br>course id=%{x}<br>rating=%{y}",
           "ids": [
            8,
            8,
            8,
            8
           ],
           "legendgroup": "sub=Distributed Systems",
           "marker": {
            "color": "#FFA15A",
            "symbol": "circle"
           },
           "mode": "markers",
           "name": "sub=Distributed Systems",
           "showlegend": true,
           "type": "scatter",
           "x": [
            8,
            8,
            8,
            8
           ],
           "xaxis": "x",
           "y": [
            0,
            4,
            2,
            2
           ],
           "yaxis": "y"
          },
          {
           "hoverlabel": {
            "namelength": 0
           },
           "hovertemplate": "sub=Computer Robot Vision<br>semester=2<br>course id=%{x}<br>rating=%{y}",
           "ids": [
            5
           ],
           "legendgroup": "sub=Computer Robot Vision",
           "marker": {
            "color": "#19d3f3",
            "symbol": "circle"
           },
           "mode": "markers",
           "name": "sub=Computer Robot Vision",
           "showlegend": true,
           "type": "scatter",
           "x": [
            5
           ],
           "xaxis": "x",
           "y": [
            0
           ],
           "yaxis": "y"
          },
          {
           "hoverlabel": {
            "namelength": 0
           },
           "hovertemplate": "sub=Cognitive Robot Systems<br>semester=2<br>course id=%{x}<br>rating=%{y}",
           "ids": [
            3
           ],
           "legendgroup": "sub=Cognitive Robot Systems",
           "marker": {
            "color": "#FF6692",
            "symbol": "circle"
           },
           "mode": "markers",
           "name": "sub=Cognitive Robot Systems",
           "showlegend": true,
           "type": "scatter",
           "x": [
            3
           ],
           "xaxis": "x",
           "y": [
            4
           ],
           "yaxis": "y"
          },
          {
           "hoverlabel": {
            "namelength": 0
           },
           "hovertemplate": "sub=Digital Games Research<br>semester=2<br>course id=%{x}<br>rating=%{y}",
           "ids": [
            7
           ],
           "legendgroup": "sub=Digital Games Research",
           "marker": {
            "color": "#B6E880",
            "symbol": "circle"
           },
           "mode": "markers",
           "name": "sub=Digital Games Research",
           "showlegend": true,
           "type": "scatter",
           "x": [
            7
           ],
           "xaxis": "x",
           "y": [
            2
           ],
           "yaxis": "y"
          },
          {
           "hoverlabel": {
            "namelength": 0
           },
           "hovertemplate": "sub=Advanced Image Synthesis<br>semester=2<br>course id=%{x}<br>rating=%{y}",
           "ids": [
            0,
            0
           ],
           "legendgroup": "sub=Advanced Image Synthesis",
           "marker": {
            "color": "#FF97FF",
            "symbol": "circle"
           },
           "mode": "markers",
           "name": "sub=Advanced Image Synthesis",
           "showlegend": true,
           "type": "scatter",
           "x": [
            0,
            0
           ],
           "xaxis": "x",
           "y": [
            1,
            2
           ],
           "yaxis": "y"
          },
          {
           "hoverlabel": {
            "namelength": 0
           },
           "hovertemplate": "sub=Learning Analytics<br>semester=2<br>course id=%{x}<br>rating=%{y}",
           "ids": [
            17
           ],
           "legendgroup": "sub=Learning Analytics",
           "marker": {
            "color": "#FECB52",
            "symbol": "circle"
           },
           "mode": "markers",
           "name": "sub=Learning Analytics",
           "showlegend": true,
           "type": "scatter",
           "x": [
            17
           ],
           "xaxis": "x",
           "y": [
            2
           ],
           "yaxis": "y"
          },
          {
           "hoverlabel": {
            "namelength": 0
           },
           "hovertemplate": "sub=Formal Specification of Software Systems<br>semester=2<br>course id=%{x}<br>rating=%{y}",
           "ids": [
            10
           ],
           "legendgroup": "sub=Formal Specification of Software Systems",
           "marker": {
            "color": "#636efa",
            "symbol": "circle"
           },
           "mode": "markers",
           "name": "sub=Formal Specification of Software Systems",
           "showlegend": true,
           "type": "scatter",
           "x": [
            10
           ],
           "xaxis": "x",
           "y": [
            5
           ],
           "yaxis": "y"
          },
          {
           "hoverlabel": {
            "namelength": 0
           },
           "hovertemplate": "sub=Electronic Communities and Social Networks<br>semester=2<br>course id=%{x}<br>rating=%{y}",
           "ids": [
            9
           ],
           "legendgroup": "sub=Electronic Communities and Social Networks",
           "marker": {
            "color": "#EF553B",
            "symbol": "circle"
           },
           "mode": "markers",
           "name": "sub=Electronic Communities and Social Networks",
           "showlegend": true,
           "type": "scatter",
           "x": [
            9
           ],
           "xaxis": "x",
           "y": [
            1
           ],
           "yaxis": "y"
          },
          {
           "hoverlabel": {
            "namelength": 0
           },
           "hovertemplate": "sub=Computer Graphics<br>semester=2<br>course id=%{x}<br>rating=%{y}",
           "ids": [
            4
           ],
           "legendgroup": "sub=Computer Graphics",
           "marker": {
            "color": "#00cc96",
            "symbol": "circle"
           },
           "mode": "markers",
           "name": "sub=Computer Graphics",
           "showlegend": true,
           "type": "scatter",
           "x": [
            4
           ],
           "xaxis": "x",
           "y": [
            5
           ],
           "yaxis": "y"
          },
          {
           "hoverlabel": {
            "namelength": 0
           },
           "hovertemplate": "sub=Recommender Systems<br>semester=2<br>course id=%{x}<br>rating=%{y}",
           "ids": [
            22,
            22,
            22,
            22,
            22
           ],
           "legendgroup": "sub=Recommender Systems",
           "marker": {
            "color": "#ab63fa",
            "symbol": "circle"
           },
           "mode": "markers",
           "name": "sub=Recommender Systems",
           "showlegend": true,
           "type": "scatter",
           "x": [
            22,
            22,
            22,
            22,
            22
           ],
           "xaxis": "x",
           "y": [
            2,
            1,
            3,
            2,
            5
           ],
           "yaxis": "y"
          },
          {
           "hoverlabel": {
            "namelength": 0
           },
           "hovertemplate": "sub=Internet of Things- Protocols and System Software<br>semester=2<br>course id=%{x}<br>rating=%{y}",
           "ids": [
            16,
            16,
            16,
            16,
            16
           ],
           "legendgroup": "sub=Internet of Things- Protocols and System Software",
           "marker": {
            "color": "#FFA15A",
            "symbol": "circle"
           },
           "mode": "markers",
           "name": "sub=Internet of Things- Protocols and System Software",
           "showlegend": true,
           "type": "scatter",
           "x": [
            16,
            16,
            16,
            16,
            16
           ],
           "xaxis": "x",
           "y": [
            3,
            1,
            3,
            2,
            3
           ],
           "yaxis": "y"
          },
          {
           "hoverlabel": {
            "namelength": 0
           },
           "hovertemplate": "sub=Development of Safe and Secure Software<br>semester=2<br>course id=%{x}<br>rating=%{y}",
           "ids": [
            6,
            6
           ],
           "legendgroup": "sub=Development of Safe and Secure Software",
           "marker": {
            "color": "#19d3f3",
            "symbol": "circle"
           },
           "mode": "markers",
           "name": "sub=Development of Safe and Secure Software",
           "showlegend": true,
           "type": "scatter",
           "x": [
            6,
            6
           ],
           "xaxis": "x",
           "y": [
            3,
            2
           ],
           "yaxis": "y"
          },
          {
           "hoverlabel": {
            "namelength": 0
           },
           "hovertemplate": "sub=Peer-to-Peer Systems<br>semester=2<br>course id=%{x}<br>rating=%{y}",
           "ids": [
            21,
            21,
            21,
            21,
            21,
            21
           ],
           "legendgroup": "sub=Peer-to-Peer Systems",
           "marker": {
            "color": "#FF6692",
            "symbol": "circle"
           },
           "mode": "markers",
           "name": "sub=Peer-to-Peer Systems",
           "showlegend": true,
           "type": "scatter",
           "x": [
            21,
            21,
            21,
            21,
            21,
            21
           ],
           "xaxis": "x",
           "y": [
            0,
            0,
            3,
            1,
            2,
            2
           ],
           "yaxis": "y"
          },
          {
           "hoverlabel": {
            "namelength": 0
           },
           "hovertemplate": "sub=Advanced Web Technologies<br>semester=2<br>course id=%{x}<br>rating=%{y}",
           "ids": [
            1,
            1,
            1,
            1,
            1
           ],
           "legendgroup": "sub=Advanced Web Technologies",
           "marker": {
            "color": "#B6E880",
            "symbol": "circle"
           },
           "mode": "markers",
           "name": "sub=Advanced Web Technologies",
           "showlegend": true,
           "type": "scatter",
           "x": [
            1,
            1,
            1,
            1,
            1
           ],
           "xaxis": "x",
           "y": [
            3,
            2,
            1,
            0,
            1
           ],
           "yaxis": "y"
          },
          {
           "hoverlabel": {
            "namelength": 0
           },
           "hovertemplate": "sub=Information Retrieval<br>semester=2<br>course id=%{x}<br>rating=%{y}",
           "ids": [
            14,
            14,
            14,
            14,
            14,
            14,
            14,
            14,
            14
           ],
           "legendgroup": "sub=Information Retrieval",
           "marker": {
            "color": "#FF97FF",
            "symbol": "circle"
           },
           "mode": "markers",
           "name": "sub=Information Retrieval",
           "showlegend": true,
           "type": "scatter",
           "x": [
            14,
            14,
            14,
            14,
            14,
            14,
            14,
            14,
            14
           ],
           "xaxis": "x",
           "y": [
            2,
            2,
            2,
            0,
            2,
            1,
            3,
            3,
            3
           ],
           "yaxis": "y"
          },
          {
           "hoverlabel": {
            "namelength": 0
           },
           "hovertemplate": "sub=Cloud Web & Mobile<br>semester=2<br>course id=%{x}<br>rating=%{y}",
           "ids": [
            2,
            2,
            2
           ],
           "legendgroup": "sub=Cloud Web & Mobile",
           "marker": {
            "color": "#FECB52",
            "symbol": "circle"
           },
           "mode": "markers",
           "name": "sub=Cloud Web & Mobile",
           "showlegend": true,
           "type": "scatter",
           "x": [
            2,
            2,
            2
           ],
           "xaxis": "x",
           "y": [
            2,
            0,
            2
           ],
           "yaxis": "y"
          },
          {
           "hoverlabel": {
            "namelength": 0
           },
           "hovertemplate": "sub=Neurocomputing and Organic Computing<br>semester=2<br>course id=%{x}<br>rating=%{y}",
           "ids": [
            19,
            19,
            19
           ],
           "legendgroup": "sub=Neurocomputing and Organic Computing",
           "marker": {
            "color": "#636efa",
            "symbol": "circle"
           },
           "mode": "markers",
           "name": "sub=Neurocomputing and Organic Computing",
           "showlegend": true,
           "type": "scatter",
           "x": [
            19,
            19,
            19
           ],
           "xaxis": "x",
           "y": [
            4,
            4,
            5
           ],
           "yaxis": "y"
          },
          {
           "hoverlabel": {
            "namelength": 0
           },
           "hovertemplate": "sub=Gestaltung interaktiver Lehr-/Lern-Systeme<br>semester=2<br>course id=%{x}<br>rating=%{y}",
           "ids": [
            11,
            11,
            11,
            11,
            11
           ],
           "legendgroup": "sub=Gestaltung interaktiver Lehr-/Lern-Systeme",
           "marker": {
            "color": "#EF553B",
            "symbol": "circle"
           },
           "mode": "markers",
           "name": "sub=Gestaltung interaktiver Lehr-/Lern-Systeme",
           "showlegend": true,
           "type": "scatter",
           "x": [
            11,
            11,
            11,
            11,
            11
           ],
           "xaxis": "x",
           "y": [
            5,
            1,
            3,
            1,
            2
           ],
           "yaxis": "y"
          },
          {
           "hoverlabel": {
            "namelength": 0
           },
           "hovertemplate": "sub=Pattern and Component based Software Development<br>semester=2<br>course id=%{x}<br>rating=%{y}",
           "ids": [
            20
           ],
           "legendgroup": "sub=Pattern and Component based Software Development",
           "marker": {
            "color": "#00cc96",
            "symbol": "circle"
           },
           "mode": "markers",
           "name": "sub=Pattern and Component based Software Development",
           "showlegend": true,
           "type": "scatter",
           "x": [
            20
           ],
           "xaxis": "x",
           "y": [
            1
           ],
           "yaxis": "y"
          },
          {
           "hoverlabel": {
            "namelength": 0
           },
           "hovertemplate": "sub=Test and Reliability of Digital Systems<br>semester=2<br>course id=%{x}<br>rating=%{y}",
           "ids": [
            24
           ],
           "legendgroup": "sub=Test and Reliability of Digital Systems",
           "marker": {
            "color": "#ab63fa",
            "symbol": "circle"
           },
           "mode": "markers",
           "name": "sub=Test and Reliability of Digital Systems",
           "showlegend": true,
           "type": "scatter",
           "x": [
            24
           ],
           "xaxis": "x",
           "y": [
            3
           ],
           "yaxis": "y"
          }
         ],
         "name": "2"
        },
        {
         "data": [
          {
           "hoverlabel": {
            "namelength": 0
           },
           "hovertemplate": "sub=Information Engineering<br>semester=3<br>course id=%{x}<br>rating=%{y}",
           "ids": [
            12,
            12,
            12
           ],
           "legendgroup": "sub=Information Engineering",
           "marker": {
            "color": "#EF553B",
            "symbol": "circle"
           },
           "mode": "markers",
           "name": "sub=Information Engineering",
           "showlegend": true,
           "type": "scatter",
           "x": [
            12,
            12,
            12
           ],
           "xaxis": "x",
           "y": [
            0,
            3,
            1
           ],
           "yaxis": "y"
          },
          {
           "hoverlabel": {
            "namelength": 0
           },
           "hovertemplate": "sub=Information Mining<br>semester=3<br>course id=%{x}<br>rating=%{y}",
           "ids": [
            13,
            13,
            13,
            13,
            13
           ],
           "legendgroup": "sub=Information Mining",
           "marker": {
            "color": "#ab63fa",
            "symbol": "circle"
           },
           "mode": "markers",
           "name": "sub=Information Mining",
           "showlegend": true,
           "type": "scatter",
           "x": [
            13,
            13,
            13,
            13,
            13
           ],
           "xaxis": "x",
           "y": [
            2,
            0,
            0,
            1,
            5
           ],
           "yaxis": "y"
          },
          {
           "hoverlabel": {
            "namelength": 0
           },
           "hovertemplate": "sub=Computer Robot Vision<br>semester=3<br>course id=%{x}<br>rating=%{y}",
           "ids": [
            5
           ],
           "legendgroup": "sub=Computer Robot Vision",
           "marker": {
            "color": "#19d3f3",
            "symbol": "circle"
           },
           "mode": "markers",
           "name": "sub=Computer Robot Vision",
           "showlegend": true,
           "type": "scatter",
           "x": [
            5
           ],
           "xaxis": "x",
           "y": [
            3
           ],
           "yaxis": "y"
          },
          {
           "hoverlabel": {
            "namelength": 0
           },
           "hovertemplate": "sub=Cognitive Robot Systems<br>semester=3<br>course id=%{x}<br>rating=%{y}",
           "ids": [
            3
           ],
           "legendgroup": "sub=Cognitive Robot Systems",
           "marker": {
            "color": "#FF6692",
            "symbol": "circle"
           },
           "mode": "markers",
           "name": "sub=Cognitive Robot Systems",
           "showlegend": true,
           "type": "scatter",
           "x": [
            3
           ],
           "xaxis": "x",
           "y": [
            2
           ],
           "yaxis": "y"
          },
          {
           "hoverlabel": {
            "namelength": 0
           },
           "hovertemplate": "sub=Learning Analytics<br>semester=3<br>course id=%{x}<br>rating=%{y}",
           "ids": [
            17,
            17
           ],
           "legendgroup": "sub=Learning Analytics",
           "marker": {
            "color": "#FECB52",
            "symbol": "circle"
           },
           "mode": "markers",
           "name": "sub=Learning Analytics",
           "showlegend": true,
           "type": "scatter",
           "x": [
            17,
            17
           ],
           "xaxis": "x",
           "y": [
            4,
            1
           ],
           "yaxis": "y"
          },
          {
           "hoverlabel": {
            "namelength": 0
           },
           "hovertemplate": "sub=Electronic Communities and Social Networks<br>semester=3<br>course id=%{x}<br>rating=%{y}",
           "ids": [
            9,
            9,
            9
           ],
           "legendgroup": "sub=Electronic Communities and Social Networks",
           "marker": {
            "color": "#EF553B",
            "symbol": "circle"
           },
           "mode": "markers",
           "name": "sub=Electronic Communities and Social Networks",
           "showlegend": true,
           "type": "scatter",
           "x": [
            9,
            9,
            9
           ],
           "xaxis": "x",
           "y": [
            0,
            5,
            1
           ],
           "yaxis": "y"
          },
          {
           "hoverlabel": {
            "namelength": 0
           },
           "hovertemplate": "sub=Computer Graphics<br>semester=3<br>course id=%{x}<br>rating=%{y}",
           "ids": [
            4
           ],
           "legendgroup": "sub=Computer Graphics",
           "marker": {
            "color": "#00cc96",
            "symbol": "circle"
           },
           "mode": "markers",
           "name": "sub=Computer Graphics",
           "showlegend": true,
           "type": "scatter",
           "x": [
            4
           ],
           "xaxis": "x",
           "y": [
            0
           ],
           "yaxis": "y"
          },
          {
           "hoverlabel": {
            "namelength": 0
           },
           "hovertemplate": "sub=Internet of Things- Protocols and System Software<br>semester=3<br>course id=%{x}<br>rating=%{y}",
           "ids": [
            16
           ],
           "legendgroup": "sub=Internet of Things- Protocols and System Software",
           "marker": {
            "color": "#FFA15A",
            "symbol": "circle"
           },
           "mode": "markers",
           "name": "sub=Internet of Things- Protocols and System Software",
           "showlegend": true,
           "type": "scatter",
           "x": [
            16
           ],
           "xaxis": "x",
           "y": [
            0
           ],
           "yaxis": "y"
          },
          {
           "hoverlabel": {
            "namelength": 0
           },
           "hovertemplate": "sub=Peer-to-Peer Systems<br>semester=3<br>course id=%{x}<br>rating=%{y}",
           "ids": [
            21,
            21,
            21
           ],
           "legendgroup": "sub=Peer-to-Peer Systems",
           "marker": {
            "color": "#FF6692",
            "symbol": "circle"
           },
           "mode": "markers",
           "name": "sub=Peer-to-Peer Systems",
           "showlegend": true,
           "type": "scatter",
           "x": [
            21,
            21,
            21
           ],
           "xaxis": "x",
           "y": [
            3,
            2,
            4
           ],
           "yaxis": "y"
          },
          {
           "hoverlabel": {
            "namelength": 0
           },
           "hovertemplate": "sub=Advanced Web Technologies<br>semester=3<br>course id=%{x}<br>rating=%{y}",
           "ids": [
            1,
            1,
            1,
            1,
            1
           ],
           "legendgroup": "sub=Advanced Web Technologies",
           "marker": {
            "color": "#B6E880",
            "symbol": "circle"
           },
           "mode": "markers",
           "name": "sub=Advanced Web Technologies",
           "showlegend": true,
           "type": "scatter",
           "x": [
            1,
            1,
            1,
            1,
            1
           ],
           "xaxis": "x",
           "y": [
            1,
            1,
            1,
            0,
            1
           ],
           "yaxis": "y"
          },
          {
           "hoverlabel": {
            "namelength": 0
           },
           "hovertemplate": "sub=Information Retrieval<br>semester=3<br>course id=%{x}<br>rating=%{y}",
           "ids": [
            14
           ],
           "legendgroup": "sub=Information Retrieval",
           "marker": {
            "color": "#FF97FF",
            "symbol": "circle"
           },
           "mode": "markers",
           "name": "sub=Information Retrieval",
           "showlegend": true,
           "type": "scatter",
           "x": [
            14
           ],
           "xaxis": "x",
           "y": [
            2
           ],
           "yaxis": "y"
          },
          {
           "hoverlabel": {
            "namelength": 0
           },
           "hovertemplate": "sub=Cloud Web & Mobile<br>semester=3<br>course id=%{x}<br>rating=%{y}",
           "ids": [
            2,
            2,
            2
           ],
           "legendgroup": "sub=Cloud Web & Mobile",
           "marker": {
            "color": "#FECB52",
            "symbol": "circle"
           },
           "mode": "markers",
           "name": "sub=Cloud Web & Mobile",
           "showlegend": true,
           "type": "scatter",
           "x": [
            2,
            2,
            2
           ],
           "xaxis": "x",
           "y": [
            3,
            0,
            1
           ],
           "yaxis": "y"
          },
          {
           "hoverlabel": {
            "namelength": 0
           },
           "hovertemplate": "sub=Gestaltung interaktiver Lehr-/Lern-Systeme<br>semester=3<br>course id=%{x}<br>rating=%{y}",
           "ids": [
            11
           ],
           "legendgroup": "sub=Gestaltung interaktiver Lehr-/Lern-Systeme",
           "marker": {
            "color": "#EF553B",
            "symbol": "circle"
           },
           "mode": "markers",
           "name": "sub=Gestaltung interaktiver Lehr-/Lern-Systeme",
           "showlegend": true,
           "type": "scatter",
           "x": [
            11
           ],
           "xaxis": "x",
           "y": [
            0
           ],
           "yaxis": "y"
          }
         ],
         "name": "3"
        },
        {
         "data": [
          {
           "hoverlabel": {
            "namelength": 0
           },
           "hovertemplate": "sub=Information Engineering<br>semester=4<br>course id=%{x}<br>rating=%{y}",
           "ids": [
            12
           ],
           "legendgroup": "sub=Information Engineering",
           "marker": {
            "color": "#EF553B",
            "symbol": "circle"
           },
           "mode": "markers",
           "name": "sub=Information Engineering",
           "showlegend": true,
           "type": "scatter",
           "x": [
            12
           ],
           "xaxis": "x",
           "y": [
            3
           ],
           "yaxis": "y"
          },
          {
           "hoverlabel": {
            "namelength": 0
           },
           "hovertemplate": "sub=Distributed Systems<br>semester=4<br>course id=%{x}<br>rating=%{y}",
           "ids": [
            8
           ],
           "legendgroup": "sub=Distributed Systems",
           "marker": {
            "color": "#FFA15A",
            "symbol": "circle"
           },
           "mode": "markers",
           "name": "sub=Distributed Systems",
           "showlegend": true,
           "type": "scatter",
           "x": [
            8
           ],
           "xaxis": "x",
           "y": [
            0
           ],
           "yaxis": "y"
          },
          {
           "hoverlabel": {
            "namelength": 0
           },
           "hovertemplate": "sub=Electronic Communities and Social Networks<br>semester=4<br>course id=%{x}<br>rating=%{y}",
           "ids": [
            9
           ],
           "legendgroup": "sub=Electronic Communities and Social Networks",
           "marker": {
            "color": "#EF553B",
            "symbol": "circle"
           },
           "mode": "markers",
           "name": "sub=Electronic Communities and Social Networks",
           "showlegend": true,
           "type": "scatter",
           "x": [
            9
           ],
           "xaxis": "x",
           "y": [
            2
           ],
           "yaxis": "y"
          },
          {
           "hoverlabel": {
            "namelength": 0
           },
           "hovertemplate": "sub=Internet of Things- Protocols and System Software<br>semester=4<br>course id=%{x}<br>rating=%{y}",
           "ids": [
            16
           ],
           "legendgroup": "sub=Internet of Things- Protocols and System Software",
           "marker": {
            "color": "#FFA15A",
            "symbol": "circle"
           },
           "mode": "markers",
           "name": "sub=Internet of Things- Protocols and System Software",
           "showlegend": true,
           "type": "scatter",
           "x": [
            16
           ],
           "xaxis": "x",
           "y": [
            0
           ],
           "yaxis": "y"
          },
          {
           "hoverlabel": {
            "namelength": 0
           },
           "hovertemplate": "sub=Development of Safe and Secure Software<br>semester=4<br>course id=%{x}<br>rating=%{y}",
           "ids": [
            6
           ],
           "legendgroup": "sub=Development of Safe and Secure Software",
           "marker": {
            "color": "#19d3f3",
            "symbol": "circle"
           },
           "mode": "markers",
           "name": "sub=Development of Safe and Secure Software",
           "showlegend": true,
           "type": "scatter",
           "x": [
            6
           ],
           "xaxis": "x",
           "y": [
            0
           ],
           "yaxis": "y"
          },
          {
           "hoverlabel": {
            "namelength": 0
           },
           "hovertemplate": "sub=Peer-to-Peer Systems<br>semester=4<br>course id=%{x}<br>rating=%{y}",
           "ids": [
            21
           ],
           "legendgroup": "sub=Peer-to-Peer Systems",
           "marker": {
            "color": "#FF6692",
            "symbol": "circle"
           },
           "mode": "markers",
           "name": "sub=Peer-to-Peer Systems",
           "showlegend": true,
           "type": "scatter",
           "x": [
            21
           ],
           "xaxis": "x",
           "y": [
            0
           ],
           "yaxis": "y"
          },
          {
           "hoverlabel": {
            "namelength": 0
           },
           "hovertemplate": "sub=Advanced Web Technologies<br>semester=4<br>course id=%{x}<br>rating=%{y}",
           "ids": [
            1
           ],
           "legendgroup": "sub=Advanced Web Technologies",
           "marker": {
            "color": "#B6E880",
            "symbol": "circle"
           },
           "mode": "markers",
           "name": "sub=Advanced Web Technologies",
           "showlegend": true,
           "type": "scatter",
           "x": [
            1
           ],
           "xaxis": "x",
           "y": [
            1
           ],
           "yaxis": "y"
          },
          {
           "hoverlabel": {
            "namelength": 0
           },
           "hovertemplate": "sub=Gestaltung interaktiver Lehr-/Lern-Systeme<br>semester=4<br>course id=%{x}<br>rating=%{y}",
           "ids": [
            11,
            11
           ],
           "legendgroup": "sub=Gestaltung interaktiver Lehr-/Lern-Systeme",
           "marker": {
            "color": "#EF553B",
            "symbol": "circle"
           },
           "mode": "markers",
           "name": "sub=Gestaltung interaktiver Lehr-/Lern-Systeme",
           "showlegend": true,
           "type": "scatter",
           "x": [
            11,
            11
           ],
           "xaxis": "x",
           "y": [
            0,
            4
           ],
           "yaxis": "y"
          },
          {
           "hoverlabel": {
            "namelength": 0
           },
           "hovertemplate": "sub=Natural-Language-based Human-Computer Interaction<br>semester=4<br>course id=%{x}<br>rating=%{y}",
           "ids": [
            18
           ],
           "legendgroup": "sub=Natural-Language-based Human-Computer Interaction",
           "marker": {
            "color": "#FFA15A",
            "symbol": "circle"
           },
           "mode": "markers",
           "name": "sub=Natural-Language-based Human-Computer Interaction",
           "showlegend": true,
           "type": "scatter",
           "x": [
            18
           ],
           "xaxis": "x",
           "y": [
            4
           ],
           "yaxis": "y"
          }
         ],
         "name": "4"
        },
        {
         "data": [
          {
           "hoverlabel": {
            "namelength": 0
           },
           "hovertemplate": "sub=Interaktive Systeme<br>semester=Other<br>course id=%{x}<br>rating=%{y}",
           "ids": [
            15
           ],
           "legendgroup": "sub=Interaktive Systeme",
           "marker": {
            "color": "#636efa",
            "symbol": "circle"
           },
           "mode": "markers",
           "name": "sub=Interaktive Systeme",
           "showlegend": true,
           "type": "scatter",
           "x": [
            15
           ],
           "xaxis": "x",
           "y": [
            4
           ],
           "yaxis": "y"
          },
          {
           "hoverlabel": {
            "namelength": 0
           },
           "hovertemplate": "sub=Distributed Systems<br>semester=Other<br>course id=%{x}<br>rating=%{y}",
           "ids": [
            8
           ],
           "legendgroup": "sub=Distributed Systems",
           "marker": {
            "color": "#FFA15A",
            "symbol": "circle"
           },
           "mode": "markers",
           "name": "sub=Distributed Systems",
           "showlegend": true,
           "type": "scatter",
           "x": [
            8
           ],
           "xaxis": "x",
           "y": [
            4
           ],
           "yaxis": "y"
          },
          {
           "hoverlabel": {
            "namelength": 0
           },
           "hovertemplate": "sub=Advanced Image Synthesis<br>semester=Other<br>course id=%{x}<br>rating=%{y}",
           "ids": [
            0
           ],
           "legendgroup": "sub=Advanced Image Synthesis",
           "marker": {
            "color": "#FF97FF",
            "symbol": "circle"
           },
           "mode": "markers",
           "name": "sub=Advanced Image Synthesis",
           "showlegend": true,
           "type": "scatter",
           "x": [
            0
           ],
           "xaxis": "x",
           "y": [
            0
           ],
           "yaxis": "y"
          },
          {
           "hoverlabel": {
            "namelength": 0
           },
           "hovertemplate": "sub=Recommender Systems<br>semester=Other<br>course id=%{x}<br>rating=%{y}",
           "ids": [
            22,
            22
           ],
           "legendgroup": "sub=Recommender Systems",
           "marker": {
            "color": "#ab63fa",
            "symbol": "circle"
           },
           "mode": "markers",
           "name": "sub=Recommender Systems",
           "showlegend": true,
           "type": "scatter",
           "x": [
            22,
            22
           ],
           "xaxis": "x",
           "y": [
            4,
            1
           ],
           "yaxis": "y"
          },
          {
           "hoverlabel": {
            "namelength": 0
           },
           "hovertemplate": "sub=Internet of Things- Protocols and System Software<br>semester=Other<br>course id=%{x}<br>rating=%{y}",
           "ids": [
            16
           ],
           "legendgroup": "sub=Internet of Things- Protocols and System Software",
           "marker": {
            "color": "#FFA15A",
            "symbol": "circle"
           },
           "mode": "markers",
           "name": "sub=Internet of Things- Protocols and System Software",
           "showlegend": true,
           "type": "scatter",
           "x": [
            16
           ],
           "xaxis": "x",
           "y": [
            4
           ],
           "yaxis": "y"
          },
          {
           "hoverlabel": {
            "namelength": 0
           },
           "hovertemplate": "sub=Development of Safe and Secure Software<br>semester=Other<br>course id=%{x}<br>rating=%{y}",
           "ids": [
            6
           ],
           "legendgroup": "sub=Development of Safe and Secure Software",
           "marker": {
            "color": "#19d3f3",
            "symbol": "circle"
           },
           "mode": "markers",
           "name": "sub=Development of Safe and Secure Software",
           "showlegend": true,
           "type": "scatter",
           "x": [
            6
           ],
           "xaxis": "x",
           "y": [
            5
           ],
           "yaxis": "y"
          },
          {
           "hoverlabel": {
            "namelength": 0
           },
           "hovertemplate": "sub=Advanced Web Technologies<br>semester=Other<br>course id=%{x}<br>rating=%{y}",
           "ids": [
            1
           ],
           "legendgroup": "sub=Advanced Web Technologies",
           "marker": {
            "color": "#B6E880",
            "symbol": "circle"
           },
           "mode": "markers",
           "name": "sub=Advanced Web Technologies",
           "showlegend": true,
           "type": "scatter",
           "x": [
            1
           ],
           "xaxis": "x",
           "y": [
            3
           ],
           "yaxis": "y"
          },
          {
           "hoverlabel": {
            "namelength": 0
           },
           "hovertemplate": "sub=Information Retrieval<br>semester=Other<br>course id=%{x}<br>rating=%{y}",
           "ids": [
            14
           ],
           "legendgroup": "sub=Information Retrieval",
           "marker": {
            "color": "#FF97FF",
            "symbol": "circle"
           },
           "mode": "markers",
           "name": "sub=Information Retrieval",
           "showlegend": true,
           "type": "scatter",
           "x": [
            14
           ],
           "xaxis": "x",
           "y": [
            4
           ],
           "yaxis": "y"
          },
          {
           "hoverlabel": {
            "namelength": 0
           },
           "hovertemplate": "sub=Gestaltung interaktiver Lehr-/Lern-Systeme<br>semester=Other<br>course id=%{x}<br>rating=%{y}",
           "ids": [
            11
           ],
           "legendgroup": "sub=Gestaltung interaktiver Lehr-/Lern-Systeme",
           "marker": {
            "color": "#EF553B",
            "symbol": "circle"
           },
           "mode": "markers",
           "name": "sub=Gestaltung interaktiver Lehr-/Lern-Systeme",
           "showlegend": true,
           "type": "scatter",
           "x": [
            11
           ],
           "xaxis": "x",
           "y": [
            4
           ],
           "yaxis": "y"
          },
          {
           "hoverlabel": {
            "namelength": 0
           },
           "hovertemplate": "sub=Pattern and Component based Software Development<br>semester=Other<br>course id=%{x}<br>rating=%{y}",
           "ids": [
            20
           ],
           "legendgroup": "sub=Pattern and Component based Software Development",
           "marker": {
            "color": "#00cc96",
            "symbol": "circle"
           },
           "mode": "markers",
           "name": "sub=Pattern and Component based Software Development",
           "showlegend": true,
           "type": "scatter",
           "x": [
            20
           ],
           "xaxis": "x",
           "y": [
            5
           ],
           "yaxis": "y"
          }
         ],
         "name": "Other"
        }
       ],
       "layout": {
        "legend": {
         "tracegroupgap": 0
        },
        "margin": {
         "t": 60
        },
        "sliders": [
         {
          "active": 0,
          "currentvalue": {
           "prefix": "semester="
          },
          "len": 0.9,
          "pad": {
           "b": 10,
           "t": 60
          },
          "steps": [
           {
            "args": [
             [
              "1"
             ],
             {
              "frame": {
               "duration": 0,
               "redraw": false
              },
              "fromcurrent": true,
              "mode": "immediate",
              "transition": {
               "duration": 0,
               "easing": "linear"
              }
             }
            ],
            "label": "1",
            "method": "animate"
           },
           {
            "args": [
             [
              "2"
             ],
             {
              "frame": {
               "duration": 0,
               "redraw": false
              },
              "fromcurrent": true,
              "mode": "immediate",
              "transition": {
               "duration": 0,
               "easing": "linear"
              }
             }
            ],
            "label": "2",
            "method": "animate"
           },
           {
            "args": [
             [
              "3"
             ],
             {
              "frame": {
               "duration": 0,
               "redraw": false
              },
              "fromcurrent": true,
              "mode": "immediate",
              "transition": {
               "duration": 0,
               "easing": "linear"
              }
             }
            ],
            "label": "3",
            "method": "animate"
           },
           {
            "args": [
             [
              "4"
             ],
             {
              "frame": {
               "duration": 0,
               "redraw": false
              },
              "fromcurrent": true,
              "mode": "immediate",
              "transition": {
               "duration": 0,
               "easing": "linear"
              }
             }
            ],
            "label": "4",
            "method": "animate"
           },
           {
            "args": [
             [
              "Other"
             ],
             {
              "frame": {
               "duration": 0,
               "redraw": false
              },
              "fromcurrent": true,
              "mode": "immediate",
              "transition": {
               "duration": 0,
               "easing": "linear"
              }
             }
            ],
            "label": "Other",
            "method": "animate"
           }
          ],
          "x": 0.1,
          "xanchor": "left",
          "y": 0,
          "yanchor": "top"
         }
        ],
        "template": {
         "data": {
          "bar": [
           {
            "error_x": {
             "color": "#2a3f5f"
            },
            "error_y": {
             "color": "#2a3f5f"
            },
            "marker": {
             "line": {
              "color": "#E5ECF6",
              "width": 0.5
             }
            },
            "type": "bar"
           }
          ],
          "barpolar": [
           {
            "marker": {
             "line": {
              "color": "#E5ECF6",
              "width": 0.5
             }
            },
            "type": "barpolar"
           }
          ],
          "carpet": [
           {
            "aaxis": {
             "endlinecolor": "#2a3f5f",
             "gridcolor": "white",
             "linecolor": "white",
             "minorgridcolor": "white",
             "startlinecolor": "#2a3f5f"
            },
            "baxis": {
             "endlinecolor": "#2a3f5f",
             "gridcolor": "white",
             "linecolor": "white",
             "minorgridcolor": "white",
             "startlinecolor": "#2a3f5f"
            },
            "type": "carpet"
           }
          ],
          "choropleth": [
           {
            "colorbar": {
             "outlinewidth": 0,
             "ticks": ""
            },
            "type": "choropleth"
           }
          ],
          "contour": [
           {
            "colorbar": {
             "outlinewidth": 0,
             "ticks": ""
            },
            "colorscale": [
             [
              0,
              "#0d0887"
             ],
             [
              0.1111111111111111,
              "#46039f"
             ],
             [
              0.2222222222222222,
              "#7201a8"
             ],
             [
              0.3333333333333333,
              "#9c179e"
             ],
             [
              0.4444444444444444,
              "#bd3786"
             ],
             [
              0.5555555555555556,
              "#d8576b"
             ],
             [
              0.6666666666666666,
              "#ed7953"
             ],
             [
              0.7777777777777778,
              "#fb9f3a"
             ],
             [
              0.8888888888888888,
              "#fdca26"
             ],
             [
              1,
              "#f0f921"
             ]
            ],
            "type": "contour"
           }
          ],
          "contourcarpet": [
           {
            "colorbar": {
             "outlinewidth": 0,
             "ticks": ""
            },
            "type": "contourcarpet"
           }
          ],
          "heatmap": [
           {
            "colorbar": {
             "outlinewidth": 0,
             "ticks": ""
            },
            "colorscale": [
             [
              0,
              "#0d0887"
             ],
             [
              0.1111111111111111,
              "#46039f"
             ],
             [
              0.2222222222222222,
              "#7201a8"
             ],
             [
              0.3333333333333333,
              "#9c179e"
             ],
             [
              0.4444444444444444,
              "#bd3786"
             ],
             [
              0.5555555555555556,
              "#d8576b"
             ],
             [
              0.6666666666666666,
              "#ed7953"
             ],
             [
              0.7777777777777778,
              "#fb9f3a"
             ],
             [
              0.8888888888888888,
              "#fdca26"
             ],
             [
              1,
              "#f0f921"
             ]
            ],
            "type": "heatmap"
           }
          ],
          "heatmapgl": [
           {
            "colorbar": {
             "outlinewidth": 0,
             "ticks": ""
            },
            "colorscale": [
             [
              0,
              "#0d0887"
             ],
             [
              0.1111111111111111,
              "#46039f"
             ],
             [
              0.2222222222222222,
              "#7201a8"
             ],
             [
              0.3333333333333333,
              "#9c179e"
             ],
             [
              0.4444444444444444,
              "#bd3786"
             ],
             [
              0.5555555555555556,
              "#d8576b"
             ],
             [
              0.6666666666666666,
              "#ed7953"
             ],
             [
              0.7777777777777778,
              "#fb9f3a"
             ],
             [
              0.8888888888888888,
              "#fdca26"
             ],
             [
              1,
              "#f0f921"
             ]
            ],
            "type": "heatmapgl"
           }
          ],
          "histogram": [
           {
            "marker": {
             "colorbar": {
              "outlinewidth": 0,
              "ticks": ""
             }
            },
            "type": "histogram"
           }
          ],
          "histogram2d": [
           {
            "colorbar": {
             "outlinewidth": 0,
             "ticks": ""
            },
            "colorscale": [
             [
              0,
              "#0d0887"
             ],
             [
              0.1111111111111111,
              "#46039f"
             ],
             [
              0.2222222222222222,
              "#7201a8"
             ],
             [
              0.3333333333333333,
              "#9c179e"
             ],
             [
              0.4444444444444444,
              "#bd3786"
             ],
             [
              0.5555555555555556,
              "#d8576b"
             ],
             [
              0.6666666666666666,
              "#ed7953"
             ],
             [
              0.7777777777777778,
              "#fb9f3a"
             ],
             [
              0.8888888888888888,
              "#fdca26"
             ],
             [
              1,
              "#f0f921"
             ]
            ],
            "type": "histogram2d"
           }
          ],
          "histogram2dcontour": [
           {
            "colorbar": {
             "outlinewidth": 0,
             "ticks": ""
            },
            "colorscale": [
             [
              0,
              "#0d0887"
             ],
             [
              0.1111111111111111,
              "#46039f"
             ],
             [
              0.2222222222222222,
              "#7201a8"
             ],
             [
              0.3333333333333333,
              "#9c179e"
             ],
             [
              0.4444444444444444,
              "#bd3786"
             ],
             [
              0.5555555555555556,
              "#d8576b"
             ],
             [
              0.6666666666666666,
              "#ed7953"
             ],
             [
              0.7777777777777778,
              "#fb9f3a"
             ],
             [
              0.8888888888888888,
              "#fdca26"
             ],
             [
              1,
              "#f0f921"
             ]
            ],
            "type": "histogram2dcontour"
           }
          ],
          "mesh3d": [
           {
            "colorbar": {
             "outlinewidth": 0,
             "ticks": ""
            },
            "type": "mesh3d"
           }
          ],
          "parcoords": [
           {
            "line": {
             "colorbar": {
              "outlinewidth": 0,
              "ticks": ""
             }
            },
            "type": "parcoords"
           }
          ],
          "pie": [
           {
            "automargin": true,
            "type": "pie"
           }
          ],
          "scatter": [
           {
            "marker": {
             "colorbar": {
              "outlinewidth": 0,
              "ticks": ""
             }
            },
            "type": "scatter"
           }
          ],
          "scatter3d": [
           {
            "line": {
             "colorbar": {
              "outlinewidth": 0,
              "ticks": ""
             }
            },
            "marker": {
             "colorbar": {
              "outlinewidth": 0,
              "ticks": ""
             }
            },
            "type": "scatter3d"
           }
          ],
          "scattercarpet": [
           {
            "marker": {
             "colorbar": {
              "outlinewidth": 0,
              "ticks": ""
             }
            },
            "type": "scattercarpet"
           }
          ],
          "scattergeo": [
           {
            "marker": {
             "colorbar": {
              "outlinewidth": 0,
              "ticks": ""
             }
            },
            "type": "scattergeo"
           }
          ],
          "scattergl": [
           {
            "marker": {
             "colorbar": {
              "outlinewidth": 0,
              "ticks": ""
             }
            },
            "type": "scattergl"
           }
          ],
          "scattermapbox": [
           {
            "marker": {
             "colorbar": {
              "outlinewidth": 0,
              "ticks": ""
             }
            },
            "type": "scattermapbox"
           }
          ],
          "scatterpolar": [
           {
            "marker": {
             "colorbar": {
              "outlinewidth": 0,
              "ticks": ""
             }
            },
            "type": "scatterpolar"
           }
          ],
          "scatterpolargl": [
           {
            "marker": {
             "colorbar": {
              "outlinewidth": 0,
              "ticks": ""
             }
            },
            "type": "scatterpolargl"
           }
          ],
          "scatterternary": [
           {
            "marker": {
             "colorbar": {
              "outlinewidth": 0,
              "ticks": ""
             }
            },
            "type": "scatterternary"
           }
          ],
          "surface": [
           {
            "colorbar": {
             "outlinewidth": 0,
             "ticks": ""
            },
            "colorscale": [
             [
              0,
              "#0d0887"
             ],
             [
              0.1111111111111111,
              "#46039f"
             ],
             [
              0.2222222222222222,
              "#7201a8"
             ],
             [
              0.3333333333333333,
              "#9c179e"
             ],
             [
              0.4444444444444444,
              "#bd3786"
             ],
             [
              0.5555555555555556,
              "#d8576b"
             ],
             [
              0.6666666666666666,
              "#ed7953"
             ],
             [
              0.7777777777777778,
              "#fb9f3a"
             ],
             [
              0.8888888888888888,
              "#fdca26"
             ],
             [
              1,
              "#f0f921"
             ]
            ],
            "type": "surface"
           }
          ],
          "table": [
           {
            "cells": {
             "fill": {
              "color": "#EBF0F8"
             },
             "line": {
              "color": "white"
             }
            },
            "header": {
             "fill": {
              "color": "#C8D4E3"
             },
             "line": {
              "color": "white"
             }
            },
            "type": "table"
           }
          ]
         },
         "layout": {
          "annotationdefaults": {
           "arrowcolor": "#2a3f5f",
           "arrowhead": 0,
           "arrowwidth": 1
          },
          "coloraxis": {
           "colorbar": {
            "outlinewidth": 0,
            "ticks": ""
           }
          },
          "colorscale": {
           "diverging": [
            [
             0,
             "#8e0152"
            ],
            [
             0.1,
             "#c51b7d"
            ],
            [
             0.2,
             "#de77ae"
            ],
            [
             0.3,
             "#f1b6da"
            ],
            [
             0.4,
             "#fde0ef"
            ],
            [
             0.5,
             "#f7f7f7"
            ],
            [
             0.6,
             "#e6f5d0"
            ],
            [
             0.7,
             "#b8e186"
            ],
            [
             0.8,
             "#7fbc41"
            ],
            [
             0.9,
             "#4d9221"
            ],
            [
             1,
             "#276419"
            ]
           ],
           "sequential": [
            [
             0,
             "#0d0887"
            ],
            [
             0.1111111111111111,
             "#46039f"
            ],
            [
             0.2222222222222222,
             "#7201a8"
            ],
            [
             0.3333333333333333,
             "#9c179e"
            ],
            [
             0.4444444444444444,
             "#bd3786"
            ],
            [
             0.5555555555555556,
             "#d8576b"
            ],
            [
             0.6666666666666666,
             "#ed7953"
            ],
            [
             0.7777777777777778,
             "#fb9f3a"
            ],
            [
             0.8888888888888888,
             "#fdca26"
            ],
            [
             1,
             "#f0f921"
            ]
           ],
           "sequentialminus": [
            [
             0,
             "#0d0887"
            ],
            [
             0.1111111111111111,
             "#46039f"
            ],
            [
             0.2222222222222222,
             "#7201a8"
            ],
            [
             0.3333333333333333,
             "#9c179e"
            ],
            [
             0.4444444444444444,
             "#bd3786"
            ],
            [
             0.5555555555555556,
             "#d8576b"
            ],
            [
             0.6666666666666666,
             "#ed7953"
            ],
            [
             0.7777777777777778,
             "#fb9f3a"
            ],
            [
             0.8888888888888888,
             "#fdca26"
            ],
            [
             1,
             "#f0f921"
            ]
           ]
          },
          "colorway": [
           "#636efa",
           "#EF553B",
           "#00cc96",
           "#ab63fa",
           "#FFA15A",
           "#19d3f3",
           "#FF6692",
           "#B6E880",
           "#FF97FF",
           "#FECB52"
          ],
          "font": {
           "color": "#2a3f5f"
          },
          "geo": {
           "bgcolor": "white",
           "lakecolor": "white",
           "landcolor": "#E5ECF6",
           "showlakes": true,
           "showland": true,
           "subunitcolor": "white"
          },
          "hoverlabel": {
           "align": "left"
          },
          "hovermode": "closest",
          "mapbox": {
           "style": "light"
          },
          "paper_bgcolor": "white",
          "plot_bgcolor": "#E5ECF6",
          "polar": {
           "angularaxis": {
            "gridcolor": "white",
            "linecolor": "white",
            "ticks": ""
           },
           "bgcolor": "#E5ECF6",
           "radialaxis": {
            "gridcolor": "white",
            "linecolor": "white",
            "ticks": ""
           }
          },
          "scene": {
           "xaxis": {
            "backgroundcolor": "#E5ECF6",
            "gridcolor": "white",
            "gridwidth": 2,
            "linecolor": "white",
            "showbackground": true,
            "ticks": "",
            "zerolinecolor": "white"
           },
           "yaxis": {
            "backgroundcolor": "#E5ECF6",
            "gridcolor": "white",
            "gridwidth": 2,
            "linecolor": "white",
            "showbackground": true,
            "ticks": "",
            "zerolinecolor": "white"
           },
           "zaxis": {
            "backgroundcolor": "#E5ECF6",
            "gridcolor": "white",
            "gridwidth": 2,
            "linecolor": "white",
            "showbackground": true,
            "ticks": "",
            "zerolinecolor": "white"
           }
          },
          "shapedefaults": {
           "line": {
            "color": "#2a3f5f"
           }
          },
          "ternary": {
           "aaxis": {
            "gridcolor": "white",
            "linecolor": "white",
            "ticks": ""
           },
           "baxis": {
            "gridcolor": "white",
            "linecolor": "white",
            "ticks": ""
           },
           "bgcolor": "#E5ECF6",
           "caxis": {
            "gridcolor": "white",
            "linecolor": "white",
            "ticks": ""
           }
          },
          "title": {
           "x": 0.05
          },
          "xaxis": {
           "automargin": true,
           "gridcolor": "white",
           "linecolor": "white",
           "ticks": "",
           "title": {
            "standoff": 15
           },
           "zerolinecolor": "white",
           "zerolinewidth": 2
          },
          "yaxis": {
           "automargin": true,
           "gridcolor": "white",
           "linecolor": "white",
           "ticks": "",
           "title": {
            "standoff": 15
           },
           "zerolinecolor": "white",
           "zerolinewidth": 2
          }
         }
        },
        "title": {
         "text": "Ratings semester wise"
        },
        "updatemenus": [
         {
          "buttons": [
           {
            "args": [
             null,
             {
              "frame": {
               "duration": 500,
               "redraw": false
              },
              "fromcurrent": true,
              "mode": "immediate",
              "transition": {
               "duration": 500,
               "easing": "linear"
              }
             }
            ],
            "label": "&#9654;",
            "method": "animate"
           },
           {
            "args": [
             [
              null
             ],
             {
              "frame": {
               "duration": 0,
               "redraw": false
              },
              "fromcurrent": true,
              "mode": "immediate",
              "transition": {
               "duration": 0,
               "easing": "linear"
              }
             }
            ],
            "label": "&#9724;",
            "method": "animate"
           }
          ],
          "direction": "left",
          "pad": {
           "r": 10,
           "t": 70
          },
          "showactive": false,
          "type": "buttons",
          "x": 0.1,
          "xanchor": "right",
          "y": 0,
          "yanchor": "top"
         }
        ],
        "width": 900,
        "xaxis": {
         "anchor": "y",
         "domain": [
          0,
          1
         ],
         "title": {
          "text": "course id"
         }
        },
        "yaxis": {
         "anchor": "x",
         "domain": [
          0,
          1
         ],
         "title": {
          "text": "rating"
         }
        }
       }
      },
      "text/html": [
       "<div>\n",
       "        \n",
       "        \n",
       "            <div id=\"55da9901-374c-4204-bf05-2ae26b363374\" class=\"plotly-graph-div\" style=\"height:525px; width:900px;\"></div>\n",
       "            <script type=\"text/javascript\">\n",
       "                require([\"plotly\"], function(Plotly) {\n",
       "                    window.PLOTLYENV=window.PLOTLYENV || {};\n",
       "                    \n",
       "                if (document.getElementById(\"55da9901-374c-4204-bf05-2ae26b363374\")) {\n",
       "                    Plotly.newPlot(\n",
       "                        '55da9901-374c-4204-bf05-2ae26b363374',\n",
       "                        [{\"hoverlabel\": {\"namelength\": 0}, \"hovertemplate\": \"sub=Interaktive Systeme<br>semester=1<br>course id=%{x}<br>rating=%{y}\", \"ids\": [15, 15, 15], \"legendgroup\": \"sub=Interaktive Systeme\", \"marker\": {\"color\": \"#636efa\", \"symbol\": \"circle\"}, \"mode\": \"markers\", \"name\": \"sub=Interaktive Systeme\", \"showlegend\": true, \"type\": \"scatter\", \"x\": [15, 15, 15], \"xaxis\": \"x\", \"y\": [1, 2, 2], \"yaxis\": \"y\"}, {\"hoverlabel\": {\"namelength\": 0}, \"hovertemplate\": \"sub=Information Engineering<br>semester=1<br>course id=%{x}<br>rating=%{y}\", \"ids\": [12, 12, 12, 12], \"legendgroup\": \"sub=Information Engineering\", \"marker\": {\"color\": \"#EF553B\", \"symbol\": \"circle\"}, \"mode\": \"markers\", \"name\": \"sub=Information Engineering\", \"showlegend\": true, \"type\": \"scatter\", \"x\": [12, 12, 12, 12], \"xaxis\": \"x\", \"y\": [5, 5, 3, 3], \"yaxis\": \"y\"}, {\"hoverlabel\": {\"namelength\": 0}, \"hovertemplate\": \"sub=Scientific Visualization<br>semester=1<br>course id=%{x}<br>rating=%{y}\", \"ids\": [23], \"legendgroup\": \"sub=Scientific Visualization\", \"marker\": {\"color\": \"#00cc96\", \"symbol\": \"circle\"}, \"mode\": \"markers\", \"name\": \"sub=Scientific Visualization\", \"showlegend\": true, \"type\": \"scatter\", \"x\": [23], \"xaxis\": \"x\", \"y\": [0], \"yaxis\": \"y\"}, {\"hoverlabel\": {\"namelength\": 0}, \"hovertemplate\": \"sub=Information Mining<br>semester=1<br>course id=%{x}<br>rating=%{y}\", \"ids\": [13, 13, 13, 13, 13, 13, 13], \"legendgroup\": \"sub=Information Mining\", \"marker\": {\"color\": \"#ab63fa\", \"symbol\": \"circle\"}, \"mode\": \"markers\", \"name\": \"sub=Information Mining\", \"showlegend\": true, \"type\": \"scatter\", \"x\": [13, 13, 13, 13, 13, 13, 13], \"xaxis\": \"x\", \"y\": [1, 0, 3, 3, 3, 3, 3], \"yaxis\": \"y\"}, {\"hoverlabel\": {\"namelength\": 0}, \"hovertemplate\": \"sub=Distributed Systems<br>semester=1<br>course id=%{x}<br>rating=%{y}\", \"ids\": [8, 8, 8, 8, 8, 8, 8, 8, 8, 8, 8], \"legendgroup\": \"sub=Distributed Systems\", \"marker\": {\"color\": \"#FFA15A\", \"symbol\": \"circle\"}, \"mode\": \"markers\", \"name\": \"sub=Distributed Systems\", \"showlegend\": true, \"type\": \"scatter\", \"x\": [8, 8, 8, 8, 8, 8, 8, 8, 8, 8, 8], \"xaxis\": \"x\", \"y\": [0, 1, 2, 1, 3, 2, 3, 2, 2, 2, 3], \"yaxis\": \"y\"}, {\"hoverlabel\": {\"namelength\": 0}, \"hovertemplate\": \"sub=Computer Robot Vision<br>semester=1<br>course id=%{x}<br>rating=%{y}\", \"ids\": [5, 5, 5], \"legendgroup\": \"sub=Computer Robot Vision\", \"marker\": {\"color\": \"#19d3f3\", \"symbol\": \"circle\"}, \"mode\": \"markers\", \"name\": \"sub=Computer Robot Vision\", \"showlegend\": true, \"type\": \"scatter\", \"x\": [5, 5, 5], \"xaxis\": \"x\", \"y\": [0, 3, 1], \"yaxis\": \"y\"}, {\"hoverlabel\": {\"namelength\": 0}, \"hovertemplate\": \"sub=Cognitive Robot Systems<br>semester=1<br>course id=%{x}<br>rating=%{y}\", \"ids\": [3, 3], \"legendgroup\": \"sub=Cognitive Robot Systems\", \"marker\": {\"color\": \"#FF6692\", \"symbol\": \"circle\"}, \"mode\": \"markers\", \"name\": \"sub=Cognitive Robot Systems\", \"showlegend\": true, \"type\": \"scatter\", \"x\": [3, 3], \"xaxis\": \"x\", \"y\": [0, 2], \"yaxis\": \"y\"}, {\"hoverlabel\": {\"namelength\": 0}, \"hovertemplate\": \"sub=Digital Games Research<br>semester=1<br>course id=%{x}<br>rating=%{y}\", \"ids\": [7], \"legendgroup\": \"sub=Digital Games Research\", \"marker\": {\"color\": \"#B6E880\", \"symbol\": \"circle\"}, \"mode\": \"markers\", \"name\": \"sub=Digital Games Research\", \"showlegend\": true, \"type\": \"scatter\", \"x\": [7], \"xaxis\": \"x\", \"y\": [1], \"yaxis\": \"y\"}, {\"hoverlabel\": {\"namelength\": 0}, \"hovertemplate\": \"sub=Advanced Image Synthesis<br>semester=1<br>course id=%{x}<br>rating=%{y}\", \"ids\": [0], \"legendgroup\": \"sub=Advanced Image Synthesis\", \"marker\": {\"color\": \"#FF97FF\", \"symbol\": \"circle\"}, \"mode\": \"markers\", \"name\": \"sub=Advanced Image Synthesis\", \"showlegend\": true, \"type\": \"scatter\", \"x\": [0], \"xaxis\": \"x\", \"y\": [0], \"yaxis\": \"y\"}, {\"hoverlabel\": {\"namelength\": 0}, \"hovertemplate\": \"sub=Learning Analytics<br>semester=1<br>course id=%{x}<br>rating=%{y}\", \"ids\": [17, 17, 17, 17], \"legendgroup\": \"sub=Learning Analytics\", \"marker\": {\"color\": \"#FECB52\", \"symbol\": \"circle\"}, \"mode\": \"markers\", \"name\": \"sub=Learning Analytics\", \"showlegend\": true, \"type\": \"scatter\", \"x\": [17, 17, 17, 17], \"xaxis\": \"x\", \"y\": [1, 0, 1, 1], \"yaxis\": \"y\"}, {\"hoverlabel\": {\"namelength\": 0}, \"hovertemplate\": \"sub=Formal Specification of Software Systems<br>semester=1<br>course id=%{x}<br>rating=%{y}\", \"ids\": [10, 10, 10, 10, 10, 10, 10, 10], \"legendgroup\": \"sub=Formal Specification of Software Systems\", \"marker\": {\"color\": \"#636efa\", \"symbol\": \"circle\"}, \"mode\": \"markers\", \"name\": \"sub=Formal Specification of Software Systems\", \"showlegend\": true, \"type\": \"scatter\", \"x\": [10, 10, 10, 10, 10, 10, 10, 10], \"xaxis\": \"x\", \"y\": [3, 4, 5, 5, 3, 2, 3, 3], \"yaxis\": \"y\"}, {\"hoverlabel\": {\"namelength\": 0}, \"hovertemplate\": \"sub=Electronic Communities and Social Networks<br>semester=1<br>course id=%{x}<br>rating=%{y}\", \"ids\": [9, 9, 9, 9, 9, 9, 9, 9], \"legendgroup\": \"sub=Electronic Communities and Social Networks\", \"marker\": {\"color\": \"#EF553B\", \"symbol\": \"circle\"}, \"mode\": \"markers\", \"name\": \"sub=Electronic Communities and Social Networks\", \"showlegend\": true, \"type\": \"scatter\", \"x\": [9, 9, 9, 9, 9, 9, 9, 9], \"xaxis\": \"x\", \"y\": [1, 2, 1, 2, 1, 1, 1, 1], \"yaxis\": \"y\"}, {\"hoverlabel\": {\"namelength\": 0}, \"hovertemplate\": \"sub=Computer Graphics<br>semester=1<br>course id=%{x}<br>rating=%{y}\", \"ids\": [4], \"legendgroup\": \"sub=Computer Graphics\", \"marker\": {\"color\": \"#00cc96\", \"symbol\": \"circle\"}, \"mode\": \"markers\", \"name\": \"sub=Computer Graphics\", \"showlegend\": true, \"type\": \"scatter\", \"x\": [4], \"xaxis\": \"x\", \"y\": [1], \"yaxis\": \"y\"}, {\"hoverlabel\": {\"namelength\": 0}, \"hovertemplate\": \"sub=Recommender Systems<br>semester=1<br>course id=%{x}<br>rating=%{y}\", \"ids\": [22], \"legendgroup\": \"sub=Recommender Systems\", \"marker\": {\"color\": \"#ab63fa\", \"symbol\": \"circle\"}, \"mode\": \"markers\", \"name\": \"sub=Recommender Systems\", \"showlegend\": true, \"type\": \"scatter\", \"x\": [22], \"xaxis\": \"x\", \"y\": [5], \"yaxis\": \"y\"}, {\"hoverlabel\": {\"namelength\": 0}, \"hovertemplate\": \"sub=Internet of Things- Protocols and System Software<br>semester=1<br>course id=%{x}<br>rating=%{y}\", \"ids\": [16, 16, 16, 16], \"legendgroup\": \"sub=Internet of Things- Protocols and System Software\", \"marker\": {\"color\": \"#FFA15A\", \"symbol\": \"circle\"}, \"mode\": \"markers\", \"name\": \"sub=Internet of Things- Protocols and System Software\", \"showlegend\": true, \"type\": \"scatter\", \"x\": [16, 16, 16, 16], \"xaxis\": \"x\", \"y\": [1, 1, 4, 1], \"yaxis\": \"y\"}, {\"hoverlabel\": {\"namelength\": 0}, \"hovertemplate\": \"sub=Development of Safe and Secure Software<br>semester=1<br>course id=%{x}<br>rating=%{y}\", \"ids\": [6, 6, 6], \"legendgroup\": \"sub=Development of Safe and Secure Software\", \"marker\": {\"color\": \"#19d3f3\", \"symbol\": \"circle\"}, \"mode\": \"markers\", \"name\": \"sub=Development of Safe and Secure Software\", \"showlegend\": true, \"type\": \"scatter\", \"x\": [6, 6, 6], \"xaxis\": \"x\", \"y\": [3, 5, 3], \"yaxis\": \"y\"}, {\"hoverlabel\": {\"namelength\": 0}, \"hovertemplate\": \"sub=Peer-to-Peer Systems<br>semester=1<br>course id=%{x}<br>rating=%{y}\", \"ids\": [21], \"legendgroup\": \"sub=Peer-to-Peer Systems\", \"marker\": {\"color\": \"#FF6692\", \"symbol\": \"circle\"}, \"mode\": \"markers\", \"name\": \"sub=Peer-to-Peer Systems\", \"showlegend\": true, \"type\": \"scatter\", \"x\": [21], \"xaxis\": \"x\", \"y\": [1], \"yaxis\": \"y\"}, {\"hoverlabel\": {\"namelength\": 0}, \"hovertemplate\": \"sub=Advanced Web Technologies<br>semester=1<br>course id=%{x}<br>rating=%{y}\", \"ids\": [1, 1], \"legendgroup\": \"sub=Advanced Web Technologies\", \"marker\": {\"color\": \"#B6E880\", \"symbol\": \"circle\"}, \"mode\": \"markers\", \"name\": \"sub=Advanced Web Technologies\", \"showlegend\": true, \"type\": \"scatter\", \"x\": [1, 1], \"xaxis\": \"x\", \"y\": [2, 2], \"yaxis\": \"y\"}, {\"hoverlabel\": {\"namelength\": 0}, \"hovertemplate\": \"sub=Information Retrieval<br>semester=1<br>course id=%{x}<br>rating=%{y}\", \"ids\": [14, 14, 14], \"legendgroup\": \"sub=Information Retrieval\", \"marker\": {\"color\": \"#FF97FF\", \"symbol\": \"circle\"}, \"mode\": \"markers\", \"name\": \"sub=Information Retrieval\", \"showlegend\": true, \"type\": \"scatter\", \"x\": [14, 14, 14], \"xaxis\": \"x\", \"y\": [4, 0, 4], \"yaxis\": \"y\"}, {\"hoverlabel\": {\"namelength\": 0}, \"hovertemplate\": \"sub=Cloud Web & Mobile<br>semester=1<br>course id=%{x}<br>rating=%{y}\", \"ids\": [2], \"legendgroup\": \"sub=Cloud Web & Mobile\", \"marker\": {\"color\": \"#FECB52\", \"symbol\": \"circle\"}, \"mode\": \"markers\", \"name\": \"sub=Cloud Web & Mobile\", \"showlegend\": true, \"type\": \"scatter\", \"x\": [2], \"xaxis\": \"x\", \"y\": [2], \"yaxis\": \"y\"}],\n",
       "                        {\"legend\": {\"tracegroupgap\": 0}, \"margin\": {\"t\": 60}, \"sliders\": [{\"active\": 0, \"currentvalue\": {\"prefix\": \"semester=\"}, \"len\": 0.9, \"pad\": {\"b\": 10, \"t\": 60}, \"steps\": [{\"args\": [[\"1\"], {\"frame\": {\"duration\": 0, \"redraw\": false}, \"fromcurrent\": true, \"mode\": \"immediate\", \"transition\": {\"duration\": 0, \"easing\": \"linear\"}}], \"label\": \"1\", \"method\": \"animate\"}, {\"args\": [[\"2\"], {\"frame\": {\"duration\": 0, \"redraw\": false}, \"fromcurrent\": true, \"mode\": \"immediate\", \"transition\": {\"duration\": 0, \"easing\": \"linear\"}}], \"label\": \"2\", \"method\": \"animate\"}, {\"args\": [[\"3\"], {\"frame\": {\"duration\": 0, \"redraw\": false}, \"fromcurrent\": true, \"mode\": \"immediate\", \"transition\": {\"duration\": 0, \"easing\": \"linear\"}}], \"label\": \"3\", \"method\": \"animate\"}, {\"args\": [[\"4\"], {\"frame\": {\"duration\": 0, \"redraw\": false}, \"fromcurrent\": true, \"mode\": \"immediate\", \"transition\": {\"duration\": 0, \"easing\": \"linear\"}}], \"label\": \"4\", \"method\": \"animate\"}, {\"args\": [[\"Other\"], {\"frame\": {\"duration\": 0, \"redraw\": false}, \"fromcurrent\": true, \"mode\": \"immediate\", \"transition\": {\"duration\": 0, \"easing\": \"linear\"}}], \"label\": \"Other\", \"method\": \"animate\"}], \"x\": 0.1, \"xanchor\": \"left\", \"y\": 0, \"yanchor\": \"top\"}], \"template\": {\"data\": {\"bar\": [{\"error_x\": {\"color\": \"#2a3f5f\"}, \"error_y\": {\"color\": \"#2a3f5f\"}, \"marker\": {\"line\": {\"color\": \"#E5ECF6\", \"width\": 0.5}}, \"type\": \"bar\"}], \"barpolar\": [{\"marker\": {\"line\": {\"color\": \"#E5ECF6\", \"width\": 0.5}}, \"type\": \"barpolar\"}], \"carpet\": [{\"aaxis\": {\"endlinecolor\": \"#2a3f5f\", \"gridcolor\": \"white\", \"linecolor\": \"white\", \"minorgridcolor\": \"white\", \"startlinecolor\": \"#2a3f5f\"}, \"baxis\": {\"endlinecolor\": \"#2a3f5f\", \"gridcolor\": \"white\", \"linecolor\": \"white\", \"minorgridcolor\": \"white\", \"startlinecolor\": \"#2a3f5f\"}, \"type\": \"carpet\"}], \"choropleth\": [{\"colorbar\": {\"outlinewidth\": 0, \"ticks\": \"\"}, \"type\": \"choropleth\"}], \"contour\": [{\"colorbar\": {\"outlinewidth\": 0, \"ticks\": \"\"}, \"colorscale\": [[0.0, \"#0d0887\"], [0.1111111111111111, \"#46039f\"], [0.2222222222222222, \"#7201a8\"], [0.3333333333333333, \"#9c179e\"], [0.4444444444444444, \"#bd3786\"], [0.5555555555555556, \"#d8576b\"], [0.6666666666666666, \"#ed7953\"], [0.7777777777777778, \"#fb9f3a\"], [0.8888888888888888, \"#fdca26\"], [1.0, \"#f0f921\"]], \"type\": \"contour\"}], \"contourcarpet\": [{\"colorbar\": {\"outlinewidth\": 0, \"ticks\": \"\"}, \"type\": \"contourcarpet\"}], \"heatmap\": [{\"colorbar\": {\"outlinewidth\": 0, \"ticks\": \"\"}, \"colorscale\": [[0.0, \"#0d0887\"], [0.1111111111111111, \"#46039f\"], [0.2222222222222222, \"#7201a8\"], [0.3333333333333333, \"#9c179e\"], [0.4444444444444444, \"#bd3786\"], [0.5555555555555556, \"#d8576b\"], [0.6666666666666666, \"#ed7953\"], [0.7777777777777778, \"#fb9f3a\"], [0.8888888888888888, \"#fdca26\"], [1.0, \"#f0f921\"]], \"type\": \"heatmap\"}], \"heatmapgl\": [{\"colorbar\": {\"outlinewidth\": 0, \"ticks\": \"\"}, \"colorscale\": [[0.0, \"#0d0887\"], [0.1111111111111111, \"#46039f\"], [0.2222222222222222, \"#7201a8\"], [0.3333333333333333, \"#9c179e\"], [0.4444444444444444, \"#bd3786\"], [0.5555555555555556, \"#d8576b\"], [0.6666666666666666, \"#ed7953\"], [0.7777777777777778, \"#fb9f3a\"], [0.8888888888888888, \"#fdca26\"], [1.0, \"#f0f921\"]], \"type\": \"heatmapgl\"}], \"histogram\": [{\"marker\": {\"colorbar\": {\"outlinewidth\": 0, \"ticks\": \"\"}}, \"type\": \"histogram\"}], \"histogram2d\": [{\"colorbar\": {\"outlinewidth\": 0, \"ticks\": \"\"}, \"colorscale\": [[0.0, \"#0d0887\"], [0.1111111111111111, \"#46039f\"], [0.2222222222222222, \"#7201a8\"], [0.3333333333333333, \"#9c179e\"], [0.4444444444444444, \"#bd3786\"], [0.5555555555555556, \"#d8576b\"], [0.6666666666666666, \"#ed7953\"], [0.7777777777777778, \"#fb9f3a\"], [0.8888888888888888, \"#fdca26\"], [1.0, \"#f0f921\"]], \"type\": \"histogram2d\"}], \"histogram2dcontour\": [{\"colorbar\": {\"outlinewidth\": 0, \"ticks\": \"\"}, \"colorscale\": [[0.0, \"#0d0887\"], [0.1111111111111111, \"#46039f\"], [0.2222222222222222, \"#7201a8\"], [0.3333333333333333, \"#9c179e\"], [0.4444444444444444, \"#bd3786\"], [0.5555555555555556, \"#d8576b\"], [0.6666666666666666, \"#ed7953\"], [0.7777777777777778, \"#fb9f3a\"], [0.8888888888888888, \"#fdca26\"], [1.0, \"#f0f921\"]], \"type\": \"histogram2dcontour\"}], \"mesh3d\": [{\"colorbar\": {\"outlinewidth\": 0, \"ticks\": \"\"}, \"type\": \"mesh3d\"}], \"parcoords\": [{\"line\": {\"colorbar\": {\"outlinewidth\": 0, \"ticks\": \"\"}}, \"type\": \"parcoords\"}], \"pie\": [{\"automargin\": true, \"type\": \"pie\"}], \"scatter\": [{\"marker\": {\"colorbar\": {\"outlinewidth\": 0, \"ticks\": \"\"}}, \"type\": \"scatter\"}], \"scatter3d\": [{\"line\": {\"colorbar\": {\"outlinewidth\": 0, \"ticks\": \"\"}}, \"marker\": {\"colorbar\": {\"outlinewidth\": 0, \"ticks\": \"\"}}, \"type\": \"scatter3d\"}], \"scattercarpet\": [{\"marker\": {\"colorbar\": {\"outlinewidth\": 0, \"ticks\": \"\"}}, \"type\": \"scattercarpet\"}], \"scattergeo\": [{\"marker\": {\"colorbar\": {\"outlinewidth\": 0, \"ticks\": \"\"}}, \"type\": \"scattergeo\"}], \"scattergl\": [{\"marker\": {\"colorbar\": {\"outlinewidth\": 0, \"ticks\": \"\"}}, \"type\": \"scattergl\"}], \"scattermapbox\": [{\"marker\": {\"colorbar\": {\"outlinewidth\": 0, \"ticks\": \"\"}}, \"type\": \"scattermapbox\"}], \"scatterpolar\": [{\"marker\": {\"colorbar\": {\"outlinewidth\": 0, \"ticks\": \"\"}}, \"type\": \"scatterpolar\"}], \"scatterpolargl\": [{\"marker\": {\"colorbar\": {\"outlinewidth\": 0, \"ticks\": \"\"}}, \"type\": \"scatterpolargl\"}], \"scatterternary\": [{\"marker\": {\"colorbar\": {\"outlinewidth\": 0, \"ticks\": \"\"}}, \"type\": \"scatterternary\"}], \"surface\": [{\"colorbar\": {\"outlinewidth\": 0, \"ticks\": \"\"}, \"colorscale\": [[0.0, \"#0d0887\"], [0.1111111111111111, \"#46039f\"], [0.2222222222222222, \"#7201a8\"], [0.3333333333333333, \"#9c179e\"], [0.4444444444444444, \"#bd3786\"], [0.5555555555555556, \"#d8576b\"], [0.6666666666666666, \"#ed7953\"], [0.7777777777777778, \"#fb9f3a\"], [0.8888888888888888, \"#fdca26\"], [1.0, \"#f0f921\"]], \"type\": \"surface\"}], \"table\": [{\"cells\": {\"fill\": {\"color\": \"#EBF0F8\"}, \"line\": {\"color\": \"white\"}}, \"header\": {\"fill\": {\"color\": \"#C8D4E3\"}, \"line\": {\"color\": \"white\"}}, \"type\": \"table\"}]}, \"layout\": {\"annotationdefaults\": {\"arrowcolor\": \"#2a3f5f\", \"arrowhead\": 0, \"arrowwidth\": 1}, \"coloraxis\": {\"colorbar\": {\"outlinewidth\": 0, \"ticks\": \"\"}}, \"colorscale\": {\"diverging\": [[0, \"#8e0152\"], [0.1, \"#c51b7d\"], [0.2, \"#de77ae\"], [0.3, \"#f1b6da\"], [0.4, \"#fde0ef\"], [0.5, \"#f7f7f7\"], [0.6, \"#e6f5d0\"], [0.7, \"#b8e186\"], [0.8, \"#7fbc41\"], [0.9, \"#4d9221\"], [1, \"#276419\"]], \"sequential\": [[0.0, \"#0d0887\"], [0.1111111111111111, \"#46039f\"], [0.2222222222222222, \"#7201a8\"], [0.3333333333333333, \"#9c179e\"], [0.4444444444444444, \"#bd3786\"], [0.5555555555555556, \"#d8576b\"], [0.6666666666666666, \"#ed7953\"], [0.7777777777777778, \"#fb9f3a\"], [0.8888888888888888, \"#fdca26\"], [1.0, \"#f0f921\"]], \"sequentialminus\": [[0.0, \"#0d0887\"], [0.1111111111111111, \"#46039f\"], [0.2222222222222222, \"#7201a8\"], [0.3333333333333333, \"#9c179e\"], [0.4444444444444444, \"#bd3786\"], [0.5555555555555556, \"#d8576b\"], [0.6666666666666666, \"#ed7953\"], [0.7777777777777778, \"#fb9f3a\"], [0.8888888888888888, \"#fdca26\"], [1.0, \"#f0f921\"]]}, \"colorway\": [\"#636efa\", \"#EF553B\", \"#00cc96\", \"#ab63fa\", \"#FFA15A\", \"#19d3f3\", \"#FF6692\", \"#B6E880\", \"#FF97FF\", \"#FECB52\"], \"font\": {\"color\": \"#2a3f5f\"}, \"geo\": {\"bgcolor\": \"white\", \"lakecolor\": \"white\", \"landcolor\": \"#E5ECF6\", \"showlakes\": true, \"showland\": true, \"subunitcolor\": \"white\"}, \"hoverlabel\": {\"align\": \"left\"}, \"hovermode\": \"closest\", \"mapbox\": {\"style\": \"light\"}, \"paper_bgcolor\": \"white\", \"plot_bgcolor\": \"#E5ECF6\", \"polar\": {\"angularaxis\": {\"gridcolor\": \"white\", \"linecolor\": \"white\", \"ticks\": \"\"}, \"bgcolor\": \"#E5ECF6\", \"radialaxis\": {\"gridcolor\": \"white\", \"linecolor\": \"white\", \"ticks\": \"\"}}, \"scene\": {\"xaxis\": {\"backgroundcolor\": \"#E5ECF6\", \"gridcolor\": \"white\", \"gridwidth\": 2, \"linecolor\": \"white\", \"showbackground\": true, \"ticks\": \"\", \"zerolinecolor\": \"white\"}, \"yaxis\": {\"backgroundcolor\": \"#E5ECF6\", \"gridcolor\": \"white\", \"gridwidth\": 2, \"linecolor\": \"white\", \"showbackground\": true, \"ticks\": \"\", \"zerolinecolor\": \"white\"}, \"zaxis\": {\"backgroundcolor\": \"#E5ECF6\", \"gridcolor\": \"white\", \"gridwidth\": 2, \"linecolor\": \"white\", \"showbackground\": true, \"ticks\": \"\", \"zerolinecolor\": \"white\"}}, \"shapedefaults\": {\"line\": {\"color\": \"#2a3f5f\"}}, \"ternary\": {\"aaxis\": {\"gridcolor\": \"white\", \"linecolor\": \"white\", \"ticks\": \"\"}, \"baxis\": {\"gridcolor\": \"white\", \"linecolor\": \"white\", \"ticks\": \"\"}, \"bgcolor\": \"#E5ECF6\", \"caxis\": {\"gridcolor\": \"white\", \"linecolor\": \"white\", \"ticks\": \"\"}}, \"title\": {\"x\": 0.05}, \"xaxis\": {\"automargin\": true, \"gridcolor\": \"white\", \"linecolor\": \"white\", \"ticks\": \"\", \"title\": {\"standoff\": 15}, \"zerolinecolor\": \"white\", \"zerolinewidth\": 2}, \"yaxis\": {\"automargin\": true, \"gridcolor\": \"white\", \"linecolor\": \"white\", \"ticks\": \"\", \"title\": {\"standoff\": 15}, \"zerolinecolor\": \"white\", \"zerolinewidth\": 2}}}, \"title\": {\"text\": \"Ratings semester wise\"}, \"updatemenus\": [{\"buttons\": [{\"args\": [null, {\"frame\": {\"duration\": 500, \"redraw\": false}, \"fromcurrent\": true, \"mode\": \"immediate\", \"transition\": {\"duration\": 500, \"easing\": \"linear\"}}], \"label\": \"&#9654;\", \"method\": \"animate\"}, {\"args\": [[null], {\"frame\": {\"duration\": 0, \"redraw\": false}, \"fromcurrent\": true, \"mode\": \"immediate\", \"transition\": {\"duration\": 0, \"easing\": \"linear\"}}], \"label\": \"&#9724;\", \"method\": \"animate\"}], \"direction\": \"left\", \"pad\": {\"r\": 10, \"t\": 70}, \"showactive\": false, \"type\": \"buttons\", \"x\": 0.1, \"xanchor\": \"right\", \"y\": 0, \"yanchor\": \"top\"}], \"width\": 900, \"xaxis\": {\"anchor\": \"y\", \"domain\": [0.0, 1.0], \"title\": {\"text\": \"course id\"}}, \"yaxis\": {\"anchor\": \"x\", \"domain\": [0.0, 1.0], \"title\": {\"text\": \"rating\"}}},\n",
       "                        {\"responsive\": true}\n",
       "                    ).then(function(){\n",
       "                            Plotly.addFrames('55da9901-374c-4204-bf05-2ae26b363374', [{\"data\": [{\"hoverlabel\": {\"namelength\": 0}, \"hovertemplate\": \"sub=Interaktive Systeme<br>semester=1<br>course id=%{x}<br>rating=%{y}\", \"ids\": [15, 15, 15], \"legendgroup\": \"sub=Interaktive Systeme\", \"marker\": {\"color\": \"#636efa\", \"symbol\": \"circle\"}, \"mode\": \"markers\", \"name\": \"sub=Interaktive Systeme\", \"showlegend\": true, \"x\": [15, 15, 15], \"xaxis\": \"x\", \"y\": [1, 2, 2], \"yaxis\": \"y\", \"type\": \"scatter\"}, {\"hoverlabel\": {\"namelength\": 0}, \"hovertemplate\": \"sub=Information Engineering<br>semester=1<br>course id=%{x}<br>rating=%{y}\", \"ids\": [12, 12, 12, 12], \"legendgroup\": \"sub=Information Engineering\", \"marker\": {\"color\": \"#EF553B\", \"symbol\": \"circle\"}, \"mode\": \"markers\", \"name\": \"sub=Information Engineering\", \"showlegend\": true, \"x\": [12, 12, 12, 12], \"xaxis\": \"x\", \"y\": [5, 5, 3, 3], \"yaxis\": \"y\", \"type\": \"scatter\"}, {\"hoverlabel\": {\"namelength\": 0}, \"hovertemplate\": \"sub=Scientific Visualization<br>semester=1<br>course id=%{x}<br>rating=%{y}\", \"ids\": [23], \"legendgroup\": \"sub=Scientific Visualization\", \"marker\": {\"color\": \"#00cc96\", \"symbol\": \"circle\"}, \"mode\": \"markers\", \"name\": \"sub=Scientific Visualization\", \"showlegend\": true, \"x\": [23], \"xaxis\": \"x\", \"y\": [0], \"yaxis\": \"y\", \"type\": \"scatter\"}, {\"hoverlabel\": {\"namelength\": 0}, \"hovertemplate\": \"sub=Information Mining<br>semester=1<br>course id=%{x}<br>rating=%{y}\", \"ids\": [13, 13, 13, 13, 13, 13, 13], \"legendgroup\": \"sub=Information Mining\", \"marker\": {\"color\": \"#ab63fa\", \"symbol\": \"circle\"}, \"mode\": \"markers\", \"name\": \"sub=Information Mining\", \"showlegend\": true, \"x\": [13, 13, 13, 13, 13, 13, 13], \"xaxis\": \"x\", \"y\": [1, 0, 3, 3, 3, 3, 3], \"yaxis\": \"y\", \"type\": \"scatter\"}, {\"hoverlabel\": {\"namelength\": 0}, \"hovertemplate\": \"sub=Distributed Systems<br>semester=1<br>course id=%{x}<br>rating=%{y}\", \"ids\": [8, 8, 8, 8, 8, 8, 8, 8, 8, 8, 8], \"legendgroup\": \"sub=Distributed Systems\", \"marker\": {\"color\": \"#FFA15A\", \"symbol\": \"circle\"}, \"mode\": \"markers\", \"name\": \"sub=Distributed Systems\", \"showlegend\": true, \"x\": [8, 8, 8, 8, 8, 8, 8, 8, 8, 8, 8], \"xaxis\": \"x\", \"y\": [0, 1, 2, 1, 3, 2, 3, 2, 2, 2, 3], \"yaxis\": \"y\", \"type\": \"scatter\"}, {\"hoverlabel\": {\"namelength\": 0}, \"hovertemplate\": \"sub=Computer Robot Vision<br>semester=1<br>course id=%{x}<br>rating=%{y}\", \"ids\": [5, 5, 5], \"legendgroup\": \"sub=Computer Robot Vision\", \"marker\": {\"color\": \"#19d3f3\", \"symbol\": \"circle\"}, \"mode\": \"markers\", \"name\": \"sub=Computer Robot Vision\", \"showlegend\": true, \"x\": [5, 5, 5], \"xaxis\": \"x\", \"y\": [0, 3, 1], \"yaxis\": \"y\", \"type\": \"scatter\"}, {\"hoverlabel\": {\"namelength\": 0}, \"hovertemplate\": \"sub=Cognitive Robot Systems<br>semester=1<br>course id=%{x}<br>rating=%{y}\", \"ids\": [3, 3], \"legendgroup\": \"sub=Cognitive Robot Systems\", \"marker\": {\"color\": \"#FF6692\", \"symbol\": \"circle\"}, \"mode\": \"markers\", \"name\": \"sub=Cognitive Robot Systems\", \"showlegend\": true, \"x\": [3, 3], \"xaxis\": \"x\", \"y\": [0, 2], \"yaxis\": \"y\", \"type\": \"scatter\"}, {\"hoverlabel\": {\"namelength\": 0}, \"hovertemplate\": \"sub=Digital Games Research<br>semester=1<br>course id=%{x}<br>rating=%{y}\", \"ids\": [7], \"legendgroup\": \"sub=Digital Games Research\", \"marker\": {\"color\": \"#B6E880\", \"symbol\": \"circle\"}, \"mode\": \"markers\", \"name\": \"sub=Digital Games Research\", \"showlegend\": true, \"x\": [7], \"xaxis\": \"x\", \"y\": [1], \"yaxis\": \"y\", \"type\": \"scatter\"}, {\"hoverlabel\": {\"namelength\": 0}, \"hovertemplate\": \"sub=Advanced Image Synthesis<br>semester=1<br>course id=%{x}<br>rating=%{y}\", \"ids\": [0], \"legendgroup\": \"sub=Advanced Image Synthesis\", \"marker\": {\"color\": \"#FF97FF\", \"symbol\": \"circle\"}, \"mode\": \"markers\", \"name\": \"sub=Advanced Image Synthesis\", \"showlegend\": true, \"x\": [0], \"xaxis\": \"x\", \"y\": [0], \"yaxis\": \"y\", \"type\": \"scatter\"}, {\"hoverlabel\": {\"namelength\": 0}, \"hovertemplate\": \"sub=Learning Analytics<br>semester=1<br>course id=%{x}<br>rating=%{y}\", \"ids\": [17, 17, 17, 17], \"legendgroup\": \"sub=Learning Analytics\", \"marker\": {\"color\": \"#FECB52\", \"symbol\": \"circle\"}, \"mode\": \"markers\", \"name\": \"sub=Learning Analytics\", \"showlegend\": true, \"x\": [17, 17, 17, 17], \"xaxis\": \"x\", \"y\": [1, 0, 1, 1], \"yaxis\": \"y\", \"type\": \"scatter\"}, {\"hoverlabel\": {\"namelength\": 0}, \"hovertemplate\": \"sub=Formal Specification of Software Systems<br>semester=1<br>course id=%{x}<br>rating=%{y}\", \"ids\": [10, 10, 10, 10, 10, 10, 10, 10], \"legendgroup\": \"sub=Formal Specification of Software Systems\", \"marker\": {\"color\": \"#636efa\", \"symbol\": \"circle\"}, \"mode\": \"markers\", \"name\": \"sub=Formal Specification of Software Systems\", \"showlegend\": true, \"x\": [10, 10, 10, 10, 10, 10, 10, 10], \"xaxis\": \"x\", \"y\": [3, 4, 5, 5, 3, 2, 3, 3], \"yaxis\": \"y\", \"type\": \"scatter\"}, {\"hoverlabel\": {\"namelength\": 0}, \"hovertemplate\": \"sub=Electronic Communities and Social Networks<br>semester=1<br>course id=%{x}<br>rating=%{y}\", \"ids\": [9, 9, 9, 9, 9, 9, 9, 9], \"legendgroup\": \"sub=Electronic Communities and Social Networks\", \"marker\": {\"color\": \"#EF553B\", \"symbol\": \"circle\"}, \"mode\": \"markers\", \"name\": \"sub=Electronic Communities and Social Networks\", \"showlegend\": true, \"x\": [9, 9, 9, 9, 9, 9, 9, 9], \"xaxis\": \"x\", \"y\": [1, 2, 1, 2, 1, 1, 1, 1], \"yaxis\": \"y\", \"type\": \"scatter\"}, {\"hoverlabel\": {\"namelength\": 0}, \"hovertemplate\": \"sub=Computer Graphics<br>semester=1<br>course id=%{x}<br>rating=%{y}\", \"ids\": [4], \"legendgroup\": \"sub=Computer Graphics\", \"marker\": {\"color\": \"#00cc96\", \"symbol\": \"circle\"}, \"mode\": \"markers\", \"name\": \"sub=Computer Graphics\", \"showlegend\": true, \"x\": [4], \"xaxis\": \"x\", \"y\": [1], \"yaxis\": \"y\", \"type\": \"scatter\"}, {\"hoverlabel\": {\"namelength\": 0}, \"hovertemplate\": \"sub=Recommender Systems<br>semester=1<br>course id=%{x}<br>rating=%{y}\", \"ids\": [22], \"legendgroup\": \"sub=Recommender Systems\", \"marker\": {\"color\": \"#ab63fa\", \"symbol\": \"circle\"}, \"mode\": \"markers\", \"name\": \"sub=Recommender Systems\", \"showlegend\": true, \"x\": [22], \"xaxis\": \"x\", \"y\": [5], \"yaxis\": \"y\", \"type\": \"scatter\"}, {\"hoverlabel\": {\"namelength\": 0}, \"hovertemplate\": \"sub=Internet of Things- Protocols and System Software<br>semester=1<br>course id=%{x}<br>rating=%{y}\", \"ids\": [16, 16, 16, 16], \"legendgroup\": \"sub=Internet of Things- Protocols and System Software\", \"marker\": {\"color\": \"#FFA15A\", \"symbol\": \"circle\"}, \"mode\": \"markers\", \"name\": \"sub=Internet of Things- Protocols and System Software\", \"showlegend\": true, \"x\": [16, 16, 16, 16], \"xaxis\": \"x\", \"y\": [1, 1, 4, 1], \"yaxis\": \"y\", \"type\": \"scatter\"}, {\"hoverlabel\": {\"namelength\": 0}, \"hovertemplate\": \"sub=Development of Safe and Secure Software<br>semester=1<br>course id=%{x}<br>rating=%{y}\", \"ids\": [6, 6, 6], \"legendgroup\": \"sub=Development of Safe and Secure Software\", \"marker\": {\"color\": \"#19d3f3\", \"symbol\": \"circle\"}, \"mode\": \"markers\", \"name\": \"sub=Development of Safe and Secure Software\", \"showlegend\": true, \"x\": [6, 6, 6], \"xaxis\": \"x\", \"y\": [3, 5, 3], \"yaxis\": \"y\", \"type\": \"scatter\"}, {\"hoverlabel\": {\"namelength\": 0}, \"hovertemplate\": \"sub=Peer-to-Peer Systems<br>semester=1<br>course id=%{x}<br>rating=%{y}\", \"ids\": [21], \"legendgroup\": \"sub=Peer-to-Peer Systems\", \"marker\": {\"color\": \"#FF6692\", \"symbol\": \"circle\"}, \"mode\": \"markers\", \"name\": \"sub=Peer-to-Peer Systems\", \"showlegend\": true, \"x\": [21], \"xaxis\": \"x\", \"y\": [1], \"yaxis\": \"y\", \"type\": \"scatter\"}, {\"hoverlabel\": {\"namelength\": 0}, \"hovertemplate\": \"sub=Advanced Web Technologies<br>semester=1<br>course id=%{x}<br>rating=%{y}\", \"ids\": [1, 1], \"legendgroup\": \"sub=Advanced Web Technologies\", \"marker\": {\"color\": \"#B6E880\", \"symbol\": \"circle\"}, \"mode\": \"markers\", \"name\": \"sub=Advanced Web Technologies\", \"showlegend\": true, \"x\": [1, 1], \"xaxis\": \"x\", \"y\": [2, 2], \"yaxis\": \"y\", \"type\": \"scatter\"}, {\"hoverlabel\": {\"namelength\": 0}, \"hovertemplate\": \"sub=Information Retrieval<br>semester=1<br>course id=%{x}<br>rating=%{y}\", \"ids\": [14, 14, 14], \"legendgroup\": \"sub=Information Retrieval\", \"marker\": {\"color\": \"#FF97FF\", \"symbol\": \"circle\"}, \"mode\": \"markers\", \"name\": \"sub=Information Retrieval\", \"showlegend\": true, \"x\": [14, 14, 14], \"xaxis\": \"x\", \"y\": [4, 0, 4], \"yaxis\": \"y\", \"type\": \"scatter\"}, {\"hoverlabel\": {\"namelength\": 0}, \"hovertemplate\": \"sub=Cloud Web & Mobile<br>semester=1<br>course id=%{x}<br>rating=%{y}\", \"ids\": [2], \"legendgroup\": \"sub=Cloud Web & Mobile\", \"marker\": {\"color\": \"#FECB52\", \"symbol\": \"circle\"}, \"mode\": \"markers\", \"name\": \"sub=Cloud Web & Mobile\", \"showlegend\": true, \"x\": [2], \"xaxis\": \"x\", \"y\": [2], \"yaxis\": \"y\", \"type\": \"scatter\"}], \"name\": \"1\"}, {\"data\": [{\"hoverlabel\": {\"namelength\": 0}, \"hovertemplate\": \"sub=Interaktive Systeme<br>semester=2<br>course id=%{x}<br>rating=%{y}\", \"ids\": [15, 15, 15, 15, 15, 15, 15], \"legendgroup\": \"sub=Interaktive Systeme\", \"marker\": {\"color\": \"#636efa\", \"symbol\": \"circle\"}, \"mode\": \"markers\", \"name\": \"sub=Interaktive Systeme\", \"showlegend\": true, \"x\": [15, 15, 15, 15, 15, 15, 15], \"xaxis\": \"x\", \"y\": [2, 3, 3, 2, 2, 3, 1], \"yaxis\": \"y\", \"type\": \"scatter\"}, {\"hoverlabel\": {\"namelength\": 0}, \"hovertemplate\": \"sub=Information Engineering<br>semester=2<br>course id=%{x}<br>rating=%{y}\", \"ids\": [12, 12], \"legendgroup\": \"sub=Information Engineering\", \"marker\": {\"color\": \"#EF553B\", \"symbol\": \"circle\"}, \"mode\": \"markers\", \"name\": \"sub=Information Engineering\", \"showlegend\": true, \"x\": [12, 12], \"xaxis\": \"x\", \"y\": [5, 0], \"yaxis\": \"y\", \"type\": \"scatter\"}, {\"hoverlabel\": {\"namelength\": 0}, \"hovertemplate\": \"sub=Distributed Systems<br>semester=2<br>course id=%{x}<br>rating=%{y}\", \"ids\": [8, 8, 8, 8], \"legendgroup\": \"sub=Distributed Systems\", \"marker\": {\"color\": \"#FFA15A\", \"symbol\": \"circle\"}, \"mode\": \"markers\", \"name\": \"sub=Distributed Systems\", \"showlegend\": true, \"x\": [8, 8, 8, 8], \"xaxis\": \"x\", \"y\": [0, 4, 2, 2], \"yaxis\": \"y\", \"type\": \"scatter\"}, {\"hoverlabel\": {\"namelength\": 0}, \"hovertemplate\": \"sub=Computer Robot Vision<br>semester=2<br>course id=%{x}<br>rating=%{y}\", \"ids\": [5], \"legendgroup\": \"sub=Computer Robot Vision\", \"marker\": {\"color\": \"#19d3f3\", \"symbol\": \"circle\"}, \"mode\": \"markers\", \"name\": \"sub=Computer Robot Vision\", \"showlegend\": true, \"x\": [5], \"xaxis\": \"x\", \"y\": [0], \"yaxis\": \"y\", \"type\": \"scatter\"}, {\"hoverlabel\": {\"namelength\": 0}, \"hovertemplate\": \"sub=Cognitive Robot Systems<br>semester=2<br>course id=%{x}<br>rating=%{y}\", \"ids\": [3], \"legendgroup\": \"sub=Cognitive Robot Systems\", \"marker\": {\"color\": \"#FF6692\", \"symbol\": \"circle\"}, \"mode\": \"markers\", \"name\": \"sub=Cognitive Robot Systems\", \"showlegend\": true, \"x\": [3], \"xaxis\": \"x\", \"y\": [4], \"yaxis\": \"y\", \"type\": \"scatter\"}, {\"hoverlabel\": {\"namelength\": 0}, \"hovertemplate\": \"sub=Digital Games Research<br>semester=2<br>course id=%{x}<br>rating=%{y}\", \"ids\": [7], \"legendgroup\": \"sub=Digital Games Research\", \"marker\": {\"color\": \"#B6E880\", \"symbol\": \"circle\"}, \"mode\": \"markers\", \"name\": \"sub=Digital Games Research\", \"showlegend\": true, \"x\": [7], \"xaxis\": \"x\", \"y\": [2], \"yaxis\": \"y\", \"type\": \"scatter\"}, {\"hoverlabel\": {\"namelength\": 0}, \"hovertemplate\": \"sub=Advanced Image Synthesis<br>semester=2<br>course id=%{x}<br>rating=%{y}\", \"ids\": [0, 0], \"legendgroup\": \"sub=Advanced Image Synthesis\", \"marker\": {\"color\": \"#FF97FF\", \"symbol\": \"circle\"}, \"mode\": \"markers\", \"name\": \"sub=Advanced Image Synthesis\", \"showlegend\": true, \"x\": [0, 0], \"xaxis\": \"x\", \"y\": [1, 2], \"yaxis\": \"y\", \"type\": \"scatter\"}, {\"hoverlabel\": {\"namelength\": 0}, \"hovertemplate\": \"sub=Learning Analytics<br>semester=2<br>course id=%{x}<br>rating=%{y}\", \"ids\": [17], \"legendgroup\": \"sub=Learning Analytics\", \"marker\": {\"color\": \"#FECB52\", \"symbol\": \"circle\"}, \"mode\": \"markers\", \"name\": \"sub=Learning Analytics\", \"showlegend\": true, \"x\": [17], \"xaxis\": \"x\", \"y\": [2], \"yaxis\": \"y\", \"type\": \"scatter\"}, {\"hoverlabel\": {\"namelength\": 0}, \"hovertemplate\": \"sub=Formal Specification of Software Systems<br>semester=2<br>course id=%{x}<br>rating=%{y}\", \"ids\": [10], \"legendgroup\": \"sub=Formal Specification of Software Systems\", \"marker\": {\"color\": \"#636efa\", \"symbol\": \"circle\"}, \"mode\": \"markers\", \"name\": \"sub=Formal Specification of Software Systems\", \"showlegend\": true, \"x\": [10], \"xaxis\": \"x\", \"y\": [5], \"yaxis\": \"y\", \"type\": \"scatter\"}, {\"hoverlabel\": {\"namelength\": 0}, \"hovertemplate\": \"sub=Electronic Communities and Social Networks<br>semester=2<br>course id=%{x}<br>rating=%{y}\", \"ids\": [9], \"legendgroup\": \"sub=Electronic Communities and Social Networks\", \"marker\": {\"color\": \"#EF553B\", \"symbol\": \"circle\"}, \"mode\": \"markers\", \"name\": \"sub=Electronic Communities and Social Networks\", \"showlegend\": true, \"x\": [9], \"xaxis\": \"x\", \"y\": [1], \"yaxis\": \"y\", \"type\": \"scatter\"}, {\"hoverlabel\": {\"namelength\": 0}, \"hovertemplate\": \"sub=Computer Graphics<br>semester=2<br>course id=%{x}<br>rating=%{y}\", \"ids\": [4], \"legendgroup\": \"sub=Computer Graphics\", \"marker\": {\"color\": \"#00cc96\", \"symbol\": \"circle\"}, \"mode\": \"markers\", \"name\": \"sub=Computer Graphics\", \"showlegend\": true, \"x\": [4], \"xaxis\": \"x\", \"y\": [5], \"yaxis\": \"y\", \"type\": \"scatter\"}, {\"hoverlabel\": {\"namelength\": 0}, \"hovertemplate\": \"sub=Recommender Systems<br>semester=2<br>course id=%{x}<br>rating=%{y}\", \"ids\": [22, 22, 22, 22, 22], \"legendgroup\": \"sub=Recommender Systems\", \"marker\": {\"color\": \"#ab63fa\", \"symbol\": \"circle\"}, \"mode\": \"markers\", \"name\": \"sub=Recommender Systems\", \"showlegend\": true, \"x\": [22, 22, 22, 22, 22], \"xaxis\": \"x\", \"y\": [2, 1, 3, 2, 5], \"yaxis\": \"y\", \"type\": \"scatter\"}, {\"hoverlabel\": {\"namelength\": 0}, \"hovertemplate\": \"sub=Internet of Things- Protocols and System Software<br>semester=2<br>course id=%{x}<br>rating=%{y}\", \"ids\": [16, 16, 16, 16, 16], \"legendgroup\": \"sub=Internet of Things- Protocols and System Software\", \"marker\": {\"color\": \"#FFA15A\", \"symbol\": \"circle\"}, \"mode\": \"markers\", \"name\": \"sub=Internet of Things- Protocols and System Software\", \"showlegend\": true, \"x\": [16, 16, 16, 16, 16], \"xaxis\": \"x\", \"y\": [3, 1, 3, 2, 3], \"yaxis\": \"y\", \"type\": \"scatter\"}, {\"hoverlabel\": {\"namelength\": 0}, \"hovertemplate\": \"sub=Development of Safe and Secure Software<br>semester=2<br>course id=%{x}<br>rating=%{y}\", \"ids\": [6, 6], \"legendgroup\": \"sub=Development of Safe and Secure Software\", \"marker\": {\"color\": \"#19d3f3\", \"symbol\": \"circle\"}, \"mode\": \"markers\", \"name\": \"sub=Development of Safe and Secure Software\", \"showlegend\": true, \"x\": [6, 6], \"xaxis\": \"x\", \"y\": [3, 2], \"yaxis\": \"y\", \"type\": \"scatter\"}, {\"hoverlabel\": {\"namelength\": 0}, \"hovertemplate\": \"sub=Peer-to-Peer Systems<br>semester=2<br>course id=%{x}<br>rating=%{y}\", \"ids\": [21, 21, 21, 21, 21, 21], \"legendgroup\": \"sub=Peer-to-Peer Systems\", \"marker\": {\"color\": \"#FF6692\", \"symbol\": \"circle\"}, \"mode\": \"markers\", \"name\": \"sub=Peer-to-Peer Systems\", \"showlegend\": true, \"x\": [21, 21, 21, 21, 21, 21], \"xaxis\": \"x\", \"y\": [0, 0, 3, 1, 2, 2], \"yaxis\": \"y\", \"type\": \"scatter\"}, {\"hoverlabel\": {\"namelength\": 0}, \"hovertemplate\": \"sub=Advanced Web Technologies<br>semester=2<br>course id=%{x}<br>rating=%{y}\", \"ids\": [1, 1, 1, 1, 1], \"legendgroup\": \"sub=Advanced Web Technologies\", \"marker\": {\"color\": \"#B6E880\", \"symbol\": \"circle\"}, \"mode\": \"markers\", \"name\": \"sub=Advanced Web Technologies\", \"showlegend\": true, \"x\": [1, 1, 1, 1, 1], \"xaxis\": \"x\", \"y\": [3, 2, 1, 0, 1], \"yaxis\": \"y\", \"type\": \"scatter\"}, {\"hoverlabel\": {\"namelength\": 0}, \"hovertemplate\": \"sub=Information Retrieval<br>semester=2<br>course id=%{x}<br>rating=%{y}\", \"ids\": [14, 14, 14, 14, 14, 14, 14, 14, 14], \"legendgroup\": \"sub=Information Retrieval\", \"marker\": {\"color\": \"#FF97FF\", \"symbol\": \"circle\"}, \"mode\": \"markers\", \"name\": \"sub=Information Retrieval\", \"showlegend\": true, \"x\": [14, 14, 14, 14, 14, 14, 14, 14, 14], \"xaxis\": \"x\", \"y\": [2, 2, 2, 0, 2, 1, 3, 3, 3], \"yaxis\": \"y\", \"type\": \"scatter\"}, {\"hoverlabel\": {\"namelength\": 0}, \"hovertemplate\": \"sub=Cloud Web & Mobile<br>semester=2<br>course id=%{x}<br>rating=%{y}\", \"ids\": [2, 2, 2], \"legendgroup\": \"sub=Cloud Web & Mobile\", \"marker\": {\"color\": \"#FECB52\", \"symbol\": \"circle\"}, \"mode\": \"markers\", \"name\": \"sub=Cloud Web & Mobile\", \"showlegend\": true, \"x\": [2, 2, 2], \"xaxis\": \"x\", \"y\": [2, 0, 2], \"yaxis\": \"y\", \"type\": \"scatter\"}, {\"hoverlabel\": {\"namelength\": 0}, \"hovertemplate\": \"sub=Neurocomputing and Organic Computing<br>semester=2<br>course id=%{x}<br>rating=%{y}\", \"ids\": [19, 19, 19], \"legendgroup\": \"sub=Neurocomputing and Organic Computing\", \"marker\": {\"color\": \"#636efa\", \"symbol\": \"circle\"}, \"mode\": \"markers\", \"name\": \"sub=Neurocomputing and Organic Computing\", \"showlegend\": true, \"x\": [19, 19, 19], \"xaxis\": \"x\", \"y\": [4, 4, 5], \"yaxis\": \"y\", \"type\": \"scatter\"}, {\"hoverlabel\": {\"namelength\": 0}, \"hovertemplate\": \"sub=Gestaltung interaktiver Lehr-/Lern-Systeme<br>semester=2<br>course id=%{x}<br>rating=%{y}\", \"ids\": [11, 11, 11, 11, 11], \"legendgroup\": \"sub=Gestaltung interaktiver Lehr-/Lern-Systeme\", \"marker\": {\"color\": \"#EF553B\", \"symbol\": \"circle\"}, \"mode\": \"markers\", \"name\": \"sub=Gestaltung interaktiver Lehr-/Lern-Systeme\", \"showlegend\": true, \"x\": [11, 11, 11, 11, 11], \"xaxis\": \"x\", \"y\": [5, 1, 3, 1, 2], \"yaxis\": \"y\", \"type\": \"scatter\"}, {\"hoverlabel\": {\"namelength\": 0}, \"hovertemplate\": \"sub=Pattern and Component based Software Development<br>semester=2<br>course id=%{x}<br>rating=%{y}\", \"ids\": [20], \"legendgroup\": \"sub=Pattern and Component based Software Development\", \"marker\": {\"color\": \"#00cc96\", \"symbol\": \"circle\"}, \"mode\": \"markers\", \"name\": \"sub=Pattern and Component based Software Development\", \"showlegend\": true, \"x\": [20], \"xaxis\": \"x\", \"y\": [1], \"yaxis\": \"y\", \"type\": \"scatter\"}, {\"hoverlabel\": {\"namelength\": 0}, \"hovertemplate\": \"sub=Test and Reliability of Digital Systems<br>semester=2<br>course id=%{x}<br>rating=%{y}\", \"ids\": [24], \"legendgroup\": \"sub=Test and Reliability of Digital Systems\", \"marker\": {\"color\": \"#ab63fa\", \"symbol\": \"circle\"}, \"mode\": \"markers\", \"name\": \"sub=Test and Reliability of Digital Systems\", \"showlegend\": true, \"x\": [24], \"xaxis\": \"x\", \"y\": [3], \"yaxis\": \"y\", \"type\": \"scatter\"}], \"name\": \"2\"}, {\"data\": [{\"hoverlabel\": {\"namelength\": 0}, \"hovertemplate\": \"sub=Information Engineering<br>semester=3<br>course id=%{x}<br>rating=%{y}\", \"ids\": [12, 12, 12], \"legendgroup\": \"sub=Information Engineering\", \"marker\": {\"color\": \"#EF553B\", \"symbol\": \"circle\"}, \"mode\": \"markers\", \"name\": \"sub=Information Engineering\", \"showlegend\": true, \"x\": [12, 12, 12], \"xaxis\": \"x\", \"y\": [0, 3, 1], \"yaxis\": \"y\", \"type\": \"scatter\"}, {\"hoverlabel\": {\"namelength\": 0}, \"hovertemplate\": \"sub=Information Mining<br>semester=3<br>course id=%{x}<br>rating=%{y}\", \"ids\": [13, 13, 13, 13, 13], \"legendgroup\": \"sub=Information Mining\", \"marker\": {\"color\": \"#ab63fa\", \"symbol\": \"circle\"}, \"mode\": \"markers\", \"name\": \"sub=Information Mining\", \"showlegend\": true, \"x\": [13, 13, 13, 13, 13], \"xaxis\": \"x\", \"y\": [2, 0, 0, 1, 5], \"yaxis\": \"y\", \"type\": \"scatter\"}, {\"hoverlabel\": {\"namelength\": 0}, \"hovertemplate\": \"sub=Computer Robot Vision<br>semester=3<br>course id=%{x}<br>rating=%{y}\", \"ids\": [5], \"legendgroup\": \"sub=Computer Robot Vision\", \"marker\": {\"color\": \"#19d3f3\", \"symbol\": \"circle\"}, \"mode\": \"markers\", \"name\": \"sub=Computer Robot Vision\", \"showlegend\": true, \"x\": [5], \"xaxis\": \"x\", \"y\": [3], \"yaxis\": \"y\", \"type\": \"scatter\"}, {\"hoverlabel\": {\"namelength\": 0}, \"hovertemplate\": \"sub=Cognitive Robot Systems<br>semester=3<br>course id=%{x}<br>rating=%{y}\", \"ids\": [3], \"legendgroup\": \"sub=Cognitive Robot Systems\", \"marker\": {\"color\": \"#FF6692\", \"symbol\": \"circle\"}, \"mode\": \"markers\", \"name\": \"sub=Cognitive Robot Systems\", \"showlegend\": true, \"x\": [3], \"xaxis\": \"x\", \"y\": [2], \"yaxis\": \"y\", \"type\": \"scatter\"}, {\"hoverlabel\": {\"namelength\": 0}, \"hovertemplate\": \"sub=Learning Analytics<br>semester=3<br>course id=%{x}<br>rating=%{y}\", \"ids\": [17, 17], \"legendgroup\": \"sub=Learning Analytics\", \"marker\": {\"color\": \"#FECB52\", \"symbol\": \"circle\"}, \"mode\": \"markers\", \"name\": \"sub=Learning Analytics\", \"showlegend\": true, \"x\": [17, 17], \"xaxis\": \"x\", \"y\": [4, 1], \"yaxis\": \"y\", \"type\": \"scatter\"}, {\"hoverlabel\": {\"namelength\": 0}, \"hovertemplate\": \"sub=Electronic Communities and Social Networks<br>semester=3<br>course id=%{x}<br>rating=%{y}\", \"ids\": [9, 9, 9], \"legendgroup\": \"sub=Electronic Communities and Social Networks\", \"marker\": {\"color\": \"#EF553B\", \"symbol\": \"circle\"}, \"mode\": \"markers\", \"name\": \"sub=Electronic Communities and Social Networks\", \"showlegend\": true, \"x\": [9, 9, 9], \"xaxis\": \"x\", \"y\": [0, 5, 1], \"yaxis\": \"y\", \"type\": \"scatter\"}, {\"hoverlabel\": {\"namelength\": 0}, \"hovertemplate\": \"sub=Computer Graphics<br>semester=3<br>course id=%{x}<br>rating=%{y}\", \"ids\": [4], \"legendgroup\": \"sub=Computer Graphics\", \"marker\": {\"color\": \"#00cc96\", \"symbol\": \"circle\"}, \"mode\": \"markers\", \"name\": \"sub=Computer Graphics\", \"showlegend\": true, \"x\": [4], \"xaxis\": \"x\", \"y\": [0], \"yaxis\": \"y\", \"type\": \"scatter\"}, {\"hoverlabel\": {\"namelength\": 0}, \"hovertemplate\": \"sub=Internet of Things- Protocols and System Software<br>semester=3<br>course id=%{x}<br>rating=%{y}\", \"ids\": [16], \"legendgroup\": \"sub=Internet of Things- Protocols and System Software\", \"marker\": {\"color\": \"#FFA15A\", \"symbol\": \"circle\"}, \"mode\": \"markers\", \"name\": \"sub=Internet of Things- Protocols and System Software\", \"showlegend\": true, \"x\": [16], \"xaxis\": \"x\", \"y\": [0], \"yaxis\": \"y\", \"type\": \"scatter\"}, {\"hoverlabel\": {\"namelength\": 0}, \"hovertemplate\": \"sub=Peer-to-Peer Systems<br>semester=3<br>course id=%{x}<br>rating=%{y}\", \"ids\": [21, 21, 21], \"legendgroup\": \"sub=Peer-to-Peer Systems\", \"marker\": {\"color\": \"#FF6692\", \"symbol\": \"circle\"}, \"mode\": \"markers\", \"name\": \"sub=Peer-to-Peer Systems\", \"showlegend\": true, \"x\": [21, 21, 21], \"xaxis\": \"x\", \"y\": [3, 2, 4], \"yaxis\": \"y\", \"type\": \"scatter\"}, {\"hoverlabel\": {\"namelength\": 0}, \"hovertemplate\": \"sub=Advanced Web Technologies<br>semester=3<br>course id=%{x}<br>rating=%{y}\", \"ids\": [1, 1, 1, 1, 1], \"legendgroup\": \"sub=Advanced Web Technologies\", \"marker\": {\"color\": \"#B6E880\", \"symbol\": \"circle\"}, \"mode\": \"markers\", \"name\": \"sub=Advanced Web Technologies\", \"showlegend\": true, \"x\": [1, 1, 1, 1, 1], \"xaxis\": \"x\", \"y\": [1, 1, 1, 0, 1], \"yaxis\": \"y\", \"type\": \"scatter\"}, {\"hoverlabel\": {\"namelength\": 0}, \"hovertemplate\": \"sub=Information Retrieval<br>semester=3<br>course id=%{x}<br>rating=%{y}\", \"ids\": [14], \"legendgroup\": \"sub=Information Retrieval\", \"marker\": {\"color\": \"#FF97FF\", \"symbol\": \"circle\"}, \"mode\": \"markers\", \"name\": \"sub=Information Retrieval\", \"showlegend\": true, \"x\": [14], \"xaxis\": \"x\", \"y\": [2], \"yaxis\": \"y\", \"type\": \"scatter\"}, {\"hoverlabel\": {\"namelength\": 0}, \"hovertemplate\": \"sub=Cloud Web & Mobile<br>semester=3<br>course id=%{x}<br>rating=%{y}\", \"ids\": [2, 2, 2], \"legendgroup\": \"sub=Cloud Web & Mobile\", \"marker\": {\"color\": \"#FECB52\", \"symbol\": \"circle\"}, \"mode\": \"markers\", \"name\": \"sub=Cloud Web & Mobile\", \"showlegend\": true, \"x\": [2, 2, 2], \"xaxis\": \"x\", \"y\": [3, 0, 1], \"yaxis\": \"y\", \"type\": \"scatter\"}, {\"hoverlabel\": {\"namelength\": 0}, \"hovertemplate\": \"sub=Gestaltung interaktiver Lehr-/Lern-Systeme<br>semester=3<br>course id=%{x}<br>rating=%{y}\", \"ids\": [11], \"legendgroup\": \"sub=Gestaltung interaktiver Lehr-/Lern-Systeme\", \"marker\": {\"color\": \"#EF553B\", \"symbol\": \"circle\"}, \"mode\": \"markers\", \"name\": \"sub=Gestaltung interaktiver Lehr-/Lern-Systeme\", \"showlegend\": true, \"x\": [11], \"xaxis\": \"x\", \"y\": [0], \"yaxis\": \"y\", \"type\": \"scatter\"}], \"name\": \"3\"}, {\"data\": [{\"hoverlabel\": {\"namelength\": 0}, \"hovertemplate\": \"sub=Information Engineering<br>semester=4<br>course id=%{x}<br>rating=%{y}\", \"ids\": [12], \"legendgroup\": \"sub=Information Engineering\", \"marker\": {\"color\": \"#EF553B\", \"symbol\": \"circle\"}, \"mode\": \"markers\", \"name\": \"sub=Information Engineering\", \"showlegend\": true, \"x\": [12], \"xaxis\": \"x\", \"y\": [3], \"yaxis\": \"y\", \"type\": \"scatter\"}, {\"hoverlabel\": {\"namelength\": 0}, \"hovertemplate\": \"sub=Distributed Systems<br>semester=4<br>course id=%{x}<br>rating=%{y}\", \"ids\": [8], \"legendgroup\": \"sub=Distributed Systems\", \"marker\": {\"color\": \"#FFA15A\", \"symbol\": \"circle\"}, \"mode\": \"markers\", \"name\": \"sub=Distributed Systems\", \"showlegend\": true, \"x\": [8], \"xaxis\": \"x\", \"y\": [0], \"yaxis\": \"y\", \"type\": \"scatter\"}, {\"hoverlabel\": {\"namelength\": 0}, \"hovertemplate\": \"sub=Electronic Communities and Social Networks<br>semester=4<br>course id=%{x}<br>rating=%{y}\", \"ids\": [9], \"legendgroup\": \"sub=Electronic Communities and Social Networks\", \"marker\": {\"color\": \"#EF553B\", \"symbol\": \"circle\"}, \"mode\": \"markers\", \"name\": \"sub=Electronic Communities and Social Networks\", \"showlegend\": true, \"x\": [9], \"xaxis\": \"x\", \"y\": [2], \"yaxis\": \"y\", \"type\": \"scatter\"}, {\"hoverlabel\": {\"namelength\": 0}, \"hovertemplate\": \"sub=Internet of Things- Protocols and System Software<br>semester=4<br>course id=%{x}<br>rating=%{y}\", \"ids\": [16], \"legendgroup\": \"sub=Internet of Things- Protocols and System Software\", \"marker\": {\"color\": \"#FFA15A\", \"symbol\": \"circle\"}, \"mode\": \"markers\", \"name\": \"sub=Internet of Things- Protocols and System Software\", \"showlegend\": true, \"x\": [16], \"xaxis\": \"x\", \"y\": [0], \"yaxis\": \"y\", \"type\": \"scatter\"}, {\"hoverlabel\": {\"namelength\": 0}, \"hovertemplate\": \"sub=Development of Safe and Secure Software<br>semester=4<br>course id=%{x}<br>rating=%{y}\", \"ids\": [6], \"legendgroup\": \"sub=Development of Safe and Secure Software\", \"marker\": {\"color\": \"#19d3f3\", \"symbol\": \"circle\"}, \"mode\": \"markers\", \"name\": \"sub=Development of Safe and Secure Software\", \"showlegend\": true, \"x\": [6], \"xaxis\": \"x\", \"y\": [0], \"yaxis\": \"y\", \"type\": \"scatter\"}, {\"hoverlabel\": {\"namelength\": 0}, \"hovertemplate\": \"sub=Peer-to-Peer Systems<br>semester=4<br>course id=%{x}<br>rating=%{y}\", \"ids\": [21], \"legendgroup\": \"sub=Peer-to-Peer Systems\", \"marker\": {\"color\": \"#FF6692\", \"symbol\": \"circle\"}, \"mode\": \"markers\", \"name\": \"sub=Peer-to-Peer Systems\", \"showlegend\": true, \"x\": [21], \"xaxis\": \"x\", \"y\": [0], \"yaxis\": \"y\", \"type\": \"scatter\"}, {\"hoverlabel\": {\"namelength\": 0}, \"hovertemplate\": \"sub=Advanced Web Technologies<br>semester=4<br>course id=%{x}<br>rating=%{y}\", \"ids\": [1], \"legendgroup\": \"sub=Advanced Web Technologies\", \"marker\": {\"color\": \"#B6E880\", \"symbol\": \"circle\"}, \"mode\": \"markers\", \"name\": \"sub=Advanced Web Technologies\", \"showlegend\": true, \"x\": [1], \"xaxis\": \"x\", \"y\": [1], \"yaxis\": \"y\", \"type\": \"scatter\"}, {\"hoverlabel\": {\"namelength\": 0}, \"hovertemplate\": \"sub=Gestaltung interaktiver Lehr-/Lern-Systeme<br>semester=4<br>course id=%{x}<br>rating=%{y}\", \"ids\": [11, 11], \"legendgroup\": \"sub=Gestaltung interaktiver Lehr-/Lern-Systeme\", \"marker\": {\"color\": \"#EF553B\", \"symbol\": \"circle\"}, \"mode\": \"markers\", \"name\": \"sub=Gestaltung interaktiver Lehr-/Lern-Systeme\", \"showlegend\": true, \"x\": [11, 11], \"xaxis\": \"x\", \"y\": [0, 4], \"yaxis\": \"y\", \"type\": \"scatter\"}, {\"hoverlabel\": {\"namelength\": 0}, \"hovertemplate\": \"sub=Natural-Language-based Human-Computer Interaction<br>semester=4<br>course id=%{x}<br>rating=%{y}\", \"ids\": [18], \"legendgroup\": \"sub=Natural-Language-based Human-Computer Interaction\", \"marker\": {\"color\": \"#FFA15A\", \"symbol\": \"circle\"}, \"mode\": \"markers\", \"name\": \"sub=Natural-Language-based Human-Computer Interaction\", \"showlegend\": true, \"x\": [18], \"xaxis\": \"x\", \"y\": [4], \"yaxis\": \"y\", \"type\": \"scatter\"}], \"name\": \"4\"}, {\"data\": [{\"hoverlabel\": {\"namelength\": 0}, \"hovertemplate\": \"sub=Interaktive Systeme<br>semester=Other<br>course id=%{x}<br>rating=%{y}\", \"ids\": [15], \"legendgroup\": \"sub=Interaktive Systeme\", \"marker\": {\"color\": \"#636efa\", \"symbol\": \"circle\"}, \"mode\": \"markers\", \"name\": \"sub=Interaktive Systeme\", \"showlegend\": true, \"x\": [15], \"xaxis\": \"x\", \"y\": [4], \"yaxis\": \"y\", \"type\": \"scatter\"}, {\"hoverlabel\": {\"namelength\": 0}, \"hovertemplate\": \"sub=Distributed Systems<br>semester=Other<br>course id=%{x}<br>rating=%{y}\", \"ids\": [8], \"legendgroup\": \"sub=Distributed Systems\", \"marker\": {\"color\": \"#FFA15A\", \"symbol\": \"circle\"}, \"mode\": \"markers\", \"name\": \"sub=Distributed Systems\", \"showlegend\": true, \"x\": [8], \"xaxis\": \"x\", \"y\": [4], \"yaxis\": \"y\", \"type\": \"scatter\"}, {\"hoverlabel\": {\"namelength\": 0}, \"hovertemplate\": \"sub=Advanced Image Synthesis<br>semester=Other<br>course id=%{x}<br>rating=%{y}\", \"ids\": [0], \"legendgroup\": \"sub=Advanced Image Synthesis\", \"marker\": {\"color\": \"#FF97FF\", \"symbol\": \"circle\"}, \"mode\": \"markers\", \"name\": \"sub=Advanced Image Synthesis\", \"showlegend\": true, \"x\": [0], \"xaxis\": \"x\", \"y\": [0], \"yaxis\": \"y\", \"type\": \"scatter\"}, {\"hoverlabel\": {\"namelength\": 0}, \"hovertemplate\": \"sub=Recommender Systems<br>semester=Other<br>course id=%{x}<br>rating=%{y}\", \"ids\": [22, 22], \"legendgroup\": \"sub=Recommender Systems\", \"marker\": {\"color\": \"#ab63fa\", \"symbol\": \"circle\"}, \"mode\": \"markers\", \"name\": \"sub=Recommender Systems\", \"showlegend\": true, \"x\": [22, 22], \"xaxis\": \"x\", \"y\": [4, 1], \"yaxis\": \"y\", \"type\": \"scatter\"}, {\"hoverlabel\": {\"namelength\": 0}, \"hovertemplate\": \"sub=Internet of Things- Protocols and System Software<br>semester=Other<br>course id=%{x}<br>rating=%{y}\", \"ids\": [16], \"legendgroup\": \"sub=Internet of Things- Protocols and System Software\", \"marker\": {\"color\": \"#FFA15A\", \"symbol\": \"circle\"}, \"mode\": \"markers\", \"name\": \"sub=Internet of Things- Protocols and System Software\", \"showlegend\": true, \"x\": [16], \"xaxis\": \"x\", \"y\": [4], \"yaxis\": \"y\", \"type\": \"scatter\"}, {\"hoverlabel\": {\"namelength\": 0}, \"hovertemplate\": \"sub=Development of Safe and Secure Software<br>semester=Other<br>course id=%{x}<br>rating=%{y}\", \"ids\": [6], \"legendgroup\": \"sub=Development of Safe and Secure Software\", \"marker\": {\"color\": \"#19d3f3\", \"symbol\": \"circle\"}, \"mode\": \"markers\", \"name\": \"sub=Development of Safe and Secure Software\", \"showlegend\": true, \"x\": [6], \"xaxis\": \"x\", \"y\": [5], \"yaxis\": \"y\", \"type\": \"scatter\"}, {\"hoverlabel\": {\"namelength\": 0}, \"hovertemplate\": \"sub=Advanced Web Technologies<br>semester=Other<br>course id=%{x}<br>rating=%{y}\", \"ids\": [1], \"legendgroup\": \"sub=Advanced Web Technologies\", \"marker\": {\"color\": \"#B6E880\", \"symbol\": \"circle\"}, \"mode\": \"markers\", \"name\": \"sub=Advanced Web Technologies\", \"showlegend\": true, \"x\": [1], \"xaxis\": \"x\", \"y\": [3], \"yaxis\": \"y\", \"type\": \"scatter\"}, {\"hoverlabel\": {\"namelength\": 0}, \"hovertemplate\": \"sub=Information Retrieval<br>semester=Other<br>course id=%{x}<br>rating=%{y}\", \"ids\": [14], \"legendgroup\": \"sub=Information Retrieval\", \"marker\": {\"color\": \"#FF97FF\", \"symbol\": \"circle\"}, \"mode\": \"markers\", \"name\": \"sub=Information Retrieval\", \"showlegend\": true, \"x\": [14], \"xaxis\": \"x\", \"y\": [4], \"yaxis\": \"y\", \"type\": \"scatter\"}, {\"hoverlabel\": {\"namelength\": 0}, \"hovertemplate\": \"sub=Gestaltung interaktiver Lehr-/Lern-Systeme<br>semester=Other<br>course id=%{x}<br>rating=%{y}\", \"ids\": [11], \"legendgroup\": \"sub=Gestaltung interaktiver Lehr-/Lern-Systeme\", \"marker\": {\"color\": \"#EF553B\", \"symbol\": \"circle\"}, \"mode\": \"markers\", \"name\": \"sub=Gestaltung interaktiver Lehr-/Lern-Systeme\", \"showlegend\": true, \"x\": [11], \"xaxis\": \"x\", \"y\": [4], \"yaxis\": \"y\", \"type\": \"scatter\"}, {\"hoverlabel\": {\"namelength\": 0}, \"hovertemplate\": \"sub=Pattern and Component based Software Development<br>semester=Other<br>course id=%{x}<br>rating=%{y}\", \"ids\": [20], \"legendgroup\": \"sub=Pattern and Component based Software Development\", \"marker\": {\"color\": \"#00cc96\", \"symbol\": \"circle\"}, \"mode\": \"markers\", \"name\": \"sub=Pattern and Component based Software Development\", \"showlegend\": true, \"x\": [20], \"xaxis\": \"x\", \"y\": [5], \"yaxis\": \"y\", \"type\": \"scatter\"}], \"name\": \"Other\"}]);\n",
       "                        }).then(function(){\n",
       "                            \n",
       "var gd = document.getElementById('55da9901-374c-4204-bf05-2ae26b363374');\n",
       "var x = new MutationObserver(function (mutations, observer) {{\n",
       "        var display = window.getComputedStyle(gd).display;\n",
       "        if (!display || display === 'none') {{\n",
       "            console.log([gd, 'removed!']);\n",
       "            Plotly.purge(gd);\n",
       "            observer.disconnect();\n",
       "        }}\n",
       "}});\n",
       "\n",
       "// Listen for the removal of the full notebook cells\n",
       "var notebookContainer = gd.closest('#notebook-container');\n",
       "if (notebookContainer) {{\n",
       "    x.observe(notebookContainer, {childList: true});\n",
       "}}\n",
       "\n",
       "// Listen for the clearing of the current output cell\n",
       "var outputEl = gd.closest('.output');\n",
       "if (outputEl) {{\n",
       "    x.observe(outputEl, {childList: true});\n",
       "}}\n",
       "\n",
       "                        })\n",
       "                };\n",
       "                });\n",
       "            </script>\n",
       "        </div>"
      ]
     },
     "metadata": {},
     "output_type": "display_data"
    }
   ],
   "source": [
    "fig6=px.scatter(df_rec1.sort_values(by=['semester']), x='course id', y='rating',color='sub',animation_frame=\"semester\", animation_group=\"course id\")\n",
    "#px.scatter(df_rec, x=\"sub\", y=\"rating\", animation_frame=\"rating\", animation_group=\"course id\",size='rating',\n",
    "            #color=\"course id\", hover_name=\"sub\")\n",
    "fig6.update_layout(title=\"Ratings semester wise\",width=900)\n",
    "fig6.show()"
   ]
  },
  {
   "cell_type": "code",
   "execution_count": 257,
   "metadata": {},
   "outputs": [
    {
     "data": {
      "text/html": [
       "<div>\n",
       "<style scoped>\n",
       "    .dataframe tbody tr th:only-of-type {\n",
       "        vertical-align: middle;\n",
       "    }\n",
       "\n",
       "    .dataframe tbody tr th {\n",
       "        vertical-align: top;\n",
       "    }\n",
       "\n",
       "    .dataframe thead th {\n",
       "        text-align: right;\n",
       "    }\n",
       "</style>\n",
       "<table border=\"1\" class=\"dataframe\">\n",
       "  <thead>\n",
       "    <tr style=\"text-align: right;\">\n",
       "      <th></th>\n",
       "      <th>Unnamed: 1</th>\n",
       "      <th>1</th>\n",
       "      <th>2</th>\n",
       "      <th>3</th>\n",
       "      <th>4</th>\n",
       "      <th>Other</th>\n",
       "    </tr>\n",
       "  </thead>\n",
       "  <tbody>\n",
       "    <tr>\n",
       "      <th>1</th>\n",
       "      <td>1</td>\n",
       "      <td>Development of Safe and Secure Software</td>\n",
       "      <td>Learning Analytics</td>\n",
       "      <td>Peer-to-Peer Systems</td>\n",
       "      <td>NaN</td>\n",
       "      <td>NaN</td>\n",
       "    </tr>\n",
       "    <tr>\n",
       "      <th>48</th>\n",
       "      <td>0</td>\n",
       "      <td>Development of Safe and Secure Software</td>\n",
       "      <td>NaN</td>\n",
       "      <td>NaN</td>\n",
       "      <td>NaN</td>\n",
       "      <td>NaN</td>\n",
       "    </tr>\n",
       "    <tr>\n",
       "      <th>90</th>\n",
       "      <td>0</td>\n",
       "      <td>Development of Safe and Secure Software</td>\n",
       "      <td>Gestaltung interaktiver Lehr-/Lern-Systeme</td>\n",
       "      <td>Advanced Web Technologies</td>\n",
       "      <td>NaN</td>\n",
       "      <td>NaN</td>\n",
       "    </tr>\n",
       "  </tbody>\n",
       "</table>\n",
       "</div>"
      ],
      "text/plain": [
       "    Unnamed: 1                                        1  \\\n",
       "1            1  Development of Safe and Secure Software   \n",
       "48           0  Development of Safe and Secure Software   \n",
       "90           0  Development of Safe and Secure Software   \n",
       "\n",
       "                                             2                          3  \\\n",
       "1                           Learning Analytics       Peer-to-Peer Systems   \n",
       "48                                         NaN                        NaN   \n",
       "90  Gestaltung interaktiver Lehr-/Lern-Systeme  Advanced Web Technologies   \n",
       "\n",
       "      4 Other  \n",
       "1   NaN   NaN  \n",
       "48  NaN   NaN  \n",
       "90  NaN   NaN  "
      ]
     },
     "execution_count": 257,
     "metadata": {},
     "output_type": "execute_result"
    }
   ],
   "source": [
    "df_sankey_daig[df_sankey_daig['1']=='Development of Safe and Secure Software']"
   ]
  },
  {
   "cell_type": "code",
   "execution_count": 189,
   "metadata": {},
   "outputs": [],
   "source": [
    "fig7 = px.parallel_categories(df_sankey_daig[10:50], dimensions=['1', '2', '3','4','Other'],\n",
    "                color='Unnamed: 1', color_continuous_scale=px.colors.sequential.Inferno,\n",
    "                labels={'1':'Semester1', '2':'Semester2', '3':'Semester3','4':'Semester4','Other':'OtherSemesters'},title='Student Behavioral Flow from Semester to Semester',)"
   ]
  },
  {
   "cell_type": "code",
   "execution_count": 1013,
   "metadata": {},
   "outputs": [],
   "source": [
    "df_sankey_small=df_sankey_daig[1:50]\n",
    "categorical_dimensions = ['1', '2', '3','4','Other']\n",
    "\n",
    "dimensions = [dict(values=df_sankey_daig[label], label=label) for label in categorical_dimensions]\n",
    "\n",
    "# Build colorscale\n",
    "# [aliceblue, antiquewhite, aqua, aquamarine, azure,\n",
    "#             beige, bisque, black, blanchedalmond, blue,\n",
    "#             blueviolet, brown, burlywood, cadetblue,\n",
    "#             chartreuse, chocolate, coral, cornflowerblue,\n",
    "#             cornsilk, crimson, cyan, darkblue, darkcyan,\n",
    "#             darkgoldenrod, darkgray, darkgrey, darkgreen,\n",
    "#             darkkhaki, darkmagenta, darkolivegreen, darkorange,\n",
    "#             darkorchid, darkred, darksalmon, darkseagreen,\n",
    "#             darkslateblue, darkslategray, darkslategrey,\n",
    "#             darkturquoise, darkviolet, deeppink, deepskyblue,\n",
    "#             dimgray, dimgrey, dodgerblue, firebrick,\n",
    "#             floralwhite, forestgreen, fuchsia, gainsboro,\n",
    "#             ghostwhite, gold, goldenrod, gray, grey, green,\n",
    "#             greenyellow, honeydew, hotpink, indianred, indigo,\n",
    "#             ivory, khaki, lavender, lavenderblush, lawngreen,\n",
    "#             lemonchiffon, lightblue, lightcoral, lightcyan,\n",
    "#             lightgoldenrodyellow, lightgray, lightgrey,\n",
    "#             lightgreen, lightpink, lightsalmon, lightseagreen,\n",
    "#             lightskyblue, lightslategray, lightslategrey,\n",
    "#             lightsteelblue, lightyellow, lime, limegreen,\n",
    "#             linen, magenta, maroon, mediumaquamarine,\n",
    "#             mediumblue, mediumorchid, mediumpurple,\n",
    "#             mediumseagreen, mediumslateblue, mediumspringgreen,\n",
    "#             mediumturquoise, mediumvioletred, midnightblue,\n",
    "#             mintcream, mistyrose, moccasin, navajowhite, navy,\n",
    "#             oldlace, olive, olivedrab, orange, orangered,\n",
    "#             orchid, palegoldenrod, palegreen, paleturquoise,\n",
    "#             palevioletred, papayawhip, peachpuff, peru, pink,\n",
    "#             plum, powderblue, purple, red, rosybrown,\n",
    "#             royalblue, rebeccapurple, saddlebrown, salmon,\n",
    "#             sandybrown, seagreen, seashell, sienna, silver,\n",
    "#             skyblue, slateblue, slategray, slategrey, snow,\n",
    "#             springgreen, steelblue, tan, teal, thistle, tomato,\n",
    "#             turquoise, violet, wheat, white, whitesmoke,\n",
    "#             yellow, yellowgreen\n",
    "#  ]\n",
    "color = ['peru','thistle','indianred','wheat','violet','salmon','tan','palegoldenrod','orchid','seagreen','navajowhite','mediumseagreen','papayawhip',\n",
    "        'khaki','grey','honeydew','lemonchiffon','moccasin','darkolivegreen','papayawhip','powderblue','indigo','beige']\n",
    "#colorscale = [[0, 'lightsteelblue'], [1, 'mediumseagreen']];\n",
    "\n",
    "# Build figure as FigureWidget\n",
    "fig_p = go.FigureWidget(\n",
    "    data=[go.Parcats(\n",
    "        domain={'x': [0.2, 1],'y': [0, 1]}, dimensions=dimensions,\n",
    "        line={ 'cmin': 0,\n",
    "              'cmax': 1, 'color': color, 'shape': 'hspline'})\n",
    "    ])\n"
   ]
  },
  {
   "cell_type": "code",
   "execution_count": 1014,
   "metadata": {},
   "outputs": [
    {
     "data": {
      "application/vnd.jupyter.widget-view+json": {
       "model_id": "179d3812a13c4e7a985c5e25c7557fb3",
       "version_major": 2,
       "version_minor": 0
      },
      "text/plain": [
       "FigureWidget({\n",
       "    'data': [{'dimensions': [{'label': '1',\n",
       "                              'values': array(['Adv…"
      ]
     },
     "metadata": {},
     "output_type": "display_data"
    }
   ],
   "source": [
    "fig_p.update_layout(height=500,width=1600,title='Student behavioral flow from Semester to Semester')"
   ]
  },
  {
   "cell_type": "markdown",
   "metadata": {},
   "source": [
    "## Plots based on Subject"
   ]
  },
  {
   "cell_type": "code",
   "execution_count": 335,
   "metadata": {},
   "outputs": [],
   "source": [
    "fig_subplot1 = make_subplots(\n",
    "    rows=1, cols=3,\n",
    "    subplot_titles=(\"Plot 1\", \"Plot 2\", \"Plot 3\"))"
   ]
  },
  {
   "cell_type": "code",
   "execution_count": 336,
   "metadata": {},
   "outputs": [],
   "source": [
    "series_ratings=df_rec.groupby('sub').rating.value_counts(sort=True).to_frame()\n",
    "ratings_graph_data=series_ratings.rename(columns={series_ratings.columns[0]: 'frequency'}).reset_index()\n",
    "#pd.DataFrame(series_ratings)"
   ]
  },
  {
   "cell_type": "code",
   "execution_count": 337,
   "metadata": {},
   "outputs": [],
   "source": [
    "series_grades=df_rec.groupby('sub').grade.value_counts(sort=True).to_frame()\n",
    "grade_graph_data=series_grades.rename(columns={series_grades.columns[0]: 'frequency'}).reset_index()\n",
    "#pd.DataFrame(series_ratings)"
   ]
  },
  {
   "cell_type": "markdown",
   "metadata": {},
   "source": [
    "### Count for recommending grades"
   ]
  },
  {
   "cell_type": "code",
   "execution_count": 711,
   "metadata": {},
   "outputs": [],
   "source": [
    "grade_A=grade_graph_data[grade_graph_data['grade']=='A']\n",
    "grade_F=grade_graph_data[grade_graph_data['grade']=='F']"
   ]
  },
  {
   "cell_type": "code",
   "execution_count": 716,
   "metadata": {},
   "outputs": [],
   "source": [
    "easy_sub=grade_A[grade_A['frequency']==max(grade_A['frequency'])]['sub'].values[0]"
   ]
  },
  {
   "cell_type": "code",
   "execution_count": 717,
   "metadata": {},
   "outputs": [],
   "source": [
    "diff_sub=grade_F[grade_F['frequency']==max(grade_F['frequency'])]['sub'].values[0]"
   ]
  },
  {
   "cell_type": "code",
   "execution_count": 338,
   "metadata": {},
   "outputs": [],
   "source": [
    "series_semester=df_rec.groupby('sub').semester.value_counts(sort=True).to_frame()\n",
    "semester_graph_data=series_semester.rename(columns={series_semester.columns[0]: 'frequency'}).reset_index()\n",
    "#pd.DataFrame(series_ratings)"
   ]
  },
  {
   "cell_type": "code",
   "execution_count": 339,
   "metadata": {},
   "outputs": [],
   "source": [
    "def get_rating_frequency(value):\n",
    "    return ratings_graph_data[ratings_graph_data['sub']==value]"
   ]
  },
  {
   "cell_type": "code",
   "execution_count": 340,
   "metadata": {},
   "outputs": [],
   "source": [
    "def get_grade_frequency(value):\n",
    "    return grade_graph_data[grade_graph_data['sub']==value]"
   ]
  },
  {
   "cell_type": "code",
   "execution_count": 341,
   "metadata": {},
   "outputs": [],
   "source": [
    "def get_semester_frequency(value):\n",
    "    return semester_graph_data[semester_graph_data['sub']==value]"
   ]
  },
  {
   "cell_type": "code",
   "execution_count": 758,
   "metadata": {},
   "outputs": [],
   "source": [
    "fig11=go.Figure([go.Bar(x=list(df_ratings['sub'].values),y=list(df_ratings['rating'].values))])\n",
    "fig11.update_layout(height=600,width=900,font=dict(size=7))\n",
    "fig12=go.Figure([go.Bar(x=list(df_rec['sub'].values),y=list(df_rec['semester'].values))])\n",
    "fig12.update_layout(height=600,width=900)\n",
    "fig13=go.Figure([go.Bar(x=[\"Advanced Web Technologies\",\"Distributed Systems\",\"Social Networks\"],y=[1, 3, 4])])"
   ]
  },
  {
   "cell_type": "code",
   "execution_count": 343,
   "metadata": {},
   "outputs": [
    {
     "data": {
      "application/vnd.plotly.v1+json": {
       "config": {
        "plotlyServerURL": "https://plot.ly"
       },
       "data": [
        {
         "type": "bar",
         "x": [
          "Advanced Image Synthesis",
          "Advanced Web Technologies",
          "Cloud Web & Mobile",
          "Cognitive Robot Systems",
          "Computer Graphics",
          "Computer Robot Vision",
          "Development of Safe and Secure Software",
          "Digital Games Research",
          "Distributed Systems",
          "Electronic Communities and Social Networks",
          "Formal Specification of Software Systems",
          "Gestaltung interaktiver Lehr-/Lern-Systeme",
          "Information Engineering",
          "Information Mining",
          "Information Retrieval",
          "Interaktive Systeme",
          "Internet of Things- Protocols and System Software",
          "Learning Analytics",
          "Natural-Language-based Human-Computer Interaction",
          "Neurocomputing and Organic Computing",
          "Pattern and Component based Software Development",
          "Peer-to-Peer Systems",
          "Recommender Systems",
          "Scientific Visualization",
          "Test and Reliability of Digital Systems"
         ],
         "y": [
          0.75,
          1.3571428571428572,
          1.4285714285714286,
          2,
          1.5,
          1.4,
          3,
          1.5,
          1.9411764705882353,
          1.4615384615384615,
          3.6666666666666665,
          2.2222222222222223,
          2.8,
          2,
          2.2857142857142856,
          2.272727272727273,
          1.9166666666666667,
          1.4285714285714286,
          4,
          4.333333333333333,
          3,
          1.6363636363636365,
          2.875,
          0,
          3
         ]
        }
       ],
       "layout": {
        "font": {
         "size": 7
        },
        "height": 600,
        "template": {
         "data": {
          "bar": [
           {
            "error_x": {
             "color": "#2a3f5f"
            },
            "error_y": {
             "color": "#2a3f5f"
            },
            "marker": {
             "line": {
              "color": "#E5ECF6",
              "width": 0.5
             }
            },
            "type": "bar"
           }
          ],
          "barpolar": [
           {
            "marker": {
             "line": {
              "color": "#E5ECF6",
              "width": 0.5
             }
            },
            "type": "barpolar"
           }
          ],
          "carpet": [
           {
            "aaxis": {
             "endlinecolor": "#2a3f5f",
             "gridcolor": "white",
             "linecolor": "white",
             "minorgridcolor": "white",
             "startlinecolor": "#2a3f5f"
            },
            "baxis": {
             "endlinecolor": "#2a3f5f",
             "gridcolor": "white",
             "linecolor": "white",
             "minorgridcolor": "white",
             "startlinecolor": "#2a3f5f"
            },
            "type": "carpet"
           }
          ],
          "choropleth": [
           {
            "colorbar": {
             "outlinewidth": 0,
             "ticks": ""
            },
            "type": "choropleth"
           }
          ],
          "contour": [
           {
            "colorbar": {
             "outlinewidth": 0,
             "ticks": ""
            },
            "colorscale": [
             [
              0,
              "#0d0887"
             ],
             [
              0.1111111111111111,
              "#46039f"
             ],
             [
              0.2222222222222222,
              "#7201a8"
             ],
             [
              0.3333333333333333,
              "#9c179e"
             ],
             [
              0.4444444444444444,
              "#bd3786"
             ],
             [
              0.5555555555555556,
              "#d8576b"
             ],
             [
              0.6666666666666666,
              "#ed7953"
             ],
             [
              0.7777777777777778,
              "#fb9f3a"
             ],
             [
              0.8888888888888888,
              "#fdca26"
             ],
             [
              1,
              "#f0f921"
             ]
            ],
            "type": "contour"
           }
          ],
          "contourcarpet": [
           {
            "colorbar": {
             "outlinewidth": 0,
             "ticks": ""
            },
            "type": "contourcarpet"
           }
          ],
          "heatmap": [
           {
            "colorbar": {
             "outlinewidth": 0,
             "ticks": ""
            },
            "colorscale": [
             [
              0,
              "#0d0887"
             ],
             [
              0.1111111111111111,
              "#46039f"
             ],
             [
              0.2222222222222222,
              "#7201a8"
             ],
             [
              0.3333333333333333,
              "#9c179e"
             ],
             [
              0.4444444444444444,
              "#bd3786"
             ],
             [
              0.5555555555555556,
              "#d8576b"
             ],
             [
              0.6666666666666666,
              "#ed7953"
             ],
             [
              0.7777777777777778,
              "#fb9f3a"
             ],
             [
              0.8888888888888888,
              "#fdca26"
             ],
             [
              1,
              "#f0f921"
             ]
            ],
            "type": "heatmap"
           }
          ],
          "heatmapgl": [
           {
            "colorbar": {
             "outlinewidth": 0,
             "ticks": ""
            },
            "colorscale": [
             [
              0,
              "#0d0887"
             ],
             [
              0.1111111111111111,
              "#46039f"
             ],
             [
              0.2222222222222222,
              "#7201a8"
             ],
             [
              0.3333333333333333,
              "#9c179e"
             ],
             [
              0.4444444444444444,
              "#bd3786"
             ],
             [
              0.5555555555555556,
              "#d8576b"
             ],
             [
              0.6666666666666666,
              "#ed7953"
             ],
             [
              0.7777777777777778,
              "#fb9f3a"
             ],
             [
              0.8888888888888888,
              "#fdca26"
             ],
             [
              1,
              "#f0f921"
             ]
            ],
            "type": "heatmapgl"
           }
          ],
          "histogram": [
           {
            "marker": {
             "colorbar": {
              "outlinewidth": 0,
              "ticks": ""
             }
            },
            "type": "histogram"
           }
          ],
          "histogram2d": [
           {
            "colorbar": {
             "outlinewidth": 0,
             "ticks": ""
            },
            "colorscale": [
             [
              0,
              "#0d0887"
             ],
             [
              0.1111111111111111,
              "#46039f"
             ],
             [
              0.2222222222222222,
              "#7201a8"
             ],
             [
              0.3333333333333333,
              "#9c179e"
             ],
             [
              0.4444444444444444,
              "#bd3786"
             ],
             [
              0.5555555555555556,
              "#d8576b"
             ],
             [
              0.6666666666666666,
              "#ed7953"
             ],
             [
              0.7777777777777778,
              "#fb9f3a"
             ],
             [
              0.8888888888888888,
              "#fdca26"
             ],
             [
              1,
              "#f0f921"
             ]
            ],
            "type": "histogram2d"
           }
          ],
          "histogram2dcontour": [
           {
            "colorbar": {
             "outlinewidth": 0,
             "ticks": ""
            },
            "colorscale": [
             [
              0,
              "#0d0887"
             ],
             [
              0.1111111111111111,
              "#46039f"
             ],
             [
              0.2222222222222222,
              "#7201a8"
             ],
             [
              0.3333333333333333,
              "#9c179e"
             ],
             [
              0.4444444444444444,
              "#bd3786"
             ],
             [
              0.5555555555555556,
              "#d8576b"
             ],
             [
              0.6666666666666666,
              "#ed7953"
             ],
             [
              0.7777777777777778,
              "#fb9f3a"
             ],
             [
              0.8888888888888888,
              "#fdca26"
             ],
             [
              1,
              "#f0f921"
             ]
            ],
            "type": "histogram2dcontour"
           }
          ],
          "mesh3d": [
           {
            "colorbar": {
             "outlinewidth": 0,
             "ticks": ""
            },
            "type": "mesh3d"
           }
          ],
          "parcoords": [
           {
            "line": {
             "colorbar": {
              "outlinewidth": 0,
              "ticks": ""
             }
            },
            "type": "parcoords"
           }
          ],
          "pie": [
           {
            "automargin": true,
            "type": "pie"
           }
          ],
          "scatter": [
           {
            "marker": {
             "colorbar": {
              "outlinewidth": 0,
              "ticks": ""
             }
            },
            "type": "scatter"
           }
          ],
          "scatter3d": [
           {
            "line": {
             "colorbar": {
              "outlinewidth": 0,
              "ticks": ""
             }
            },
            "marker": {
             "colorbar": {
              "outlinewidth": 0,
              "ticks": ""
             }
            },
            "type": "scatter3d"
           }
          ],
          "scattercarpet": [
           {
            "marker": {
             "colorbar": {
              "outlinewidth": 0,
              "ticks": ""
             }
            },
            "type": "scattercarpet"
           }
          ],
          "scattergeo": [
           {
            "marker": {
             "colorbar": {
              "outlinewidth": 0,
              "ticks": ""
             }
            },
            "type": "scattergeo"
           }
          ],
          "scattergl": [
           {
            "marker": {
             "colorbar": {
              "outlinewidth": 0,
              "ticks": ""
             }
            },
            "type": "scattergl"
           }
          ],
          "scattermapbox": [
           {
            "marker": {
             "colorbar": {
              "outlinewidth": 0,
              "ticks": ""
             }
            },
            "type": "scattermapbox"
           }
          ],
          "scatterpolar": [
           {
            "marker": {
             "colorbar": {
              "outlinewidth": 0,
              "ticks": ""
             }
            },
            "type": "scatterpolar"
           }
          ],
          "scatterpolargl": [
           {
            "marker": {
             "colorbar": {
              "outlinewidth": 0,
              "ticks": ""
             }
            },
            "type": "scatterpolargl"
           }
          ],
          "scatterternary": [
           {
            "marker": {
             "colorbar": {
              "outlinewidth": 0,
              "ticks": ""
             }
            },
            "type": "scatterternary"
           }
          ],
          "surface": [
           {
            "colorbar": {
             "outlinewidth": 0,
             "ticks": ""
            },
            "colorscale": [
             [
              0,
              "#0d0887"
             ],
             [
              0.1111111111111111,
              "#46039f"
             ],
             [
              0.2222222222222222,
              "#7201a8"
             ],
             [
              0.3333333333333333,
              "#9c179e"
             ],
             [
              0.4444444444444444,
              "#bd3786"
             ],
             [
              0.5555555555555556,
              "#d8576b"
             ],
             [
              0.6666666666666666,
              "#ed7953"
             ],
             [
              0.7777777777777778,
              "#fb9f3a"
             ],
             [
              0.8888888888888888,
              "#fdca26"
             ],
             [
              1,
              "#f0f921"
             ]
            ],
            "type": "surface"
           }
          ],
          "table": [
           {
            "cells": {
             "fill": {
              "color": "#EBF0F8"
             },
             "line": {
              "color": "white"
             }
            },
            "header": {
             "fill": {
              "color": "#C8D4E3"
             },
             "line": {
              "color": "white"
             }
            },
            "type": "table"
           }
          ]
         },
         "layout": {
          "annotationdefaults": {
           "arrowcolor": "#2a3f5f",
           "arrowhead": 0,
           "arrowwidth": 1
          },
          "coloraxis": {
           "colorbar": {
            "outlinewidth": 0,
            "ticks": ""
           }
          },
          "colorscale": {
           "diverging": [
            [
             0,
             "#8e0152"
            ],
            [
             0.1,
             "#c51b7d"
            ],
            [
             0.2,
             "#de77ae"
            ],
            [
             0.3,
             "#f1b6da"
            ],
            [
             0.4,
             "#fde0ef"
            ],
            [
             0.5,
             "#f7f7f7"
            ],
            [
             0.6,
             "#e6f5d0"
            ],
            [
             0.7,
             "#b8e186"
            ],
            [
             0.8,
             "#7fbc41"
            ],
            [
             0.9,
             "#4d9221"
            ],
            [
             1,
             "#276419"
            ]
           ],
           "sequential": [
            [
             0,
             "#0d0887"
            ],
            [
             0.1111111111111111,
             "#46039f"
            ],
            [
             0.2222222222222222,
             "#7201a8"
            ],
            [
             0.3333333333333333,
             "#9c179e"
            ],
            [
             0.4444444444444444,
             "#bd3786"
            ],
            [
             0.5555555555555556,
             "#d8576b"
            ],
            [
             0.6666666666666666,
             "#ed7953"
            ],
            [
             0.7777777777777778,
             "#fb9f3a"
            ],
            [
             0.8888888888888888,
             "#fdca26"
            ],
            [
             1,
             "#f0f921"
            ]
           ],
           "sequentialminus": [
            [
             0,
             "#0d0887"
            ],
            [
             0.1111111111111111,
             "#46039f"
            ],
            [
             0.2222222222222222,
             "#7201a8"
            ],
            [
             0.3333333333333333,
             "#9c179e"
            ],
            [
             0.4444444444444444,
             "#bd3786"
            ],
            [
             0.5555555555555556,
             "#d8576b"
            ],
            [
             0.6666666666666666,
             "#ed7953"
            ],
            [
             0.7777777777777778,
             "#fb9f3a"
            ],
            [
             0.8888888888888888,
             "#fdca26"
            ],
            [
             1,
             "#f0f921"
            ]
           ]
          },
          "colorway": [
           "#636efa",
           "#EF553B",
           "#00cc96",
           "#ab63fa",
           "#FFA15A",
           "#19d3f3",
           "#FF6692",
           "#B6E880",
           "#FF97FF",
           "#FECB52"
          ],
          "font": {
           "color": "#2a3f5f"
          },
          "geo": {
           "bgcolor": "white",
           "lakecolor": "white",
           "landcolor": "#E5ECF6",
           "showlakes": true,
           "showland": true,
           "subunitcolor": "white"
          },
          "hoverlabel": {
           "align": "left"
          },
          "hovermode": "closest",
          "mapbox": {
           "style": "light"
          },
          "paper_bgcolor": "white",
          "plot_bgcolor": "#E5ECF6",
          "polar": {
           "angularaxis": {
            "gridcolor": "white",
            "linecolor": "white",
            "ticks": ""
           },
           "bgcolor": "#E5ECF6",
           "radialaxis": {
            "gridcolor": "white",
            "linecolor": "white",
            "ticks": ""
           }
          },
          "scene": {
           "xaxis": {
            "backgroundcolor": "#E5ECF6",
            "gridcolor": "white",
            "gridwidth": 2,
            "linecolor": "white",
            "showbackground": true,
            "ticks": "",
            "zerolinecolor": "white"
           },
           "yaxis": {
            "backgroundcolor": "#E5ECF6",
            "gridcolor": "white",
            "gridwidth": 2,
            "linecolor": "white",
            "showbackground": true,
            "ticks": "",
            "zerolinecolor": "white"
           },
           "zaxis": {
            "backgroundcolor": "#E5ECF6",
            "gridcolor": "white",
            "gridwidth": 2,
            "linecolor": "white",
            "showbackground": true,
            "ticks": "",
            "zerolinecolor": "white"
           }
          },
          "shapedefaults": {
           "line": {
            "color": "#2a3f5f"
           }
          },
          "ternary": {
           "aaxis": {
            "gridcolor": "white",
            "linecolor": "white",
            "ticks": ""
           },
           "baxis": {
            "gridcolor": "white",
            "linecolor": "white",
            "ticks": ""
           },
           "bgcolor": "#E5ECF6",
           "caxis": {
            "gridcolor": "white",
            "linecolor": "white",
            "ticks": ""
           }
          },
          "title": {
           "x": 0.05
          },
          "xaxis": {
           "automargin": true,
           "gridcolor": "white",
           "linecolor": "white",
           "ticks": "",
           "title": {
            "standoff": 15
           },
           "zerolinecolor": "white",
           "zerolinewidth": 2
          },
          "yaxis": {
           "automargin": true,
           "gridcolor": "white",
           "linecolor": "white",
           "ticks": "",
           "title": {
            "standoff": 15
           },
           "zerolinecolor": "white",
           "zerolinewidth": 2
          }
         }
        },
        "width": 900
       }
      },
      "text/html": [
       "<div>\n",
       "        \n",
       "        \n",
       "            <div id=\"fa21af6b-8fa4-470a-960c-e0819238db73\" class=\"plotly-graph-div\" style=\"height:600px; width:900px;\"></div>\n",
       "            <script type=\"text/javascript\">\n",
       "                require([\"plotly\"], function(Plotly) {\n",
       "                    window.PLOTLYENV=window.PLOTLYENV || {};\n",
       "                    \n",
       "                if (document.getElementById(\"fa21af6b-8fa4-470a-960c-e0819238db73\")) {\n",
       "                    Plotly.newPlot(\n",
       "                        'fa21af6b-8fa4-470a-960c-e0819238db73',\n",
       "                        [{\"type\": \"bar\", \"x\": [\"Advanced Image Synthesis\", \"Advanced Web Technologies\", \"Cloud Web & Mobile\", \"Cognitive Robot Systems\", \"Computer Graphics\", \"Computer Robot Vision\", \"Development of Safe and Secure Software\", \"Digital Games Research\", \"Distributed Systems\", \"Electronic Communities and Social Networks\", \"Formal Specification of Software Systems\", \"Gestaltung interaktiver Lehr-/Lern-Systeme\", \"Information Engineering\", \"Information Mining\", \"Information Retrieval\", \"Interaktive Systeme\", \"Internet of Things- Protocols and System Software\", \"Learning Analytics\", \"Natural-Language-based Human-Computer Interaction\", \"Neurocomputing and Organic Computing\", \"Pattern and Component based Software Development\", \"Peer-to-Peer Systems\", \"Recommender Systems\", \"Scientific Visualization\", \"Test and Reliability of Digital Systems\"], \"y\": [0.75, 1.3571428571428572, 1.4285714285714286, 2.0, 1.5, 1.4, 3.0, 1.5, 1.9411764705882353, 1.4615384615384615, 3.6666666666666665, 2.2222222222222223, 2.8, 2.0, 2.2857142857142856, 2.272727272727273, 1.9166666666666667, 1.4285714285714286, 4.0, 4.333333333333333, 3.0, 1.6363636363636365, 2.875, 0.0, 3.0]}],\n",
       "                        {\"font\": {\"size\": 7}, \"height\": 600, \"template\": {\"data\": {\"bar\": [{\"error_x\": {\"color\": \"#2a3f5f\"}, \"error_y\": {\"color\": \"#2a3f5f\"}, \"marker\": {\"line\": {\"color\": \"#E5ECF6\", \"width\": 0.5}}, \"type\": \"bar\"}], \"barpolar\": [{\"marker\": {\"line\": {\"color\": \"#E5ECF6\", \"width\": 0.5}}, \"type\": \"barpolar\"}], \"carpet\": [{\"aaxis\": {\"endlinecolor\": \"#2a3f5f\", \"gridcolor\": \"white\", \"linecolor\": \"white\", \"minorgridcolor\": \"white\", \"startlinecolor\": \"#2a3f5f\"}, \"baxis\": {\"endlinecolor\": \"#2a3f5f\", \"gridcolor\": \"white\", \"linecolor\": \"white\", \"minorgridcolor\": \"white\", \"startlinecolor\": \"#2a3f5f\"}, \"type\": \"carpet\"}], \"choropleth\": [{\"colorbar\": {\"outlinewidth\": 0, \"ticks\": \"\"}, \"type\": \"choropleth\"}], \"contour\": [{\"colorbar\": {\"outlinewidth\": 0, \"ticks\": \"\"}, \"colorscale\": [[0.0, \"#0d0887\"], [0.1111111111111111, \"#46039f\"], [0.2222222222222222, \"#7201a8\"], [0.3333333333333333, \"#9c179e\"], [0.4444444444444444, \"#bd3786\"], [0.5555555555555556, \"#d8576b\"], [0.6666666666666666, \"#ed7953\"], [0.7777777777777778, \"#fb9f3a\"], [0.8888888888888888, \"#fdca26\"], [1.0, \"#f0f921\"]], \"type\": \"contour\"}], \"contourcarpet\": [{\"colorbar\": {\"outlinewidth\": 0, \"ticks\": \"\"}, \"type\": \"contourcarpet\"}], \"heatmap\": [{\"colorbar\": {\"outlinewidth\": 0, \"ticks\": \"\"}, \"colorscale\": [[0.0, \"#0d0887\"], [0.1111111111111111, \"#46039f\"], [0.2222222222222222, \"#7201a8\"], [0.3333333333333333, \"#9c179e\"], [0.4444444444444444, \"#bd3786\"], [0.5555555555555556, \"#d8576b\"], [0.6666666666666666, \"#ed7953\"], [0.7777777777777778, \"#fb9f3a\"], [0.8888888888888888, \"#fdca26\"], [1.0, \"#f0f921\"]], \"type\": \"heatmap\"}], \"heatmapgl\": [{\"colorbar\": {\"outlinewidth\": 0, \"ticks\": \"\"}, \"colorscale\": [[0.0, \"#0d0887\"], [0.1111111111111111, \"#46039f\"], [0.2222222222222222, \"#7201a8\"], [0.3333333333333333, \"#9c179e\"], [0.4444444444444444, \"#bd3786\"], [0.5555555555555556, \"#d8576b\"], [0.6666666666666666, \"#ed7953\"], [0.7777777777777778, \"#fb9f3a\"], [0.8888888888888888, \"#fdca26\"], [1.0, \"#f0f921\"]], \"type\": \"heatmapgl\"}], \"histogram\": [{\"marker\": {\"colorbar\": {\"outlinewidth\": 0, \"ticks\": \"\"}}, \"type\": \"histogram\"}], \"histogram2d\": [{\"colorbar\": {\"outlinewidth\": 0, \"ticks\": \"\"}, \"colorscale\": [[0.0, \"#0d0887\"], [0.1111111111111111, \"#46039f\"], [0.2222222222222222, \"#7201a8\"], [0.3333333333333333, \"#9c179e\"], [0.4444444444444444, \"#bd3786\"], [0.5555555555555556, \"#d8576b\"], [0.6666666666666666, \"#ed7953\"], [0.7777777777777778, \"#fb9f3a\"], [0.8888888888888888, \"#fdca26\"], [1.0, \"#f0f921\"]], \"type\": \"histogram2d\"}], \"histogram2dcontour\": [{\"colorbar\": {\"outlinewidth\": 0, \"ticks\": \"\"}, \"colorscale\": [[0.0, \"#0d0887\"], [0.1111111111111111, \"#46039f\"], [0.2222222222222222, \"#7201a8\"], [0.3333333333333333, \"#9c179e\"], [0.4444444444444444, \"#bd3786\"], [0.5555555555555556, \"#d8576b\"], [0.6666666666666666, \"#ed7953\"], [0.7777777777777778, \"#fb9f3a\"], [0.8888888888888888, \"#fdca26\"], [1.0, \"#f0f921\"]], \"type\": \"histogram2dcontour\"}], \"mesh3d\": [{\"colorbar\": {\"outlinewidth\": 0, \"ticks\": \"\"}, \"type\": \"mesh3d\"}], \"parcoords\": [{\"line\": {\"colorbar\": {\"outlinewidth\": 0, \"ticks\": \"\"}}, \"type\": \"parcoords\"}], \"pie\": [{\"automargin\": true, \"type\": \"pie\"}], \"scatter\": [{\"marker\": {\"colorbar\": {\"outlinewidth\": 0, \"ticks\": \"\"}}, \"type\": \"scatter\"}], \"scatter3d\": [{\"line\": {\"colorbar\": {\"outlinewidth\": 0, \"ticks\": \"\"}}, \"marker\": {\"colorbar\": {\"outlinewidth\": 0, \"ticks\": \"\"}}, \"type\": \"scatter3d\"}], \"scattercarpet\": [{\"marker\": {\"colorbar\": {\"outlinewidth\": 0, \"ticks\": \"\"}}, \"type\": \"scattercarpet\"}], \"scattergeo\": [{\"marker\": {\"colorbar\": {\"outlinewidth\": 0, \"ticks\": \"\"}}, \"type\": \"scattergeo\"}], \"scattergl\": [{\"marker\": {\"colorbar\": {\"outlinewidth\": 0, \"ticks\": \"\"}}, \"type\": \"scattergl\"}], \"scattermapbox\": [{\"marker\": {\"colorbar\": {\"outlinewidth\": 0, \"ticks\": \"\"}}, \"type\": \"scattermapbox\"}], \"scatterpolar\": [{\"marker\": {\"colorbar\": {\"outlinewidth\": 0, \"ticks\": \"\"}}, \"type\": \"scatterpolar\"}], \"scatterpolargl\": [{\"marker\": {\"colorbar\": {\"outlinewidth\": 0, \"ticks\": \"\"}}, \"type\": \"scatterpolargl\"}], \"scatterternary\": [{\"marker\": {\"colorbar\": {\"outlinewidth\": 0, \"ticks\": \"\"}}, \"type\": \"scatterternary\"}], \"surface\": [{\"colorbar\": {\"outlinewidth\": 0, \"ticks\": \"\"}, \"colorscale\": [[0.0, \"#0d0887\"], [0.1111111111111111, \"#46039f\"], [0.2222222222222222, \"#7201a8\"], [0.3333333333333333, \"#9c179e\"], [0.4444444444444444, \"#bd3786\"], [0.5555555555555556, \"#d8576b\"], [0.6666666666666666, \"#ed7953\"], [0.7777777777777778, \"#fb9f3a\"], [0.8888888888888888, \"#fdca26\"], [1.0, \"#f0f921\"]], \"type\": \"surface\"}], \"table\": [{\"cells\": {\"fill\": {\"color\": \"#EBF0F8\"}, \"line\": {\"color\": \"white\"}}, \"header\": {\"fill\": {\"color\": \"#C8D4E3\"}, \"line\": {\"color\": \"white\"}}, \"type\": \"table\"}]}, \"layout\": {\"annotationdefaults\": {\"arrowcolor\": \"#2a3f5f\", \"arrowhead\": 0, \"arrowwidth\": 1}, \"coloraxis\": {\"colorbar\": {\"outlinewidth\": 0, \"ticks\": \"\"}}, \"colorscale\": {\"diverging\": [[0, \"#8e0152\"], [0.1, \"#c51b7d\"], [0.2, \"#de77ae\"], [0.3, \"#f1b6da\"], [0.4, \"#fde0ef\"], [0.5, \"#f7f7f7\"], [0.6, \"#e6f5d0\"], [0.7, \"#b8e186\"], [0.8, \"#7fbc41\"], [0.9, \"#4d9221\"], [1, \"#276419\"]], \"sequential\": [[0.0, \"#0d0887\"], [0.1111111111111111, \"#46039f\"], [0.2222222222222222, \"#7201a8\"], [0.3333333333333333, \"#9c179e\"], [0.4444444444444444, \"#bd3786\"], [0.5555555555555556, \"#d8576b\"], [0.6666666666666666, \"#ed7953\"], [0.7777777777777778, \"#fb9f3a\"], [0.8888888888888888, \"#fdca26\"], [1.0, \"#f0f921\"]], \"sequentialminus\": [[0.0, \"#0d0887\"], [0.1111111111111111, \"#46039f\"], [0.2222222222222222, \"#7201a8\"], [0.3333333333333333, \"#9c179e\"], [0.4444444444444444, \"#bd3786\"], [0.5555555555555556, \"#d8576b\"], [0.6666666666666666, \"#ed7953\"], [0.7777777777777778, \"#fb9f3a\"], [0.8888888888888888, \"#fdca26\"], [1.0, \"#f0f921\"]]}, \"colorway\": [\"#636efa\", \"#EF553B\", \"#00cc96\", \"#ab63fa\", \"#FFA15A\", \"#19d3f3\", \"#FF6692\", \"#B6E880\", \"#FF97FF\", \"#FECB52\"], \"font\": {\"color\": \"#2a3f5f\"}, \"geo\": {\"bgcolor\": \"white\", \"lakecolor\": \"white\", \"landcolor\": \"#E5ECF6\", \"showlakes\": true, \"showland\": true, \"subunitcolor\": \"white\"}, \"hoverlabel\": {\"align\": \"left\"}, \"hovermode\": \"closest\", \"mapbox\": {\"style\": \"light\"}, \"paper_bgcolor\": \"white\", \"plot_bgcolor\": \"#E5ECF6\", \"polar\": {\"angularaxis\": {\"gridcolor\": \"white\", \"linecolor\": \"white\", \"ticks\": \"\"}, \"bgcolor\": \"#E5ECF6\", \"radialaxis\": {\"gridcolor\": \"white\", \"linecolor\": \"white\", \"ticks\": \"\"}}, \"scene\": {\"xaxis\": {\"backgroundcolor\": \"#E5ECF6\", \"gridcolor\": \"white\", \"gridwidth\": 2, \"linecolor\": \"white\", \"showbackground\": true, \"ticks\": \"\", \"zerolinecolor\": \"white\"}, \"yaxis\": {\"backgroundcolor\": \"#E5ECF6\", \"gridcolor\": \"white\", \"gridwidth\": 2, \"linecolor\": \"white\", \"showbackground\": true, \"ticks\": \"\", \"zerolinecolor\": \"white\"}, \"zaxis\": {\"backgroundcolor\": \"#E5ECF6\", \"gridcolor\": \"white\", \"gridwidth\": 2, \"linecolor\": \"white\", \"showbackground\": true, \"ticks\": \"\", \"zerolinecolor\": \"white\"}}, \"shapedefaults\": {\"line\": {\"color\": \"#2a3f5f\"}}, \"ternary\": {\"aaxis\": {\"gridcolor\": \"white\", \"linecolor\": \"white\", \"ticks\": \"\"}, \"baxis\": {\"gridcolor\": \"white\", \"linecolor\": \"white\", \"ticks\": \"\"}, \"bgcolor\": \"#E5ECF6\", \"caxis\": {\"gridcolor\": \"white\", \"linecolor\": \"white\", \"ticks\": \"\"}}, \"title\": {\"x\": 0.05}, \"xaxis\": {\"automargin\": true, \"gridcolor\": \"white\", \"linecolor\": \"white\", \"ticks\": \"\", \"title\": {\"standoff\": 15}, \"zerolinecolor\": \"white\", \"zerolinewidth\": 2}, \"yaxis\": {\"automargin\": true, \"gridcolor\": \"white\", \"linecolor\": \"white\", \"ticks\": \"\", \"title\": {\"standoff\": 15}, \"zerolinecolor\": \"white\", \"zerolinewidth\": 2}}}, \"width\": 900},\n",
       "                        {\"responsive\": true}\n",
       "                    ).then(function(){\n",
       "                            \n",
       "var gd = document.getElementById('fa21af6b-8fa4-470a-960c-e0819238db73');\n",
       "var x = new MutationObserver(function (mutations, observer) {{\n",
       "        var display = window.getComputedStyle(gd).display;\n",
       "        if (!display || display === 'none') {{\n",
       "            console.log([gd, 'removed!']);\n",
       "            Plotly.purge(gd);\n",
       "            observer.disconnect();\n",
       "        }}\n",
       "}});\n",
       "\n",
       "// Listen for the removal of the full notebook cells\n",
       "var notebookContainer = gd.closest('#notebook-container');\n",
       "if (notebookContainer) {{\n",
       "    x.observe(notebookContainer, {childList: true});\n",
       "}}\n",
       "\n",
       "// Listen for the clearing of the current output cell\n",
       "var outputEl = gd.closest('.output');\n",
       "if (outputEl) {{\n",
       "    x.observe(outputEl, {childList: true});\n",
       "}}\n",
       "\n",
       "                        })\n",
       "                };\n",
       "                });\n",
       "            </script>\n",
       "        </div>"
      ]
     },
     "metadata": {},
     "output_type": "display_data"
    }
   ],
   "source": [
    "fig11.show()"
   ]
  },
  {
   "cell_type": "markdown",
   "metadata": {},
   "source": [
    "## Semester Wise"
   ]
  },
  {
   "cell_type": "code",
   "execution_count": 344,
   "metadata": {},
   "outputs": [],
   "source": [
    "sem_data=df_rec.groupby('semester').sub.value_counts(sort=True).to_frame()\n",
    "semester_data=sem_data.rename(columns={sem_data.columns[0]: 'frequency'}).reset_index()"
   ]
  },
  {
   "cell_type": "code",
   "execution_count": 784,
   "metadata": {},
   "outputs": [],
   "source": [
    "sem11=list(semester_data[semester_data['semester']=='1']['sub'].values)\n",
    "sem12=list(semester_data[semester_data['semester']=='1']['frequency'].values)\n",
    "sem21=list(semester_data[semester_data['semester']=='2']['sub'].values)\n",
    "sem22=list(semester_data[semester_data['semester']=='2']['frequency'].values)\n",
    "sem31=list(semester_data[semester_data['semester']=='3']['sub'].values)\n",
    "sem32=list(semester_data[semester_data['semester']=='3']['frequency'].values)\n",
    "sem41=list(semester_data[semester_data['semester']=='4']['sub'].values)\n",
    "sem42=list(semester_data[semester_data['semester']=='4']['frequency'].values)\n",
    "semo1=list(semester_data[semester_data['semester']=='Other']['sub'].values)\n",
    "semo2=list(semester_data[semester_data['semester']=='Other']['frequency'].values)"
   ]
  },
  {
   "cell_type": "markdown",
   "metadata": {},
   "source": [
    "## Grade Wise"
   ]
  },
  {
   "cell_type": "code",
   "execution_count": 346,
   "metadata": {},
   "outputs": [],
   "source": [
    "grade_data=df_rec.groupby('grade').sub.value_counts(sort=True).to_frame()\n",
    "grade_graph_data=grade_data.rename(columns={grade_data.columns[0]: 'frequency'}).reset_index()"
   ]
  },
  {
   "cell_type": "code",
   "execution_count": 347,
   "metadata": {},
   "outputs": [],
   "source": [
    "gradea1=list(grade_graph_data[grade_graph_data['grade']=='A']['sub'].values)\n",
    "gradea2=list(grade_graph_data[grade_graph_data['grade']=='A']['frequency'].values)\n",
    "gradeb1=list(grade_graph_data[grade_graph_data['grade']=='B']['sub'].values)\n",
    "gradeb2=list(grade_graph_data[grade_graph_data['grade']=='B']['frequency'].values)\n",
    "gradec1=list(grade_graph_data[grade_graph_data['grade']=='C']['sub'].values)\n",
    "gradec2=list(grade_graph_data[grade_graph_data['grade']=='C']['frequency'].values)\n",
    "graded1=list(grade_graph_data[grade_graph_data['grade']=='D']['sub'].values)\n",
    "graded2=list(grade_graph_data[grade_graph_data['grade']=='D']['frequency'].values)\n",
    "gradee1=list(grade_graph_data[grade_graph_data['grade']=='E']['sub'].values)\n",
    "gradee2=list(grade_graph_data[grade_graph_data['grade']=='E']['frequency'].values)\n",
    "gradef1=list(grade_graph_data[grade_graph_data['grade']=='F']['sub'].values)\n",
    "gradef2=list(grade_graph_data[grade_graph_data['grade']=='F']['frequency'].values)"
   ]
  },
  {
   "cell_type": "code",
   "execution_count": 348,
   "metadata": {},
   "outputs": [
    {
     "data": {
      "text/html": [
       "<div>\n",
       "<style scoped>\n",
       "    .dataframe tbody tr th:only-of-type {\n",
       "        vertical-align: middle;\n",
       "    }\n",
       "\n",
       "    .dataframe tbody tr th {\n",
       "        vertical-align: top;\n",
       "    }\n",
       "\n",
       "    .dataframe thead th {\n",
       "        text-align: right;\n",
       "    }\n",
       "</style>\n",
       "<table border=\"1\" class=\"dataframe\">\n",
       "  <thead>\n",
       "    <tr style=\"text-align: right;\">\n",
       "      <th></th>\n",
       "      <th>id</th>\n",
       "      <th>sub</th>\n",
       "      <th>grade</th>\n",
       "      <th>rating</th>\n",
       "      <th>semester</th>\n",
       "      <th>course id</th>\n",
       "      <th>grade_codes</th>\n",
       "    </tr>\n",
       "  </thead>\n",
       "  <tbody>\n",
       "    <tr>\n",
       "      <th>82</th>\n",
       "      <td>2</td>\n",
       "      <td>Learning Analytics</td>\n",
       "      <td>0</td>\n",
       "      <td>1</td>\n",
       "      <td>3</td>\n",
       "      <td>17</td>\n",
       "      <td>-1</td>\n",
       "    </tr>\n",
       "    <tr>\n",
       "      <th>442</th>\n",
       "      <td>14</td>\n",
       "      <td>Distributed Systems</td>\n",
       "      <td>0</td>\n",
       "      <td>2</td>\n",
       "      <td>2</td>\n",
       "      <td>8</td>\n",
       "      <td>-1</td>\n",
       "    </tr>\n",
       "    <tr>\n",
       "      <th>469</th>\n",
       "      <td>15</td>\n",
       "      <td>Computer Graphics</td>\n",
       "      <td>0</td>\n",
       "      <td>1</td>\n",
       "      <td>1</td>\n",
       "      <td>4</td>\n",
       "      <td>-1</td>\n",
       "    </tr>\n",
       "    <tr>\n",
       "      <th>473</th>\n",
       "      <td>15</td>\n",
       "      <td>Distributed Systems</td>\n",
       "      <td>0</td>\n",
       "      <td>2</td>\n",
       "      <td>1</td>\n",
       "      <td>8</td>\n",
       "      <td>-1</td>\n",
       "    </tr>\n",
       "    <tr>\n",
       "      <th>480</th>\n",
       "      <td>15</td>\n",
       "      <td>Information Mining</td>\n",
       "      <td>0</td>\n",
       "      <td>3</td>\n",
       "      <td>1</td>\n",
       "      <td>13</td>\n",
       "      <td>-1</td>\n",
       "    </tr>\n",
       "    <tr>\n",
       "      <th>485</th>\n",
       "      <td>15</td>\n",
       "      <td>Learning Analytics</td>\n",
       "      <td>0</td>\n",
       "      <td>1</td>\n",
       "      <td>1</td>\n",
       "      <td>17</td>\n",
       "      <td>-1</td>\n",
       "    </tr>\n",
       "    <tr>\n",
       "      <th>744</th>\n",
       "      <td>24</td>\n",
       "      <td>Advanced Image Synthesis</td>\n",
       "      <td>0</td>\n",
       "      <td>0</td>\n",
       "      <td>Other</td>\n",
       "      <td>0</td>\n",
       "      <td>-1</td>\n",
       "    </tr>\n",
       "  </tbody>\n",
       "</table>\n",
       "</div>"
      ],
      "text/plain": [
       "     id                       sub grade rating semester course id grade_codes\n",
       "82    2        Learning Analytics     0      1        3        17          -1\n",
       "442  14       Distributed Systems     0      2        2         8          -1\n",
       "469  15         Computer Graphics     0      1        1         4          -1\n",
       "473  15       Distributed Systems     0      2        1         8          -1\n",
       "480  15        Information Mining     0      3        1        13          -1\n",
       "485  15        Learning Analytics     0      1        1        17          -1\n",
       "744  24  Advanced Image Synthesis     0      0    Other         0          -1"
      ]
     },
     "execution_count": 348,
     "metadata": {},
     "output_type": "execute_result"
    }
   ],
   "source": [
    "df_rec[df_rec['grade'] == 0]"
   ]
  },
  {
   "cell_type": "code",
   "execution_count": 914,
   "metadata": {},
   "outputs": [],
   "source": [
    "df_filtered = df_rec[df_rec['semester'] != 'Other' ] "
   ]
  },
  {
   "cell_type": "code",
   "execution_count": 915,
   "metadata": {},
   "outputs": [],
   "source": [
    "df_filtered=df_filtered[df_filtered['grade']!=0]"
   ]
  },
  {
   "cell_type": "code",
   "execution_count": 916,
   "metadata": {},
   "outputs": [],
   "source": [
    "df_filtered=df_filtered[df_filtered['grade']!='F']"
   ]
  },
  {
   "cell_type": "code",
   "execution_count": 917,
   "metadata": {},
   "outputs": [],
   "source": [
    "df_filtered1 =df_rec[(df_rec['grade'] != 0 ) & (df_rec['grade'] != 'F' )] "
   ]
  },
  {
   "cell_type": "code",
   "execution_count": 918,
   "metadata": {},
   "outputs": [
    {
     "data": {
      "text/plain": [
       "id  semester  sub                                              \n",
       "0   1         Advanced Web Technologies                            1\n",
       "              Development of Safe and Secure Software              1\n",
       "              Distributed Systems                                  1\n",
       "    2         Advanced Image Synthesis                             1\n",
       "              Learning Analytics                                   1\n",
       "    3         Information Retrieval                                1\n",
       "              Peer-to-Peer Systems                                 1\n",
       "1   1         Cognitive Robot Systems                              1\n",
       "              Distributed Systems                                  1\n",
       "    2         Development of Safe and Secure Software              1\n",
       "              Information Retrieval                                1\n",
       "              Peer-to-Peer Systems                                 1\n",
       "    3         Advanced Web Technologies                            1\n",
       "              Cloud Web & Mobile                                   1\n",
       "              Electronic Communities and Social Networks           1\n",
       "              Information Engineering                              1\n",
       "              Learning Analytics                                   1\n",
       "    4         Gestaltung interaktiver Lehr-/Lern-Systeme           1\n",
       "2   1         Distributed Systems                                  1\n",
       "              Electronic Communities and Social Networks           1\n",
       "              Formal Specification of Software Systems             1\n",
       "              Information Engineering                              1\n",
       "              Information Mining                                   1\n",
       "    2         Gestaltung interaktiver Lehr-/Lern-Systeme           1\n",
       "              Information Retrieval                                1\n",
       "              Interaktive Systeme                                  1\n",
       "              Internet of Things- Protocols and System Software    1\n",
       "              Recommender Systems                                  1\n",
       "3   1         Distributed Systems                                  1\n",
       "              Electronic Communities and Social Networks           1\n",
       "                                                                  ..\n",
       "24  1         Internet of Things- Protocols and System Software    1\n",
       "25  2         Cloud Web & Mobile                                   1\n",
       "    3         Information Mining                                   1\n",
       "    4         Natural-Language-based Human-Computer Interaction    1\n",
       "26  2         Gestaltung interaktiver Lehr-/Lern-Systeme           1\n",
       "              Information Retrieval                                1\n",
       "              Internet of Things- Protocols and System Software    1\n",
       "    3         Advanced Web Technologies                            1\n",
       "27  3         Advanced Web Technologies                            1\n",
       "28  1         Advanced Web Technologies                            1\n",
       "              Peer-to-Peer Systems                                 1\n",
       "29  1         Distributed Systems                                  1\n",
       "              Electronic Communities and Social Networks           1\n",
       "              Formal Specification of Software Systems             1\n",
       "              Information Engineering                              1\n",
       "              Information Mining                                   1\n",
       "    2         Gestaltung interaktiver Lehr-/Lern-Systeme           1\n",
       "              Information Retrieval                                1\n",
       "              Interaktive Systeme                                  1\n",
       "              Internet of Things- Protocols and System Software    1\n",
       "              Recommender Systems                                  1\n",
       "30  1         Information Retrieval                                1\n",
       "    2         Distributed Systems                                  1\n",
       "              Peer-to-Peer Systems                                 1\n",
       "    3         Cloud Web & Mobile                                   1\n",
       "              Electronic Communities and Social Networks           1\n",
       "              Information Engineering                              1\n",
       "              Information Mining                                   1\n",
       "              Internet of Things- Protocols and System Software    1\n",
       "0   0         0                                                    1\n",
       "Name: sub, Length: 157, dtype: int64"
      ]
     },
     "execution_count": 918,
     "metadata": {},
     "output_type": "execute_result"
    }
   ],
   "source": [
    "df_filtered.groupby(['id','semester']).sub.value_counts()"
   ]
  },
  {
   "cell_type": "code",
   "execution_count": 919,
   "metadata": {},
   "outputs": [
    {
     "data": {
      "text/html": [
       "<div>\n",
       "<style scoped>\n",
       "    .dataframe tbody tr th:only-of-type {\n",
       "        vertical-align: middle;\n",
       "    }\n",
       "\n",
       "    .dataframe tbody tr th {\n",
       "        vertical-align: top;\n",
       "    }\n",
       "\n",
       "    .dataframe thead th {\n",
       "        text-align: right;\n",
       "    }\n",
       "</style>\n",
       "<table border=\"1\" class=\"dataframe\">\n",
       "  <thead>\n",
       "    <tr style=\"text-align: right;\">\n",
       "      <th></th>\n",
       "      <th></th>\n",
       "      <th>sub</th>\n",
       "    </tr>\n",
       "    <tr>\n",
       "      <th>id</th>\n",
       "      <th>sub</th>\n",
       "      <th></th>\n",
       "    </tr>\n",
       "  </thead>\n",
       "  <tbody>\n",
       "    <tr>\n",
       "      <th rowspan=\"7\" valign=\"top\">0</th>\n",
       "      <th>Advanced Image Synthesis</th>\n",
       "      <td>1</td>\n",
       "    </tr>\n",
       "    <tr>\n",
       "      <th>Advanced Web Technologies</th>\n",
       "      <td>1</td>\n",
       "    </tr>\n",
       "    <tr>\n",
       "      <th>Development of Safe and Secure Software</th>\n",
       "      <td>1</td>\n",
       "    </tr>\n",
       "    <tr>\n",
       "      <th>Distributed Systems</th>\n",
       "      <td>1</td>\n",
       "    </tr>\n",
       "    <tr>\n",
       "      <th>Information Retrieval</th>\n",
       "      <td>1</td>\n",
       "    </tr>\n",
       "    <tr>\n",
       "      <th>Learning Analytics</th>\n",
       "      <td>1</td>\n",
       "    </tr>\n",
       "    <tr>\n",
       "      <th>Peer-to-Peer Systems</th>\n",
       "      <td>1</td>\n",
       "    </tr>\n",
       "    <tr>\n",
       "      <th rowspan=\"11\" valign=\"top\">1</th>\n",
       "      <th>Advanced Web Technologies</th>\n",
       "      <td>1</td>\n",
       "    </tr>\n",
       "    <tr>\n",
       "      <th>Cloud Web &amp; Mobile</th>\n",
       "      <td>1</td>\n",
       "    </tr>\n",
       "    <tr>\n",
       "      <th>Cognitive Robot Systems</th>\n",
       "      <td>1</td>\n",
       "    </tr>\n",
       "    <tr>\n",
       "      <th>Development of Safe and Secure Software</th>\n",
       "      <td>1</td>\n",
       "    </tr>\n",
       "    <tr>\n",
       "      <th>Distributed Systems</th>\n",
       "      <td>1</td>\n",
       "    </tr>\n",
       "    <tr>\n",
       "      <th>Electronic Communities and Social Networks</th>\n",
       "      <td>1</td>\n",
       "    </tr>\n",
       "    <tr>\n",
       "      <th>Gestaltung interaktiver Lehr-/Lern-Systeme</th>\n",
       "      <td>1</td>\n",
       "    </tr>\n",
       "    <tr>\n",
       "      <th>Information Engineering</th>\n",
       "      <td>1</td>\n",
       "    </tr>\n",
       "    <tr>\n",
       "      <th>Information Retrieval</th>\n",
       "      <td>1</td>\n",
       "    </tr>\n",
       "    <tr>\n",
       "      <th>Learning Analytics</th>\n",
       "      <td>1</td>\n",
       "    </tr>\n",
       "    <tr>\n",
       "      <th>Peer-to-Peer Systems</th>\n",
       "      <td>1</td>\n",
       "    </tr>\n",
       "    <tr>\n",
       "      <th rowspan=\"10\" valign=\"top\">2</th>\n",
       "      <th>Distributed Systems</th>\n",
       "      <td>1</td>\n",
       "    </tr>\n",
       "    <tr>\n",
       "      <th>Electronic Communities and Social Networks</th>\n",
       "      <td>1</td>\n",
       "    </tr>\n",
       "    <tr>\n",
       "      <th>Formal Specification of Software Systems</th>\n",
       "      <td>1</td>\n",
       "    </tr>\n",
       "    <tr>\n",
       "      <th>Gestaltung interaktiver Lehr-/Lern-Systeme</th>\n",
       "      <td>1</td>\n",
       "    </tr>\n",
       "    <tr>\n",
       "      <th>Information Engineering</th>\n",
       "      <td>1</td>\n",
       "    </tr>\n",
       "    <tr>\n",
       "      <th>Information Mining</th>\n",
       "      <td>1</td>\n",
       "    </tr>\n",
       "    <tr>\n",
       "      <th>Information Retrieval</th>\n",
       "      <td>1</td>\n",
       "    </tr>\n",
       "    <tr>\n",
       "      <th>Interaktive Systeme</th>\n",
       "      <td>1</td>\n",
       "    </tr>\n",
       "    <tr>\n",
       "      <th>Internet of Things- Protocols and System Software</th>\n",
       "      <td>1</td>\n",
       "    </tr>\n",
       "    <tr>\n",
       "      <th>Recommender Systems</th>\n",
       "      <td>1</td>\n",
       "    </tr>\n",
       "    <tr>\n",
       "      <th rowspan=\"2\" valign=\"top\">3</th>\n",
       "      <th>Distributed Systems</th>\n",
       "      <td>1</td>\n",
       "    </tr>\n",
       "    <tr>\n",
       "      <th>Electronic Communities and Social Networks</th>\n",
       "      <td>1</td>\n",
       "    </tr>\n",
       "    <tr>\n",
       "      <th>...</th>\n",
       "      <th>...</th>\n",
       "      <td>...</td>\n",
       "    </tr>\n",
       "    <tr>\n",
       "      <th>24</th>\n",
       "      <th>Internet of Things- Protocols and System Software</th>\n",
       "      <td>1</td>\n",
       "    </tr>\n",
       "    <tr>\n",
       "      <th rowspan=\"3\" valign=\"top\">25</th>\n",
       "      <th>Cloud Web &amp; Mobile</th>\n",
       "      <td>1</td>\n",
       "    </tr>\n",
       "    <tr>\n",
       "      <th>Information Mining</th>\n",
       "      <td>1</td>\n",
       "    </tr>\n",
       "    <tr>\n",
       "      <th>Natural-Language-based Human-Computer Interaction</th>\n",
       "      <td>1</td>\n",
       "    </tr>\n",
       "    <tr>\n",
       "      <th rowspan=\"4\" valign=\"top\">26</th>\n",
       "      <th>Advanced Web Technologies</th>\n",
       "      <td>1</td>\n",
       "    </tr>\n",
       "    <tr>\n",
       "      <th>Gestaltung interaktiver Lehr-/Lern-Systeme</th>\n",
       "      <td>1</td>\n",
       "    </tr>\n",
       "    <tr>\n",
       "      <th>Information Retrieval</th>\n",
       "      <td>1</td>\n",
       "    </tr>\n",
       "    <tr>\n",
       "      <th>Internet of Things- Protocols and System Software</th>\n",
       "      <td>1</td>\n",
       "    </tr>\n",
       "    <tr>\n",
       "      <th>27</th>\n",
       "      <th>Advanced Web Technologies</th>\n",
       "      <td>1</td>\n",
       "    </tr>\n",
       "    <tr>\n",
       "      <th rowspan=\"2\" valign=\"top\">28</th>\n",
       "      <th>Advanced Web Technologies</th>\n",
       "      <td>1</td>\n",
       "    </tr>\n",
       "    <tr>\n",
       "      <th>Peer-to-Peer Systems</th>\n",
       "      <td>1</td>\n",
       "    </tr>\n",
       "    <tr>\n",
       "      <th rowspan=\"10\" valign=\"top\">29</th>\n",
       "      <th>Distributed Systems</th>\n",
       "      <td>1</td>\n",
       "    </tr>\n",
       "    <tr>\n",
       "      <th>Electronic Communities and Social Networks</th>\n",
       "      <td>1</td>\n",
       "    </tr>\n",
       "    <tr>\n",
       "      <th>Formal Specification of Software Systems</th>\n",
       "      <td>1</td>\n",
       "    </tr>\n",
       "    <tr>\n",
       "      <th>Gestaltung interaktiver Lehr-/Lern-Systeme</th>\n",
       "      <td>1</td>\n",
       "    </tr>\n",
       "    <tr>\n",
       "      <th>Information Engineering</th>\n",
       "      <td>1</td>\n",
       "    </tr>\n",
       "    <tr>\n",
       "      <th>Information Mining</th>\n",
       "      <td>1</td>\n",
       "    </tr>\n",
       "    <tr>\n",
       "      <th>Information Retrieval</th>\n",
       "      <td>1</td>\n",
       "    </tr>\n",
       "    <tr>\n",
       "      <th>Interaktive Systeme</th>\n",
       "      <td>1</td>\n",
       "    </tr>\n",
       "    <tr>\n",
       "      <th>Internet of Things- Protocols and System Software</th>\n",
       "      <td>1</td>\n",
       "    </tr>\n",
       "    <tr>\n",
       "      <th>Recommender Systems</th>\n",
       "      <td>1</td>\n",
       "    </tr>\n",
       "    <tr>\n",
       "      <th rowspan=\"8\" valign=\"top\">30</th>\n",
       "      <th>Cloud Web &amp; Mobile</th>\n",
       "      <td>1</td>\n",
       "    </tr>\n",
       "    <tr>\n",
       "      <th>Distributed Systems</th>\n",
       "      <td>1</td>\n",
       "    </tr>\n",
       "    <tr>\n",
       "      <th>Electronic Communities and Social Networks</th>\n",
       "      <td>1</td>\n",
       "    </tr>\n",
       "    <tr>\n",
       "      <th>Information Engineering</th>\n",
       "      <td>1</td>\n",
       "    </tr>\n",
       "    <tr>\n",
       "      <th>Information Mining</th>\n",
       "      <td>1</td>\n",
       "    </tr>\n",
       "    <tr>\n",
       "      <th>Information Retrieval</th>\n",
       "      <td>1</td>\n",
       "    </tr>\n",
       "    <tr>\n",
       "      <th>Internet of Things- Protocols and System Software</th>\n",
       "      <td>1</td>\n",
       "    </tr>\n",
       "    <tr>\n",
       "      <th>Peer-to-Peer Systems</th>\n",
       "      <td>1</td>\n",
       "    </tr>\n",
       "    <tr>\n",
       "      <th>0</th>\n",
       "      <th>0</th>\n",
       "      <td>1</td>\n",
       "    </tr>\n",
       "  </tbody>\n",
       "</table>\n",
       "<p>157 rows × 1 columns</p>\n",
       "</div>"
      ],
      "text/plain": [
       "                                                      sub\n",
       "id sub                                                   \n",
       "0  Advanced Image Synthesis                             1\n",
       "   Advanced Web Technologies                            1\n",
       "   Development of Safe and Secure Software              1\n",
       "   Distributed Systems                                  1\n",
       "   Information Retrieval                                1\n",
       "   Learning Analytics                                   1\n",
       "   Peer-to-Peer Systems                                 1\n",
       "1  Advanced Web Technologies                            1\n",
       "   Cloud Web & Mobile                                   1\n",
       "   Cognitive Robot Systems                              1\n",
       "   Development of Safe and Secure Software              1\n",
       "   Distributed Systems                                  1\n",
       "   Electronic Communities and Social Networks           1\n",
       "   Gestaltung interaktiver Lehr-/Lern-Systeme           1\n",
       "   Information Engineering                              1\n",
       "   Information Retrieval                                1\n",
       "   Learning Analytics                                   1\n",
       "   Peer-to-Peer Systems                                 1\n",
       "2  Distributed Systems                                  1\n",
       "   Electronic Communities and Social Networks           1\n",
       "   Formal Specification of Software Systems             1\n",
       "   Gestaltung interaktiver Lehr-/Lern-Systeme           1\n",
       "   Information Engineering                              1\n",
       "   Information Mining                                   1\n",
       "   Information Retrieval                                1\n",
       "   Interaktive Systeme                                  1\n",
       "   Internet of Things- Protocols and System Software    1\n",
       "   Recommender Systems                                  1\n",
       "3  Distributed Systems                                  1\n",
       "   Electronic Communities and Social Networks           1\n",
       "...                                                   ...\n",
       "24 Internet of Things- Protocols and System Software    1\n",
       "25 Cloud Web & Mobile                                   1\n",
       "   Information Mining                                   1\n",
       "   Natural-Language-based Human-Computer Interaction    1\n",
       "26 Advanced Web Technologies                            1\n",
       "   Gestaltung interaktiver Lehr-/Lern-Systeme           1\n",
       "   Information Retrieval                                1\n",
       "   Internet of Things- Protocols and System Software    1\n",
       "27 Advanced Web Technologies                            1\n",
       "28 Advanced Web Technologies                            1\n",
       "   Peer-to-Peer Systems                                 1\n",
       "29 Distributed Systems                                  1\n",
       "   Electronic Communities and Social Networks           1\n",
       "   Formal Specification of Software Systems             1\n",
       "   Gestaltung interaktiver Lehr-/Lern-Systeme           1\n",
       "   Information Engineering                              1\n",
       "   Information Mining                                   1\n",
       "   Information Retrieval                                1\n",
       "   Interaktive Systeme                                  1\n",
       "   Internet of Things- Protocols and System Software    1\n",
       "   Recommender Systems                                  1\n",
       "30 Cloud Web & Mobile                                   1\n",
       "   Distributed Systems                                  1\n",
       "   Electronic Communities and Social Networks           1\n",
       "   Information Engineering                              1\n",
       "   Information Mining                                   1\n",
       "   Information Retrieval                                1\n",
       "   Internet of Things- Protocols and System Software    1\n",
       "   Peer-to-Peer Systems                                 1\n",
       "0  0                                                    1\n",
       "\n",
       "[157 rows x 1 columns]"
      ]
     },
     "execution_count": 919,
     "metadata": {},
     "output_type": "execute_result"
    }
   ],
   "source": [
    "df_filtered.groupby('id')['sub'].value_counts(sort=True).to_frame()"
   ]
  },
  {
   "cell_type": "code",
   "execution_count": 920,
   "metadata": {},
   "outputs": [],
   "source": [
    "freq_prosem=df_filtered1.groupby(['id','semester']).sub.value_counts(sort=True).to_frame()"
   ]
  },
  {
   "cell_type": "code",
   "execution_count": 921,
   "metadata": {},
   "outputs": [],
   "source": [
    "#fre_prosem_graph=freq_prosem.rename(columns={freq_prosem.columns[0]: 'frequency'}).reset_index()"
   ]
  },
  {
   "cell_type": "code",
   "execution_count": 922,
   "metadata": {},
   "outputs": [],
   "source": [
    "#sum_data=fre_prosem_graph.groupby(['id','semester']).frequency.sum(sort=True).to_frame()\n",
    "#sum_data_graph=sum_data.rename(columns={sum_data.columns[0]: 'sum'}).reset_index()"
   ]
  },
  {
   "cell_type": "code",
   "execution_count": 923,
   "metadata": {},
   "outputs": [],
   "source": [
    "#countd1=sum_data_graph.groupby(['semester','sum']).id.value_counts(sort=True).to_frame()\n",
    "#countd1_graph=countd1.rename(columns={countd1.columns[0]: 'frequency'}).reset_index()"
   ]
  },
  {
   "cell_type": "code",
   "execution_count": 924,
   "metadata": {},
   "outputs": [],
   "source": [
    "#countd2=countd1_graph.groupby(['semester','sum']).frequency.sum(sort=True).to_frame()\n",
    "#countd2_graph=countd2.rename(columns={countd2.columns[0]: 'frequency'}).reset_index()"
   ]
  },
  {
   "cell_type": "code",
   "execution_count": 925,
   "metadata": {},
   "outputs": [],
   "source": [
    "#countd2_graph[countd2_graph['semester']=='Other']"
   ]
  },
  {
   "cell_type": "code",
   "execution_count": 926,
   "metadata": {},
   "outputs": [],
   "source": [
    "sem1=countd2_graph[countd2_graph['semester']=='1']\n",
    "sem2=countd2_graph[countd2_graph['semester']=='2']\n",
    "sem3=countd2_graph[countd2_graph['semester']=='3']\n",
    "sem4=countd2_graph[countd2_graph['semester']=='4']\n",
    "semo=countd2_graph[countd2_graph['semester']=='Other']"
   ]
  },
  {
   "cell_type": "code",
   "execution_count": 927,
   "metadata": {},
   "outputs": [
    {
     "data": {
      "text/html": [
       "<div>\n",
       "<style scoped>\n",
       "    .dataframe tbody tr th:only-of-type {\n",
       "        vertical-align: middle;\n",
       "    }\n",
       "\n",
       "    .dataframe tbody tr th {\n",
       "        vertical-align: top;\n",
       "    }\n",
       "\n",
       "    .dataframe thead th {\n",
       "        text-align: right;\n",
       "    }\n",
       "</style>\n",
       "<table border=\"1\" class=\"dataframe\">\n",
       "  <thead>\n",
       "    <tr style=\"text-align: right;\">\n",
       "      <th></th>\n",
       "      <th>semester</th>\n",
       "      <th>sum</th>\n",
       "      <th>frequency</th>\n",
       "    </tr>\n",
       "  </thead>\n",
       "  <tbody>\n",
       "    <tr>\n",
       "      <th>1</th>\n",
       "      <td>1</td>\n",
       "      <td>1</td>\n",
       "      <td>5</td>\n",
       "    </tr>\n",
       "    <tr>\n",
       "      <th>2</th>\n",
       "      <td>1</td>\n",
       "      <td>2</td>\n",
       "      <td>10</td>\n",
       "    </tr>\n",
       "    <tr>\n",
       "      <th>3</th>\n",
       "      <td>1</td>\n",
       "      <td>3</td>\n",
       "      <td>6</td>\n",
       "    </tr>\n",
       "    <tr>\n",
       "      <th>4</th>\n",
       "      <td>1</td>\n",
       "      <td>4</td>\n",
       "      <td>1</td>\n",
       "    </tr>\n",
       "  </tbody>\n",
       "</table>\n",
       "</div>"
      ],
      "text/plain": [
       "  semester  sum  frequency\n",
       "1        1    1          5\n",
       "2        1    2         10\n",
       "3        1    3          6\n",
       "4        1    4          1"
      ]
     },
     "execution_count": 927,
     "metadata": {},
     "output_type": "execute_result"
    }
   ],
   "source": [
    "sem1.head(4)"
   ]
  },
  {
   "cell_type": "markdown",
   "metadata": {},
   "source": [
    "#### Frequency of students for the no.of courses"
   ]
  },
  {
   "cell_type": "code",
   "execution_count": 928,
   "metadata": {},
   "outputs": [],
   "source": [
    "# fig_semfreq = go.Figure(data=[\n",
    "#     go.Bar(name='Semester 1', x=list(sem1['sum'].values), y=list(sem1['frequency'].values)),\n",
    "#     go.Bar(name='Semester 2', x=list(sem2['sum'].values), y=list(sem2['frequency'].values)),\n",
    "#     go.Bar(name='Semester 3', x=list(sem3['sum'].values), y=list(sem3['frequency'].values)),\n",
    "#     go.Bar(name='Semester 4', x=list(sem4['sum'].values), y=list(sem4['frequency'].values)),\n",
    "#     go.Bar(name='Other Semester', x=list(semo['sum'].values), y=list(semo['frequency'].values)),\n",
    "# ])\n",
    "# fig_semfreq.update_layout(barmode='group',yaxis=dict(\n",
    "#         title='No.of students',\n",
    "#         titlefont_size=16,\n",
    "#         tickfont_size=14,\n",
    "#     ),xaxis=dict(\n",
    "#         title='No.of courses',\n",
    "#         titlefont_size=16,\n",
    "#         tickfont_size=14,\n",
    "#     ))\n",
    " "
   ]
  },
  {
   "cell_type": "code",
   "execution_count": 929,
   "metadata": {},
   "outputs": [],
   "source": [
    "# fig_semfreq = make_subplots(rows=3, cols=2,subplot_titles=(\"Semester 1\", \"Semester 2\", \"Semester 3\", \"Semester 4\",\"Other Semester\"))\n",
    "\n",
    "# fig_semfreq.add_trace(\n",
    "#     go.Bar(x=list(sem1['sum'].values), y=list(sem1['frequency'].values)),\n",
    "#     row=1, col=1\n",
    "# )\n",
    "\n",
    "# fig_semfreq.add_trace(\n",
    "#      go.Bar(x=list(sem2['sum'].values), y=list(sem2['frequency'].values)),\n",
    "#     row=1, col=2\n",
    "# )\n",
    "# fig_semfreq.add_trace(\n",
    "#      go.Bar(x=list(sem3['sum'].values), y=list(sem3['frequency'].values)),\n",
    "#     row=2, col=1\n",
    "# )\n",
    "# fig_semfreq.add_trace(\n",
    "#      go.Bar(x=list(sem4['sum'].values), y=list(sem4['frequency'].values)),\n",
    "#     row=2, col=2\n",
    "# )\n",
    "# fig_semfreq.add_trace(\n",
    "#      go.Bar(x=list(semo['sum'].values), y=list(semo['frequency'].values)),\n",
    "#     row=3, col=1\n",
    "# )\n",
    "\n",
    "# fig_semfreq.update_layout(height=600, width=800, title_text=\"No.of Courses vs Participants\")"
   ]
  },
  {
   "cell_type": "code",
   "execution_count": 930,
   "metadata": {},
   "outputs": [],
   "source": [
    "sub_count=df_filtered.groupby('id').sub.value_counts(sort=True).to_frame()\n",
    "sub_count_data=sub_count.rename(columns={sub_count.columns[0]: 'frequency'}).reset_index()"
   ]
  },
  {
   "cell_type": "code",
   "execution_count": 931,
   "metadata": {},
   "outputs": [
    {
     "data": {
      "text/html": [
       "<div>\n",
       "<style scoped>\n",
       "    .dataframe tbody tr th:only-of-type {\n",
       "        vertical-align: middle;\n",
       "    }\n",
       "\n",
       "    .dataframe tbody tr th {\n",
       "        vertical-align: top;\n",
       "    }\n",
       "\n",
       "    .dataframe thead th {\n",
       "        text-align: right;\n",
       "    }\n",
       "</style>\n",
       "<table border=\"1\" class=\"dataframe\">\n",
       "  <thead>\n",
       "    <tr style=\"text-align: right;\">\n",
       "      <th></th>\n",
       "      <th>id</th>\n",
       "      <th>sub</th>\n",
       "      <th>frequency</th>\n",
       "    </tr>\n",
       "  </thead>\n",
       "  <tbody>\n",
       "    <tr>\n",
       "      <th>148</th>\n",
       "      <td>30</td>\n",
       "      <td>Cloud Web &amp; Mobile</td>\n",
       "      <td>1</td>\n",
       "    </tr>\n",
       "    <tr>\n",
       "      <th>149</th>\n",
       "      <td>30</td>\n",
       "      <td>Distributed Systems</td>\n",
       "      <td>1</td>\n",
       "    </tr>\n",
       "    <tr>\n",
       "      <th>150</th>\n",
       "      <td>30</td>\n",
       "      <td>Electronic Communities and Social Networks</td>\n",
       "      <td>1</td>\n",
       "    </tr>\n",
       "    <tr>\n",
       "      <th>151</th>\n",
       "      <td>30</td>\n",
       "      <td>Information Engineering</td>\n",
       "      <td>1</td>\n",
       "    </tr>\n",
       "    <tr>\n",
       "      <th>152</th>\n",
       "      <td>30</td>\n",
       "      <td>Information Mining</td>\n",
       "      <td>1</td>\n",
       "    </tr>\n",
       "    <tr>\n",
       "      <th>153</th>\n",
       "      <td>30</td>\n",
       "      <td>Information Retrieval</td>\n",
       "      <td>1</td>\n",
       "    </tr>\n",
       "    <tr>\n",
       "      <th>154</th>\n",
       "      <td>30</td>\n",
       "      <td>Internet of Things- Protocols and System Software</td>\n",
       "      <td>1</td>\n",
       "    </tr>\n",
       "    <tr>\n",
       "      <th>155</th>\n",
       "      <td>30</td>\n",
       "      <td>Peer-to-Peer Systems</td>\n",
       "      <td>1</td>\n",
       "    </tr>\n",
       "  </tbody>\n",
       "</table>\n",
       "</div>"
      ],
      "text/plain": [
       "     id                                                sub  frequency\n",
       "148  30                                 Cloud Web & Mobile          1\n",
       "149  30                                Distributed Systems          1\n",
       "150  30         Electronic Communities and Social Networks          1\n",
       "151  30                            Information Engineering          1\n",
       "152  30                                 Information Mining          1\n",
       "153  30                              Information Retrieval          1\n",
       "154  30  Internet of Things- Protocols and System Software          1\n",
       "155  30                               Peer-to-Peer Systems          1"
      ]
     },
     "execution_count": 931,
     "metadata": {},
     "output_type": "execute_result"
    }
   ],
   "source": [
    "sub_count_data[sub_count_data['id']==30]"
   ]
  },
  {
   "cell_type": "code",
   "execution_count": 932,
   "metadata": {},
   "outputs": [],
   "source": [
    "df_stud_complete=sub_count_data.groupby('id').frequency.sum().reset_index()"
   ]
  },
  {
   "cell_type": "code",
   "execution_count": 933,
   "metadata": {},
   "outputs": [
    {
     "data": {
      "text/html": [
       "<div>\n",
       "<style scoped>\n",
       "    .dataframe tbody tr th:only-of-type {\n",
       "        vertical-align: middle;\n",
       "    }\n",
       "\n",
       "    .dataframe tbody tr th {\n",
       "        vertical-align: top;\n",
       "    }\n",
       "\n",
       "    .dataframe thead th {\n",
       "        text-align: right;\n",
       "    }\n",
       "</style>\n",
       "<table border=\"1\" class=\"dataframe\">\n",
       "  <thead>\n",
       "    <tr style=\"text-align: right;\">\n",
       "      <th></th>\n",
       "      <th>id</th>\n",
       "      <th>frequency</th>\n",
       "    </tr>\n",
       "  </thead>\n",
       "  <tbody>\n",
       "    <tr>\n",
       "      <th>29</th>\n",
       "      <td>30</td>\n",
       "      <td>8</td>\n",
       "    </tr>\n",
       "  </tbody>\n",
       "</table>\n",
       "</div>"
      ],
      "text/plain": [
       "    id  frequency\n",
       "29  30          8"
      ]
     },
     "execution_count": 933,
     "metadata": {},
     "output_type": "execute_result"
    }
   ],
   "source": [
    "df_stud_complete[df_stud_complete['id']==30]"
   ]
  },
  {
   "cell_type": "markdown",
   "metadata": {},
   "source": [
    "### Count for number of students"
   ]
  },
  {
   "cell_type": "code",
   "execution_count": 934,
   "metadata": {},
   "outputs": [],
   "source": [
    "count_credits=len(df_stud_complete[df_stud_complete['frequency']>=11])"
   ]
  },
  {
   "cell_type": "code",
   "execution_count": 935,
   "metadata": {},
   "outputs": [
    {
     "data": {
      "application/vnd.plotly.v1+json": {
       "config": {
        "plotlyServerURL": "https://plot.ly"
       },
       "data": [
        {
         "alignmentgroup": "True",
         "hoverlabel": {
          "namelength": 0
         },
         "hovertemplate": "frequency=%{x}<br>id=%{y}",
         "legendgroup": "",
         "marker": {
          "color": "#636efa"
         },
         "name": "",
         "offsetgroup": "",
         "orientation": "h",
         "showlegend": false,
         "textposition": "auto",
         "type": "bar",
         "x": [
          7,
          11,
          10,
          5,
          3,
          11,
          4,
          1,
          8,
          5,
          6,
          7,
          3,
          2,
          2,
          4,
          6,
          6,
          6,
          5,
          2,
          8,
          4,
          2,
          3,
          4,
          1,
          2,
          10,
          8,
          1
         ],
         "xaxis": "x",
         "y": [
          0,
          1,
          2,
          3,
          4,
          5,
          6,
          7,
          8,
          9,
          10,
          11,
          12,
          13,
          14,
          16,
          17,
          18,
          19,
          20,
          21,
          22,
          23,
          24,
          25,
          26,
          27,
          28,
          29,
          30,
          "0"
         ],
         "yaxis": "y"
        }
       ],
       "layout": {
        "barmode": "relative",
        "legend": {
         "tracegroupgap": 0
        },
        "margin": {
         "t": 60
        },
        "template": {
         "data": {
          "bar": [
           {
            "error_x": {
             "color": "#2a3f5f"
            },
            "error_y": {
             "color": "#2a3f5f"
            },
            "marker": {
             "line": {
              "color": "#E5ECF6",
              "width": 0.5
             }
            },
            "type": "bar"
           }
          ],
          "barpolar": [
           {
            "marker": {
             "line": {
              "color": "#E5ECF6",
              "width": 0.5
             }
            },
            "type": "barpolar"
           }
          ],
          "carpet": [
           {
            "aaxis": {
             "endlinecolor": "#2a3f5f",
             "gridcolor": "white",
             "linecolor": "white",
             "minorgridcolor": "white",
             "startlinecolor": "#2a3f5f"
            },
            "baxis": {
             "endlinecolor": "#2a3f5f",
             "gridcolor": "white",
             "linecolor": "white",
             "minorgridcolor": "white",
             "startlinecolor": "#2a3f5f"
            },
            "type": "carpet"
           }
          ],
          "choropleth": [
           {
            "colorbar": {
             "outlinewidth": 0,
             "ticks": ""
            },
            "type": "choropleth"
           }
          ],
          "contour": [
           {
            "colorbar": {
             "outlinewidth": 0,
             "ticks": ""
            },
            "colorscale": [
             [
              0,
              "#0d0887"
             ],
             [
              0.1111111111111111,
              "#46039f"
             ],
             [
              0.2222222222222222,
              "#7201a8"
             ],
             [
              0.3333333333333333,
              "#9c179e"
             ],
             [
              0.4444444444444444,
              "#bd3786"
             ],
             [
              0.5555555555555556,
              "#d8576b"
             ],
             [
              0.6666666666666666,
              "#ed7953"
             ],
             [
              0.7777777777777778,
              "#fb9f3a"
             ],
             [
              0.8888888888888888,
              "#fdca26"
             ],
             [
              1,
              "#f0f921"
             ]
            ],
            "type": "contour"
           }
          ],
          "contourcarpet": [
           {
            "colorbar": {
             "outlinewidth": 0,
             "ticks": ""
            },
            "type": "contourcarpet"
           }
          ],
          "heatmap": [
           {
            "colorbar": {
             "outlinewidth": 0,
             "ticks": ""
            },
            "colorscale": [
             [
              0,
              "#0d0887"
             ],
             [
              0.1111111111111111,
              "#46039f"
             ],
             [
              0.2222222222222222,
              "#7201a8"
             ],
             [
              0.3333333333333333,
              "#9c179e"
             ],
             [
              0.4444444444444444,
              "#bd3786"
             ],
             [
              0.5555555555555556,
              "#d8576b"
             ],
             [
              0.6666666666666666,
              "#ed7953"
             ],
             [
              0.7777777777777778,
              "#fb9f3a"
             ],
             [
              0.8888888888888888,
              "#fdca26"
             ],
             [
              1,
              "#f0f921"
             ]
            ],
            "type": "heatmap"
           }
          ],
          "heatmapgl": [
           {
            "colorbar": {
             "outlinewidth": 0,
             "ticks": ""
            },
            "colorscale": [
             [
              0,
              "#0d0887"
             ],
             [
              0.1111111111111111,
              "#46039f"
             ],
             [
              0.2222222222222222,
              "#7201a8"
             ],
             [
              0.3333333333333333,
              "#9c179e"
             ],
             [
              0.4444444444444444,
              "#bd3786"
             ],
             [
              0.5555555555555556,
              "#d8576b"
             ],
             [
              0.6666666666666666,
              "#ed7953"
             ],
             [
              0.7777777777777778,
              "#fb9f3a"
             ],
             [
              0.8888888888888888,
              "#fdca26"
             ],
             [
              1,
              "#f0f921"
             ]
            ],
            "type": "heatmapgl"
           }
          ],
          "histogram": [
           {
            "marker": {
             "colorbar": {
              "outlinewidth": 0,
              "ticks": ""
             }
            },
            "type": "histogram"
           }
          ],
          "histogram2d": [
           {
            "colorbar": {
             "outlinewidth": 0,
             "ticks": ""
            },
            "colorscale": [
             [
              0,
              "#0d0887"
             ],
             [
              0.1111111111111111,
              "#46039f"
             ],
             [
              0.2222222222222222,
              "#7201a8"
             ],
             [
              0.3333333333333333,
              "#9c179e"
             ],
             [
              0.4444444444444444,
              "#bd3786"
             ],
             [
              0.5555555555555556,
              "#d8576b"
             ],
             [
              0.6666666666666666,
              "#ed7953"
             ],
             [
              0.7777777777777778,
              "#fb9f3a"
             ],
             [
              0.8888888888888888,
              "#fdca26"
             ],
             [
              1,
              "#f0f921"
             ]
            ],
            "type": "histogram2d"
           }
          ],
          "histogram2dcontour": [
           {
            "colorbar": {
             "outlinewidth": 0,
             "ticks": ""
            },
            "colorscale": [
             [
              0,
              "#0d0887"
             ],
             [
              0.1111111111111111,
              "#46039f"
             ],
             [
              0.2222222222222222,
              "#7201a8"
             ],
             [
              0.3333333333333333,
              "#9c179e"
             ],
             [
              0.4444444444444444,
              "#bd3786"
             ],
             [
              0.5555555555555556,
              "#d8576b"
             ],
             [
              0.6666666666666666,
              "#ed7953"
             ],
             [
              0.7777777777777778,
              "#fb9f3a"
             ],
             [
              0.8888888888888888,
              "#fdca26"
             ],
             [
              1,
              "#f0f921"
             ]
            ],
            "type": "histogram2dcontour"
           }
          ],
          "mesh3d": [
           {
            "colorbar": {
             "outlinewidth": 0,
             "ticks": ""
            },
            "type": "mesh3d"
           }
          ],
          "parcoords": [
           {
            "line": {
             "colorbar": {
              "outlinewidth": 0,
              "ticks": ""
             }
            },
            "type": "parcoords"
           }
          ],
          "pie": [
           {
            "automargin": true,
            "type": "pie"
           }
          ],
          "scatter": [
           {
            "marker": {
             "colorbar": {
              "outlinewidth": 0,
              "ticks": ""
             }
            },
            "type": "scatter"
           }
          ],
          "scatter3d": [
           {
            "line": {
             "colorbar": {
              "outlinewidth": 0,
              "ticks": ""
             }
            },
            "marker": {
             "colorbar": {
              "outlinewidth": 0,
              "ticks": ""
             }
            },
            "type": "scatter3d"
           }
          ],
          "scattercarpet": [
           {
            "marker": {
             "colorbar": {
              "outlinewidth": 0,
              "ticks": ""
             }
            },
            "type": "scattercarpet"
           }
          ],
          "scattergeo": [
           {
            "marker": {
             "colorbar": {
              "outlinewidth": 0,
              "ticks": ""
             }
            },
            "type": "scattergeo"
           }
          ],
          "scattergl": [
           {
            "marker": {
             "colorbar": {
              "outlinewidth": 0,
              "ticks": ""
             }
            },
            "type": "scattergl"
           }
          ],
          "scattermapbox": [
           {
            "marker": {
             "colorbar": {
              "outlinewidth": 0,
              "ticks": ""
             }
            },
            "type": "scattermapbox"
           }
          ],
          "scatterpolar": [
           {
            "marker": {
             "colorbar": {
              "outlinewidth": 0,
              "ticks": ""
             }
            },
            "type": "scatterpolar"
           }
          ],
          "scatterpolargl": [
           {
            "marker": {
             "colorbar": {
              "outlinewidth": 0,
              "ticks": ""
             }
            },
            "type": "scatterpolargl"
           }
          ],
          "scatterternary": [
           {
            "marker": {
             "colorbar": {
              "outlinewidth": 0,
              "ticks": ""
             }
            },
            "type": "scatterternary"
           }
          ],
          "surface": [
           {
            "colorbar": {
             "outlinewidth": 0,
             "ticks": ""
            },
            "colorscale": [
             [
              0,
              "#0d0887"
             ],
             [
              0.1111111111111111,
              "#46039f"
             ],
             [
              0.2222222222222222,
              "#7201a8"
             ],
             [
              0.3333333333333333,
              "#9c179e"
             ],
             [
              0.4444444444444444,
              "#bd3786"
             ],
             [
              0.5555555555555556,
              "#d8576b"
             ],
             [
              0.6666666666666666,
              "#ed7953"
             ],
             [
              0.7777777777777778,
              "#fb9f3a"
             ],
             [
              0.8888888888888888,
              "#fdca26"
             ],
             [
              1,
              "#f0f921"
             ]
            ],
            "type": "surface"
           }
          ],
          "table": [
           {
            "cells": {
             "fill": {
              "color": "#EBF0F8"
             },
             "line": {
              "color": "white"
             }
            },
            "header": {
             "fill": {
              "color": "#C8D4E3"
             },
             "line": {
              "color": "white"
             }
            },
            "type": "table"
           }
          ]
         },
         "layout": {
          "annotationdefaults": {
           "arrowcolor": "#2a3f5f",
           "arrowhead": 0,
           "arrowwidth": 1
          },
          "coloraxis": {
           "colorbar": {
            "outlinewidth": 0,
            "ticks": ""
           }
          },
          "colorscale": {
           "diverging": [
            [
             0,
             "#8e0152"
            ],
            [
             0.1,
             "#c51b7d"
            ],
            [
             0.2,
             "#de77ae"
            ],
            [
             0.3,
             "#f1b6da"
            ],
            [
             0.4,
             "#fde0ef"
            ],
            [
             0.5,
             "#f7f7f7"
            ],
            [
             0.6,
             "#e6f5d0"
            ],
            [
             0.7,
             "#b8e186"
            ],
            [
             0.8,
             "#7fbc41"
            ],
            [
             0.9,
             "#4d9221"
            ],
            [
             1,
             "#276419"
            ]
           ],
           "sequential": [
            [
             0,
             "#0d0887"
            ],
            [
             0.1111111111111111,
             "#46039f"
            ],
            [
             0.2222222222222222,
             "#7201a8"
            ],
            [
             0.3333333333333333,
             "#9c179e"
            ],
            [
             0.4444444444444444,
             "#bd3786"
            ],
            [
             0.5555555555555556,
             "#d8576b"
            ],
            [
             0.6666666666666666,
             "#ed7953"
            ],
            [
             0.7777777777777778,
             "#fb9f3a"
            ],
            [
             0.8888888888888888,
             "#fdca26"
            ],
            [
             1,
             "#f0f921"
            ]
           ],
           "sequentialminus": [
            [
             0,
             "#0d0887"
            ],
            [
             0.1111111111111111,
             "#46039f"
            ],
            [
             0.2222222222222222,
             "#7201a8"
            ],
            [
             0.3333333333333333,
             "#9c179e"
            ],
            [
             0.4444444444444444,
             "#bd3786"
            ],
            [
             0.5555555555555556,
             "#d8576b"
            ],
            [
             0.6666666666666666,
             "#ed7953"
            ],
            [
             0.7777777777777778,
             "#fb9f3a"
            ],
            [
             0.8888888888888888,
             "#fdca26"
            ],
            [
             1,
             "#f0f921"
            ]
           ]
          },
          "colorway": [
           "#636efa",
           "#EF553B",
           "#00cc96",
           "#ab63fa",
           "#FFA15A",
           "#19d3f3",
           "#FF6692",
           "#B6E880",
           "#FF97FF",
           "#FECB52"
          ],
          "font": {
           "color": "#2a3f5f"
          },
          "geo": {
           "bgcolor": "white",
           "lakecolor": "white",
           "landcolor": "#E5ECF6",
           "showlakes": true,
           "showland": true,
           "subunitcolor": "white"
          },
          "hoverlabel": {
           "align": "left"
          },
          "hovermode": "closest",
          "mapbox": {
           "style": "light"
          },
          "paper_bgcolor": "white",
          "plot_bgcolor": "#E5ECF6",
          "polar": {
           "angularaxis": {
            "gridcolor": "white",
            "linecolor": "white",
            "ticks": ""
           },
           "bgcolor": "#E5ECF6",
           "radialaxis": {
            "gridcolor": "white",
            "linecolor": "white",
            "ticks": ""
           }
          },
          "scene": {
           "xaxis": {
            "backgroundcolor": "#E5ECF6",
            "gridcolor": "white",
            "gridwidth": 2,
            "linecolor": "white",
            "showbackground": true,
            "ticks": "",
            "zerolinecolor": "white"
           },
           "yaxis": {
            "backgroundcolor": "#E5ECF6",
            "gridcolor": "white",
            "gridwidth": 2,
            "linecolor": "white",
            "showbackground": true,
            "ticks": "",
            "zerolinecolor": "white"
           },
           "zaxis": {
            "backgroundcolor": "#E5ECF6",
            "gridcolor": "white",
            "gridwidth": 2,
            "linecolor": "white",
            "showbackground": true,
            "ticks": "",
            "zerolinecolor": "white"
           }
          },
          "shapedefaults": {
           "line": {
            "color": "#2a3f5f"
           }
          },
          "ternary": {
           "aaxis": {
            "gridcolor": "white",
            "linecolor": "white",
            "ticks": ""
           },
           "baxis": {
            "gridcolor": "white",
            "linecolor": "white",
            "ticks": ""
           },
           "bgcolor": "#E5ECF6",
           "caxis": {
            "gridcolor": "white",
            "linecolor": "white",
            "ticks": ""
           }
          },
          "title": {
           "x": 0.05
          },
          "xaxis": {
           "automargin": true,
           "gridcolor": "white",
           "linecolor": "white",
           "ticks": "",
           "title": {
            "standoff": 15
           },
           "zerolinecolor": "white",
           "zerolinewidth": 2
          },
          "yaxis": {
           "automargin": true,
           "gridcolor": "white",
           "linecolor": "white",
           "ticks": "",
           "title": {
            "standoff": 15
           },
           "zerolinecolor": "white",
           "zerolinewidth": 2
          }
         }
        },
        "xaxis": {
         "anchor": "y",
         "domain": [
          0,
          1
         ],
         "title": {
          "text": "frequency"
         }
        },
        "yaxis": {
         "anchor": "x",
         "domain": [
          0,
          1
         ],
         "title": {
          "text": "id"
         }
        }
       }
      },
      "text/html": [
       "<div>\n",
       "        \n",
       "        \n",
       "            <div id=\"63c8f8f5-3a97-4e3e-aeb8-d18781b7d92e\" class=\"plotly-graph-div\" style=\"height:525px; width:100%;\"></div>\n",
       "            <script type=\"text/javascript\">\n",
       "                require([\"plotly\"], function(Plotly) {\n",
       "                    window.PLOTLYENV=window.PLOTLYENV || {};\n",
       "                    \n",
       "                if (document.getElementById(\"63c8f8f5-3a97-4e3e-aeb8-d18781b7d92e\")) {\n",
       "                    Plotly.newPlot(\n",
       "                        '63c8f8f5-3a97-4e3e-aeb8-d18781b7d92e',\n",
       "                        [{\"alignmentgroup\": \"True\", \"hoverlabel\": {\"namelength\": 0}, \"hovertemplate\": \"frequency=%{x}<br>id=%{y}\", \"legendgroup\": \"\", \"marker\": {\"color\": \"#636efa\"}, \"name\": \"\", \"offsetgroup\": \"\", \"orientation\": \"h\", \"showlegend\": false, \"textposition\": \"auto\", \"type\": \"bar\", \"x\": [7, 11, 10, 5, 3, 11, 4, 1, 8, 5, 6, 7, 3, 2, 2, 4, 6, 6, 6, 5, 2, 8, 4, 2, 3, 4, 1, 2, 10, 8, 1], \"xaxis\": \"x\", \"y\": [0, 1, 2, 3, 4, 5, 6, 7, 8, 9, 10, 11, 12, 13, 14, 16, 17, 18, 19, 20, 21, 22, 23, 24, 25, 26, 27, 28, 29, 30, \"0\"], \"yaxis\": \"y\"}],\n",
       "                        {\"barmode\": \"relative\", \"legend\": {\"tracegroupgap\": 0}, \"margin\": {\"t\": 60}, \"template\": {\"data\": {\"bar\": [{\"error_x\": {\"color\": \"#2a3f5f\"}, \"error_y\": {\"color\": \"#2a3f5f\"}, \"marker\": {\"line\": {\"color\": \"#E5ECF6\", \"width\": 0.5}}, \"type\": \"bar\"}], \"barpolar\": [{\"marker\": {\"line\": {\"color\": \"#E5ECF6\", \"width\": 0.5}}, \"type\": \"barpolar\"}], \"carpet\": [{\"aaxis\": {\"endlinecolor\": \"#2a3f5f\", \"gridcolor\": \"white\", \"linecolor\": \"white\", \"minorgridcolor\": \"white\", \"startlinecolor\": \"#2a3f5f\"}, \"baxis\": {\"endlinecolor\": \"#2a3f5f\", \"gridcolor\": \"white\", \"linecolor\": \"white\", \"minorgridcolor\": \"white\", \"startlinecolor\": \"#2a3f5f\"}, \"type\": \"carpet\"}], \"choropleth\": [{\"colorbar\": {\"outlinewidth\": 0, \"ticks\": \"\"}, \"type\": \"choropleth\"}], \"contour\": [{\"colorbar\": {\"outlinewidth\": 0, \"ticks\": \"\"}, \"colorscale\": [[0.0, \"#0d0887\"], [0.1111111111111111, \"#46039f\"], [0.2222222222222222, \"#7201a8\"], [0.3333333333333333, \"#9c179e\"], [0.4444444444444444, \"#bd3786\"], [0.5555555555555556, \"#d8576b\"], [0.6666666666666666, \"#ed7953\"], [0.7777777777777778, \"#fb9f3a\"], [0.8888888888888888, \"#fdca26\"], [1.0, \"#f0f921\"]], \"type\": \"contour\"}], \"contourcarpet\": [{\"colorbar\": {\"outlinewidth\": 0, \"ticks\": \"\"}, \"type\": \"contourcarpet\"}], \"heatmap\": [{\"colorbar\": {\"outlinewidth\": 0, \"ticks\": \"\"}, \"colorscale\": [[0.0, \"#0d0887\"], [0.1111111111111111, \"#46039f\"], [0.2222222222222222, \"#7201a8\"], [0.3333333333333333, \"#9c179e\"], [0.4444444444444444, \"#bd3786\"], [0.5555555555555556, \"#d8576b\"], [0.6666666666666666, \"#ed7953\"], [0.7777777777777778, \"#fb9f3a\"], [0.8888888888888888, \"#fdca26\"], [1.0, \"#f0f921\"]], \"type\": \"heatmap\"}], \"heatmapgl\": [{\"colorbar\": {\"outlinewidth\": 0, \"ticks\": \"\"}, \"colorscale\": [[0.0, \"#0d0887\"], [0.1111111111111111, \"#46039f\"], [0.2222222222222222, \"#7201a8\"], [0.3333333333333333, \"#9c179e\"], [0.4444444444444444, \"#bd3786\"], [0.5555555555555556, \"#d8576b\"], [0.6666666666666666, \"#ed7953\"], [0.7777777777777778, \"#fb9f3a\"], [0.8888888888888888, \"#fdca26\"], [1.0, \"#f0f921\"]], \"type\": \"heatmapgl\"}], \"histogram\": [{\"marker\": {\"colorbar\": {\"outlinewidth\": 0, \"ticks\": \"\"}}, \"type\": \"histogram\"}], \"histogram2d\": [{\"colorbar\": {\"outlinewidth\": 0, \"ticks\": \"\"}, \"colorscale\": [[0.0, \"#0d0887\"], [0.1111111111111111, \"#46039f\"], [0.2222222222222222, \"#7201a8\"], [0.3333333333333333, \"#9c179e\"], [0.4444444444444444, \"#bd3786\"], [0.5555555555555556, \"#d8576b\"], [0.6666666666666666, \"#ed7953\"], [0.7777777777777778, \"#fb9f3a\"], [0.8888888888888888, \"#fdca26\"], [1.0, \"#f0f921\"]], \"type\": \"histogram2d\"}], \"histogram2dcontour\": [{\"colorbar\": {\"outlinewidth\": 0, \"ticks\": \"\"}, \"colorscale\": [[0.0, \"#0d0887\"], [0.1111111111111111, \"#46039f\"], [0.2222222222222222, \"#7201a8\"], [0.3333333333333333, \"#9c179e\"], [0.4444444444444444, \"#bd3786\"], [0.5555555555555556, \"#d8576b\"], [0.6666666666666666, \"#ed7953\"], [0.7777777777777778, \"#fb9f3a\"], [0.8888888888888888, \"#fdca26\"], [1.0, \"#f0f921\"]], \"type\": \"histogram2dcontour\"}], \"mesh3d\": [{\"colorbar\": {\"outlinewidth\": 0, \"ticks\": \"\"}, \"type\": \"mesh3d\"}], \"parcoords\": [{\"line\": {\"colorbar\": {\"outlinewidth\": 0, \"ticks\": \"\"}}, \"type\": \"parcoords\"}], \"pie\": [{\"automargin\": true, \"type\": \"pie\"}], \"scatter\": [{\"marker\": {\"colorbar\": {\"outlinewidth\": 0, \"ticks\": \"\"}}, \"type\": \"scatter\"}], \"scatter3d\": [{\"line\": {\"colorbar\": {\"outlinewidth\": 0, \"ticks\": \"\"}}, \"marker\": {\"colorbar\": {\"outlinewidth\": 0, \"ticks\": \"\"}}, \"type\": \"scatter3d\"}], \"scattercarpet\": [{\"marker\": {\"colorbar\": {\"outlinewidth\": 0, \"ticks\": \"\"}}, \"type\": \"scattercarpet\"}], \"scattergeo\": [{\"marker\": {\"colorbar\": {\"outlinewidth\": 0, \"ticks\": \"\"}}, \"type\": \"scattergeo\"}], \"scattergl\": [{\"marker\": {\"colorbar\": {\"outlinewidth\": 0, \"ticks\": \"\"}}, \"type\": \"scattergl\"}], \"scattermapbox\": [{\"marker\": {\"colorbar\": {\"outlinewidth\": 0, \"ticks\": \"\"}}, \"type\": \"scattermapbox\"}], \"scatterpolar\": [{\"marker\": {\"colorbar\": {\"outlinewidth\": 0, \"ticks\": \"\"}}, \"type\": \"scatterpolar\"}], \"scatterpolargl\": [{\"marker\": {\"colorbar\": {\"outlinewidth\": 0, \"ticks\": \"\"}}, \"type\": \"scatterpolargl\"}], \"scatterternary\": [{\"marker\": {\"colorbar\": {\"outlinewidth\": 0, \"ticks\": \"\"}}, \"type\": \"scatterternary\"}], \"surface\": [{\"colorbar\": {\"outlinewidth\": 0, \"ticks\": \"\"}, \"colorscale\": [[0.0, \"#0d0887\"], [0.1111111111111111, \"#46039f\"], [0.2222222222222222, \"#7201a8\"], [0.3333333333333333, \"#9c179e\"], [0.4444444444444444, \"#bd3786\"], [0.5555555555555556, \"#d8576b\"], [0.6666666666666666, \"#ed7953\"], [0.7777777777777778, \"#fb9f3a\"], [0.8888888888888888, \"#fdca26\"], [1.0, \"#f0f921\"]], \"type\": \"surface\"}], \"table\": [{\"cells\": {\"fill\": {\"color\": \"#EBF0F8\"}, \"line\": {\"color\": \"white\"}}, \"header\": {\"fill\": {\"color\": \"#C8D4E3\"}, \"line\": {\"color\": \"white\"}}, \"type\": \"table\"}]}, \"layout\": {\"annotationdefaults\": {\"arrowcolor\": \"#2a3f5f\", \"arrowhead\": 0, \"arrowwidth\": 1}, \"coloraxis\": {\"colorbar\": {\"outlinewidth\": 0, \"ticks\": \"\"}}, \"colorscale\": {\"diverging\": [[0, \"#8e0152\"], [0.1, \"#c51b7d\"], [0.2, \"#de77ae\"], [0.3, \"#f1b6da\"], [0.4, \"#fde0ef\"], [0.5, \"#f7f7f7\"], [0.6, \"#e6f5d0\"], [0.7, \"#b8e186\"], [0.8, \"#7fbc41\"], [0.9, \"#4d9221\"], [1, \"#276419\"]], \"sequential\": [[0.0, \"#0d0887\"], [0.1111111111111111, \"#46039f\"], [0.2222222222222222, \"#7201a8\"], [0.3333333333333333, \"#9c179e\"], [0.4444444444444444, \"#bd3786\"], [0.5555555555555556, \"#d8576b\"], [0.6666666666666666, \"#ed7953\"], [0.7777777777777778, \"#fb9f3a\"], [0.8888888888888888, \"#fdca26\"], [1.0, \"#f0f921\"]], \"sequentialminus\": [[0.0, \"#0d0887\"], [0.1111111111111111, \"#46039f\"], [0.2222222222222222, \"#7201a8\"], [0.3333333333333333, \"#9c179e\"], [0.4444444444444444, \"#bd3786\"], [0.5555555555555556, \"#d8576b\"], [0.6666666666666666, \"#ed7953\"], [0.7777777777777778, \"#fb9f3a\"], [0.8888888888888888, \"#fdca26\"], [1.0, \"#f0f921\"]]}, \"colorway\": [\"#636efa\", \"#EF553B\", \"#00cc96\", \"#ab63fa\", \"#FFA15A\", \"#19d3f3\", \"#FF6692\", \"#B6E880\", \"#FF97FF\", \"#FECB52\"], \"font\": {\"color\": \"#2a3f5f\"}, \"geo\": {\"bgcolor\": \"white\", \"lakecolor\": \"white\", \"landcolor\": \"#E5ECF6\", \"showlakes\": true, \"showland\": true, \"subunitcolor\": \"white\"}, \"hoverlabel\": {\"align\": \"left\"}, \"hovermode\": \"closest\", \"mapbox\": {\"style\": \"light\"}, \"paper_bgcolor\": \"white\", \"plot_bgcolor\": \"#E5ECF6\", \"polar\": {\"angularaxis\": {\"gridcolor\": \"white\", \"linecolor\": \"white\", \"ticks\": \"\"}, \"bgcolor\": \"#E5ECF6\", \"radialaxis\": {\"gridcolor\": \"white\", \"linecolor\": \"white\", \"ticks\": \"\"}}, \"scene\": {\"xaxis\": {\"backgroundcolor\": \"#E5ECF6\", \"gridcolor\": \"white\", \"gridwidth\": 2, \"linecolor\": \"white\", \"showbackground\": true, \"ticks\": \"\", \"zerolinecolor\": \"white\"}, \"yaxis\": {\"backgroundcolor\": \"#E5ECF6\", \"gridcolor\": \"white\", \"gridwidth\": 2, \"linecolor\": \"white\", \"showbackground\": true, \"ticks\": \"\", \"zerolinecolor\": \"white\"}, \"zaxis\": {\"backgroundcolor\": \"#E5ECF6\", \"gridcolor\": \"white\", \"gridwidth\": 2, \"linecolor\": \"white\", \"showbackground\": true, \"ticks\": \"\", \"zerolinecolor\": \"white\"}}, \"shapedefaults\": {\"line\": {\"color\": \"#2a3f5f\"}}, \"ternary\": {\"aaxis\": {\"gridcolor\": \"white\", \"linecolor\": \"white\", \"ticks\": \"\"}, \"baxis\": {\"gridcolor\": \"white\", \"linecolor\": \"white\", \"ticks\": \"\"}, \"bgcolor\": \"#E5ECF6\", \"caxis\": {\"gridcolor\": \"white\", \"linecolor\": \"white\", \"ticks\": \"\"}}, \"title\": {\"x\": 0.05}, \"xaxis\": {\"automargin\": true, \"gridcolor\": \"white\", \"linecolor\": \"white\", \"ticks\": \"\", \"title\": {\"standoff\": 15}, \"zerolinecolor\": \"white\", \"zerolinewidth\": 2}, \"yaxis\": {\"automargin\": true, \"gridcolor\": \"white\", \"linecolor\": \"white\", \"ticks\": \"\", \"title\": {\"standoff\": 15}, \"zerolinecolor\": \"white\", \"zerolinewidth\": 2}}}, \"xaxis\": {\"anchor\": \"y\", \"domain\": [0.0, 1.0], \"title\": {\"text\": \"frequency\"}}, \"yaxis\": {\"anchor\": \"x\", \"domain\": [0.0, 1.0], \"title\": {\"text\": \"id\"}}},\n",
       "                        {\"responsive\": true}\n",
       "                    ).then(function(){\n",
       "                            \n",
       "var gd = document.getElementById('63c8f8f5-3a97-4e3e-aeb8-d18781b7d92e');\n",
       "var x = new MutationObserver(function (mutations, observer) {{\n",
       "        var display = window.getComputedStyle(gd).display;\n",
       "        if (!display || display === 'none') {{\n",
       "            console.log([gd, 'removed!']);\n",
       "            Plotly.purge(gd);\n",
       "            observer.disconnect();\n",
       "        }}\n",
       "}});\n",
       "\n",
       "// Listen for the removal of the full notebook cells\n",
       "var notebookContainer = gd.closest('#notebook-container');\n",
       "if (notebookContainer) {{\n",
       "    x.observe(notebookContainer, {childList: true});\n",
       "}}\n",
       "\n",
       "// Listen for the clearing of the current output cell\n",
       "var outputEl = gd.closest('.output');\n",
       "if (outputEl) {{\n",
       "    x.observe(outputEl, {childList: true});\n",
       "}}\n",
       "\n",
       "                        })\n",
       "                };\n",
       "                });\n",
       "            </script>\n",
       "        </div>"
      ]
     },
     "metadata": {},
     "output_type": "display_data"
    }
   ],
   "source": [
    "fig_bar=px.bar(df_stud_complete,x='frequency',y='id',orientation='h')\n",
    "fig_bar.show()"
   ]
  },
  {
   "cell_type": "code",
   "execution_count": 936,
   "metadata": {},
   "outputs": [
    {
     "data": {
      "application/vnd.plotly.v1+json": {
       "config": {
        "plotlyServerURL": "https://plot.ly"
       },
       "data": [
        {
         "name": "Semester1",
         "type": "bar",
         "x": [
          "Distributed Systems",
          "Electronic Communities and Social Networks",
          "Formal Specification of Software Systems",
          "Information Mining",
          "Information Engineering",
          "Internet of Things- Protocols and System Software",
          "Learning Analytics",
          "Computer Robot Vision",
          "Development of Safe and Secure Software",
          "Information Retrieval",
          "Interaktive Systeme",
          "Advanced Web Technologies",
          "Cognitive Robot Systems",
          "Advanced Image Synthesis",
          "Cloud Web & Mobile",
          "Computer Graphics",
          "Digital Games Research",
          "Peer-to-Peer Systems",
          "Recommender Systems",
          "Scientific Visualization"
         ],
         "xaxis": "x",
         "y": [
          11,
          8,
          8,
          7,
          4,
          4,
          4,
          3,
          3,
          3,
          3,
          2,
          2,
          1,
          1,
          1,
          1,
          1,
          1,
          1
         ],
         "yaxis": "y"
        },
        {
         "name": "Semester2",
         "type": "bar",
         "x": [
          "Information Retrieval",
          "Interaktive Systeme",
          "Peer-to-Peer Systems",
          "Advanced Web Technologies",
          "Gestaltung interaktiver Lehr-/Lern-Systeme",
          "Internet of Things- Protocols and System Software",
          "Recommender Systems",
          "Distributed Systems",
          "Cloud Web & Mobile",
          "Neurocomputing and Organic Computing",
          "Advanced Image Synthesis",
          "Development of Safe and Secure Software",
          "Information Engineering",
          "Cognitive Robot Systems",
          "Computer Graphics",
          "Computer Robot Vision",
          "Digital Games Research",
          "Electronic Communities and Social Networks",
          "Formal Specification of Software Systems",
          "Learning Analytics",
          "Pattern and Component based Software Development",
          "Test and Reliability of Digital Systems"
         ],
         "xaxis": "x2",
         "y": [
          9,
          7,
          6,
          5,
          5,
          5,
          5,
          4,
          3,
          3,
          2,
          2,
          2,
          1,
          1,
          1,
          1,
          1,
          1,
          1,
          1,
          1
         ],
         "yaxis": "y2"
        },
        {
         "name": "Semester3",
         "type": "bar",
         "x": [
          "Advanced Web Technologies",
          "Information Mining",
          "Cloud Web & Mobile",
          "Electronic Communities and Social Networks",
          "Information Engineering",
          "Peer-to-Peer Systems",
          "Learning Analytics",
          "Cognitive Robot Systems",
          "Computer Graphics",
          "Computer Robot Vision",
          "Gestaltung interaktiver Lehr-/Lern-Systeme",
          "Information Retrieval",
          "Internet of Things- Protocols and System Software"
         ],
         "xaxis": "x3",
         "y": [
          5,
          5,
          3,
          3,
          3,
          3,
          2,
          1,
          1,
          1,
          1,
          1,
          1
         ],
         "yaxis": "y3"
        },
        {
         "name": "Semester4",
         "type": "bar",
         "x": [
          "Gestaltung interaktiver Lehr-/Lern-Systeme",
          "Advanced Web Technologies",
          "Development of Safe and Secure Software",
          "Distributed Systems",
          "Electronic Communities and Social Networks",
          "Information Engineering",
          "Internet of Things- Protocols and System Software",
          "Natural-Language-based Human-Computer Interaction",
          "Peer-to-Peer Systems"
         ],
         "xaxis": "x4",
         "y": [
          2,
          1,
          1,
          1,
          1,
          1,
          1,
          1,
          1
         ],
         "yaxis": "y4"
        },
        {
         "name": "Other Semester",
         "type": "bar",
         "x": [
          "Recommender Systems",
          "Advanced Image Synthesis",
          "Advanced Web Technologies",
          "Development of Safe and Secure Software",
          "Distributed Systems",
          "Gestaltung interaktiver Lehr-/Lern-Systeme",
          "Information Retrieval",
          "Interaktive Systeme",
          "Internet of Things- Protocols and System Software",
          "Pattern and Component based Software Development"
         ],
         "xaxis": "x5",
         "y": [
          2,
          1,
          1,
          1,
          1,
          1,
          1,
          1,
          1,
          1
         ],
         "yaxis": "y5"
        }
       ],
       "layout": {
        "annotations": [
         {
          "font": {
           "size": 16
          },
          "showarrow": false,
          "text": "Semester 1",
          "x": 0.225,
          "xanchor": "center",
          "xref": "paper",
          "y": 1,
          "yanchor": "bottom",
          "yref": "paper"
         },
         {
          "font": {
           "size": 16
          },
          "showarrow": false,
          "text": "Semester 2",
          "x": 0.775,
          "xanchor": "center",
          "xref": "paper",
          "y": 1,
          "yanchor": "bottom",
          "yref": "paper"
         },
         {
          "font": {
           "size": 16
          },
          "showarrow": false,
          "text": "Semester 3",
          "x": 0.225,
          "xanchor": "center",
          "xref": "paper",
          "y": 0.6111111111111112,
          "yanchor": "bottom",
          "yref": "paper"
         },
         {
          "font": {
           "size": 16
          },
          "showarrow": false,
          "text": "Semester 4",
          "x": 0.775,
          "xanchor": "center",
          "xref": "paper",
          "y": 0.6111111111111112,
          "yanchor": "bottom",
          "yref": "paper"
         },
         {
          "font": {
           "size": 16
          },
          "showarrow": false,
          "text": "Other Semesters",
          "x": 0.225,
          "xanchor": "center",
          "xref": "paper",
          "y": 0.22222222222222224,
          "yanchor": "bottom",
          "yref": "paper"
         }
        ],
        "font": {
         "size": 7
        },
        "height": 2500,
        "template": {
         "data": {
          "bar": [
           {
            "error_x": {
             "color": "#2a3f5f"
            },
            "error_y": {
             "color": "#2a3f5f"
            },
            "marker": {
             "line": {
              "color": "#E5ECF6",
              "width": 0.5
             }
            },
            "type": "bar"
           }
          ],
          "barpolar": [
           {
            "marker": {
             "line": {
              "color": "#E5ECF6",
              "width": 0.5
             }
            },
            "type": "barpolar"
           }
          ],
          "carpet": [
           {
            "aaxis": {
             "endlinecolor": "#2a3f5f",
             "gridcolor": "white",
             "linecolor": "white",
             "minorgridcolor": "white",
             "startlinecolor": "#2a3f5f"
            },
            "baxis": {
             "endlinecolor": "#2a3f5f",
             "gridcolor": "white",
             "linecolor": "white",
             "minorgridcolor": "white",
             "startlinecolor": "#2a3f5f"
            },
            "type": "carpet"
           }
          ],
          "choropleth": [
           {
            "colorbar": {
             "outlinewidth": 0,
             "ticks": ""
            },
            "type": "choropleth"
           }
          ],
          "contour": [
           {
            "colorbar": {
             "outlinewidth": 0,
             "ticks": ""
            },
            "colorscale": [
             [
              0,
              "#0d0887"
             ],
             [
              0.1111111111111111,
              "#46039f"
             ],
             [
              0.2222222222222222,
              "#7201a8"
             ],
             [
              0.3333333333333333,
              "#9c179e"
             ],
             [
              0.4444444444444444,
              "#bd3786"
             ],
             [
              0.5555555555555556,
              "#d8576b"
             ],
             [
              0.6666666666666666,
              "#ed7953"
             ],
             [
              0.7777777777777778,
              "#fb9f3a"
             ],
             [
              0.8888888888888888,
              "#fdca26"
             ],
             [
              1,
              "#f0f921"
             ]
            ],
            "type": "contour"
           }
          ],
          "contourcarpet": [
           {
            "colorbar": {
             "outlinewidth": 0,
             "ticks": ""
            },
            "type": "contourcarpet"
           }
          ],
          "heatmap": [
           {
            "colorbar": {
             "outlinewidth": 0,
             "ticks": ""
            },
            "colorscale": [
             [
              0,
              "#0d0887"
             ],
             [
              0.1111111111111111,
              "#46039f"
             ],
             [
              0.2222222222222222,
              "#7201a8"
             ],
             [
              0.3333333333333333,
              "#9c179e"
             ],
             [
              0.4444444444444444,
              "#bd3786"
             ],
             [
              0.5555555555555556,
              "#d8576b"
             ],
             [
              0.6666666666666666,
              "#ed7953"
             ],
             [
              0.7777777777777778,
              "#fb9f3a"
             ],
             [
              0.8888888888888888,
              "#fdca26"
             ],
             [
              1,
              "#f0f921"
             ]
            ],
            "type": "heatmap"
           }
          ],
          "heatmapgl": [
           {
            "colorbar": {
             "outlinewidth": 0,
             "ticks": ""
            },
            "colorscale": [
             [
              0,
              "#0d0887"
             ],
             [
              0.1111111111111111,
              "#46039f"
             ],
             [
              0.2222222222222222,
              "#7201a8"
             ],
             [
              0.3333333333333333,
              "#9c179e"
             ],
             [
              0.4444444444444444,
              "#bd3786"
             ],
             [
              0.5555555555555556,
              "#d8576b"
             ],
             [
              0.6666666666666666,
              "#ed7953"
             ],
             [
              0.7777777777777778,
              "#fb9f3a"
             ],
             [
              0.8888888888888888,
              "#fdca26"
             ],
             [
              1,
              "#f0f921"
             ]
            ],
            "type": "heatmapgl"
           }
          ],
          "histogram": [
           {
            "marker": {
             "colorbar": {
              "outlinewidth": 0,
              "ticks": ""
             }
            },
            "type": "histogram"
           }
          ],
          "histogram2d": [
           {
            "colorbar": {
             "outlinewidth": 0,
             "ticks": ""
            },
            "colorscale": [
             [
              0,
              "#0d0887"
             ],
             [
              0.1111111111111111,
              "#46039f"
             ],
             [
              0.2222222222222222,
              "#7201a8"
             ],
             [
              0.3333333333333333,
              "#9c179e"
             ],
             [
              0.4444444444444444,
              "#bd3786"
             ],
             [
              0.5555555555555556,
              "#d8576b"
             ],
             [
              0.6666666666666666,
              "#ed7953"
             ],
             [
              0.7777777777777778,
              "#fb9f3a"
             ],
             [
              0.8888888888888888,
              "#fdca26"
             ],
             [
              1,
              "#f0f921"
             ]
            ],
            "type": "histogram2d"
           }
          ],
          "histogram2dcontour": [
           {
            "colorbar": {
             "outlinewidth": 0,
             "ticks": ""
            },
            "colorscale": [
             [
              0,
              "#0d0887"
             ],
             [
              0.1111111111111111,
              "#46039f"
             ],
             [
              0.2222222222222222,
              "#7201a8"
             ],
             [
              0.3333333333333333,
              "#9c179e"
             ],
             [
              0.4444444444444444,
              "#bd3786"
             ],
             [
              0.5555555555555556,
              "#d8576b"
             ],
             [
              0.6666666666666666,
              "#ed7953"
             ],
             [
              0.7777777777777778,
              "#fb9f3a"
             ],
             [
              0.8888888888888888,
              "#fdca26"
             ],
             [
              1,
              "#f0f921"
             ]
            ],
            "type": "histogram2dcontour"
           }
          ],
          "mesh3d": [
           {
            "colorbar": {
             "outlinewidth": 0,
             "ticks": ""
            },
            "type": "mesh3d"
           }
          ],
          "parcoords": [
           {
            "line": {
             "colorbar": {
              "outlinewidth": 0,
              "ticks": ""
             }
            },
            "type": "parcoords"
           }
          ],
          "pie": [
           {
            "automargin": true,
            "type": "pie"
           }
          ],
          "scatter": [
           {
            "marker": {
             "colorbar": {
              "outlinewidth": 0,
              "ticks": ""
             }
            },
            "type": "scatter"
           }
          ],
          "scatter3d": [
           {
            "line": {
             "colorbar": {
              "outlinewidth": 0,
              "ticks": ""
             }
            },
            "marker": {
             "colorbar": {
              "outlinewidth": 0,
              "ticks": ""
             }
            },
            "type": "scatter3d"
           }
          ],
          "scattercarpet": [
           {
            "marker": {
             "colorbar": {
              "outlinewidth": 0,
              "ticks": ""
             }
            },
            "type": "scattercarpet"
           }
          ],
          "scattergeo": [
           {
            "marker": {
             "colorbar": {
              "outlinewidth": 0,
              "ticks": ""
             }
            },
            "type": "scattergeo"
           }
          ],
          "scattergl": [
           {
            "marker": {
             "colorbar": {
              "outlinewidth": 0,
              "ticks": ""
             }
            },
            "type": "scattergl"
           }
          ],
          "scattermapbox": [
           {
            "marker": {
             "colorbar": {
              "outlinewidth": 0,
              "ticks": ""
             }
            },
            "type": "scattermapbox"
           }
          ],
          "scatterpolar": [
           {
            "marker": {
             "colorbar": {
              "outlinewidth": 0,
              "ticks": ""
             }
            },
            "type": "scatterpolar"
           }
          ],
          "scatterpolargl": [
           {
            "marker": {
             "colorbar": {
              "outlinewidth": 0,
              "ticks": ""
             }
            },
            "type": "scatterpolargl"
           }
          ],
          "scatterternary": [
           {
            "marker": {
             "colorbar": {
              "outlinewidth": 0,
              "ticks": ""
             }
            },
            "type": "scatterternary"
           }
          ],
          "surface": [
           {
            "colorbar": {
             "outlinewidth": 0,
             "ticks": ""
            },
            "colorscale": [
             [
              0,
              "#0d0887"
             ],
             [
              0.1111111111111111,
              "#46039f"
             ],
             [
              0.2222222222222222,
              "#7201a8"
             ],
             [
              0.3333333333333333,
              "#9c179e"
             ],
             [
              0.4444444444444444,
              "#bd3786"
             ],
             [
              0.5555555555555556,
              "#d8576b"
             ],
             [
              0.6666666666666666,
              "#ed7953"
             ],
             [
              0.7777777777777778,
              "#fb9f3a"
             ],
             [
              0.8888888888888888,
              "#fdca26"
             ],
             [
              1,
              "#f0f921"
             ]
            ],
            "type": "surface"
           }
          ],
          "table": [
           {
            "cells": {
             "fill": {
              "color": "#EBF0F8"
             },
             "line": {
              "color": "white"
             }
            },
            "header": {
             "fill": {
              "color": "#C8D4E3"
             },
             "line": {
              "color": "white"
             }
            },
            "type": "table"
           }
          ]
         },
         "layout": {
          "annotationdefaults": {
           "arrowcolor": "#2a3f5f",
           "arrowhead": 0,
           "arrowwidth": 1
          },
          "coloraxis": {
           "colorbar": {
            "outlinewidth": 0,
            "ticks": ""
           }
          },
          "colorscale": {
           "diverging": [
            [
             0,
             "#8e0152"
            ],
            [
             0.1,
             "#c51b7d"
            ],
            [
             0.2,
             "#de77ae"
            ],
            [
             0.3,
             "#f1b6da"
            ],
            [
             0.4,
             "#fde0ef"
            ],
            [
             0.5,
             "#f7f7f7"
            ],
            [
             0.6,
             "#e6f5d0"
            ],
            [
             0.7,
             "#b8e186"
            ],
            [
             0.8,
             "#7fbc41"
            ],
            [
             0.9,
             "#4d9221"
            ],
            [
             1,
             "#276419"
            ]
           ],
           "sequential": [
            [
             0,
             "#0d0887"
            ],
            [
             0.1111111111111111,
             "#46039f"
            ],
            [
             0.2222222222222222,
             "#7201a8"
            ],
            [
             0.3333333333333333,
             "#9c179e"
            ],
            [
             0.4444444444444444,
             "#bd3786"
            ],
            [
             0.5555555555555556,
             "#d8576b"
            ],
            [
             0.6666666666666666,
             "#ed7953"
            ],
            [
             0.7777777777777778,
             "#fb9f3a"
            ],
            [
             0.8888888888888888,
             "#fdca26"
            ],
            [
             1,
             "#f0f921"
            ]
           ],
           "sequentialminus": [
            [
             0,
             "#0d0887"
            ],
            [
             0.1111111111111111,
             "#46039f"
            ],
            [
             0.2222222222222222,
             "#7201a8"
            ],
            [
             0.3333333333333333,
             "#9c179e"
            ],
            [
             0.4444444444444444,
             "#bd3786"
            ],
            [
             0.5555555555555556,
             "#d8576b"
            ],
            [
             0.6666666666666666,
             "#ed7953"
            ],
            [
             0.7777777777777778,
             "#fb9f3a"
            ],
            [
             0.8888888888888888,
             "#fdca26"
            ],
            [
             1,
             "#f0f921"
            ]
           ]
          },
          "colorway": [
           "#636efa",
           "#EF553B",
           "#00cc96",
           "#ab63fa",
           "#FFA15A",
           "#19d3f3",
           "#FF6692",
           "#B6E880",
           "#FF97FF",
           "#FECB52"
          ],
          "font": {
           "color": "#2a3f5f"
          },
          "geo": {
           "bgcolor": "white",
           "lakecolor": "white",
           "landcolor": "#E5ECF6",
           "showlakes": true,
           "showland": true,
           "subunitcolor": "white"
          },
          "hoverlabel": {
           "align": "left"
          },
          "hovermode": "closest",
          "mapbox": {
           "style": "light"
          },
          "paper_bgcolor": "white",
          "plot_bgcolor": "#E5ECF6",
          "polar": {
           "angularaxis": {
            "gridcolor": "white",
            "linecolor": "white",
            "ticks": ""
           },
           "bgcolor": "#E5ECF6",
           "radialaxis": {
            "gridcolor": "white",
            "linecolor": "white",
            "ticks": ""
           }
          },
          "scene": {
           "xaxis": {
            "backgroundcolor": "#E5ECF6",
            "gridcolor": "white",
            "gridwidth": 2,
            "linecolor": "white",
            "showbackground": true,
            "ticks": "",
            "zerolinecolor": "white"
           },
           "yaxis": {
            "backgroundcolor": "#E5ECF6",
            "gridcolor": "white",
            "gridwidth": 2,
            "linecolor": "white",
            "showbackground": true,
            "ticks": "",
            "zerolinecolor": "white"
           },
           "zaxis": {
            "backgroundcolor": "#E5ECF6",
            "gridcolor": "white",
            "gridwidth": 2,
            "linecolor": "white",
            "showbackground": true,
            "ticks": "",
            "zerolinecolor": "white"
           }
          },
          "shapedefaults": {
           "line": {
            "color": "#2a3f5f"
           }
          },
          "ternary": {
           "aaxis": {
            "gridcolor": "white",
            "linecolor": "white",
            "ticks": ""
           },
           "baxis": {
            "gridcolor": "white",
            "linecolor": "white",
            "ticks": ""
           },
           "bgcolor": "#E5ECF6",
           "caxis": {
            "gridcolor": "white",
            "linecolor": "white",
            "ticks": ""
           }
          },
          "title": {
           "x": 0.05
          },
          "xaxis": {
           "automargin": true,
           "gridcolor": "white",
           "linecolor": "white",
           "ticks": "",
           "title": {
            "standoff": 15
           },
           "zerolinecolor": "white",
           "zerolinewidth": 2
          },
          "yaxis": {
           "automargin": true,
           "gridcolor": "white",
           "linecolor": "white",
           "ticks": "",
           "title": {
            "standoff": 15
           },
           "zerolinecolor": "white",
           "zerolinewidth": 2
          }
         }
        },
        "title": {
         "text": "Semester Wise Courses Count"
        },
        "width": 600,
        "xaxis": {
         "anchor": "y",
         "domain": [
          0,
          0.45
         ]
        },
        "xaxis2": {
         "anchor": "y2",
         "domain": [
          0.55,
          1
         ]
        },
        "xaxis3": {
         "anchor": "y3",
         "domain": [
          0,
          0.45
         ]
        },
        "xaxis4": {
         "anchor": "y4",
         "domain": [
          0.55,
          1
         ]
        },
        "xaxis5": {
         "anchor": "y5",
         "domain": [
          0,
          0.45
         ]
        },
        "xaxis6": {
         "anchor": "y6",
         "domain": [
          0.55,
          1
         ]
        },
        "yaxis": {
         "anchor": "x",
         "domain": [
          0.7777777777777778,
          1
         ]
        },
        "yaxis2": {
         "anchor": "x2",
         "domain": [
          0.7777777777777778,
          1
         ]
        },
        "yaxis3": {
         "anchor": "x3",
         "domain": [
          0.3888888888888889,
          0.6111111111111112
         ]
        },
        "yaxis4": {
         "anchor": "x4",
         "domain": [
          0.3888888888888889,
          0.6111111111111112
         ]
        },
        "yaxis5": {
         "anchor": "x5",
         "domain": [
          0,
          0.22222222222222224
         ]
        },
        "yaxis6": {
         "anchor": "x6",
         "domain": [
          0,
          0.22222222222222224
         ]
        }
       }
      },
      "text/html": [
       "<div>\n",
       "        \n",
       "        \n",
       "            <div id=\"687debc7-0f24-4e49-99d4-53c628087792\" class=\"plotly-graph-div\" style=\"height:2500px; width:600px;\"></div>\n",
       "            <script type=\"text/javascript\">\n",
       "                require([\"plotly\"], function(Plotly) {\n",
       "                    window.PLOTLYENV=window.PLOTLYENV || {};\n",
       "                    \n",
       "                if (document.getElementById(\"687debc7-0f24-4e49-99d4-53c628087792\")) {\n",
       "                    Plotly.newPlot(\n",
       "                        '687debc7-0f24-4e49-99d4-53c628087792',\n",
       "                        [{\"name\": \"Semester1\", \"type\": \"bar\", \"x\": [\"Distributed Systems\", \"Electronic Communities and Social Networks\", \"Formal Specification of Software Systems\", \"Information Mining\", \"Information Engineering\", \"Internet of Things- Protocols and System Software\", \"Learning Analytics\", \"Computer Robot Vision\", \"Development of Safe and Secure Software\", \"Information Retrieval\", \"Interaktive Systeme\", \"Advanced Web Technologies\", \"Cognitive Robot Systems\", \"Advanced Image Synthesis\", \"Cloud Web & Mobile\", \"Computer Graphics\", \"Digital Games Research\", \"Peer-to-Peer Systems\", \"Recommender Systems\", \"Scientific Visualization\"], \"xaxis\": \"x\", \"y\": [11, 8, 8, 7, 4, 4, 4, 3, 3, 3, 3, 2, 2, 1, 1, 1, 1, 1, 1, 1], \"yaxis\": \"y\"}, {\"name\": \"Semester2\", \"type\": \"bar\", \"x\": [\"Information Retrieval\", \"Interaktive Systeme\", \"Peer-to-Peer Systems\", \"Advanced Web Technologies\", \"Gestaltung interaktiver Lehr-/Lern-Systeme\", \"Internet of Things- Protocols and System Software\", \"Recommender Systems\", \"Distributed Systems\", \"Cloud Web & Mobile\", \"Neurocomputing and Organic Computing\", \"Advanced Image Synthesis\", \"Development of Safe and Secure Software\", \"Information Engineering\", \"Cognitive Robot Systems\", \"Computer Graphics\", \"Computer Robot Vision\", \"Digital Games Research\", \"Electronic Communities and Social Networks\", \"Formal Specification of Software Systems\", \"Learning Analytics\", \"Pattern and Component based Software Development\", \"Test and Reliability of Digital Systems\"], \"xaxis\": \"x2\", \"y\": [9, 7, 6, 5, 5, 5, 5, 4, 3, 3, 2, 2, 2, 1, 1, 1, 1, 1, 1, 1, 1, 1], \"yaxis\": \"y2\"}, {\"name\": \"Semester3\", \"type\": \"bar\", \"x\": [\"Advanced Web Technologies\", \"Information Mining\", \"Cloud Web & Mobile\", \"Electronic Communities and Social Networks\", \"Information Engineering\", \"Peer-to-Peer Systems\", \"Learning Analytics\", \"Cognitive Robot Systems\", \"Computer Graphics\", \"Computer Robot Vision\", \"Gestaltung interaktiver Lehr-/Lern-Systeme\", \"Information Retrieval\", \"Internet of Things- Protocols and System Software\"], \"xaxis\": \"x3\", \"y\": [5, 5, 3, 3, 3, 3, 2, 1, 1, 1, 1, 1, 1], \"yaxis\": \"y3\"}, {\"name\": \"Semester4\", \"type\": \"bar\", \"x\": [\"Gestaltung interaktiver Lehr-/Lern-Systeme\", \"Advanced Web Technologies\", \"Development of Safe and Secure Software\", \"Distributed Systems\", \"Electronic Communities and Social Networks\", \"Information Engineering\", \"Internet of Things- Protocols and System Software\", \"Natural-Language-based Human-Computer Interaction\", \"Peer-to-Peer Systems\"], \"xaxis\": \"x4\", \"y\": [2, 1, 1, 1, 1, 1, 1, 1, 1], \"yaxis\": \"y4\"}, {\"name\": \"Other Semester\", \"type\": \"bar\", \"x\": [\"Recommender Systems\", \"Advanced Image Synthesis\", \"Advanced Web Technologies\", \"Development of Safe and Secure Software\", \"Distributed Systems\", \"Gestaltung interaktiver Lehr-/Lern-Systeme\", \"Information Retrieval\", \"Interaktive Systeme\", \"Internet of Things- Protocols and System Software\", \"Pattern and Component based Software Development\"], \"xaxis\": \"x5\", \"y\": [2, 1, 1, 1, 1, 1, 1, 1, 1, 1], \"yaxis\": \"y5\"}],\n",
       "                        {\"annotations\": [{\"font\": {\"size\": 16}, \"showarrow\": false, \"text\": \"Semester 1\", \"x\": 0.225, \"xanchor\": \"center\", \"xref\": \"paper\", \"y\": 1.0, \"yanchor\": \"bottom\", \"yref\": \"paper\"}, {\"font\": {\"size\": 16}, \"showarrow\": false, \"text\": \"Semester 2\", \"x\": 0.775, \"xanchor\": \"center\", \"xref\": \"paper\", \"y\": 1.0, \"yanchor\": \"bottom\", \"yref\": \"paper\"}, {\"font\": {\"size\": 16}, \"showarrow\": false, \"text\": \"Semester 3\", \"x\": 0.225, \"xanchor\": \"center\", \"xref\": \"paper\", \"y\": 0.6111111111111112, \"yanchor\": \"bottom\", \"yref\": \"paper\"}, {\"font\": {\"size\": 16}, \"showarrow\": false, \"text\": \"Semester 4\", \"x\": 0.775, \"xanchor\": \"center\", \"xref\": \"paper\", \"y\": 0.6111111111111112, \"yanchor\": \"bottom\", \"yref\": \"paper\"}, {\"font\": {\"size\": 16}, \"showarrow\": false, \"text\": \"Other Semesters\", \"x\": 0.225, \"xanchor\": \"center\", \"xref\": \"paper\", \"y\": 0.22222222222222224, \"yanchor\": \"bottom\", \"yref\": \"paper\"}], \"font\": {\"size\": 7}, \"height\": 2500, \"template\": {\"data\": {\"bar\": [{\"error_x\": {\"color\": \"#2a3f5f\"}, \"error_y\": {\"color\": \"#2a3f5f\"}, \"marker\": {\"line\": {\"color\": \"#E5ECF6\", \"width\": 0.5}}, \"type\": \"bar\"}], \"barpolar\": [{\"marker\": {\"line\": {\"color\": \"#E5ECF6\", \"width\": 0.5}}, \"type\": \"barpolar\"}], \"carpet\": [{\"aaxis\": {\"endlinecolor\": \"#2a3f5f\", \"gridcolor\": \"white\", \"linecolor\": \"white\", \"minorgridcolor\": \"white\", \"startlinecolor\": \"#2a3f5f\"}, \"baxis\": {\"endlinecolor\": \"#2a3f5f\", \"gridcolor\": \"white\", \"linecolor\": \"white\", \"minorgridcolor\": \"white\", \"startlinecolor\": \"#2a3f5f\"}, \"type\": \"carpet\"}], \"choropleth\": [{\"colorbar\": {\"outlinewidth\": 0, \"ticks\": \"\"}, \"type\": \"choropleth\"}], \"contour\": [{\"colorbar\": {\"outlinewidth\": 0, \"ticks\": \"\"}, \"colorscale\": [[0.0, \"#0d0887\"], [0.1111111111111111, \"#46039f\"], [0.2222222222222222, \"#7201a8\"], [0.3333333333333333, \"#9c179e\"], [0.4444444444444444, \"#bd3786\"], [0.5555555555555556, \"#d8576b\"], [0.6666666666666666, \"#ed7953\"], [0.7777777777777778, \"#fb9f3a\"], [0.8888888888888888, \"#fdca26\"], [1.0, \"#f0f921\"]], \"type\": \"contour\"}], \"contourcarpet\": [{\"colorbar\": {\"outlinewidth\": 0, \"ticks\": \"\"}, \"type\": \"contourcarpet\"}], \"heatmap\": [{\"colorbar\": {\"outlinewidth\": 0, \"ticks\": \"\"}, \"colorscale\": [[0.0, \"#0d0887\"], [0.1111111111111111, \"#46039f\"], [0.2222222222222222, \"#7201a8\"], [0.3333333333333333, \"#9c179e\"], [0.4444444444444444, \"#bd3786\"], [0.5555555555555556, \"#d8576b\"], [0.6666666666666666, \"#ed7953\"], [0.7777777777777778, \"#fb9f3a\"], [0.8888888888888888, \"#fdca26\"], [1.0, \"#f0f921\"]], \"type\": \"heatmap\"}], \"heatmapgl\": [{\"colorbar\": {\"outlinewidth\": 0, \"ticks\": \"\"}, \"colorscale\": [[0.0, \"#0d0887\"], [0.1111111111111111, \"#46039f\"], [0.2222222222222222, \"#7201a8\"], [0.3333333333333333, \"#9c179e\"], [0.4444444444444444, \"#bd3786\"], [0.5555555555555556, \"#d8576b\"], [0.6666666666666666, \"#ed7953\"], [0.7777777777777778, \"#fb9f3a\"], [0.8888888888888888, \"#fdca26\"], [1.0, \"#f0f921\"]], \"type\": \"heatmapgl\"}], \"histogram\": [{\"marker\": {\"colorbar\": {\"outlinewidth\": 0, \"ticks\": \"\"}}, \"type\": \"histogram\"}], \"histogram2d\": [{\"colorbar\": {\"outlinewidth\": 0, \"ticks\": \"\"}, \"colorscale\": [[0.0, \"#0d0887\"], [0.1111111111111111, \"#46039f\"], [0.2222222222222222, \"#7201a8\"], [0.3333333333333333, \"#9c179e\"], [0.4444444444444444, \"#bd3786\"], [0.5555555555555556, \"#d8576b\"], [0.6666666666666666, \"#ed7953\"], [0.7777777777777778, \"#fb9f3a\"], [0.8888888888888888, \"#fdca26\"], [1.0, \"#f0f921\"]], \"type\": \"histogram2d\"}], \"histogram2dcontour\": [{\"colorbar\": {\"outlinewidth\": 0, \"ticks\": \"\"}, \"colorscale\": [[0.0, \"#0d0887\"], [0.1111111111111111, \"#46039f\"], [0.2222222222222222, \"#7201a8\"], [0.3333333333333333, \"#9c179e\"], [0.4444444444444444, \"#bd3786\"], [0.5555555555555556, \"#d8576b\"], [0.6666666666666666, \"#ed7953\"], [0.7777777777777778, \"#fb9f3a\"], [0.8888888888888888, \"#fdca26\"], [1.0, \"#f0f921\"]], \"type\": \"histogram2dcontour\"}], \"mesh3d\": [{\"colorbar\": {\"outlinewidth\": 0, \"ticks\": \"\"}, \"type\": \"mesh3d\"}], \"parcoords\": [{\"line\": {\"colorbar\": {\"outlinewidth\": 0, \"ticks\": \"\"}}, \"type\": \"parcoords\"}], \"pie\": [{\"automargin\": true, \"type\": \"pie\"}], \"scatter\": [{\"marker\": {\"colorbar\": {\"outlinewidth\": 0, \"ticks\": \"\"}}, \"type\": \"scatter\"}], \"scatter3d\": [{\"line\": {\"colorbar\": {\"outlinewidth\": 0, \"ticks\": \"\"}}, \"marker\": {\"colorbar\": {\"outlinewidth\": 0, \"ticks\": \"\"}}, \"type\": \"scatter3d\"}], \"scattercarpet\": [{\"marker\": {\"colorbar\": {\"outlinewidth\": 0, \"ticks\": \"\"}}, \"type\": \"scattercarpet\"}], \"scattergeo\": [{\"marker\": {\"colorbar\": {\"outlinewidth\": 0, \"ticks\": \"\"}}, \"type\": \"scattergeo\"}], \"scattergl\": [{\"marker\": {\"colorbar\": {\"outlinewidth\": 0, \"ticks\": \"\"}}, \"type\": \"scattergl\"}], \"scattermapbox\": [{\"marker\": {\"colorbar\": {\"outlinewidth\": 0, \"ticks\": \"\"}}, \"type\": \"scattermapbox\"}], \"scatterpolar\": [{\"marker\": {\"colorbar\": {\"outlinewidth\": 0, \"ticks\": \"\"}}, \"type\": \"scatterpolar\"}], \"scatterpolargl\": [{\"marker\": {\"colorbar\": {\"outlinewidth\": 0, \"ticks\": \"\"}}, \"type\": \"scatterpolargl\"}], \"scatterternary\": [{\"marker\": {\"colorbar\": {\"outlinewidth\": 0, \"ticks\": \"\"}}, \"type\": \"scatterternary\"}], \"surface\": [{\"colorbar\": {\"outlinewidth\": 0, \"ticks\": \"\"}, \"colorscale\": [[0.0, \"#0d0887\"], [0.1111111111111111, \"#46039f\"], [0.2222222222222222, \"#7201a8\"], [0.3333333333333333, \"#9c179e\"], [0.4444444444444444, \"#bd3786\"], [0.5555555555555556, \"#d8576b\"], [0.6666666666666666, \"#ed7953\"], [0.7777777777777778, \"#fb9f3a\"], [0.8888888888888888, \"#fdca26\"], [1.0, \"#f0f921\"]], \"type\": \"surface\"}], \"table\": [{\"cells\": {\"fill\": {\"color\": \"#EBF0F8\"}, \"line\": {\"color\": \"white\"}}, \"header\": {\"fill\": {\"color\": \"#C8D4E3\"}, \"line\": {\"color\": \"white\"}}, \"type\": \"table\"}]}, \"layout\": {\"annotationdefaults\": {\"arrowcolor\": \"#2a3f5f\", \"arrowhead\": 0, \"arrowwidth\": 1}, \"coloraxis\": {\"colorbar\": {\"outlinewidth\": 0, \"ticks\": \"\"}}, \"colorscale\": {\"diverging\": [[0, \"#8e0152\"], [0.1, \"#c51b7d\"], [0.2, \"#de77ae\"], [0.3, \"#f1b6da\"], [0.4, \"#fde0ef\"], [0.5, \"#f7f7f7\"], [0.6, \"#e6f5d0\"], [0.7, \"#b8e186\"], [0.8, \"#7fbc41\"], [0.9, \"#4d9221\"], [1, \"#276419\"]], \"sequential\": [[0.0, \"#0d0887\"], [0.1111111111111111, \"#46039f\"], [0.2222222222222222, \"#7201a8\"], [0.3333333333333333, \"#9c179e\"], [0.4444444444444444, \"#bd3786\"], [0.5555555555555556, \"#d8576b\"], [0.6666666666666666, \"#ed7953\"], [0.7777777777777778, \"#fb9f3a\"], [0.8888888888888888, \"#fdca26\"], [1.0, \"#f0f921\"]], \"sequentialminus\": [[0.0, \"#0d0887\"], [0.1111111111111111, \"#46039f\"], [0.2222222222222222, \"#7201a8\"], [0.3333333333333333, \"#9c179e\"], [0.4444444444444444, \"#bd3786\"], [0.5555555555555556, \"#d8576b\"], [0.6666666666666666, \"#ed7953\"], [0.7777777777777778, \"#fb9f3a\"], [0.8888888888888888, \"#fdca26\"], [1.0, \"#f0f921\"]]}, \"colorway\": [\"#636efa\", \"#EF553B\", \"#00cc96\", \"#ab63fa\", \"#FFA15A\", \"#19d3f3\", \"#FF6692\", \"#B6E880\", \"#FF97FF\", \"#FECB52\"], \"font\": {\"color\": \"#2a3f5f\"}, \"geo\": {\"bgcolor\": \"white\", \"lakecolor\": \"white\", \"landcolor\": \"#E5ECF6\", \"showlakes\": true, \"showland\": true, \"subunitcolor\": \"white\"}, \"hoverlabel\": {\"align\": \"left\"}, \"hovermode\": \"closest\", \"mapbox\": {\"style\": \"light\"}, \"paper_bgcolor\": \"white\", \"plot_bgcolor\": \"#E5ECF6\", \"polar\": {\"angularaxis\": {\"gridcolor\": \"white\", \"linecolor\": \"white\", \"ticks\": \"\"}, \"bgcolor\": \"#E5ECF6\", \"radialaxis\": {\"gridcolor\": \"white\", \"linecolor\": \"white\", \"ticks\": \"\"}}, \"scene\": {\"xaxis\": {\"backgroundcolor\": \"#E5ECF6\", \"gridcolor\": \"white\", \"gridwidth\": 2, \"linecolor\": \"white\", \"showbackground\": true, \"ticks\": \"\", \"zerolinecolor\": \"white\"}, \"yaxis\": {\"backgroundcolor\": \"#E5ECF6\", \"gridcolor\": \"white\", \"gridwidth\": 2, \"linecolor\": \"white\", \"showbackground\": true, \"ticks\": \"\", \"zerolinecolor\": \"white\"}, \"zaxis\": {\"backgroundcolor\": \"#E5ECF6\", \"gridcolor\": \"white\", \"gridwidth\": 2, \"linecolor\": \"white\", \"showbackground\": true, \"ticks\": \"\", \"zerolinecolor\": \"white\"}}, \"shapedefaults\": {\"line\": {\"color\": \"#2a3f5f\"}}, \"ternary\": {\"aaxis\": {\"gridcolor\": \"white\", \"linecolor\": \"white\", \"ticks\": \"\"}, \"baxis\": {\"gridcolor\": \"white\", \"linecolor\": \"white\", \"ticks\": \"\"}, \"bgcolor\": \"#E5ECF6\", \"caxis\": {\"gridcolor\": \"white\", \"linecolor\": \"white\", \"ticks\": \"\"}}, \"title\": {\"x\": 0.05}, \"xaxis\": {\"automargin\": true, \"gridcolor\": \"white\", \"linecolor\": \"white\", \"ticks\": \"\", \"title\": {\"standoff\": 15}, \"zerolinecolor\": \"white\", \"zerolinewidth\": 2}, \"yaxis\": {\"automargin\": true, \"gridcolor\": \"white\", \"linecolor\": \"white\", \"ticks\": \"\", \"title\": {\"standoff\": 15}, \"zerolinecolor\": \"white\", \"zerolinewidth\": 2}}}, \"title\": {\"text\": \"Semester Wise Courses Count\"}, \"width\": 600, \"xaxis\": {\"anchor\": \"y\", \"domain\": [0.0, 0.45]}, \"xaxis2\": {\"anchor\": \"y2\", \"domain\": [0.55, 1.0]}, \"xaxis3\": {\"anchor\": \"y3\", \"domain\": [0.0, 0.45]}, \"xaxis4\": {\"anchor\": \"y4\", \"domain\": [0.55, 1.0]}, \"xaxis5\": {\"anchor\": \"y5\", \"domain\": [0.0, 0.45]}, \"xaxis6\": {\"anchor\": \"y6\", \"domain\": [0.55, 1.0]}, \"yaxis\": {\"anchor\": \"x\", \"domain\": [0.7777777777777778, 1.0]}, \"yaxis2\": {\"anchor\": \"x2\", \"domain\": [0.7777777777777778, 1.0]}, \"yaxis3\": {\"anchor\": \"x3\", \"domain\": [0.3888888888888889, 0.6111111111111112]}, \"yaxis4\": {\"anchor\": \"x4\", \"domain\": [0.3888888888888889, 0.6111111111111112]}, \"yaxis5\": {\"anchor\": \"x5\", \"domain\": [0.0, 0.22222222222222224]}, \"yaxis6\": {\"anchor\": \"x6\", \"domain\": [0.0, 0.22222222222222224]}},\n",
       "                        {\"responsive\": true}\n",
       "                    ).then(function(){\n",
       "                            \n",
       "var gd = document.getElementById('687debc7-0f24-4e49-99d4-53c628087792');\n",
       "var x = new MutationObserver(function (mutations, observer) {{\n",
       "        var display = window.getComputedStyle(gd).display;\n",
       "        if (!display || display === 'none') {{\n",
       "            console.log([gd, 'removed!']);\n",
       "            Plotly.purge(gd);\n",
       "            observer.disconnect();\n",
       "        }}\n",
       "}});\n",
       "\n",
       "// Listen for the removal of the full notebook cells\n",
       "var notebookContainer = gd.closest('#notebook-container');\n",
       "if (notebookContainer) {{\n",
       "    x.observe(notebookContainer, {childList: true});\n",
       "}}\n",
       "\n",
       "// Listen for the clearing of the current output cell\n",
       "var outputEl = gd.closest('.output');\n",
       "if (outputEl) {{\n",
       "    x.observe(outputEl, {childList: true});\n",
       "}}\n",
       "\n",
       "                        })\n",
       "                };\n",
       "                });\n",
       "            </script>\n",
       "        </div>"
      ]
     },
     "metadata": {},
     "output_type": "display_data"
    }
   ],
   "source": [
    "fig_sem = make_subplots(rows=3, cols=2,subplot_titles=(\"Semester 1\", \"Semester 2\", \"Semester 3\", \"Semester 4\",\"Other Semesters\"))\n",
    "\n",
    "fig_sem.add_trace(go.Bar(x=sem11, y=sem12,name='Semester1'),\n",
    "              row=1, col=1)\n",
    "\n",
    "fig_sem.add_trace(go.Bar(x=sem21, y=sem22,name='Semester2'),\n",
    "              row=1, col=2)\n",
    "fig_sem.add_trace(go.Bar(x=sem31, y=sem32,name='Semester3'),\n",
    "              row=2, col=1)\n",
    "fig_sem.add_trace(go.Bar(x=sem41, y=sem42,name='Semester4'),\n",
    "              row=2, col=2)\n",
    "fig_sem.add_trace(go.Bar(x=semo1, y=semo2,name='Other Semester'),\n",
    "              row=3, col=1)\n",
    "fig_sem.update_layout(height=2500, width=600,\n",
    "                  title_text=\"Semester Wise Courses Count\",font=dict(size=7))"
   ]
  },
  {
   "cell_type": "code",
   "execution_count": 937,
   "metadata": {},
   "outputs": [
    {
     "data": {
      "application/vnd.plotly.v1+json": {
       "config": {
        "plotlyServerURL": "https://plot.ly"
       },
       "data": [
        {
         "name": "Grade A",
         "type": "bar",
         "x": [
          "Interaktive Systeme",
          "Information Retrieval",
          "Advanced Web Technologies",
          "Information Mining",
          "Electronic Communities and Social Networks",
          "Gestaltung interaktiver Lehr-/Lern-Systeme",
          "Learning Analytics",
          "Recommender Systems"
         ],
         "xaxis": "x",
         "y": [
          5,
          3,
          2,
          2,
          1,
          1,
          1,
          1
         ],
         "yaxis": "y"
        },
        {
         "name": "Grade B",
         "type": "bar",
         "x": [
          "Advanced Web Technologies",
          "Distributed Systems",
          "Peer-to-Peer Systems",
          "Electronic Communities and Social Networks",
          "Gestaltung interaktiver Lehr-/Lern-Systeme",
          "Information Retrieval",
          "Information Mining",
          "Interaktive Systeme",
          "Internet of Things- Protocols and System Software",
          "Learning Analytics",
          "Recommender Systems",
          "Advanced Image Synthesis",
          "Cloud Web & Mobile",
          "Development of Safe and Secure Software",
          "Information Engineering",
          "Natural-Language-based Human-Computer Interaction",
          "Neurocomputing and Organic Computing",
          "Pattern and Component based Software Development"
         ],
         "xaxis": "x2",
         "y": [
          6,
          5,
          5,
          3,
          3,
          3,
          2,
          2,
          2,
          2,
          2,
          1,
          1,
          1,
          1,
          1,
          1,
          1
         ],
         "yaxis": "y2"
        },
        {
         "name": "Grade C",
         "type": "bar",
         "x": [
          "Electronic Communities and Social Networks",
          "Internet of Things- Protocols and System Software",
          "Cloud Web & Mobile",
          "Information Engineering",
          "Information Retrieval",
          "Advanced Web Technologies",
          "Distributed Systems",
          "Cognitive Robot Systems",
          "Development of Safe and Secure Software",
          "Interaktive Systeme",
          "Computer Robot Vision",
          "Digital Games Research",
          "Formal Specification of Software Systems",
          "Gestaltung interaktiver Lehr-/Lern-Systeme",
          "Peer-to-Peer Systems",
          "Recommender Systems",
          "Advanced Image Synthesis",
          "Information Mining",
          "Learning Analytics",
          "Neurocomputing and Organic Computing"
         ],
         "xaxis": "x3",
         "y": [
          7,
          7,
          6,
          6,
          6,
          4,
          4,
          3,
          3,
          3,
          2,
          2,
          2,
          2,
          2,
          2,
          1,
          1,
          1,
          1
         ],
         "yaxis": "y3"
        },
        {
         "name": "Grade D",
         "type": "bar",
         "x": [
          "Distributed Systems",
          "Information Mining",
          "Gestaltung interaktiver Lehr-/Lern-Systeme",
          "Information Engineering",
          "Advanced Web Technologies",
          "Information Retrieval",
          "Internet of Things- Protocols and System Software",
          "Peer-to-Peer Systems",
          "Recommender Systems",
          "Computer Graphics",
          "Development of Safe and Secure Software",
          "Electronic Communities and Social Networks",
          "Formal Specification of Software Systems",
          "Interaktive Systeme",
          "Learning Analytics",
          "Pattern and Component based Software Development"
         ],
         "xaxis": "x4",
         "y": [
          5,
          5,
          3,
          3,
          2,
          2,
          2,
          2,
          2,
          1,
          1,
          1,
          1,
          1,
          1,
          1
         ],
         "yaxis": "y4"
        },
        {
         "name": "Grade E",
         "type": "bar",
         "x": [
          "Formal Specification of Software Systems",
          "Peer-to-Peer Systems",
          "Computer Graphics",
          "Development of Safe and Secure Software",
          "Distributed Systems",
          "Internet of Things- Protocols and System Software",
          "Neurocomputing and Organic Computing",
          "Scientific Visualization"
         ],
         "xaxis": "x5",
         "y": [
          2,
          2,
          1,
          1,
          1,
          1,
          1,
          1
         ],
         "yaxis": "y5"
        },
        {
         "name": "Grade F",
         "type": "bar",
         "x": [
          "Formal Specification of Software Systems",
          "Computer Robot Vision",
          "Advanced Image Synthesis",
          "Cognitive Robot Systems",
          "Development of Safe and Secure Software",
          "Electronic Communities and Social Networks",
          "Information Mining",
          "Recommender Systems",
          "Test and Reliability of Digital Systems"
         ],
         "xaxis": "x6",
         "y": [
          4,
          3,
          1,
          1,
          1,
          1,
          1,
          1,
          1
         ],
         "yaxis": "y6"
        }
       ],
       "layout": {
        "annotations": [
         {
          "font": {
           "size": 16
          },
          "showarrow": false,
          "text": "Grade A",
          "x": 0.225,
          "xanchor": "center",
          "xref": "paper",
          "y": 1,
          "yanchor": "bottom",
          "yref": "paper"
         },
         {
          "font": {
           "size": 16
          },
          "showarrow": false,
          "text": "Grade B",
          "x": 0.775,
          "xanchor": "center",
          "xref": "paper",
          "y": 1,
          "yanchor": "bottom",
          "yref": "paper"
         },
         {
          "font": {
           "size": 16
          },
          "showarrow": false,
          "text": "Grade C",
          "x": 0.225,
          "xanchor": "center",
          "xref": "paper",
          "y": 0.6111111111111112,
          "yanchor": "bottom",
          "yref": "paper"
         },
         {
          "font": {
           "size": 16
          },
          "showarrow": false,
          "text": "Grade D",
          "x": 0.775,
          "xanchor": "center",
          "xref": "paper",
          "y": 0.6111111111111112,
          "yanchor": "bottom",
          "yref": "paper"
         },
         {
          "font": {
           "size": 16
          },
          "showarrow": false,
          "text": "Grade E",
          "x": 0.225,
          "xanchor": "center",
          "xref": "paper",
          "y": 0.22222222222222224,
          "yanchor": "bottom",
          "yref": "paper"
         },
         {
          "font": {
           "size": 16
          },
          "showarrow": false,
          "text": "Grade F",
          "x": 0.775,
          "xanchor": "center",
          "xref": "paper",
          "y": 0.22222222222222224,
          "yanchor": "bottom",
          "yref": "paper"
         }
        ],
        "height": 2500,
        "template": {
         "data": {
          "bar": [
           {
            "error_x": {
             "color": "#2a3f5f"
            },
            "error_y": {
             "color": "#2a3f5f"
            },
            "marker": {
             "line": {
              "color": "#E5ECF6",
              "width": 0.5
             }
            },
            "type": "bar"
           }
          ],
          "barpolar": [
           {
            "marker": {
             "line": {
              "color": "#E5ECF6",
              "width": 0.5
             }
            },
            "type": "barpolar"
           }
          ],
          "carpet": [
           {
            "aaxis": {
             "endlinecolor": "#2a3f5f",
             "gridcolor": "white",
             "linecolor": "white",
             "minorgridcolor": "white",
             "startlinecolor": "#2a3f5f"
            },
            "baxis": {
             "endlinecolor": "#2a3f5f",
             "gridcolor": "white",
             "linecolor": "white",
             "minorgridcolor": "white",
             "startlinecolor": "#2a3f5f"
            },
            "type": "carpet"
           }
          ],
          "choropleth": [
           {
            "colorbar": {
             "outlinewidth": 0,
             "ticks": ""
            },
            "type": "choropleth"
           }
          ],
          "contour": [
           {
            "colorbar": {
             "outlinewidth": 0,
             "ticks": ""
            },
            "colorscale": [
             [
              0,
              "#0d0887"
             ],
             [
              0.1111111111111111,
              "#46039f"
             ],
             [
              0.2222222222222222,
              "#7201a8"
             ],
             [
              0.3333333333333333,
              "#9c179e"
             ],
             [
              0.4444444444444444,
              "#bd3786"
             ],
             [
              0.5555555555555556,
              "#d8576b"
             ],
             [
              0.6666666666666666,
              "#ed7953"
             ],
             [
              0.7777777777777778,
              "#fb9f3a"
             ],
             [
              0.8888888888888888,
              "#fdca26"
             ],
             [
              1,
              "#f0f921"
             ]
            ],
            "type": "contour"
           }
          ],
          "contourcarpet": [
           {
            "colorbar": {
             "outlinewidth": 0,
             "ticks": ""
            },
            "type": "contourcarpet"
           }
          ],
          "heatmap": [
           {
            "colorbar": {
             "outlinewidth": 0,
             "ticks": ""
            },
            "colorscale": [
             [
              0,
              "#0d0887"
             ],
             [
              0.1111111111111111,
              "#46039f"
             ],
             [
              0.2222222222222222,
              "#7201a8"
             ],
             [
              0.3333333333333333,
              "#9c179e"
             ],
             [
              0.4444444444444444,
              "#bd3786"
             ],
             [
              0.5555555555555556,
              "#d8576b"
             ],
             [
              0.6666666666666666,
              "#ed7953"
             ],
             [
              0.7777777777777778,
              "#fb9f3a"
             ],
             [
              0.8888888888888888,
              "#fdca26"
             ],
             [
              1,
              "#f0f921"
             ]
            ],
            "type": "heatmap"
           }
          ],
          "heatmapgl": [
           {
            "colorbar": {
             "outlinewidth": 0,
             "ticks": ""
            },
            "colorscale": [
             [
              0,
              "#0d0887"
             ],
             [
              0.1111111111111111,
              "#46039f"
             ],
             [
              0.2222222222222222,
              "#7201a8"
             ],
             [
              0.3333333333333333,
              "#9c179e"
             ],
             [
              0.4444444444444444,
              "#bd3786"
             ],
             [
              0.5555555555555556,
              "#d8576b"
             ],
             [
              0.6666666666666666,
              "#ed7953"
             ],
             [
              0.7777777777777778,
              "#fb9f3a"
             ],
             [
              0.8888888888888888,
              "#fdca26"
             ],
             [
              1,
              "#f0f921"
             ]
            ],
            "type": "heatmapgl"
           }
          ],
          "histogram": [
           {
            "marker": {
             "colorbar": {
              "outlinewidth": 0,
              "ticks": ""
             }
            },
            "type": "histogram"
           }
          ],
          "histogram2d": [
           {
            "colorbar": {
             "outlinewidth": 0,
             "ticks": ""
            },
            "colorscale": [
             [
              0,
              "#0d0887"
             ],
             [
              0.1111111111111111,
              "#46039f"
             ],
             [
              0.2222222222222222,
              "#7201a8"
             ],
             [
              0.3333333333333333,
              "#9c179e"
             ],
             [
              0.4444444444444444,
              "#bd3786"
             ],
             [
              0.5555555555555556,
              "#d8576b"
             ],
             [
              0.6666666666666666,
              "#ed7953"
             ],
             [
              0.7777777777777778,
              "#fb9f3a"
             ],
             [
              0.8888888888888888,
              "#fdca26"
             ],
             [
              1,
              "#f0f921"
             ]
            ],
            "type": "histogram2d"
           }
          ],
          "histogram2dcontour": [
           {
            "colorbar": {
             "outlinewidth": 0,
             "ticks": ""
            },
            "colorscale": [
             [
              0,
              "#0d0887"
             ],
             [
              0.1111111111111111,
              "#46039f"
             ],
             [
              0.2222222222222222,
              "#7201a8"
             ],
             [
              0.3333333333333333,
              "#9c179e"
             ],
             [
              0.4444444444444444,
              "#bd3786"
             ],
             [
              0.5555555555555556,
              "#d8576b"
             ],
             [
              0.6666666666666666,
              "#ed7953"
             ],
             [
              0.7777777777777778,
              "#fb9f3a"
             ],
             [
              0.8888888888888888,
              "#fdca26"
             ],
             [
              1,
              "#f0f921"
             ]
            ],
            "type": "histogram2dcontour"
           }
          ],
          "mesh3d": [
           {
            "colorbar": {
             "outlinewidth": 0,
             "ticks": ""
            },
            "type": "mesh3d"
           }
          ],
          "parcoords": [
           {
            "line": {
             "colorbar": {
              "outlinewidth": 0,
              "ticks": ""
             }
            },
            "type": "parcoords"
           }
          ],
          "pie": [
           {
            "automargin": true,
            "type": "pie"
           }
          ],
          "scatter": [
           {
            "marker": {
             "colorbar": {
              "outlinewidth": 0,
              "ticks": ""
             }
            },
            "type": "scatter"
           }
          ],
          "scatter3d": [
           {
            "line": {
             "colorbar": {
              "outlinewidth": 0,
              "ticks": ""
             }
            },
            "marker": {
             "colorbar": {
              "outlinewidth": 0,
              "ticks": ""
             }
            },
            "type": "scatter3d"
           }
          ],
          "scattercarpet": [
           {
            "marker": {
             "colorbar": {
              "outlinewidth": 0,
              "ticks": ""
             }
            },
            "type": "scattercarpet"
           }
          ],
          "scattergeo": [
           {
            "marker": {
             "colorbar": {
              "outlinewidth": 0,
              "ticks": ""
             }
            },
            "type": "scattergeo"
           }
          ],
          "scattergl": [
           {
            "marker": {
             "colorbar": {
              "outlinewidth": 0,
              "ticks": ""
             }
            },
            "type": "scattergl"
           }
          ],
          "scattermapbox": [
           {
            "marker": {
             "colorbar": {
              "outlinewidth": 0,
              "ticks": ""
             }
            },
            "type": "scattermapbox"
           }
          ],
          "scatterpolar": [
           {
            "marker": {
             "colorbar": {
              "outlinewidth": 0,
              "ticks": ""
             }
            },
            "type": "scatterpolar"
           }
          ],
          "scatterpolargl": [
           {
            "marker": {
             "colorbar": {
              "outlinewidth": 0,
              "ticks": ""
             }
            },
            "type": "scatterpolargl"
           }
          ],
          "scatterternary": [
           {
            "marker": {
             "colorbar": {
              "outlinewidth": 0,
              "ticks": ""
             }
            },
            "type": "scatterternary"
           }
          ],
          "surface": [
           {
            "colorbar": {
             "outlinewidth": 0,
             "ticks": ""
            },
            "colorscale": [
             [
              0,
              "#0d0887"
             ],
             [
              0.1111111111111111,
              "#46039f"
             ],
             [
              0.2222222222222222,
              "#7201a8"
             ],
             [
              0.3333333333333333,
              "#9c179e"
             ],
             [
              0.4444444444444444,
              "#bd3786"
             ],
             [
              0.5555555555555556,
              "#d8576b"
             ],
             [
              0.6666666666666666,
              "#ed7953"
             ],
             [
              0.7777777777777778,
              "#fb9f3a"
             ],
             [
              0.8888888888888888,
              "#fdca26"
             ],
             [
              1,
              "#f0f921"
             ]
            ],
            "type": "surface"
           }
          ],
          "table": [
           {
            "cells": {
             "fill": {
              "color": "#EBF0F8"
             },
             "line": {
              "color": "white"
             }
            },
            "header": {
             "fill": {
              "color": "#C8D4E3"
             },
             "line": {
              "color": "white"
             }
            },
            "type": "table"
           }
          ]
         },
         "layout": {
          "annotationdefaults": {
           "arrowcolor": "#2a3f5f",
           "arrowhead": 0,
           "arrowwidth": 1
          },
          "coloraxis": {
           "colorbar": {
            "outlinewidth": 0,
            "ticks": ""
           }
          },
          "colorscale": {
           "diverging": [
            [
             0,
             "#8e0152"
            ],
            [
             0.1,
             "#c51b7d"
            ],
            [
             0.2,
             "#de77ae"
            ],
            [
             0.3,
             "#f1b6da"
            ],
            [
             0.4,
             "#fde0ef"
            ],
            [
             0.5,
             "#f7f7f7"
            ],
            [
             0.6,
             "#e6f5d0"
            ],
            [
             0.7,
             "#b8e186"
            ],
            [
             0.8,
             "#7fbc41"
            ],
            [
             0.9,
             "#4d9221"
            ],
            [
             1,
             "#276419"
            ]
           ],
           "sequential": [
            [
             0,
             "#0d0887"
            ],
            [
             0.1111111111111111,
             "#46039f"
            ],
            [
             0.2222222222222222,
             "#7201a8"
            ],
            [
             0.3333333333333333,
             "#9c179e"
            ],
            [
             0.4444444444444444,
             "#bd3786"
            ],
            [
             0.5555555555555556,
             "#d8576b"
            ],
            [
             0.6666666666666666,
             "#ed7953"
            ],
            [
             0.7777777777777778,
             "#fb9f3a"
            ],
            [
             0.8888888888888888,
             "#fdca26"
            ],
            [
             1,
             "#f0f921"
            ]
           ],
           "sequentialminus": [
            [
             0,
             "#0d0887"
            ],
            [
             0.1111111111111111,
             "#46039f"
            ],
            [
             0.2222222222222222,
             "#7201a8"
            ],
            [
             0.3333333333333333,
             "#9c179e"
            ],
            [
             0.4444444444444444,
             "#bd3786"
            ],
            [
             0.5555555555555556,
             "#d8576b"
            ],
            [
             0.6666666666666666,
             "#ed7953"
            ],
            [
             0.7777777777777778,
             "#fb9f3a"
            ],
            [
             0.8888888888888888,
             "#fdca26"
            ],
            [
             1,
             "#f0f921"
            ]
           ]
          },
          "colorway": [
           "#636efa",
           "#EF553B",
           "#00cc96",
           "#ab63fa",
           "#FFA15A",
           "#19d3f3",
           "#FF6692",
           "#B6E880",
           "#FF97FF",
           "#FECB52"
          ],
          "font": {
           "color": "#2a3f5f"
          },
          "geo": {
           "bgcolor": "white",
           "lakecolor": "white",
           "landcolor": "#E5ECF6",
           "showlakes": true,
           "showland": true,
           "subunitcolor": "white"
          },
          "hoverlabel": {
           "align": "left"
          },
          "hovermode": "closest",
          "mapbox": {
           "style": "light"
          },
          "paper_bgcolor": "white",
          "plot_bgcolor": "#E5ECF6",
          "polar": {
           "angularaxis": {
            "gridcolor": "white",
            "linecolor": "white",
            "ticks": ""
           },
           "bgcolor": "#E5ECF6",
           "radialaxis": {
            "gridcolor": "white",
            "linecolor": "white",
            "ticks": ""
           }
          },
          "scene": {
           "xaxis": {
            "backgroundcolor": "#E5ECF6",
            "gridcolor": "white",
            "gridwidth": 2,
            "linecolor": "white",
            "showbackground": true,
            "ticks": "",
            "zerolinecolor": "white"
           },
           "yaxis": {
            "backgroundcolor": "#E5ECF6",
            "gridcolor": "white",
            "gridwidth": 2,
            "linecolor": "white",
            "showbackground": true,
            "ticks": "",
            "zerolinecolor": "white"
           },
           "zaxis": {
            "backgroundcolor": "#E5ECF6",
            "gridcolor": "white",
            "gridwidth": 2,
            "linecolor": "white",
            "showbackground": true,
            "ticks": "",
            "zerolinecolor": "white"
           }
          },
          "shapedefaults": {
           "line": {
            "color": "#2a3f5f"
           }
          },
          "ternary": {
           "aaxis": {
            "gridcolor": "white",
            "linecolor": "white",
            "ticks": ""
           },
           "baxis": {
            "gridcolor": "white",
            "linecolor": "white",
            "ticks": ""
           },
           "bgcolor": "#E5ECF6",
           "caxis": {
            "gridcolor": "white",
            "linecolor": "white",
            "ticks": ""
           }
          },
          "title": {
           "x": 0.05
          },
          "xaxis": {
           "automargin": true,
           "gridcolor": "white",
           "linecolor": "white",
           "ticks": "",
           "title": {
            "standoff": 15
           },
           "zerolinecolor": "white",
           "zerolinewidth": 2
          },
          "yaxis": {
           "automargin": true,
           "gridcolor": "white",
           "linecolor": "white",
           "ticks": "",
           "title": {
            "standoff": 15
           },
           "zerolinecolor": "white",
           "zerolinewidth": 2
          }
         }
        },
        "title": {
         "text": "Grade Frequency"
        },
        "width": 900,
        "xaxis": {
         "anchor": "y",
         "domain": [
          0,
          0.45
         ]
        },
        "xaxis2": {
         "anchor": "y2",
         "domain": [
          0.55,
          1
         ]
        },
        "xaxis3": {
         "anchor": "y3",
         "domain": [
          0,
          0.45
         ]
        },
        "xaxis4": {
         "anchor": "y4",
         "domain": [
          0.55,
          1
         ]
        },
        "xaxis5": {
         "anchor": "y5",
         "domain": [
          0,
          0.45
         ]
        },
        "xaxis6": {
         "anchor": "y6",
         "domain": [
          0.55,
          1
         ]
        },
        "yaxis": {
         "anchor": "x",
         "domain": [
          0.7777777777777778,
          1
         ]
        },
        "yaxis2": {
         "anchor": "x2",
         "domain": [
          0.7777777777777778,
          1
         ]
        },
        "yaxis3": {
         "anchor": "x3",
         "domain": [
          0.3888888888888889,
          0.6111111111111112
         ]
        },
        "yaxis4": {
         "anchor": "x4",
         "domain": [
          0.3888888888888889,
          0.6111111111111112
         ]
        },
        "yaxis5": {
         "anchor": "x5",
         "domain": [
          0,
          0.22222222222222224
         ]
        },
        "yaxis6": {
         "anchor": "x6",
         "domain": [
          0,
          0.22222222222222224
         ]
        }
       }
      },
      "text/html": [
       "<div>\n",
       "        \n",
       "        \n",
       "            <div id=\"411b4e81-f63b-47ab-881c-d28f6417cea2\" class=\"plotly-graph-div\" style=\"height:2500px; width:900px;\"></div>\n",
       "            <script type=\"text/javascript\">\n",
       "                require([\"plotly\"], function(Plotly) {\n",
       "                    window.PLOTLYENV=window.PLOTLYENV || {};\n",
       "                    \n",
       "                if (document.getElementById(\"411b4e81-f63b-47ab-881c-d28f6417cea2\")) {\n",
       "                    Plotly.newPlot(\n",
       "                        '411b4e81-f63b-47ab-881c-d28f6417cea2',\n",
       "                        [{\"name\": \"Grade A\", \"type\": \"bar\", \"x\": [\"Interaktive Systeme\", \"Information Retrieval\", \"Advanced Web Technologies\", \"Information Mining\", \"Electronic Communities and Social Networks\", \"Gestaltung interaktiver Lehr-/Lern-Systeme\", \"Learning Analytics\", \"Recommender Systems\"], \"xaxis\": \"x\", \"y\": [5, 3, 2, 2, 1, 1, 1, 1], \"yaxis\": \"y\"}, {\"name\": \"Grade B\", \"type\": \"bar\", \"x\": [\"Advanced Web Technologies\", \"Distributed Systems\", \"Peer-to-Peer Systems\", \"Electronic Communities and Social Networks\", \"Gestaltung interaktiver Lehr-/Lern-Systeme\", \"Information Retrieval\", \"Information Mining\", \"Interaktive Systeme\", \"Internet of Things- Protocols and System Software\", \"Learning Analytics\", \"Recommender Systems\", \"Advanced Image Synthesis\", \"Cloud Web & Mobile\", \"Development of Safe and Secure Software\", \"Information Engineering\", \"Natural-Language-based Human-Computer Interaction\", \"Neurocomputing and Organic Computing\", \"Pattern and Component based Software Development\"], \"xaxis\": \"x2\", \"y\": [6, 5, 5, 3, 3, 3, 2, 2, 2, 2, 2, 1, 1, 1, 1, 1, 1, 1], \"yaxis\": \"y2\"}, {\"name\": \"Grade C\", \"type\": \"bar\", \"x\": [\"Electronic Communities and Social Networks\", \"Internet of Things- Protocols and System Software\", \"Cloud Web & Mobile\", \"Information Engineering\", \"Information Retrieval\", \"Advanced Web Technologies\", \"Distributed Systems\", \"Cognitive Robot Systems\", \"Development of Safe and Secure Software\", \"Interaktive Systeme\", \"Computer Robot Vision\", \"Digital Games Research\", \"Formal Specification of Software Systems\", \"Gestaltung interaktiver Lehr-/Lern-Systeme\", \"Peer-to-Peer Systems\", \"Recommender Systems\", \"Advanced Image Synthesis\", \"Information Mining\", \"Learning Analytics\", \"Neurocomputing and Organic Computing\"], \"xaxis\": \"x3\", \"y\": [7, 7, 6, 6, 6, 4, 4, 3, 3, 3, 2, 2, 2, 2, 2, 2, 1, 1, 1, 1], \"yaxis\": \"y3\"}, {\"name\": \"Grade D\", \"type\": \"bar\", \"x\": [\"Distributed Systems\", \"Information Mining\", \"Gestaltung interaktiver Lehr-/Lern-Systeme\", \"Information Engineering\", \"Advanced Web Technologies\", \"Information Retrieval\", \"Internet of Things- Protocols and System Software\", \"Peer-to-Peer Systems\", \"Recommender Systems\", \"Computer Graphics\", \"Development of Safe and Secure Software\", \"Electronic Communities and Social Networks\", \"Formal Specification of Software Systems\", \"Interaktive Systeme\", \"Learning Analytics\", \"Pattern and Component based Software Development\"], \"xaxis\": \"x4\", \"y\": [5, 5, 3, 3, 2, 2, 2, 2, 2, 1, 1, 1, 1, 1, 1, 1], \"yaxis\": \"y4\"}, {\"name\": \"Grade E\", \"type\": \"bar\", \"x\": [\"Formal Specification of Software Systems\", \"Peer-to-Peer Systems\", \"Computer Graphics\", \"Development of Safe and Secure Software\", \"Distributed Systems\", \"Internet of Things- Protocols and System Software\", \"Neurocomputing and Organic Computing\", \"Scientific Visualization\"], \"xaxis\": \"x5\", \"y\": [2, 2, 1, 1, 1, 1, 1, 1], \"yaxis\": \"y5\"}, {\"name\": \"Grade F\", \"type\": \"bar\", \"x\": [\"Formal Specification of Software Systems\", \"Computer Robot Vision\", \"Advanced Image Synthesis\", \"Cognitive Robot Systems\", \"Development of Safe and Secure Software\", \"Electronic Communities and Social Networks\", \"Information Mining\", \"Recommender Systems\", \"Test and Reliability of Digital Systems\"], \"xaxis\": \"x6\", \"y\": [4, 3, 1, 1, 1, 1, 1, 1, 1], \"yaxis\": \"y6\"}],\n",
       "                        {\"annotations\": [{\"font\": {\"size\": 16}, \"showarrow\": false, \"text\": \"Grade A\", \"x\": 0.225, \"xanchor\": \"center\", \"xref\": \"paper\", \"y\": 1.0, \"yanchor\": \"bottom\", \"yref\": \"paper\"}, {\"font\": {\"size\": 16}, \"showarrow\": false, \"text\": \"Grade B\", \"x\": 0.775, \"xanchor\": \"center\", \"xref\": \"paper\", \"y\": 1.0, \"yanchor\": \"bottom\", \"yref\": \"paper\"}, {\"font\": {\"size\": 16}, \"showarrow\": false, \"text\": \"Grade C\", \"x\": 0.225, \"xanchor\": \"center\", \"xref\": \"paper\", \"y\": 0.6111111111111112, \"yanchor\": \"bottom\", \"yref\": \"paper\"}, {\"font\": {\"size\": 16}, \"showarrow\": false, \"text\": \"Grade D\", \"x\": 0.775, \"xanchor\": \"center\", \"xref\": \"paper\", \"y\": 0.6111111111111112, \"yanchor\": \"bottom\", \"yref\": \"paper\"}, {\"font\": {\"size\": 16}, \"showarrow\": false, \"text\": \"Grade E\", \"x\": 0.225, \"xanchor\": \"center\", \"xref\": \"paper\", \"y\": 0.22222222222222224, \"yanchor\": \"bottom\", \"yref\": \"paper\"}, {\"font\": {\"size\": 16}, \"showarrow\": false, \"text\": \"Grade F\", \"x\": 0.775, \"xanchor\": \"center\", \"xref\": \"paper\", \"y\": 0.22222222222222224, \"yanchor\": \"bottom\", \"yref\": \"paper\"}], \"height\": 2500, \"template\": {\"data\": {\"bar\": [{\"error_x\": {\"color\": \"#2a3f5f\"}, \"error_y\": {\"color\": \"#2a3f5f\"}, \"marker\": {\"line\": {\"color\": \"#E5ECF6\", \"width\": 0.5}}, \"type\": \"bar\"}], \"barpolar\": [{\"marker\": {\"line\": {\"color\": \"#E5ECF6\", \"width\": 0.5}}, \"type\": \"barpolar\"}], \"carpet\": [{\"aaxis\": {\"endlinecolor\": \"#2a3f5f\", \"gridcolor\": \"white\", \"linecolor\": \"white\", \"minorgridcolor\": \"white\", \"startlinecolor\": \"#2a3f5f\"}, \"baxis\": {\"endlinecolor\": \"#2a3f5f\", \"gridcolor\": \"white\", \"linecolor\": \"white\", \"minorgridcolor\": \"white\", \"startlinecolor\": \"#2a3f5f\"}, \"type\": \"carpet\"}], \"choropleth\": [{\"colorbar\": {\"outlinewidth\": 0, \"ticks\": \"\"}, \"type\": \"choropleth\"}], \"contour\": [{\"colorbar\": {\"outlinewidth\": 0, \"ticks\": \"\"}, \"colorscale\": [[0.0, \"#0d0887\"], [0.1111111111111111, \"#46039f\"], [0.2222222222222222, \"#7201a8\"], [0.3333333333333333, \"#9c179e\"], [0.4444444444444444, \"#bd3786\"], [0.5555555555555556, \"#d8576b\"], [0.6666666666666666, \"#ed7953\"], [0.7777777777777778, \"#fb9f3a\"], [0.8888888888888888, \"#fdca26\"], [1.0, \"#f0f921\"]], \"type\": \"contour\"}], \"contourcarpet\": [{\"colorbar\": {\"outlinewidth\": 0, \"ticks\": \"\"}, \"type\": \"contourcarpet\"}], \"heatmap\": [{\"colorbar\": {\"outlinewidth\": 0, \"ticks\": \"\"}, \"colorscale\": [[0.0, \"#0d0887\"], [0.1111111111111111, \"#46039f\"], [0.2222222222222222, \"#7201a8\"], [0.3333333333333333, \"#9c179e\"], [0.4444444444444444, \"#bd3786\"], [0.5555555555555556, \"#d8576b\"], [0.6666666666666666, \"#ed7953\"], [0.7777777777777778, \"#fb9f3a\"], [0.8888888888888888, \"#fdca26\"], [1.0, \"#f0f921\"]], \"type\": \"heatmap\"}], \"heatmapgl\": [{\"colorbar\": {\"outlinewidth\": 0, \"ticks\": \"\"}, \"colorscale\": [[0.0, \"#0d0887\"], [0.1111111111111111, \"#46039f\"], [0.2222222222222222, \"#7201a8\"], [0.3333333333333333, \"#9c179e\"], [0.4444444444444444, \"#bd3786\"], [0.5555555555555556, \"#d8576b\"], [0.6666666666666666, \"#ed7953\"], [0.7777777777777778, \"#fb9f3a\"], [0.8888888888888888, \"#fdca26\"], [1.0, \"#f0f921\"]], \"type\": \"heatmapgl\"}], \"histogram\": [{\"marker\": {\"colorbar\": {\"outlinewidth\": 0, \"ticks\": \"\"}}, \"type\": \"histogram\"}], \"histogram2d\": [{\"colorbar\": {\"outlinewidth\": 0, \"ticks\": \"\"}, \"colorscale\": [[0.0, \"#0d0887\"], [0.1111111111111111, \"#46039f\"], [0.2222222222222222, \"#7201a8\"], [0.3333333333333333, \"#9c179e\"], [0.4444444444444444, \"#bd3786\"], [0.5555555555555556, \"#d8576b\"], [0.6666666666666666, \"#ed7953\"], [0.7777777777777778, \"#fb9f3a\"], [0.8888888888888888, \"#fdca26\"], [1.0, \"#f0f921\"]], \"type\": \"histogram2d\"}], \"histogram2dcontour\": [{\"colorbar\": {\"outlinewidth\": 0, \"ticks\": \"\"}, \"colorscale\": [[0.0, \"#0d0887\"], [0.1111111111111111, \"#46039f\"], [0.2222222222222222, \"#7201a8\"], [0.3333333333333333, \"#9c179e\"], [0.4444444444444444, \"#bd3786\"], [0.5555555555555556, \"#d8576b\"], [0.6666666666666666, \"#ed7953\"], [0.7777777777777778, \"#fb9f3a\"], [0.8888888888888888, \"#fdca26\"], [1.0, \"#f0f921\"]], \"type\": \"histogram2dcontour\"}], \"mesh3d\": [{\"colorbar\": {\"outlinewidth\": 0, \"ticks\": \"\"}, \"type\": \"mesh3d\"}], \"parcoords\": [{\"line\": {\"colorbar\": {\"outlinewidth\": 0, \"ticks\": \"\"}}, \"type\": \"parcoords\"}], \"pie\": [{\"automargin\": true, \"type\": \"pie\"}], \"scatter\": [{\"marker\": {\"colorbar\": {\"outlinewidth\": 0, \"ticks\": \"\"}}, \"type\": \"scatter\"}], \"scatter3d\": [{\"line\": {\"colorbar\": {\"outlinewidth\": 0, \"ticks\": \"\"}}, \"marker\": {\"colorbar\": {\"outlinewidth\": 0, \"ticks\": \"\"}}, \"type\": \"scatter3d\"}], \"scattercarpet\": [{\"marker\": {\"colorbar\": {\"outlinewidth\": 0, \"ticks\": \"\"}}, \"type\": \"scattercarpet\"}], \"scattergeo\": [{\"marker\": {\"colorbar\": {\"outlinewidth\": 0, \"ticks\": \"\"}}, \"type\": \"scattergeo\"}], \"scattergl\": [{\"marker\": {\"colorbar\": {\"outlinewidth\": 0, \"ticks\": \"\"}}, \"type\": \"scattergl\"}], \"scattermapbox\": [{\"marker\": {\"colorbar\": {\"outlinewidth\": 0, \"ticks\": \"\"}}, \"type\": \"scattermapbox\"}], \"scatterpolar\": [{\"marker\": {\"colorbar\": {\"outlinewidth\": 0, \"ticks\": \"\"}}, \"type\": \"scatterpolar\"}], \"scatterpolargl\": [{\"marker\": {\"colorbar\": {\"outlinewidth\": 0, \"ticks\": \"\"}}, \"type\": \"scatterpolargl\"}], \"scatterternary\": [{\"marker\": {\"colorbar\": {\"outlinewidth\": 0, \"ticks\": \"\"}}, \"type\": \"scatterternary\"}], \"surface\": [{\"colorbar\": {\"outlinewidth\": 0, \"ticks\": \"\"}, \"colorscale\": [[0.0, \"#0d0887\"], [0.1111111111111111, \"#46039f\"], [0.2222222222222222, \"#7201a8\"], [0.3333333333333333, \"#9c179e\"], [0.4444444444444444, \"#bd3786\"], [0.5555555555555556, \"#d8576b\"], [0.6666666666666666, \"#ed7953\"], [0.7777777777777778, \"#fb9f3a\"], [0.8888888888888888, \"#fdca26\"], [1.0, \"#f0f921\"]], \"type\": \"surface\"}], \"table\": [{\"cells\": {\"fill\": {\"color\": \"#EBF0F8\"}, \"line\": {\"color\": \"white\"}}, \"header\": {\"fill\": {\"color\": \"#C8D4E3\"}, \"line\": {\"color\": \"white\"}}, \"type\": \"table\"}]}, \"layout\": {\"annotationdefaults\": {\"arrowcolor\": \"#2a3f5f\", \"arrowhead\": 0, \"arrowwidth\": 1}, \"coloraxis\": {\"colorbar\": {\"outlinewidth\": 0, \"ticks\": \"\"}}, \"colorscale\": {\"diverging\": [[0, \"#8e0152\"], [0.1, \"#c51b7d\"], [0.2, \"#de77ae\"], [0.3, \"#f1b6da\"], [0.4, \"#fde0ef\"], [0.5, \"#f7f7f7\"], [0.6, \"#e6f5d0\"], [0.7, \"#b8e186\"], [0.8, \"#7fbc41\"], [0.9, \"#4d9221\"], [1, \"#276419\"]], \"sequential\": [[0.0, \"#0d0887\"], [0.1111111111111111, \"#46039f\"], [0.2222222222222222, \"#7201a8\"], [0.3333333333333333, \"#9c179e\"], [0.4444444444444444, \"#bd3786\"], [0.5555555555555556, \"#d8576b\"], [0.6666666666666666, \"#ed7953\"], [0.7777777777777778, \"#fb9f3a\"], [0.8888888888888888, \"#fdca26\"], [1.0, \"#f0f921\"]], \"sequentialminus\": [[0.0, \"#0d0887\"], [0.1111111111111111, \"#46039f\"], [0.2222222222222222, \"#7201a8\"], [0.3333333333333333, \"#9c179e\"], [0.4444444444444444, \"#bd3786\"], [0.5555555555555556, \"#d8576b\"], [0.6666666666666666, \"#ed7953\"], [0.7777777777777778, \"#fb9f3a\"], [0.8888888888888888, \"#fdca26\"], [1.0, \"#f0f921\"]]}, \"colorway\": [\"#636efa\", \"#EF553B\", \"#00cc96\", \"#ab63fa\", \"#FFA15A\", \"#19d3f3\", \"#FF6692\", \"#B6E880\", \"#FF97FF\", \"#FECB52\"], \"font\": {\"color\": \"#2a3f5f\"}, \"geo\": {\"bgcolor\": \"white\", \"lakecolor\": \"white\", \"landcolor\": \"#E5ECF6\", \"showlakes\": true, \"showland\": true, \"subunitcolor\": \"white\"}, \"hoverlabel\": {\"align\": \"left\"}, \"hovermode\": \"closest\", \"mapbox\": {\"style\": \"light\"}, \"paper_bgcolor\": \"white\", \"plot_bgcolor\": \"#E5ECF6\", \"polar\": {\"angularaxis\": {\"gridcolor\": \"white\", \"linecolor\": \"white\", \"ticks\": \"\"}, \"bgcolor\": \"#E5ECF6\", \"radialaxis\": {\"gridcolor\": \"white\", \"linecolor\": \"white\", \"ticks\": \"\"}}, \"scene\": {\"xaxis\": {\"backgroundcolor\": \"#E5ECF6\", \"gridcolor\": \"white\", \"gridwidth\": 2, \"linecolor\": \"white\", \"showbackground\": true, \"ticks\": \"\", \"zerolinecolor\": \"white\"}, \"yaxis\": {\"backgroundcolor\": \"#E5ECF6\", \"gridcolor\": \"white\", \"gridwidth\": 2, \"linecolor\": \"white\", \"showbackground\": true, \"ticks\": \"\", \"zerolinecolor\": \"white\"}, \"zaxis\": {\"backgroundcolor\": \"#E5ECF6\", \"gridcolor\": \"white\", \"gridwidth\": 2, \"linecolor\": \"white\", \"showbackground\": true, \"ticks\": \"\", \"zerolinecolor\": \"white\"}}, \"shapedefaults\": {\"line\": {\"color\": \"#2a3f5f\"}}, \"ternary\": {\"aaxis\": {\"gridcolor\": \"white\", \"linecolor\": \"white\", \"ticks\": \"\"}, \"baxis\": {\"gridcolor\": \"white\", \"linecolor\": \"white\", \"ticks\": \"\"}, \"bgcolor\": \"#E5ECF6\", \"caxis\": {\"gridcolor\": \"white\", \"linecolor\": \"white\", \"ticks\": \"\"}}, \"title\": {\"x\": 0.05}, \"xaxis\": {\"automargin\": true, \"gridcolor\": \"white\", \"linecolor\": \"white\", \"ticks\": \"\", \"title\": {\"standoff\": 15}, \"zerolinecolor\": \"white\", \"zerolinewidth\": 2}, \"yaxis\": {\"automargin\": true, \"gridcolor\": \"white\", \"linecolor\": \"white\", \"ticks\": \"\", \"title\": {\"standoff\": 15}, \"zerolinecolor\": \"white\", \"zerolinewidth\": 2}}}, \"title\": {\"text\": \"Grade Frequency\"}, \"width\": 900, \"xaxis\": {\"anchor\": \"y\", \"domain\": [0.0, 0.45]}, \"xaxis2\": {\"anchor\": \"y2\", \"domain\": [0.55, 1.0]}, \"xaxis3\": {\"anchor\": \"y3\", \"domain\": [0.0, 0.45]}, \"xaxis4\": {\"anchor\": \"y4\", \"domain\": [0.55, 1.0]}, \"xaxis5\": {\"anchor\": \"y5\", \"domain\": [0.0, 0.45]}, \"xaxis6\": {\"anchor\": \"y6\", \"domain\": [0.55, 1.0]}, \"yaxis\": {\"anchor\": \"x\", \"domain\": [0.7777777777777778, 1.0]}, \"yaxis2\": {\"anchor\": \"x2\", \"domain\": [0.7777777777777778, 1.0]}, \"yaxis3\": {\"anchor\": \"x3\", \"domain\": [0.3888888888888889, 0.6111111111111112]}, \"yaxis4\": {\"anchor\": \"x4\", \"domain\": [0.3888888888888889, 0.6111111111111112]}, \"yaxis5\": {\"anchor\": \"x5\", \"domain\": [0.0, 0.22222222222222224]}, \"yaxis6\": {\"anchor\": \"x6\", \"domain\": [0.0, 0.22222222222222224]}},\n",
       "                        {\"responsive\": true}\n",
       "                    ).then(function(){\n",
       "                            \n",
       "var gd = document.getElementById('411b4e81-f63b-47ab-881c-d28f6417cea2');\n",
       "var x = new MutationObserver(function (mutations, observer) {{\n",
       "        var display = window.getComputedStyle(gd).display;\n",
       "        if (!display || display === 'none') {{\n",
       "            console.log([gd, 'removed!']);\n",
       "            Plotly.purge(gd);\n",
       "            observer.disconnect();\n",
       "        }}\n",
       "}});\n",
       "\n",
       "// Listen for the removal of the full notebook cells\n",
       "var notebookContainer = gd.closest('#notebook-container');\n",
       "if (notebookContainer) {{\n",
       "    x.observe(notebookContainer, {childList: true});\n",
       "}}\n",
       "\n",
       "// Listen for the clearing of the current output cell\n",
       "var outputEl = gd.closest('.output');\n",
       "if (outputEl) {{\n",
       "    x.observe(outputEl, {childList: true});\n",
       "}}\n",
       "\n",
       "                        })\n",
       "                };\n",
       "                });\n",
       "            </script>\n",
       "        </div>"
      ]
     },
     "metadata": {},
     "output_type": "display_data"
    }
   ],
   "source": [
    "fig_grade = make_subplots(rows=3, cols=2,subplot_titles=(\"Grade A\", \"Grade B\", \"Grade C\", \"Grade D\",\"Grade E\",\"Grade F\"))\n",
    "\n",
    "fig_grade.add_trace(go.Bar(x=gradea1, y=gradea2,name='Grade A'),\n",
    "              row=1, col=1)\n",
    "\n",
    "fig_grade.add_trace(go.Bar(x=gradeb1, y=gradeb2,name='Grade B'),\n",
    "              row=1, col=2)\n",
    "fig_grade.add_trace(go.Bar(x=gradec1, y=gradec2,name='Grade C'),\n",
    "              row=2, col=1)\n",
    "fig_grade.add_trace(go.Bar(x=graded1, y=graded2,name='Grade D'),\n",
    "              row=2, col=2)\n",
    "fig_grade.add_trace(go.Bar(x=gradee1, y=gradee2,name='Grade E'),\n",
    "              row=3, col=1)\n",
    "fig_grade.add_trace(go.Bar(x=gradef1, y=gradef2,name='Grade F'),\n",
    "              row=3, col=2)\n",
    "fig_grade.update_layout(height=2500, width=900,\n",
    "                  title_text=\"Grade Frequency\")"
   ]
  },
  {
   "cell_type": "code",
   "execution_count": 999,
   "metadata": {},
   "outputs": [],
   "source": [
    "external_stylesheets =['https://codepen.io/chriddyp/pen/bWLwgP.css',\"https://cdnjs.cloudflare.com/ajax/libs/skeleton/2.0.4/skeleton.min.css\",\n",
    "                \"https://fonts.googleapis.com/css?family=Raleway:400,400i,700,700i\",\n",
    "                \"https://fonts.googleapis.com/css?family=Product+Sans:400,400i,700,700i\"]"
   ]
  },
  {
   "cell_type": "code",
   "execution_count": 1031,
   "metadata": {},
   "outputs": [],
   "source": [
    "app = dash.Dash(__name__,external_stylesheets=external_stylesheets)"
   ]
  },
  {
   "cell_type": "code",
   "execution_count": 1032,
   "metadata": {},
   "outputs": [],
   "source": [
    "colors = {\n",
    "    'background': '#6f32a8',\n",
    "    'text': '#f2f542',\n",
    "    'background-image': 'url(\"https://www.e-spincorp.com/wp-content/uploads/2019/03/Augmented-analytics-Capabilities-in-Business-Intelligence-1024x688.jpg\")'\n",
    "}"
   ]
  },
  {
   "cell_type": "code",
   "execution_count": 1033,
   "metadata": {},
   "outputs": [],
   "source": [
    "image_filename = 'unilogo.png'\n",
    "encoded_image = base64.b64encode(open(image_filename, 'rb').read())"
   ]
  },
  {
   "cell_type": "code",
   "execution_count": 1034,
   "metadata": {},
   "outputs": [],
   "source": [
    "card = html.Div(children=[\n",
    "    html.H1('i-Recommend', style={\n",
    "            'textAlign': 'center', 'margin': '48px 0', 'fontFamily': 'georgia','color':'#3269a8','background-color': 'lightblue'}),\n",
    "    html.Img(src='data:image/png;base64,{}'.format(encoded_image.decode())),\n",
    "    dcc.Tabs(id=\"tabs\", vertical=False,children=[\n",
    "        dcc.Tab(label='Home', children=[\n",
    "            html.H2('Welcome to the Course Advisory System',style={'textAlign': 'center', 'margin': '48px 0', 'fontFamily': 'georgia','color':'#3269a8'}),\n",
    "            html.H4('Select the List of Courses you would like to attend:',style={'textAlign': 'left', 'margin': '48px 0', 'fontFamily': 'georgia','color':'#3269b8'}),\n",
    "            html.Div(dcc.Input(id='input1',value='Enter keyword',type='hidden')),\n",
    "            html.Div([dcc.Checklist(id='checklist1',\n",
    "    options=[\n",
    "        {'label': 'Advanced Image Synthesis', 'value': 'Advanced Image Synthesis'},\n",
    "        {'label': 'Advanced Web Technologies', 'value': 'Advanced Web Technologies'},\n",
    "        {'label': 'Cloud Web & Mobile', 'value': 'Cloud Web & Mobile'},\n",
    "        {'label': 'Cognitive Robot Systems', 'value': 'Cognitive Robot Systems'},\n",
    "        {'label': 'Computer Robot Vision', 'value': 'Computer Robot Vision'},\n",
    "        {'label': 'Computer Graphics', 'value': 'Computer Graphics'},\n",
    "        {'label': 'Gestaltung interaktiver Lehr-/Lern-Systeme', 'value': 'Gestaltung interaktiver Lehr-/Lern-Systeme'},\n",
    "        {'label': 'Development of Safe and Secure Software', 'value': 'Development of Safe and Secure Software'},\n",
    "        {'label': 'Digital Games Research', 'value': 'Digital Games Research'},\n",
    "        {'label': 'Distributed Systems', 'value': 'Distributed Systems'},\n",
    "        {'label': 'Electronic Communities and Social Networks', 'value': 'Electronic Communities and Social Networks'},\n",
    "        {'label': 'Fault Diagnosis and Fault Tolerance in Technical Systems', 'value': 'Fault Diagnosis and Fault Tolerance in Technical Systems'},\n",
    "        {'label': 'Formal Specification of Software Systems', 'value': 'Formal Specification of Software Systems'},\n",
    "        {'label': 'Game Architecture and Design', 'value': 'Game Architecture and Design'},\n",
    "        {'label': 'Information Engineering', 'value': 'Information Engineering'},\n",
    "        {'label': 'Information Mining', 'value': 'Information Mining'},\n",
    "        {'label': 'Information Retrieval', 'value': 'Information Retrieval'},\n",
    "        {'label': 'Interaktive Systeme', 'value': 'Interaktive Systeme'},\n",
    "        {'label': 'Internet of Things- Protocols and System Software', 'value': 'Internet of Things- Protocols and System Software'},\n",
    "        {'label': 'Knowledge-Based Systems', 'value': 'Knowledge-Based Systems'},\n",
    "        {'label': 'Learning Analytics', 'value': 'Learning Analytics'},\n",
    "        {'label': 'Master Seminar Informatics', 'value': 'Master Seminar Informatics'},\n",
    "        {'label': 'Modelling of Concurrent Systems', 'value': 'Modelling of Concurrent Systems'},\n",
    "        {'label': 'Modelling-Analysis-Verification', 'value': 'Modelling-Analysis-Verification'},\n",
    "        {'label': 'Natural-Language-based Human-Computer Interaction', 'value': 'Natural-Language-based Human-Computer Interaction'},\n",
    "        {'label': 'Neurocomputing and Organic Computing', 'value': 'Neurocomputing and Organic Computing'},\n",
    "        {'label': 'Pattern and Component based Software Development', 'value': 'Pattern and Component based Software Development'},\n",
    "        {'label': 'Peer-to-Peer Systems', 'value': 'Peer-to-Peer Systems'},\n",
    "        {'label': 'Recommender Systems', 'value': 'Recommender Systems'},\n",
    "        {'label': 'Scientific Visualization', 'value': 'Scientific Visualization'},\n",
    "        {'label': 'Test and Reliability of Digital Systems', 'value': 'Test and Reliability of Digital Systems'},\n",
    "        \n",
    "    ],\n",
    "                                    #value=[]\n",
    "  )\n",
    "                     ],),\n",
    "            html.Button('Suggest ME!', id='button1',style={'color':'#4287f5'}),\n",
    "            \n",
    "          #dt.DataTable(id='Table',columns=['Course','Suggested Courses'])\n",
    "        ]),\n",
    "        dcc.Tab(label='Graph1', children=[\n",
    "            html.Div([\n",
    "                html.H1(\"This is the content in tab 2\"),\n",
    "                dcc.Dropdown(id='dropdown_courses',\n",
    "                options=[\n",
    "                     {'label': 'Rating', 'value': 'Rating'},\n",
    "        {'label': 'Grade', 'value': 'Grade'},\n",
    "        {'label': 'Semester', 'value': 'Semester'}\n",
    "                ]),\n",
    "                html.Div(id='barchart',)\n",
    "                \n",
    "                #html.Div(className='card',children=[html.Img(src='unilogo.png',style={\"width:100%\"}),\n",
    "                                                    #html.Div(children=[html.H4(\"Img1\"),html.P(\"This is image1\")])])\n",
    "            ])\n",
    "        ]),\n",
    "        dcc.Tab(label='Graph2', children=[\n",
    "            html.Div([\n",
    "                html.H1(\"Generated Recommendations\"),\n",
    "                dcc.Store(id=\"value\", storage_type=\"memory\"),\n",
    "                dcc.Graph(id='table1')\n",
    "                #html.Table(id='table1')\n",
    "                #dcc.Graph(id='content1',),\n",
    "            ])\n",
    "        ]),\n",
    "        dcc.Tab(label='Graph3', children=[\n",
    "            html.Div([\n",
    "                html.H1(\"Some Charts\"),\n",
    "                #dcc.Store(id=\"value\", storage_type=\"memory\"),\n",
    "                html.Div(dcc.Graph(id='scatter',figure=fig6)),\n",
    "                html.Div(dcc.Graph(id='histo',figure=fig5)),\n",
    "                html.Div(dcc.Graph(id='tot_bar',figure=fig_bar)),\n",
    "                html.Cite('Based on the observations we can say that '+str(count_credits)+' students have completed the required 11 credits in 4 semesters')\n",
    "            ])\n",
    "        ]),\n",
    "        dcc.Tab(label='Graph4', children=[\n",
    "            html.Div([\n",
    "                html.H1(\"Some Charts\"),\n",
    "                #dcc.Store(id=\"value\", storage_type=\"memory\"),\n",
    "                html.Div(dcc.Graph(id='sankey',figure=fig_p)),\n",
    "                \n",
    "            ])\n",
    "        ]),\n",
    "        dcc.Tab(label='Algorithm based graphs', children=[\n",
    "            html.Div([\n",
    "                html.H1(\"Some Charts\"),\n",
    "                #dcc.Store(id=\"value\", storage_type=\"memory\"),\n",
    "                html.Div(dcc.Graph(id='sup_conf',figure=fig3))\n",
    "            ])\n",
    "        ]),\n",
    "        dcc.Tab(label='Itemsets', children=[\n",
    "            html.Div([\n",
    "                html.H1(\"Some Charts\"),\n",
    "                #dcc.Store(id=\"value\", storage_type=\"memory\"),\n",
    "                html.Div(dcc.Graph(id='table_supconfi',figure=table_freqsets))\n",
    "            ])\n",
    "        ]),\n",
    "        \n",
    "       dcc.Tab(label='Graph5', children=[\n",
    "            html.Div([\n",
    "                html.H1(\"Course wise graphs\"),\n",
    "                 dcc.Dropdown(\n",
    "        id='dropdown_courses1',\n",
    "        options=[\n",
    "         {'label': 'Advanced Image Synthesis', 'value': 'Advanced Image Synthesis'},\n",
    "         {'label': 'Advanced Web Technologies', 'value': 'Advanced Web Technologies'},\n",
    "         {'label': 'Cloud Web & Mobile', 'value': 'Cloud Web & Mobile'},\n",
    "         {'label': 'Cognitive Robot Systems', 'value': 'Cognitive Robot Systems'},\n",
    "         {'label': 'Computer Robot Vision', 'value': 'Computer Robot Vision'},\n",
    "         {'label': 'Computer Graphics', 'value': 'Computer Graphics'},\n",
    "         {'label': 'Gestaltung interaktiver Lehr-/Lern-Systeme', 'value': 'Gestaltung interaktiver Lehr-/Lern-Systeme'},\n",
    "         {'label': 'Development of Safe and Secure Software', 'value': 'Development of Safe and Secure Software'},\n",
    "         {'label': 'Digital Games Research', 'value': 'Digital Games Research'},\n",
    "         {'label': 'Distributed Systems', 'value': 'Distributed Systems'},\n",
    "         {'label': 'Electronic Communities and Social Networks', 'value': 'Electronic Communities and Social Networks'},\n",
    "         {'label': 'Fault Diagnosis and Fault Tolerance in Technical Systems', 'value': 'Fault Diagnosis and Fault Tolerance in Technical Systems'},\n",
    "         {'label': 'Formal Specification of Software Systems', 'value': 'Formal Specification of Software Systems'},\n",
    "         {'label': 'Game Architecture and Design', 'value': 'Game Architecture and Design'},\n",
    "         {'label': 'Information Engineering', 'value': 'Information Engineering'},\n",
    "         {'label': 'Information Mining', 'value': 'Information Mining'},\n",
    "         {'label': 'Information Retrieval', 'value': 'Information Retrieval'},\n",
    "         {'label': 'Interaktive Systeme', 'value': 'Interaktive Systeme'},\n",
    "         {'label': 'Internet of Things- Protocols and System Software', 'value': 'Internet of Things- Protocols and System Software'},\n",
    "         {'label': 'Knowledge-Based Systems', 'value': 'Knowledge-Based Systems'},\n",
    "         {'label': 'Learning Analytics', 'value': 'Learning Analytics'},\n",
    "         {'label': 'Master Seminar Informatics', 'value': 'Master Seminar Informatics'},\n",
    "         {'label': 'Modelling of Concurrent Systems', 'value': 'Modelling of Concurrent Systems'},\n",
    "         {'label': 'Modelling-Analysis-Verification', 'value': 'Modelling-Analysis-Verification'},\n",
    "         {'label': 'Natural-Language-based Human-Computer Interaction', 'value': 'Natural-Language-based Human-Computer Interaction'},\n",
    "         {'label': 'Neurocomputing and Organic Computing', 'value': 'Neurocomputing and Organic Computing'},\n",
    "         {'label': 'Pattern and Component based Software Development', 'value': 'Pattern and Component based Software Development'},\n",
    "         {'label': 'Peer-to-Peer Systems', 'value': 'Peer-to-Peer Systems'},\n",
    "         {'label': 'Recommender Systems', 'value': 'Recommender Systems'},\n",
    "         {'label': 'Scientific Visualization', 'value': 'Scientific Visualization'},\n",
    "         {'label': 'Test and Reliability of Digital Systems', 'value': 'Test and Reliability of Digital Systems'}\n",
    "        ]\n",
    "    ),\n",
    "                html.Div(id='fig_subplot',)\n",
    "                #dcc.Store(id=\"value\", storage_type=\"memory\"),\n",
    "            ])\n",
    "        ])\n",
    "    ],\n",
    "        style={\n",
    "        'fontFamily': 'system-ui',\n",
    "        #'text': '#f2f542',\n",
    "        'background': '#ebeb34'\n",
    "            \n",
    "    },\n",
    "        content_style={\n",
    "        'borderLeft': '1px solid #d6d6d6',\n",
    "        'borderRight': '1px solid #d6d6d6',\n",
    "        'borderBottom': '1px solid #d6d6d6',\n",
    "        'padding': '44px'\n",
    "    },\n",
    "        parent_style={\n",
    "        'maxWidth': '1000px',\n",
    "        'margin': '0 auto',\n",
    "        'background': '#ffffff',\n",
    "        'color':'#000000',\n",
    "        'font-size': 'large'\n",
    "    }\n",
    "    ),\n",
    "])\n"
   ]
  },
  {
   "cell_type": "code",
   "execution_count": 1035,
   "metadata": {},
   "outputs": [
    {
     "data": {
      "text/plain": [
       "'C:\\\\Users\\\\GOLLAKOTA'"
      ]
     },
     "execution_count": 1035,
     "metadata": {},
     "output_type": "execute_result"
    }
   ],
   "source": [
    "import os\n",
    "os.getcwd()"
   ]
  },
  {
   "cell_type": "code",
   "execution_count": 1036,
   "metadata": {},
   "outputs": [],
   "source": [
    "app.layout=html.Div([card])"
   ]
  },
  {
   "cell_type": "code",
   "execution_count": 1037,
   "metadata": {},
   "outputs": [],
   "source": [
    "#fig_sub.add_trace(go.Bar(x=list(df_ratings['sub'].values),y=list(df_ratings['rating'].values)),row=1,col=1)"
   ]
  },
  {
   "cell_type": "code",
   "execution_count": 1038,
   "metadata": {},
   "outputs": [],
   "source": [
    "@app.callback(Output('barchart', 'children'),\n",
    "              [Input('dropdown_courses', 'value')])\n",
    "def update_figure(value):\n",
    "    if value is None:\n",
    "        return html.Label('No value has been selected.Please select a value')\n",
    "    elif value=='Rating':\n",
    "        return html.Div([\n",
    "            html.Br(),\n",
    "                dcc.Graph(\n",
    "                    id='bar chart',\n",
    "                    figure=fig11\n",
    "                ),\n",
    "        ])\n",
    "    elif value=='Grade':\n",
    "        return html.Div([\n",
    "                dcc.Graph(\n",
    "                    id='bar chart',\n",
    "                    figure=fig_grade,\n",
    "                ),\n",
    "            html.Cite('Based on the observations we conclude that lot of students get good grade in '+easy_sub+\n",
    "                          ' and majority of the students find it difficult to get good grades in '+diff_sub)\n",
    "        ])\n",
    "    elif value=='Semester':\n",
    "        return html.Div(\n",
    "                dcc.Graph(\n",
    "                    id='bar chart',\n",
    "                    figure=fig_sem,\n",
    "                ),\n",
    "        )"
   ]
  },
  {
   "cell_type": "code",
   "execution_count": 1039,
   "metadata": {},
   "outputs": [],
   "source": [
    "@app.callback(Output('fig_subplot', 'children'),\n",
    "              [Input('dropdown_courses1', 'value')])\n",
    "def update_figure(value):\n",
    "    if value is None:\n",
    "        return html.Label('No value has been selected.Please select a value')\n",
    "    else:\n",
    "        fig_subplots=make_subplots(rows=1, cols=3,subplot_titles=(\"Rating\", \"Grades\", \"Semester\"))\n",
    "        fig_subplots.add_trace(go.Bar(x=list(get_rating_frequency(value)['rating'].values),y=list(get_rating_frequency(value)['frequency'].values),name='Rating'),row=1,col=1)\n",
    "        fig_subplots.add_trace(go.Bar(x=list(get_grade_frequency(value)['grade'].values),y=list(get_grade_frequency(value)['frequency'].values),name='Grades'),row=1,col=2)\n",
    "        fig_subplots.add_trace(go.Bar(x=list(get_semester_frequency(value)['semester'].values),y=list(get_semester_frequency(value)['frequency'].values),name='Semester'),row=1,col=3)\n",
    "        fig_subplots.update_layout(height=600,width=900)\n",
    "\n",
    "        return html.Div(\n",
    "            dcc.Graph(\n",
    "            id='fig subplot',\n",
    "            figure=fig_subplots))"
   ]
  },
  {
   "cell_type": "code",
   "execution_count": 1040,
   "metadata": {},
   "outputs": [
    {
     "data": {
      "text/plain": [
       "array(['Advanced Image Synthesis', 'Advanced Web Technologies',\n",
       "       'Development of Safe and Secure Software', 'Distributed Systems',\n",
       "       'Information Retrieval', 'Learning Analytics',\n",
       "       'Peer-to-Peer Systems', 'Advanced Web Technologies',\n",
       "       'Cloud Web & Mobile', 'Cognitive Robot Systems',\n",
       "       'Development of Safe and Secure Software', 'Distributed Systems',\n",
       "       'Electronic Communities and Social Networks',\n",
       "       'Gestaltung interaktiver Lehr-/Lern-Systeme',\n",
       "       'Information Engineering', 'Information Retrieval',\n",
       "       'Learning Analytics', 'Peer-to-Peer Systems',\n",
       "       'Distributed Systems',\n",
       "       'Electronic Communities and Social Networks',\n",
       "       'Formal Specification of Software Systems',\n",
       "       'Gestaltung interaktiver Lehr-/Lern-Systeme',\n",
       "       'Information Engineering', 'Information Mining',\n",
       "       'Information Retrieval', 'Interaktive Systeme',\n",
       "       'Internet of Things- Protocols and System Software',\n",
       "       'Learning Analytics', 'Recommender Systems', 'Distributed Systems',\n",
       "       'Electronic Communities and Social Networks',\n",
       "       'Gestaltung interaktiver Lehr-/Lern-Systeme',\n",
       "       'Interaktive Systeme', 'Peer-to-Peer Systems',\n",
       "       'Distributed Systems',\n",
       "       'Internet of Things- Protocols and System Software',\n",
       "       'Peer-to-Peer Systems', 'Test and Reliability of Digital Systems',\n",
       "       'Advanced Web Technologies', 'Cloud Web & Mobile',\n",
       "       'Computer Robot Vision', 'Development of Safe and Secure Software',\n",
       "       'Distributed Systems', 'Formal Specification of Software Systems',\n",
       "       'Information Engineering', 'Information Mining',\n",
       "       'Interaktive Systeme',\n",
       "       'Internet of Things- Protocols and System Software',\n",
       "       'Pattern and Component based Software Development',\n",
       "       'Peer-to-Peer Systems', 'Advanced Web Technologies',\n",
       "       'Electronic Communities and Social Networks',\n",
       "       'Formal Specification of Software Systems', 'Interaktive Systeme',\n",
       "       'Learning Analytics', 'Recommender Systems',\n",
       "       'Advanced Image Synthesis', 'Advanced Web Technologies',\n",
       "       'Cognitive Robot Systems', 'Computer Graphics',\n",
       "       'Computer Robot Vision', 'Development of Safe and Secure Software',\n",
       "       'Distributed Systems',\n",
       "       'Gestaltung interaktiver Lehr-/Lern-Systeme', 'Information Mining',\n",
       "       'Internet of Things- Protocols and System Software',\n",
       "       'Peer-to-Peer Systems', 'Scientific Visualization',\n",
       "       'Advanced Web Technologies', 'Digital Games Research',\n",
       "       'Distributed Systems',\n",
       "       'Electronic Communities and Social Networks', 'Learning Analytics',\n",
       "       'Computer Robot Vision', 'Distributed Systems',\n",
       "       'Electronic Communities and Social Networks',\n",
       "       'Formal Specification of Software Systems',\n",
       "       'Information Retrieval', 'Interaktive Systeme',\n",
       "       'Cloud Web & Mobile', 'Cognitive Robot Systems',\n",
       "       'Distributed Systems',\n",
       "       'Electronic Communities and Social Networks',\n",
       "       'Formal Specification of Software Systems', 'Interaktive Systeme',\n",
       "       'Internet of Things- Protocols and System Software',\n",
       "       'Peer-to-Peer Systems', 'Recommender Systems',\n",
       "       'Advanced Web Technologies', 'Cloud Web & Mobile',\n",
       "       'Computer Robot Vision',\n",
       "       'Gestaltung interaktiver Lehr-/Lern-Systeme',\n",
       "       'Development of Safe and Secure Software', 'Interaktive Systeme',\n",
       "       'Distributed Systems', 'Interaktive Systeme',\n",
       "       'Internet of Things- Protocols and System Software',\n",
       "       'Computer Graphics', 'Distributed Systems', 'Information Mining',\n",
       "       'Learning Analytics', 'Formal Specification of Software Systems',\n",
       "       'Information Engineering', 'Information Mining',\n",
       "       'Information Retrieval', 'Neurocomputing and Organic Computing',\n",
       "       'Electronic Communities and Social Networks',\n",
       "       'Formal Specification of Software Systems',\n",
       "       'Information Engineering', 'Information Mining',\n",
       "       'Information Retrieval', 'Neurocomputing and Organic Computing',\n",
       "       'Recommender Systems', 'Distributed Systems',\n",
       "       'Information Engineering', 'Information Mining',\n",
       "       'Information Retrieval', 'Neurocomputing and Organic Computing',\n",
       "       'Recommender Systems', 'Distributed Systems',\n",
       "       'Information Engineering', 'Information Mining',\n",
       "       'Information Retrieval', 'Learning Analytics',\n",
       "       'Peer-to-Peer Systems', 'Advanced Web Technologies',\n",
       "       'Digital Games Research',\n",
       "       'Electronic Communities and Social Networks',\n",
       "       'Formal Specification of Software Systems', 'Interaktive Systeme',\n",
       "       'Advanced Web Technologies',\n",
       "       'Development of Safe and Secure Software', 'Distributed Systems',\n",
       "       'Electronic Communities and Social Networks',\n",
       "       'Gestaltung interaktiver Lehr-/Lern-Systeme',\n",
       "       'Information Engineering', 'Information Retrieval',\n",
       "       'Interaktive Systeme',\n",
       "       'Internet of Things- Protocols and System Software',\n",
       "       'Pattern and Component based Software Development',\n",
       "       'Recommender Systems', 'Advanced Image Synthesis',\n",
       "       'Advanced Web Technologies', 'Cloud Web & Mobile',\n",
       "       'Cognitive Robot Systems', 'Computer Graphics',\n",
       "       'Computer Robot Vision', 'Information Retrieval',\n",
       "       'Internet of Things- Protocols and System Software',\n",
       "       'Advanced Web Technologies',\n",
       "       'Gestaltung interaktiver Lehr-/Lern-Systeme', 'Information Mining',\n",
       "       'Peer-to-Peer Systems', 'Advanced Image Synthesis',\n",
       "       'Information Retrieval',\n",
       "       'Internet of Things- Protocols and System Software',\n",
       "       'Cloud Web & Mobile', 'Information Mining',\n",
       "       'Natural-Language-based Human-Computer Interaction',\n",
       "       'Recommender Systems', 'Advanced Web Technologies',\n",
       "       'Development of Safe and Secure Software',\n",
       "       'Electronic Communities and Social Networks',\n",
       "       'Gestaltung interaktiver Lehr-/Lern-Systeme',\n",
       "       'Information Retrieval',\n",
       "       'Internet of Things- Protocols and System Software',\n",
       "       'Advanced Web Technologies', 'Advanced Web Technologies',\n",
       "       'Peer-to-Peer Systems', '0', 'Distributed Systems',\n",
       "       'Electronic Communities and Social Networks',\n",
       "       'Formal Specification of Software Systems',\n",
       "       'Gestaltung interaktiver Lehr-/Lern-Systeme',\n",
       "       'Information Engineering', 'Information Mining',\n",
       "       'Information Retrieval', 'Interaktive Systeme',\n",
       "       'Internet of Things- Protocols and System Software',\n",
       "       'Recommender Systems', 'Cloud Web & Mobile', 'Distributed Systems',\n",
       "       'Electronic Communities and Social Networks',\n",
       "       'Information Engineering', 'Information Mining',\n",
       "       'Information Retrieval',\n",
       "       'Internet of Things- Protocols and System Software',\n",
       "       'Peer-to-Peer Systems'], dtype=object)"
      ]
     },
     "execution_count": 1040,
     "metadata": {},
     "output_type": "execute_result"
    }
   ],
   "source": [
    "df_rec['sub'].values"
   ]
  },
  {
   "cell_type": "code",
   "execution_count": 1041,
   "metadata": {},
   "outputs": [],
   "source": [
    "\n",
    "@app.callback(Output(\"table1\", \"figure\"), [Input(\"button1\", \"n_clicks\")],[State(\"checklist1\", \"value\")])\n",
    "def update_output(rows,value):\n",
    "    list_updated=[]\n",
    "    if rows is not None:\n",
    "       # Here, I could get DataFrames\n",
    "        for val in value:\n",
    "            if val not in list(df_rec['sub'].values):\n",
    "                print('No recommendations') \n",
    "            else:\n",
    "                list_updated.append(val)\n",
    "        l2=recommend_courses(list_updated)\n",
    "        \n",
    "        #print(set(l3))\n",
    "        \n",
    "        df1 = pd.DataFrame({'Courses' : list_updated,\n",
    "                                'Recommended_Courses' : l2 }, \n",
    "                                columns=['Courses','Recommended_Courses'])\n",
    "        print(df1.head(5))\n",
    "    \n",
    "      # But, have no ideas how to return dash_table.Databales instead ob go.Table\n",
    "        \n",
    "        #table = ff.create_table(df1,height_constant=30)\n",
    "        #table.layout.width=250\n",
    "        figup=go.Figure(data=[go.Table(columnwidth = [700,3000],\n",
    "        header=dict(values=list(df1.columns),\n",
    "                fill_color='purple',\n",
    "                align='left',\n",
    "                height=40,\n",
    "               font=dict(color='white', size=18,family='sans-serif')),\n",
    "    cells=dict(values=[df1.Courses, df1.Recommended_Courses],\n",
    "               fill_color='lavender',\n",
    "               height=60,\n",
    "               align='left',font=dict(size=14,family='sans-serif')))\n",
    "],)\n",
    "        return figup\n",
    "        \n"
   ]
  },
  {
   "cell_type": "code",
   "execution_count": 1042,
   "metadata": {},
   "outputs": [
    {
     "name": "stdout",
     "output_type": "stream",
     "text": [
      " * Serving Flask app \"__main__\" (lazy loading)\n",
      " * Environment: production\n",
      "   WARNING: This is a development server. Do not use it in a production deployment.\n",
      "   Use a production WSGI server instead.\n",
      " * Debug mode: off\n"
     ]
    }
   ],
   "source": [
    "if __name__ == '__main__':\n",
    "    app.run_server(debug=False)"
   ]
  },
  {
   "cell_type": "code",
   "execution_count": null,
   "metadata": {},
   "outputs": [],
   "source": []
  }
 ],
 "metadata": {
  "kernelspec": {
   "display_name": "Python 3",
   "language": "python",
   "name": "python3"
  },
  "language_info": {
   "codemirror_mode": {
    "name": "ipython",
    "version": 3
   },
   "file_extension": ".py",
   "mimetype": "text/x-python",
   "name": "python",
   "nbconvert_exporter": "python",
   "pygments_lexer": "ipython3",
   "version": "3.7.3"
  }
 },
 "nbformat": 4,
 "nbformat_minor": 2
}
